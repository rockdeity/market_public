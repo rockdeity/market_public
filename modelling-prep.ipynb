{
 "cells": [
  {
   "cell_type": "code",
   "execution_count": 2,
   "metadata": {},
   "outputs": [],
   "source": [
    "import math\n",
    "import plotly.graph_objects as go\n",
    "import pandas as pd\n",
    "import random\n",
    "import requests\n",
    "import os"
   ]
  },
  {
   "cell_type": "code",
   "execution_count": 5,
   "metadata": {},
   "outputs": [
    {
     "data": {
      "text/plain": [
       "{'symbol': 'AAPL',\n",
       " 'financials': [{'date': '2022-03-26',\n",
       "   'Revenue': '97278000000.0',\n",
       "   'Revenue Growth': '',\n",
       "   'Cost of Revenue': '54719000000.0',\n",
       "   'Gross Profit': '42559000000.0',\n",
       "   'R&D Expenses': '6387000000.0',\n",
       "   'SG&A Expense': '0.0',\n",
       "   'Operating Expenses': '12580000000.0',\n",
       "   'Operating Income': '29979000000.0',\n",
       "   'Interest Expense': '691000000.0',\n",
       "   'Earnings before Tax': '30139000000.0',\n",
       "   'Income Tax Expense': '5129000000.0',\n",
       "   'Net Income - Non-Controlling int': '',\n",
       "   'Net Income - Discontinued ops': '',\n",
       "   'Net Income': '25010000000.0',\n",
       "   'Preferred Dividends': '',\n",
       "   'Net Income Com': '25010000000.0',\n",
       "   'EPS': '1.53',\n",
       "   'EPS Diluted': '1.51',\n",
       "   'Weighted Average Shs Out': '16391724000.0',\n",
       "   'Weighted Average Shs Out (Dil)': '16519291000.0',\n",
       "   'Dividend per Share': '',\n",
       "   'Gross Margin': '0.437498715022924',\n",
       "   'EBITDA Margin': '0.345062604083143',\n",
       "   'EBIT Margin': '',\n",
       "   'Profit Margin': '0.257098213367874',\n",
       "   'Free Cash Flow margin': '',\n",
       "   'EBITDA': '33567000000.0',\n",
       "   'EBIT': '',\n",
       "   'Consolidated Income': '',\n",
       "   'Earnings Before Tax Margin': '0.309823392750673',\n",
       "   'Net Profit Margin': '0.257098213367874'},\n",
       "  {'date': '2021-12-25',\n",
       "   'Revenue': '123945000000.0',\n",
       "   'Revenue Growth': '',\n",
       "   'Cost of Revenue': '69702000000.0',\n",
       "   'Gross Profit': '54243000000.0',\n",
       "   'R&D Expenses': '6306000000.0',\n",
       "   'SG&A Expense': '0.0',\n",
       "   'Operating Expenses': '12755000000.0',\n",
       "   'Operating Income': '41488000000.0',\n",
       "   'Interest Expense': '694000000.0',\n",
       "   'Earnings before Tax': '41241000000.0',\n",
       "   'Income Tax Expense': '6611000000.0',\n",
       "   'Net Income - Non-Controlling int': '',\n",
       "   'Net Income - Discontinued ops': '',\n",
       "   'Net Income': '34630000000.0',\n",
       "   'Preferred Dividends': '',\n",
       "   'Net Income Com': '34630000000.0',\n",
       "   'EPS': '2.11',\n",
       "   'EPS Diluted': '2.1',\n",
       "   'Weighted Average Shs Out': '16391724000.0',\n",
       "   'Weighted Average Shs Out (Dil)': '16519291000.0',\n",
       "   'Dividend per Share': '',\n",
       "   'Gross Margin': '0.43763766186615',\n",
       "   'EBITDA Margin': '0.360095203517689',\n",
       "   'EBIT Margin': '',\n",
       "   'Profit Margin': '0.27939812013393',\n",
       "   'Free Cash Flow margin': '',\n",
       "   'EBITDA': '44632000000.0',\n",
       "   'EBIT': '',\n",
       "   'Consolidated Income': '',\n",
       "   'Earnings Before Tax Margin': '0.332736294324095',\n",
       "   'Net Profit Margin': '0.27939812013393'},\n",
       "  {'date': '2021-09-25',\n",
       "   'Revenue': '83360000000.0',\n",
       "   'Revenue Growth': '',\n",
       "   'Cost of Revenue': '48186000000.0',\n",
       "   'Gross Profit': '35174000000.0',\n",
       "   'R&D Expenses': '5772000000.0',\n",
       "   'SG&A Expense': '0.0',\n",
       "   'Operating Expenses': '11388000000.0',\n",
       "   'Operating Income': '23786000000.0',\n",
       "   'Interest Expense': '672000000.0',\n",
       "   'Earnings before Tax': '23248000000.0',\n",
       "   'Income Tax Expense': '2697000000.0',\n",
       "   'Net Income - Non-Controlling int': '',\n",
       "   'Net Income - Discontinued ops': '',\n",
       "   'Net Income': '20551000000.0',\n",
       "   'Preferred Dividends': '',\n",
       "   'Net Income Com': '20551000000.0',\n",
       "   'EPS': '1.25',\n",
       "   'EPS Diluted': '1.24',\n",
       "   'Weighted Average Shs Out': '16487121000.0',\n",
       "   'Weighted Average Shs Out (Dil)': '16635097000.0',\n",
       "   'Dividend per Share': '',\n",
       "   'Gross Margin': '0.421952975047985',\n",
       "   'EBITDA Margin': '0.322804702495202',\n",
       "   'EBIT Margin': '',\n",
       "   'Profit Margin': '0.24653310940499',\n",
       "   'Free Cash Flow margin': '',\n",
       "   'EBITDA': '26909000000.0',\n",
       "   'EBIT': '',\n",
       "   'Consolidated Income': '',\n",
       "   'Earnings Before Tax Margin': '0.278886756238004',\n",
       "   'Net Profit Margin': '0.24653310940499'},\n",
       "  {'date': '2021-06-26',\n",
       "   'Revenue': '81434000000.0',\n",
       "   'Revenue Growth': '',\n",
       "   'Cost of Revenue': '46179000000.0',\n",
       "   'Gross Profit': '35255000000.0',\n",
       "   'R&D Expenses': '5717000000.0',\n",
       "   'SG&A Expense': '0.0',\n",
       "   'Operating Expenses': '11129000000.0',\n",
       "   'Operating Income': '24126000000.0',\n",
       "   'Interest Expense': '665000000.0',\n",
       "   'Earnings before Tax': '24369000000.0',\n",
       "   'Income Tax Expense': '2625000000.0',\n",
       "   'Net Income - Non-Controlling int': '',\n",
       "   'Net Income - Discontinued ops': '',\n",
       "   'Net Income': '21744000000.0',\n",
       "   'Preferred Dividends': '',\n",
       "   'Net Income Com': '21744000000.0',\n",
       "   'EPS': '1.31',\n",
       "   'EPS Diluted': '1.3',\n",
       "   'Weighted Average Shs Out': '16629371000.0',\n",
       "   'Weighted Average Shs Out (Dil)': '16781735000.0',\n",
       "   'Dividend per Share': '',\n",
       "   'Gross Margin': '0.432927278532308',\n",
       "   'EBITDA Margin': '0.342191222339563',\n",
       "   'EBIT Margin': '',\n",
       "   'Profit Margin': '0.267013778028833',\n",
       "   'Free Cash Flow margin': '',\n",
       "   'EBITDA': '27866000000.0',\n",
       "   'EBIT': '',\n",
       "   'Consolidated Income': '',\n",
       "   'Earnings Before Tax Margin': '0.299248471154555',\n",
       "   'Net Profit Margin': '0.267013778028833'},\n",
       "  {'date': '2021-03-27',\n",
       "   'Revenue': '89584000000.0',\n",
       "   'Revenue Growth': '-0.0636928029432',\n",
       "   'Cost of Revenue': '51505000000.0',\n",
       "   'Gross Profit': '38079000000.0',\n",
       "   'R&D Expenses': '5262000000.0',\n",
       "   'SG&A Expense': '0.0',\n",
       "   'Operating Expenses': '10576000000.0',\n",
       "   'Operating Income': '27503000000.0',\n",
       "   'Interest Expense': '670000000.0',\n",
       "   'Earnings before Tax': '28011000000.0',\n",
       "   'Income Tax Expense': '4381000000.0',\n",
       "   'Net Income - Non-Controlling int': '',\n",
       "   'Net Income - Discontinued ops': '',\n",
       "   'Net Income': '23630000000.0',\n",
       "   'Preferred Dividends': '',\n",
       "   'Net Income Com': '23630000000.0',\n",
       "   'EPS': '1.41',\n",
       "   'EPS Diluted': '1.4',\n",
       "   'Weighted Average Shs Out': '16753476000.0',\n",
       "   'Weighted Average Shs Out (Dil)': '16929157000.0',\n",
       "   'Dividend per Share': '',\n",
       "   'Gross Margin': '0.425064743704233',\n",
       "   'EBITDA Margin': '0.351379710662618',\n",
       "   'EBIT Margin': '',\n",
       "   'Profit Margin': '0.263774781210931',\n",
       "   'Free Cash Flow margin': '',\n",
       "   'EBITDA': '31478000000.0',\n",
       "   'EBIT': '',\n",
       "   'Consolidated Income': '',\n",
       "   'Earnings Before Tax Margin': '0.312678603322022',\n",
       "   'Net Profit Margin': '0.263774781210931'},\n",
       "  {'date': '2020-12-26',\n",
       "   'Revenue': '111439000000.0',\n",
       "   'Revenue Growth': '0.478840149618',\n",
       "   'Cost of Revenue': '67111000000.0',\n",
       "   'Gross Profit': '44328000000.0',\n",
       "   'R&D Expenses': '5163000000.0',\n",
       "   'SG&A Expense': '0.0',\n",
       "   'Operating Expenses': '10794000000.0',\n",
       "   'Operating Income': '33534000000.0',\n",
       "   'Interest Expense': '638000000.0',\n",
       "   'Earnings before Tax': '33579000000.0',\n",
       "   'Income Tax Expense': '4824000000.0',\n",
       "   'Net Income - Non-Controlling int': '0.0',\n",
       "   'Net Income - Discontinued ops': '0.0',\n",
       "   'Net Income': '28755000000.0',\n",
       "   'Preferred Dividends': '0.0',\n",
       "   'Net Income Com': '28755000000.0',\n",
       "   'EPS': '1.7',\n",
       "   'EPS Diluted': '1.68',\n",
       "   'Weighted Average Shs Out': '16935119000.0',\n",
       "   'Weighted Average Shs Out (Dil)': '17113688000.0',\n",
       "   'Dividend per Share': '0.211117556894',\n",
       "   'Gross Margin': '0.397778156659697',\n",
       "   'EBITDA Margin': '0.330970306625149',\n",
       "   'EBIT Margin': '0.350488095487',\n",
       "   'Profit Margin': '0.258033543014564',\n",
       "   'Free Cash Flow margin': '0.3685591254',\n",
       "   'EBITDA': '36883000000.0',\n",
       "   'EBIT': '33534000000.0',\n",
       "   'Consolidated Income': '28755000000.0',\n",
       "   'Earnings Before Tax Margin': '0.301321799370059',\n",
       "   'Net Profit Margin': '0.258033543014564'},\n",
       "  {'date': '2020-09-26',\n",
       "   'Revenue': '64698000000.0',\n",
       "   'Revenue Growth': '0.0839909525006',\n",
       "   'Cost of Revenue': '40009000000.0',\n",
       "   'Gross Profit': '24689000000.0',\n",
       "   'R&D Expenses': '4978000000.0',\n",
       "   'SG&A Expense': '0.0',\n",
       "   'Operating Expenses': '9914000000.0',\n",
       "   'Operating Income': '14775000000.0',\n",
       "   'Interest Expense': '634000000.0',\n",
       "   'Earnings before Tax': '14901000000.0',\n",
       "   'Income Tax Expense': '2228000000.0',\n",
       "   'Net Income - Non-Controlling int': '0.0',\n",
       "   'Net Income - Discontinued ops': '0.0',\n",
       "   'Net Income': '12673000000.0',\n",
       "   'Preferred Dividends': '0.0',\n",
       "   'Net Income Com': '12673000000.0',\n",
       "   'EPS': '0.74',\n",
       "   'EPS Diluted': '0.73',\n",
       "   'Weighted Average Shs Out': '17057622000.0',\n",
       "   'Weighted Average Shs Out (Dil)': '17256521000.0',\n",
       "   'Dividend per Share': '0.803333414346',\n",
       "   'Gross Margin': '0.38160375900337',\n",
       "   'EBITDA Margin': '0.281878883427618',\n",
       "   'EBIT Margin': '0.300289471658',\n",
       "   'Profit Margin': '0.195879316207611',\n",
       "   'Free Cash Flow margin': '0.332348797492',\n",
       "   'EBITDA': '18237000000.0',\n",
       "   'EBIT': '66288000000.0',\n",
       "   'Consolidated Income': '57411000000.0',\n",
       "   'Earnings Before Tax Margin': '0.230316238523602',\n",
       "   'Net Profit Margin': '0.195879316207611'},\n",
       "  {'date': '2020-06-27',\n",
       "   'Revenue': '59685000000.0',\n",
       "   'Revenue Growth': '0.0235282012587',\n",
       "   'Cost of Revenue': '37005000000.0',\n",
       "   'Gross Profit': '22680000000.0',\n",
       "   'R&D Expenses': '4758000000.0',\n",
       "   'SG&A Expense': '0.0',\n",
       "   'Operating Expenses': '9589000000.0',\n",
       "   'Operating Income': '13091000000.0',\n",
       "   'Interest Expense': '697000000.0',\n",
       "   'Earnings before Tax': '13137000000.0',\n",
       "   'Income Tax Expense': '1884000000.0',\n",
       "   'Net Income - Non-Controlling int': '0.0',\n",
       "   'Net Income - Discontinued ops': '0.0',\n",
       "   'Net Income': '11253000000.0',\n",
       "   'Preferred Dividends': '0.0',\n",
       "   'Net Income Com': '11253000000.0',\n",
       "   'EPS': '0.6525',\n",
       "   'EPS Diluted': '0.645',\n",
       "   'Weighted Average Shs Out': '17250292000.0',\n",
       "   'Weighted Average Shs Out (Dil)': '17419152000.0',\n",
       "   'Dividend per Share': '0.830023418194',\n",
       "   'Gross Margin': '0.37999497361146',\n",
       "   'EBITDA Margin': '0.277892267738963',\n",
       "   'EBIT Margin': '0.639646242549',\n",
       "   'Profit Margin': '0.188539834129178',\n",
       "   'Free Cash Flow margin': '0.71855760774',\n",
       "   'EBITDA': '16586000000.0',\n",
       "   'EBIT': '13091000000.0',\n",
       "   'Consolidated Income': '11253000000.0',\n",
       "   'Earnings Before Tax Margin': '0.220105554159337',\n",
       "   'Net Profit Margin': '0.188539834129178'},\n",
       "  {'date': '2020-03-28',\n",
       "   'Revenue': '58313000000.0',\n",
       "   'Revenue Growth': '-0.364913579978',\n",
       "   'Cost of Revenue': '35943000000.0',\n",
       "   'Gross Profit': '22370000000.0',\n",
       "   'R&D Expenses': '4565000000.0',\n",
       "   'SG&A Expense': '0.0',\n",
       "   'Operating Expenses': '9517000000.0',\n",
       "   'Operating Income': '12853000000.0',\n",
       "   'Interest Expense': '757000000.0',\n",
       "   'Earnings before Tax': '13135000000.0',\n",
       "   'Income Tax Expense': '1886000000.0',\n",
       "   'Net Income - Non-Controlling int': '0.0',\n",
       "   'Net Income - Discontinued ops': '0.0',\n",
       "   'Net Income': '11249000000.0',\n",
       "   'Preferred Dividends': '0.0',\n",
       "   'Net Income Com': '11249000000.0',\n",
       "   'EPS': '0.645',\n",
       "   'EPS Diluted': '0.6375',\n",
       "   'Weighted Average Shs Out': '17440404000.0',\n",
       "   'Weighted Average Shs Out (Dil)': '17618764000.0',\n",
       "   'Dividend per Share': '0.761911555952',\n",
       "   'Gross Margin': '0.383619433059524',\n",
       "   'EBITDA Margin': '0.286008265738343',\n",
       "   'EBIT Margin': '0.220413972871',\n",
       "   'Profit Margin': '0.192907241952909',\n",
       "   'Free Cash Flow margin': '0.196491348413',\n",
       "   'EBITDA': '16678000000.0',\n",
       "   'EBIT': '12853000000.0',\n",
       "   'Consolidated Income': '11249000000.0',\n",
       "   'Earnings Before Tax Margin': '0.225249944266287',\n",
       "   'Net Profit Margin': '0.192907241952909'},\n",
       "  {'date': '2019-12-28',\n",
       "   'Revenue': '91819000000.0',\n",
       "   'Revenue Growth': '0.433775765147',\n",
       "   'Cost of Revenue': '56602000000.0',\n",
       "   'Gross Profit': '35217000000.0',\n",
       "   'R&D Expenses': '4451000000.0',\n",
       "   'SG&A Expense': '0.0',\n",
       "   'Operating Expenses': '9648000000.0',\n",
       "   'Operating Income': '25569000000.0',\n",
       "   'Interest Expense': '785000000.0',\n",
       "   'Earnings before Tax': '25918000000.0',\n",
       "   'Income Tax Expense': '3682000000.0',\n",
       "   'Net Income - Non-Controlling int': '0.0',\n",
       "   'Net Income - Discontinued ops': '0.0',\n",
       "   'Net Income': '22236000000.0',\n",
       "   'Preferred Dividends': '0.0',\n",
       "   'Net Income Com': '22236000000.0',\n",
       "   'EPS': '1.26',\n",
       "   'EPS Diluted': '1.2475',\n",
       "   'Weighted Average Shs Out': '17660160000.0',\n",
       "   'Weighted Average Shs Out (Dil)': '17818416000.0',\n",
       "   'Dividend per Share': '0.794458946295',\n",
       "   'Gross Margin': '0.383548067393459',\n",
       "   'EBITDA Margin': '0.321491194632919',\n",
       "   'EBIT Margin': '0.278471775994',\n",
       "   'Profit Margin': '0.24217209945654',\n",
       "   'Free Cash Flow margin': '0.309402193446',\n",
       "   'EBITDA': '29519000000.0',\n",
       "   'EBIT': '25569000000.0',\n",
       "   'Consolidated Income': '22236000000.0',\n",
       "   'Earnings Before Tax Margin': '0.282272732223178',\n",
       "   'Net Profit Margin': '0.24217209945654'},\n",
       "  {'date': '2019-09-28',\n",
       "   'Revenue': '64040000000.0',\n",
       "   'Revenue Growth': '0.190135479195',\n",
       "   'Cost of Revenue': '39727000000.0',\n",
       "   'Gross Profit': '24313000000.0',\n",
       "   'R&D Expenses': '4110000000.0',\n",
       "   'SG&A Expense': '0.0',\n",
       "   'Operating Expenses': '8688000000.0',\n",
       "   'Operating Income': '15625000000.0',\n",
       "   'Interest Expense': '810000000.0',\n",
       "   'Earnings before Tax': '16127000000.0',\n",
       "   'Income Tax Expense': '2441000000.0',\n",
       "   'Net Income - Non-Controlling int': '0.0',\n",
       "   'Net Income - Discontinued ops': '0.0',\n",
       "   'Net Income': '13686000000.0',\n",
       "   'Preferred Dividends': '0.0',\n",
       "   'Net Income Com': '13686000000.0',\n",
       "   'EPS': '0.7625',\n",
       "   'EPS Diluted': '0.7575',\n",
       "   'Weighted Average Shs Out': '17963248000.0',\n",
       "   'Weighted Average Shs Out (Dil)': '18081492000.0',\n",
       "   'Dividend per Share': '0.748346979176',\n",
       "   'Gross Margin': '0.379653341661462',\n",
       "   'EBITDA Margin': '0.314116177389132',\n",
       "   'EBIT Margin': '0.243988132417',\n",
       "   'Profit Margin': '0.213710181136789',\n",
       "   'Free Cash Flow margin': '0.267535915053',\n",
       "   'EBITDA': '20116000000.0',\n",
       "   'EBIT': '15625000000.0',\n",
       "   'Consolidated Income': '13686000000.0',\n",
       "   'Earnings Before Tax Margin': '0.25182698313554',\n",
       "   'Net Profit Margin': '0.213710181136789'},\n",
       "  {'date': '2019-06-29',\n",
       "   'Revenue': '53809000000.0',\n",
       "   'Revenue Growth': '-0.0724984917694',\n",
       "   'Cost of Revenue': '33582000000.0',\n",
       "   'Gross Profit': '20227000000.0',\n",
       "   'R&D Expenses': '4257000000.0',\n",
       "   'SG&A Expense': '0.0',\n",
       "   'Operating Expenses': '8683000000.0',\n",
       "   'Operating Income': '11544000000.0',\n",
       "   'Interest Expense': '866000000.0',\n",
       "   'Earnings before Tax': '11911000000.0',\n",
       "   'Income Tax Expense': '1867000000.0',\n",
       "   'Net Income - Non-Controlling int': '0.0',\n",
       "   'Net Income - Discontinued ops': '0.0',\n",
       "   'Net Income': '10044000000.0',\n",
       "   'Preferred Dividends': '0.0',\n",
       "   'Net Income Com': '10044000000.0',\n",
       "   'EPS': '0.55',\n",
       "   'EPS Diluted': '0.545',\n",
       "   'Weighted Average Shs Out': '18282532000.0',\n",
       "   'Weighted Average Shs Out (Dil)': '18405520000.0',\n",
       "   'Dividend per Share': '0.773483889518',\n",
       "   'Gross Margin': '0.375903659239161',\n",
       "   'EBITDA Margin': '0.291958594287201',\n",
       "   'EBIT Margin': '0.214536601684',\n",
       "   'Profit Margin': '0.186660224126076',\n",
       "   'Free Cash Flow margin': '0.17907784943',\n",
       "   'EBITDA': '15710000000.0',\n",
       "   'EBIT': '11544000000.0',\n",
       "   'Consolidated Income': '10044000000.0',\n",
       "   'Earnings Before Tax Margin': '0.221357022059507',\n",
       "   'Net Profit Margin': '0.186660224126076'},\n",
       "  {'date': '2019-03-30',\n",
       "   'Revenue': '58015000000.0',\n",
       "   'Revenue Growth': '-0.311884711185',\n",
       "   'Cost of Revenue': '36194000000.0',\n",
       "   'Gross Profit': '21821000000.0',\n",
       "   'R&D Expenses': '3948000000.0',\n",
       "   'SG&A Expense': '0.0',\n",
       "   'Operating Expenses': '8406000000.0',\n",
       "   'Operating Income': '13415000000.0',\n",
       "   'Interest Expense': '1010000000.0',\n",
       "   'Earnings before Tax': '13793000000.0',\n",
       "   'Income Tax Expense': '2232000000.0',\n",
       "   'Net Income - Non-Controlling int': '0.0',\n",
       "   'Net Income - Discontinued ops': '0.0',\n",
       "   'Net Income': '11561000000.0',\n",
       "   'Preferred Dividends': '0.0',\n",
       "   'Net Income Com': '11561000000.0',\n",
       "   'EPS': '0.6175',\n",
       "   'EPS Diluted': '0.615',\n",
       "   'Weighted Average Shs Out': '18696284000.0',\n",
       "   'Weighted Average Shs Out (Dil)': '18802584000.0',\n",
       "   'Dividend per Share': '0.726839153219',\n",
       "   'Gross Margin': '0.376126863742136',\n",
       "   'EBITDA Margin': '0.307558390071533',\n",
       "   'EBIT Margin': '0.231233301732',\n",
       "   'Profit Margin': '0.199276049297595',\n",
       "   'Free Cash Flow margin': '0.151547013703',\n",
       "   'EBITDA': '17843000000.0',\n",
       "   'EBIT': '13415000000.0',\n",
       "   'Consolidated Income': '11561000000.0',\n",
       "   'Earnings Before Tax Margin': '0.237748858053952',\n",
       "   'Net Profit Margin': '0.199276049297595'},\n",
       "  {'date': '2018-12-29',\n",
       "   'Revenue': '84310000000.0',\n",
       "   'Revenue Growth': '0.340381558029',\n",
       "   'Cost of Revenue': '52279000000.0',\n",
       "   'Gross Profit': '32031000000.0',\n",
       "   'R&D Expenses': '3902000000.0',\n",
       "   'SG&A Expense': '0.0',\n",
       "   'Operating Expenses': '8685000000.0',\n",
       "   'Operating Income': '23346000000.0',\n",
       "   'Interest Expense': '890000000.0',\n",
       "   'Earnings before Tax': '23906000000.0',\n",
       "   'Income Tax Expense': '3941000000.0',\n",
       "   'Net Income - Non-Controlling int': '0.0',\n",
       "   'Net Income - Discontinued ops': '0.0',\n",
       "   'Net Income': '19965000000.0',\n",
       "   'Preferred Dividends': '0.0',\n",
       "   'Net Income Com': '19965000000.0',\n",
       "   'EPS': '1.055',\n",
       "   'EPS Diluted': '1.045',\n",
       "   'Weighted Average Shs Out': '18943280000.0',\n",
       "   'Weighted Average Shs Out (Dil)': '19093008000.0',\n",
       "   'Dividend per Share': '0.74749877023',\n",
       "   'Gross Margin': '0.379919345273396',\n",
       "   'EBITDA Margin': '0.334373146720436',\n",
       "   'EBIT Margin': '0.276906654015',\n",
       "   'Profit Margin': '0.236804649507769',\n",
       "   'Free Cash Flow margin': '0.276776183134',\n",
       "   'EBITDA': '28191000000.0',\n",
       "   'EBIT': '23346000000.0',\n",
       "   'Consolidated Income': '19965000000.0',\n",
       "   'Earnings Before Tax Margin': '0.283548807970585',\n",
       "   'Net Profit Margin': '0.236804649507769'},\n",
       "  {'date': '2018-09-29',\n",
       "   'Revenue': '62900000000.0',\n",
       "   'Revenue Growth': '0.180888012766',\n",
       "   'Cost of Revenue': '38816000000.0',\n",
       "   'Gross Profit': '24084000000.0',\n",
       "   'R&D Expenses': '3750000000.0',\n",
       "   'SG&A Expense': '0.0',\n",
       "   'Operating Expenses': '7966000000.0',\n",
       "   'Operating Income': '16118000000.0',\n",
       "   'Interest Expense': '868000000.0',\n",
       "   'Earnings before Tax': '16421000000.0',\n",
       "   'Income Tax Expense': '2296000000.0',\n",
       "   'Net Income - Non-Controlling int': '0.0',\n",
       "   'Net Income - Discontinued ops': '0.0',\n",
       "   'Net Income': '14125000000.0',\n",
       "   'Preferred Dividends': '0.0',\n",
       "   'Net Income Com': '14125000000.0',\n",
       "   'EPS': '0.735',\n",
       "   'EPS Diluted': '0.7275',\n",
       "   'Weighted Average Shs Out': '19206356000.0',\n",
       "   'Weighted Average Shs Out (Dil)': '19390188000.0',\n",
       "   'Dividend per Share': '0.705984609536',\n",
       "   'Gross Margin': '0.382893481717011',\n",
       "   'EBITDA Margin': '0.318648648648649',\n",
       "   'EBIT Margin': '0.256248012719',\n",
       "   'Profit Margin': '0.22456279809221',\n",
       "   'Free Cash Flow margin': '0.262034976153',\n",
       "   'EBITDA': '20043000000.0',\n",
       "   'EBIT': '16118000000.0',\n",
       "   'Consolidated Income': '14125000000.0',\n",
       "   'Earnings Before Tax Margin': '0.261065182829889',\n",
       "   'Net Profit Margin': '0.22456279809221'},\n",
       "  {'date': '2018-06-30',\n",
       "   'Revenue': '53265000000.0',\n",
       "   'Revenue Growth': '-0.128759998037',\n",
       "   'Cost of Revenue': '32844000000.0',\n",
       "   'Gross Profit': '20421000000.0',\n",
       "   'R&D Expenses': '3701000000.0',\n",
       "   'SG&A Expense': '0.0',\n",
       "   'Operating Expenses': '7809000000.0',\n",
       "   'Operating Income': '12612000000.0',\n",
       "   'Interest Expense': '846000000.0',\n",
       "   'Earnings before Tax': '13284000000.0',\n",
       "   'Income Tax Expense': '1765000000.0',\n",
       "   'Net Income - Non-Controlling int': '0.0',\n",
       "   'Net Income - Discontinued ops': '0.0',\n",
       "   'Net Income': '11519000000.0',\n",
       "   'Preferred Dividends': '0.0',\n",
       "   'Net Income Com': '11519000000.0',\n",
       "   'EPS': '0.59',\n",
       "   'EPS Diluted': '0.585',\n",
       "   'Weighted Average Shs Out': '19528668000.0',\n",
       "   'Weighted Average Shs Out (Dil)': '19706436000.0',\n",
       "   'Dividend per Share': '0.723228421986',\n",
       "   'Gross Margin': '0.38338496198254',\n",
       "   'EBITDA Margin': '0.315310241246597',\n",
       "   'EBIT Margin': '0.236778372289',\n",
       "   'Profit Margin': '0.216258330986577',\n",
       "   'Free Cash Flow margin': '0.210663662818',\n",
       "   'EBITDA': '16795000000.0',\n",
       "   'EBIT': '12612000000.0',\n",
       "   'Consolidated Income': '11519000000.0',\n",
       "   'Earnings Before Tax Margin': '0.249394536750211',\n",
       "   'Net Profit Margin': '0.216258330986577'},\n",
       "  {'date': '2018-03-31',\n",
       "   'Revenue': '61137000000.0',\n",
       "   'Revenue Growth': '-0.307566851279',\n",
       "   'Cost of Revenue': '37715000000.0',\n",
       "   'Gross Profit': '23422000000.0',\n",
       "   'R&D Expenses': '3378000000.0',\n",
       "   'SG&A Expense': '0.0',\n",
       "   'Operating Expenses': '7528000000.0',\n",
       "   'Operating Income': '15894000000.0',\n",
       "   'Interest Expense': '792000000.0',\n",
       "   'Earnings before Tax': '16168000000.0',\n",
       "   'Income Tax Expense': '2346000000.0',\n",
       "   'Net Income - Non-Controlling int': '0.0',\n",
       "   'Net Income - Discontinued ops': '0.0',\n",
       "   'Net Income': '13822000000.0',\n",
       "   'Preferred Dividends': '0.0',\n",
       "   'Net Income Com': '13822000000.0',\n",
       "   'EPS': '0.6875',\n",
       "   'EPS Diluted': '0.6825',\n",
       "   'Weighted Average Shs Out': '20099508000.0',\n",
       "   'Weighted Average Shs Out (Dil)': '20273972000.0',\n",
       "   'Dividend per Share': '0.623882780444',\n",
       "   'Gross Margin': '0.383106792940445',\n",
       "   'EBITDA Margin': '0.322210772527275',\n",
       "   'EBIT Margin': '0.259973502135',\n",
       "   'Profit Margin': '0.226082405090207',\n",
       "   'Free Cash Flow margin': '0.178860591786',\n",
       "   'EBITDA': '19699000000.0',\n",
       "   'EBIT': '15894000000.0',\n",
       "   'Consolidated Income': '13822000000.0',\n",
       "   'Earnings Before Tax Margin': '0.264455239871109',\n",
       "   'Net Profit Margin': '0.226082405090207'},\n",
       "  {'date': '2017-12-30',\n",
       "   'Revenue': '88293000000.0',\n",
       "   'Revenue Growth': '0.679244565321',\n",
       "   'Cost of Revenue': '54381000000.0',\n",
       "   'Gross Profit': '33912000000.0',\n",
       "   'R&D Expenses': '3407000000.0',\n",
       "   'SG&A Expense': '0.0',\n",
       "   'Operating Expenses': '7638000000.0',\n",
       "   'Operating Income': '26274000000.0',\n",
       "   'Interest Expense': '734000000.0',\n",
       "   'Earnings before Tax': '27030000000.0',\n",
       "   'Income Tax Expense': '6965000000.0',\n",
       "   'Net Income - Non-Controlling int': '0.0',\n",
       "   'Net Income - Discontinued ops': '0.0',\n",
       "   'Net Income': '20065000000.0',\n",
       "   'Preferred Dividends': '0.0',\n",
       "   'Net Income Com': '20065000000.0',\n",
       "   'EPS': '0.98',\n",
       "   'EPS Diluted': '0.9725',\n",
       "   'Weighted Average Shs Out': '20451508000.0',\n",
       "   'Weighted Average Shs Out (Dil)': '20631148000.0',\n",
       "   'Dividend per Share': '0.647370664977',\n",
       "   'Gross Margin': '0.384084808535218',\n",
       "   'EBITDA Margin': '0.3455426817528',\n",
       "   'EBIT Margin': '0.297577384391',\n",
       "   'Profit Margin': '0.227254708753808',\n",
       "   'Free Cash Flow margin': '0.288618576784',\n",
       "   'EBITDA': '30509000000.0',\n",
       "   'EBIT': '26274000000.0',\n",
       "   'Consolidated Income': '20065000000.0',\n",
       "   'Earnings Before Tax Margin': '0.306139784580884',\n",
       "   'Net Profit Margin': '0.227254708753808'},\n",
       "  {'date': '2017-09-30',\n",
       "   'Revenue': '52579000000.0',\n",
       "   'Revenue Growth': '0.157923713883',\n",
       "   'Cost of Revenue': '32648000000.0',\n",
       "   'Gross Profit': '19931000000.0',\n",
       "   'R&D Expenses': '2997000000.0',\n",
       "   'SG&A Expense': '0.0',\n",
       "   'Operating Expenses': '6811000000.0',\n",
       "   'Operating Income': '13120000000.0',\n",
       "   'Interest Expense': '666000000.0',\n",
       "   'Earnings before Tax': '13917000000.0',\n",
       "   'Income Tax Expense': '3203000000.0',\n",
       "   'Net Income - Non-Controlling int': '0.0',\n",
       "   'Net Income - Discontinued ops': '0.0',\n",
       "   'Net Income': '10714000000.0',\n",
       "   'Preferred Dividends': '0.0',\n",
       "   'Net Income Com': '10714000000.0',\n",
       "   'EPS': '0.52',\n",
       "   'EPS Diluted': '0.5175',\n",
       "   'Weighted Average Shs Out': '20597712000.0',\n",
       "   'Weighted Average Shs Out (Dil)': '20734340000.0',\n",
       "   'Dividend per Share': '0.622656469572',\n",
       "   'Gross Margin': '0.379067688620932',\n",
       "   'EBITDA Margin': '0.324597272675403',\n",
       "   'EBIT Margin': '0.24952927975',\n",
       "   'Profit Margin': '0.20376956579623',\n",
       "   'Free Cash Flow margin': '0.224253028776',\n",
       "   'EBITDA': '17067000000.0',\n",
       "   'EBIT': '13120000000.0',\n",
       "   'Consolidated Income': '10714000000.0',\n",
       "   'Earnings Before Tax Margin': '0.264687422735313',\n",
       "   'Net Profit Margin': '0.20376956579623'},\n",
       "  {'date': '2017-07-01',\n",
       "   'Revenue': '45408000000.0',\n",
       "   'Revenue Growth': '-0.141560798548',\n",
       "   'Cost of Revenue': '27920000000.0',\n",
       "   'Gross Profit': '17488000000.0',\n",
       "   'R&D Expenses': '2937000000.0',\n",
       "   'SG&A Expense': '0.0',\n",
       "   'Operating Expenses': '6720000000.0',\n",
       "   'Operating Income': '10768000000.0',\n",
       "   'Interest Expense': '602000000.0',\n",
       "   'Earnings before Tax': '11308000000.0',\n",
       "   'Income Tax Expense': '2591000000.0',\n",
       "   'Net Income - Non-Controlling int': '0.0',\n",
       "   'Net Income - Discontinued ops': '0.0',\n",
       "   'Net Income': '8717000000.0',\n",
       "   'Preferred Dividends': '0.0',\n",
       "   'Net Income Com': '8717000000.0',\n",
       "   'EPS': '0.42',\n",
       "   'EPS Diluted': '0.4175',\n",
       "   'Weighted Average Shs Out': '20780352000.0',\n",
       "   'Weighted Average Shs Out (Dil)': '20933996000.0',\n",
       "   'Dividend per Share': '0.63798798497',\n",
       "   'Gross Margin': '0.385130373502467',\n",
       "   'EBITDA Margin': '0.314129668780832',\n",
       "   'EBIT Margin': '0.237138830162',\n",
       "   'Profit Margin': '0.191970577871741',\n",
       "   'Free Cash Flow margin': '0.134029245948',\n",
       "   'EBITDA': '14264000000.0',\n",
       "   'EBIT': '10768000000.0',\n",
       "   'Consolidated Income': '8717000000.0',\n",
       "   'Earnings Before Tax Margin': '0.249031007751938',\n",
       "   'Net Profit Margin': '0.191970577871741'},\n",
       "  {'date': '2017-04-01',\n",
       "   'Revenue': '52896000000.0',\n",
       "   'Revenue Growth': '-0.324884175058',\n",
       "   'Cost of Revenue': '32305000000.0',\n",
       "   'Gross Profit': '20591000000.0',\n",
       "   'R&D Expenses': '2776000000.0',\n",
       "   'SG&A Expense': '0.0',\n",
       "   'Operating Expenses': '6494000000.0',\n",
       "   'Operating Income': '14097000000.0',\n",
       "   'Interest Expense': '530000000.0',\n",
       "   'Earnings before Tax': '14684000000.0',\n",
       "   'Income Tax Expense': '3655000000.0',\n",
       "   'Net Income - Non-Controlling int': '0.0',\n",
       "   'Net Income - Discontinued ops': '0.0',\n",
       "   'Net Income': '11029000000.0',\n",
       "   'Preferred Dividends': '0.0',\n",
       "   'Net Income Com': '11029000000.0',\n",
       "   'EPS': '0.5275',\n",
       "   'EPS Diluted': '0.525',\n",
       "   'Weighted Average Shs Out': '20903164000.0',\n",
       "   'Weighted Average Shs Out (Dil)': '21046752000.0',\n",
       "   'Dividend per Share': '0.567344704024',\n",
       "   'Gross Margin': '0.389273290986086',\n",
       "   'EBITDA Margin': '0.331707501512402',\n",
       "   'EBIT Margin': '0.266504083485',\n",
       "   'Profit Margin': '0.208503478523896',\n",
       "   'Free Cash Flow margin': '0.180505142166',\n",
       "   'EBITDA': '17546000000.0',\n",
       "   'EBIT': '14097000000.0',\n",
       "   'Consolidated Income': '11029000000.0',\n",
       "   'Earnings Before Tax Margin': '0.277601330913491',\n",
       "   'Net Profit Margin': '0.208503478523896'},\n",
       "  {'date': '2016-12-31',\n",
       "   'Revenue': '78351000000.0',\n",
       "   'Revenue Growth': '0.67230854606',\n",
       "   'Cost of Revenue': '48175000000.0',\n",
       "   'Gross Profit': '30176000000.0',\n",
       "   'R&D Expenses': '2871000000.0',\n",
       "   'SG&A Expense': '0.0',\n",
       "   'Operating Expenses': '6817000000.0',\n",
       "   'Operating Income': '23359000000.0',\n",
       "   'Interest Expense': '525000000.0',\n",
       "   'Earnings before Tax': '24180000000.0',\n",
       "   'Income Tax Expense': '6289000000.0',\n",
       "   'Net Income - Non-Controlling int': '0.0',\n",
       "   'Net Income - Discontinued ops': '0.0',\n",
       "   'Net Income': '17891000000.0',\n",
       "   'Preferred Dividends': '0.0',\n",
       "   'Net Income Com': '17891000000.0',\n",
       "   'EPS': '0.845',\n",
       "   'EPS Diluted': '0.84',\n",
       "   'Weighted Average Shs Out': '21194644000.0',\n",
       "   'Weighted Average Shs Out (Dil)': '21311980000.0',\n",
       "   'Dividend per Share': '0.58746301376',\n",
       "   'Gross Margin': '0.385138670852957',\n",
       "   'EBITDA Margin': '0.353435182703475',\n",
       "   'EBIT Margin': '0.298132761547',\n",
       "   'Profit Margin': '0.228344245765849',\n",
       "   'Free Cash Flow margin': '0.302765759212',\n",
       "   'EBITDA': '27692000000.0',\n",
       "   'EBIT': '23359000000.0',\n",
       "   'Consolidated Income': '17891000000.0',\n",
       "   'Earnings Before Tax Margin': '0.3086112493778',\n",
       "   'Net Profit Margin': '0.228344245765849'},\n",
       "  {'date': '2016-09-24',\n",
       "   'Revenue': '46852000000.0',\n",
       "   'Revenue Growth': '0.106095660796',\n",
       "   'Cost of Revenue': '29039000000.0',\n",
       "   'Gross Profit': '17813000000.0',\n",
       "   'R&D Expenses': '2570000000.0',\n",
       "   'SG&A Expense': '0.0',\n",
       "   'Operating Expenses': '6052000000.0',\n",
       "   'Operating Income': '11761000000.0',\n",
       "   'Interest Expense': '450000000.0',\n",
       "   'Earnings before Tax': '12188000000.0',\n",
       "   'Income Tax Expense': '3174000000.0',\n",
       "   'Net Income - Non-Controlling int': '0.0',\n",
       "   'Net Income - Discontinued ops': '0.0',\n",
       "   'Net Income': '9014000000.0',\n",
       "   'Preferred Dividends': '0.0',\n",
       "   'Net Income Com': '9014000000.0',\n",
       "   'EPS': '0.42',\n",
       "   'EPS Diluted': '0.4175',\n",
       "   'Weighted Average Shs Out': '21467648000.0',\n",
       "   'Weighted Average Shs Out (Dil)': '21573332000.0',\n",
       "   'Dividend per Share': '0.562153097269',\n",
       "   'Gross Margin': '0.380197216767694',\n",
       "   'EBITDA Margin': '0.324127038333476',\n",
       "   'EBIT Margin': '0.251024502689',\n",
       "   'Profit Margin': '0.192393067531802',\n",
       "   'Free Cash Flow margin': '0.259305899428',\n",
       "   'EBITDA': '15186000000.0',\n",
       "   'EBIT': '11761000000.0',\n",
       "   'Consolidated Income': '9014000000.0',\n",
       "   'Earnings Before Tax Margin': '0.260138307863058',\n",
       "   'Net Profit Margin': '0.192393067531802'},\n",
       "  {'date': '2016-06-25',\n",
       "   'Revenue': '42358000000.0',\n",
       "   'Revenue Growth': '-0.162173388453',\n",
       "   'Cost of Revenue': '26252000000.0',\n",
       "   'Gross Profit': '16106000000.0',\n",
       "   'R&D Expenses': '2560000000.0',\n",
       "   'SG&A Expense': '0.0',\n",
       "   'Operating Expenses': '6001000000.0',\n",
       "   'Operating Income': '10105000000.0',\n",
       "   'Interest Expense': '409000000.0',\n",
       "   'Earnings before Tax': '10469000000.0',\n",
       "   'Income Tax Expense': '2673000000.0',\n",
       "   'Net Income - Non-Controlling int': '0.0',\n",
       "   'Net Income - Discontinued ops': '0.0',\n",
       "   'Net Income': '7796000000.0',\n",
       "   'Preferred Dividends': '0.0',\n",
       "   'Net Income Com': '7796000000.0',\n",
       "   'EPS': '0.3575',\n",
       "   'EPS Diluted': '0.355',\n",
       "   'Weighted Average Shs Out': '21772232000.0',\n",
       "   'Weighted Average Shs Out (Dil)': '21891124000.0',\n",
       "   'Dividend per Share': '0.575693591557',\n",
       "   'Gross Margin': '0.38023513858067',\n",
       "   'EBITDA Margin': '0.316445535672128',\n",
       "   'EBIT Margin': '0.238561782898',\n",
       "   'Profit Margin': '0.184050238443741',\n",
       "   'Free Cash Flow margin': '0.184734878889',\n",
       "   'EBITDA': '13404000000.0',\n",
       "   'EBIT': '10105000000.0',\n",
       "   'Consolidated Income': '7796000000.0',\n",
       "   'Earnings Before Tax Margin': '0.247155200906558',\n",
       "   'Net Profit Margin': '0.184050238443741'},\n",
       "  {'date': '2016-03-26',\n",
       "   'Revenue': '50557000000.0',\n",
       "   'Revenue Growth': '-0.333654048925',\n",
       "   'Cost of Revenue': '30636000000.0',\n",
       "   'Gross Profit': '19921000000.0',\n",
       "   'R&D Expenses': '2511000000.0',\n",
       "   'SG&A Expense': '0.0',\n",
       "   'Operating Expenses': '5934000000.0',\n",
       "   'Operating Income': '13987000000.0',\n",
       "   'Interest Expense': '321000000.0',\n",
       "   'Earnings before Tax': '14142000000.0',\n",
       "   'Income Tax Expense': '3626000000.0',\n",
       "   'Net Income - Non-Controlling int': '0.0',\n",
       "   'Net Income - Discontinued ops': '0.0',\n",
       "   'Net Income': '10516000000.0',\n",
       "   'Preferred Dividends': '0.0',\n",
       "   'Net Income Com': '10516000000.0',\n",
       "   'EPS': '0.4775',\n",
       "   'EPS Diluted': '0.475',\n",
       "   'Weighted Average Shs Out': '22057524000.0',\n",
       "   'Weighted Average Shs Out (Dil)': '22163544000.0',\n",
       "   'Dividend per Share': '0.521238773699',\n",
       "   'Gross Margin': '0.394030500227466',\n",
       "   'EBITDA Margin': '0.335067349724074',\n",
       "   'EBIT Margin': '0.276658029551',\n",
       "   'Profit Margin': '0.208002848270269',\n",
       "   'Free Cash Flow margin': '0.183258500307',\n",
       "   'EBITDA': '16940000000.0',\n",
       "   'EBIT': '13987000000.0',\n",
       "   'Consolidated Income': '10516000000.0',\n",
       "   'Earnings Before Tax Margin': '0.279723876021125',\n",
       "   'Net Profit Margin': '0.208002848270269'},\n",
       "  {'date': '2015-12-26',\n",
       "   'Revenue': '75872000000.0',\n",
       "   'Revenue Growth': '0.473214112347',\n",
       "   'Cost of Revenue': '45449000000.0',\n",
       "   'Gross Profit': '30423000000.0',\n",
       "   'R&D Expenses': '2404000000.0',\n",
       "   'SG&A Expense': '0.0',\n",
       "   'Operating Expenses': '6252000000.0',\n",
       "   'Operating Income': '24171000000.0',\n",
       "   'Interest Expense': '276000000.0',\n",
       "   'Earnings before Tax': '24573000000.0',\n",
       "   'Income Tax Expense': '6212000000.0',\n",
       "   'Net Income - Non-Controlling int': '0.0',\n",
       "   'Net Income - Discontinued ops': '0.0',\n",
       "   'Net Income': '18361000000.0',\n",
       "   'Preferred Dividends': '0.0',\n",
       "   'Net Income Com': '18361000000.0',\n",
       "   'EPS': '0.825',\n",
       "   'EPS Diluted': '0.82',\n",
       "   'Weighted Average Shs Out': '22235720000.0',\n",
       "   'Weighted Average Shs Out (Dil)': '22376508000.0',\n",
       "   'Dividend per Share': '0.530735179949',\n",
       "   'Gross Margin': '0.400977962884859',\n",
       "   'EBITDA Margin': '0.366446119780683',\n",
       "   'EBIT Margin': '0.318576022775',\n",
       "   'Profit Margin': '0.241999683677773',\n",
       "   'Free Cash Flow margin': '0.314358393083',\n",
       "   'EBITDA': '27803000000.0',\n",
       "   'EBIT': '24171000000.0',\n",
       "   'Consolidated Income': '18361000000.0',\n",
       "   'Earnings Before Tax Margin': '0.323874420075917',\n",
       "   'Net Profit Margin': '0.241999683677773'},\n",
       "  {'date': '2015-09-26',\n",
       "   'Revenue': '51501000000.0',\n",
       "   'Revenue Growth': '0.0382219534321',\n",
       "   'Cost of Revenue': '30953000000.0',\n",
       "   'Gross Profit': '20548000000.0',\n",
       "   'R&D Expenses': '2220000000.0',\n",
       "   'SG&A Expense': '0.0',\n",
       "   'Operating Expenses': '5925000000.0',\n",
       "   'Operating Income': '14623000000.0',\n",
       "   'Interest Expense': '238000000.0',\n",
       "   'Earnings before Tax': '15062000000.0',\n",
       "   'Income Tax Expense': '3938000000.0',\n",
       "   'Net Income - Non-Controlling int': '0.0',\n",
       "   'Net Income - Discontinued ops': '0.0',\n",
       "   'Net Income': '11124000000.0',\n",
       "   'Preferred Dividends': '0.0',\n",
       "   'Net Income Com': '11124000000.0',\n",
       "   'EPS': '0.4925',\n",
       "   'EPS Diluted': '0.49',\n",
       "   'Weighted Average Shs Out': '22587664000.0',\n",
       "   'Weighted Average Shs Out (Dil)': '22730076000.0',\n",
       "   'Dividend per Share': '0.511645899609',\n",
       "   'Gross Margin': '0.398982544028271',\n",
       "   'EBITDA Margin': '0.357643540902118',\n",
       "   'EBIT Margin': '0.283936234248',\n",
       "   'Profit Margin': '0.215995805906681',\n",
       "   'Free Cash Flow margin': '0.191394341857',\n",
       "   'EBITDA': '18419000000.0',\n",
       "   'EBIT': '14623000000.0',\n",
       "   'Consolidated Income': '11124000000.0',\n",
       "   'Earnings Before Tax Margin': '0.292460340575911',\n",
       "   'Net Profit Margin': '0.215995805906681'},\n",
       "  {'date': '2015-06-27',\n",
       "   'Revenue': '49605000000.0',\n",
       "   'Revenue Growth': '-0.144888812274',\n",
       "   'Cost of Revenue': '29924000000.0',\n",
       "   'Gross Profit': '19681000000.0',\n",
       "   'R&D Expenses': '2034000000.0',\n",
       "   'SG&A Expense': '0.0',\n",
       "   'Operating Expenses': '5598000000.0',\n",
       "   'Operating Income': '14083000000.0',\n",
       "   'Interest Expense': '201000000.0',\n",
       "   'Earnings before Tax': '14473000000.0',\n",
       "   'Income Tax Expense': '3796000000.0',\n",
       "   'Net Income - Non-Controlling int': '0.0',\n",
       "   'Net Income - Discontinued ops': '0.0',\n",
       "   'Net Income': '10677000000.0',\n",
       "   'Preferred Dividends': '0.0',\n",
       "   'Net Income Com': '10677000000.0',\n",
       "   'EPS': '0.465',\n",
       "   'EPS Diluted': '0.4625',\n",
       "   'Weighted Average Shs Out': '22919544000.0',\n",
       "   'Weighted Average Shs Out (Dil)': '23092396000.0',\n",
       "   'Dividend per Share': '0.523677854928',\n",
       "   'Gross Margin': '0.396754359439573',\n",
       "   'EBITDA Margin': '0.357988106037698',\n",
       "   'EBIT Margin': '0.283902832376',\n",
       "   'Profit Margin': '0.215240399153311',\n",
       "   'Free Cash Flow margin': '0.260961596613',\n",
       "   'EBITDA': '17758000000.0',\n",
       "   'EBIT': '14083000000.0',\n",
       "   'Consolidated Income': '10677000000.0',\n",
       "   'Earnings Before Tax Margin': '0.291764943050096',\n",
       "   'Net Profit Margin': '0.215240399153311'},\n",
       "  {'date': '2015-03-28',\n",
       "   'Revenue': '58010000000.0',\n",
       "   'Revenue Growth': '-0.222375635062',\n",
       "   'Cost of Revenue': '34354000000.0',\n",
       "   'Gross Profit': '23656000000.0',\n",
       "   'R&D Expenses': '1918000000.0',\n",
       "   'SG&A Expense': '0.0',\n",
       "   'Operating Expenses': '5378000000.0',\n",
       "   'Operating Income': '18278000000.0',\n",
       "   'Interest Expense': '163000000.0',\n",
       "   'Earnings before Tax': '18564000000.0',\n",
       "   'Income Tax Expense': '4995000000.0',\n",
       "   'Net Income - Non-Controlling int': '0.0',\n",
       "   'Net Income - Discontinued ops': '0.0',\n",
       "   'Net Income': '13569000000.0',\n",
       "   'Preferred Dividends': '0.0',\n",
       "   'Net Income Com': '13569000000.0',\n",
       "   'EPS': '0.585',\n",
       "   'EPS Diluted': '0.5825',\n",
       "   'Weighted Average Shs Out': '23175196000.0',\n",
       "   'Weighted Average Shs Out (Dil)': '23339432000.0',\n",
       "   'Dividend per Share': '0.46822217253',\n",
       "   'Gross Margin': '0.407791760041372',\n",
       "   'EBITDA Margin': '0.365557662471988',\n",
       "   'EBIT Margin': '0.315083606275',\n",
       "   'Profit Margin': '0.233907946905706',\n",
       "   'Free Cash Flow margin': '0.288088260645',\n",
       "   'EBITDA': '21206000000.0',\n",
       "   'EBIT': '18278000000.0',\n",
       "   'Consolidated Income': '13569000000.0',\n",
       "   'Earnings Before Tax Margin': '0.320013790725737',\n",
       "   'Net Profit Margin': '0.233907946905706'},\n",
       "  {'date': '2014-12-27',\n",
       "   'Revenue': '74599000000.0',\n",
       "   'Revenue Growth': '0.77098022458',\n",
       "   'Cost of Revenue': '44858000000.0',\n",
       "   'Gross Profit': '29741000000.0',\n",
       "   'R&D Expenses': '1895000000.0',\n",
       "   'SG&A Expense': '0.0',\n",
       "   'Operating Expenses': '5495000000.0',\n",
       "   'Operating Income': '24246000000.0',\n",
       "   'Interest Expense': '131000000.0',\n",
       "   'Earnings before Tax': '24416000000.0',\n",
       "   'Income Tax Expense': '6392000000.0',\n",
       "   'Net Income - Non-Controlling int': '0.0',\n",
       "   'Net Income - Discontinued ops': '0.0',\n",
       "   'Net Income': '18024000000.0',\n",
       "   'Preferred Dividends': '0.0',\n",
       "   'Net Income Com': '18024000000.0',\n",
       "   'EPS': '0.77',\n",
       "   'EPS Diluted': '0.765',\n",
       "   'Weighted Average Shs Out': '23372328000.0',\n",
       "   'Weighted Average Shs Out (Dil)': '23527212000.0',\n",
       "   'Dividend per Share': '0.476214521296',\n",
       "   'Gross Margin': '0.398678266464698',\n",
       "   'EBITDA Margin': '0.363570557246076',\n",
       "   'EBIT Margin': '0.325017761632',\n",
       "   'Profit Margin': '0.241611817852786',\n",
       "   'Free Cash Flow margin': '0.408919690612',\n",
       "   'EBITDA': '27122000000.0',\n",
       "   'EBIT': '24246000000.0',\n",
       "   'Consolidated Income': '18024000000.0',\n",
       "   'Earnings Before Tax Margin': '0.327296612555128',\n",
       "   'Net Profit Margin': '0.241611817852786'},\n",
       "  {'date': '2014-09-27',\n",
       "   'Revenue': '42123000000.0',\n",
       "   'Revenue Growth': '0.125320581321',\n",
       "   'Cost of Revenue': '26114000000.0',\n",
       "   'Gross Profit': '16009000000.0',\n",
       "   'R&D Expenses': '1686000000.0',\n",
       "   'SG&A Expense': '0.0',\n",
       "   'Operating Expenses': '4844000000.0',\n",
       "   'Operating Income': '11165000000.0',\n",
       "   'Interest Expense': '115000000.0',\n",
       "   'Earnings before Tax': '11472000000.0',\n",
       "   'Income Tax Expense': '3005000000.0',\n",
       "   'Net Income - Non-Controlling int': '0.0',\n",
       "   'Net Income - Discontinued ops': '0.0',\n",
       "   'Net Income': '8467000000.0',\n",
       "   'Preferred Dividends': '0.0',\n",
       "   'Net Income Com': '8467000000.0',\n",
       "   'EPS': '0.3575',\n",
       "   'EPS Diluted': '0.355',\n",
       "   'Weighted Average Shs Out': '23735380000.0',\n",
       "   'Weighted Average Shs Out (Dil)': '23888328000.0',\n",
       "   'Dividend per Share': '0.462053848138',\n",
       "   'Gross Margin': '0.380053652398927',\n",
       "   'EBITDA Margin': '0.321819433563611',\n",
       "   'EBIT Margin': '0.265057094699',\n",
       "   'Profit Margin': '0.201006575979868',\n",
       "   'Free Cash Flow margin': '0.223725755525',\n",
       "   'EBITDA': '13556000000.0',\n",
       "   'EBIT': '11165000000.0',\n",
       "   'Consolidated Income': '8467000000.0',\n",
       "   'Earnings Before Tax Margin': '0.272345274553094',\n",
       "   'Net Profit Margin': '0.201006575979868'},\n",
       "  {'date': '2014-06-28',\n",
       "   'Revenue': '37432000000.0',\n",
       "   'Revenue Growth': '-0.179950050388',\n",
       "   'Cost of Revenue': '22697000000.0',\n",
       "   'Gross Profit': '14735000000.0',\n",
       "   'R&D Expenses': '1603000000.0',\n",
       "   'SG&A Expense': '0.0',\n",
       "   'Operating Expenses': '4453000000.0',\n",
       "   'Operating Income': '10282000000.0',\n",
       "   'Interest Expense': '100000000.0',\n",
       "   'Earnings before Tax': '10484000000.0',\n",
       "   'Income Tax Expense': '2736000000.0',\n",
       "   'Net Income - Non-Controlling int': '0.0',\n",
       "   'Net Income - Discontinued ops': '0.0',\n",
       "   'Net Income': '7748000000.0',\n",
       "   'Preferred Dividends': '0.0',\n",
       "   'Net Income Com': '7748000000.0',\n",
       "   'EPS': '0.3225',\n",
       "   'EPS Diluted': '0.32',\n",
       "   'Weighted Average Shs Out': '24050540000.0',\n",
       "   'Weighted Average Shs Out (Dil)': '24206844000.0',\n",
       "   'Dividend per Share': '0.464452683741',\n",
       "   'Gross Margin': '0.393647146826245',\n",
       "   'EBITDA Margin': '0.334740329130156',\n",
       "   'EBIT Margin': '0.274684761701',\n",
       "   'Profit Margin': '0.206988672793332',\n",
       "   'Free Cash Flow margin': '0.210434921992',\n",
       "   'EBITDA': '12530000000.0',\n",
       "   'EBIT': '10282000000.0',\n",
       "   'Consolidated Income': '7748000000.0',\n",
       "   'Earnings Before Tax Margin': '0.280081213934601',\n",
       "   'Net Profit Margin': '0.206988672793332'},\n",
       "  {'date': '2014-03-29',\n",
       "   'Revenue': '45646000000.0',\n",
       "   'Revenue Growth': '-0.207452165156',\n",
       "   'Cost of Revenue': '27699000000.0',\n",
       "   'Gross Profit': '17947000000.0',\n",
       "   'R&D Expenses': '1422000000.0',\n",
       "   'SG&A Expense': '0.0',\n",
       "   'Operating Expenses': '4354000000.0',\n",
       "   'Operating Income': '13593000000.0',\n",
       "   'Interest Expense': '85000000.0',\n",
       "   'Earnings before Tax': '13818000000.0',\n",
       "   'Income Tax Expense': '3595000000.0',\n",
       "   'Net Income - Non-Controlling int': '0.0',\n",
       "   'Net Income - Discontinued ops': '0.0',\n",
       "   'Net Income': '10223000000.0',\n",
       "   'Preferred Dividends': '0.0',\n",
       "   'Net Income Com': '10223000000.0',\n",
       "   'EPS': '0.4175',\n",
       "   'EPS Diluted': '0.415',\n",
       "   'Weighted Average Shs Out': '24493196000.0',\n",
       "   'Weighted Average Shs Out (Dil)': '24626784000.0',\n",
       "   'Dividend per Share': '2.98824242833',\n",
       "   'Gross Margin': '0.393177934539719',\n",
       "   'EBITDA Margin': '0.345922972440082',\n",
       "   'EBIT Margin': '0.297791701354',\n",
       "   'Profit Margin': '0.223962669237173',\n",
       "   'Free Cash Flow margin': '0.266310301012',\n",
       "   'EBITDA': '15790000000.0',\n",
       "   'EBIT': '13593000000.0',\n",
       "   'Consolidated Income': '10223000000.0',\n",
       "   'Earnings Before Tax Margin': '0.302720939403234',\n",
       "   'Net Profit Margin': '0.223962669237173'},\n",
       "  {'date': '2013-12-28',\n",
       "   'Revenue': '57594000000.0',\n",
       "   'Revenue Growth': '0.536987617421',\n",
       "   'Cost of Revenue': '35748000000.0',\n",
       "   'Gross Profit': '21846000000.0',\n",
       "   'R&D Expenses': '1330000000.0',\n",
       "   'SG&A Expense': '0.0',\n",
       "   'Operating Expenses': '4383000000.0',\n",
       "   'Operating Income': '17463000000.0',\n",
       "   'Interest Expense': '84000000.0',\n",
       "   'Earnings before Tax': '17709000000.0',\n",
       "   'Income Tax Expense': '4637000000.0',\n",
       "   'Net Income - Non-Controlling int': '0.0',\n",
       "   'Net Income - Discontinued ops': '0.0',\n",
       "   'Net Income': '13072000000.0',\n",
       "   'Preferred Dividends': '0.0',\n",
       "   'Net Income Com': '13072000000.0',\n",
       "   'EPS': '0.521071',\n",
       "   'EPS Diluted': '0.517857',\n",
       "   'Weighted Average Shs Out': '25090016000.0',\n",
       "   'Weighted Average Shs Out (Dil)': '25240656000.0',\n",
       "   'Dividend per Share': '3.07171097296',\n",
       "   'Gross Margin': '0.379310344827586',\n",
       "   'EBITDA Margin': '0.346164531027538',\n",
       "   'EBIT Margin': '0.30320866757',\n",
       "   'Profit Margin': '0.226968086953502',\n",
       "   'Free Cash Flow margin': '0.359151994999',\n",
       "   'EBITDA': '19937000000.0',\n",
       "   'EBIT': '17463000000.0',\n",
       "   'Consolidated Income': '13072000000.0',\n",
       "   'Earnings Before Tax Margin': '0.30747994582769',\n",
       "   'Net Profit Margin': '0.226968086953502'},\n",
       "  {'date': '2013-09-28',\n",
       "   'Revenue': '37472000000.0',\n",
       "   'Revenue Growth': '0.0608385471223',\n",
       "   'Cost of Revenue': '23601000000.0',\n",
       "   'Gross Profit': '13871000000.0',\n",
       "   'R&D Expenses': '1168000000.0',\n",
       "   'SG&A Expense': '0.0',\n",
       "   'Operating Expenses': '3841000000.0',\n",
       "   'Operating Income': '10030000000.0',\n",
       "   'Interest Expense': '83000000.0',\n",
       "   'Earnings before Tax': '10143000000.0',\n",
       "   'Income Tax Expense': '2631000000.0',\n",
       "   'Net Income - Non-Controlling int': '0.0',\n",
       "   'Net Income - Discontinued ops': '0.0',\n",
       "   'Net Income': '7512000000.0',\n",
       "   'Preferred Dividends': '0.0',\n",
       "   'Net Income Com': '7512000000.0',\n",
       "   'EPS': '0.296786',\n",
       "   'EPS Diluted': '0.295',\n",
       "   'Weighted Average Shs Out': '25316564000.0',\n",
       "   'Weighted Average Shs Out (Dil)': '25455668000.0',\n",
       "   'Dividend per Share': '2.97210791038',\n",
       "   'Gross Margin': '0.370169726729291',\n",
       "   'EBITDA Margin': '0.320479291204099',\n",
       "   'EBIT Margin': '0.267666524338',\n",
       "   'Profit Margin': '0.200469684030743',\n",
       "   'Free Cash Flow margin': '0.212238471392',\n",
       "   'EBITDA': '12009000000.0',\n",
       "   'EBIT': '10030000000.0',\n",
       "   'Consolidated Income': '7512000000.0',\n",
       "   'Earnings Before Tax Margin': '0.270682109308284',\n",
       "   'Net Profit Margin': '0.200469684030743'},\n",
       "  {'date': '2013-06-29',\n",
       "   'Revenue': '35323000000.0',\n",
       "   'Revenue Growth': '-0.189895190698',\n",
       "   'Cost of Revenue': '22299000000.0',\n",
       "   'Gross Profit': '13024000000.0',\n",
       "   'R&D Expenses': '1178000000.0',\n",
       "   'SG&A Expense': '0.0',\n",
       "   'Operating Expenses': '3823000000.0',\n",
       "   'Operating Income': '9201000000.0',\n",
       "   'Interest Expense': '53000000.0',\n",
       "   'Earnings before Tax': '9435000000.0',\n",
       "   'Income Tax Expense': '2535000000.0',\n",
       "   'Net Income - Non-Controlling int': '0.0',\n",
       "   'Net Income - Discontinued ops': '0.0',\n",
       "   'Net Income': '6900000000.0',\n",
       "   'Preferred Dividends': '0.0',\n",
       "   'Net Income Com': '6900000000.0',\n",
       "   'EPS': '0.268214',\n",
       "   'EPS Diluted': '0.266786',\n",
       "   'Weighted Average Shs Out': '25721304000.0',\n",
       "   'Weighted Average Shs Out (Dil)': '25879420000.0',\n",
       "   'Dividend per Share': '2.99306197374',\n",
       "   'Gross Margin': '0.368711604337117',\n",
       "   'EBITDA Margin': '0.316564278232313',\n",
       "   'EBIT Margin': '0.260481839028',\n",
       "   'Profit Margin': '0.195340146646661',\n",
       "   'Free Cash Flow margin': '0.168247317612',\n",
       "   'EBITDA': '11182000000.0',\n",
       "   'EBIT': '9201000000.0',\n",
       "   'Consolidated Income': '6900000000.0',\n",
       "   'Earnings Before Tax Margin': '0.267106417914673',\n",
       "   'Net Profit Margin': '0.195340146646661'},\n",
       "  {'date': '2013-03-30',\n",
       "   'Revenue': '43603000000.0',\n",
       "   'Revenue Growth': '-0.200121074259',\n",
       "   'Cost of Revenue': '27254000000.0',\n",
       "   'Gross Profit': '16349000000.0',\n",
       "   'R&D Expenses': '1119000000.0',\n",
       "   'SG&A Expense': '0.0',\n",
       "   'Operating Expenses': '3791000000.0',\n",
       "   'Operating Income': '12558000000.0',\n",
       "   'Interest Expense': '0.0',\n",
       "   'Earnings before Tax': '12905000000.0',\n",
       "   'Income Tax Expense': '3358000000.0',\n",
       "   'Net Income - Non-Controlling int': '0.0',\n",
       "   'Net Income - Discontinued ops': '0.0',\n",
       "   'Net Income': '9547000000.0',\n",
       "   'Preferred Dividends': '0.0',\n",
       "   'Net Income Com': '9547000000.0',\n",
       "   'EPS': '0.362857',\n",
       "   'EPS Diluted': '0.360357',\n",
       "   'Weighted Average Shs Out': '26309612000.0',\n",
       "   'Weighted Average Shs Out (Dil)': '26488980000.0',\n",
       "   'Dividend per Share': '2.63145106938',\n",
       "   'Gross Margin': '0.374951264821228',\n",
       "   'EBITDA Margin': '0.33477054331124',\n",
       "   'EBIT Margin': '0.288007705892',\n",
       "   'Profit Margin': '0.218952824346949',\n",
       "   'Free Cash Flow margin': '0.240717381832',\n",
       "   'EBITDA': '14597000000.0',\n",
       "   'EBIT': '12558000000.0',\n",
       "   'Consolidated Income': '9547000000.0',\n",
       "   'Earnings Before Tax Margin': '0.295965873907759',\n",
       "   'Net Profit Margin': '0.218952824346949'},\n",
       "  {'date': '2012-12-29',\n",
       "   'Revenue': '54512000000.0',\n",
       "   'Revenue Growth': '0.515653672913',\n",
       "   'Cost of Revenue': '33452000000.0',\n",
       "   'Gross Profit': '21060000000.0',\n",
       "   'R&D Expenses': '1010000000.0',\n",
       "   'SG&A Expense': '0.0',\n",
       "   'Operating Expenses': '3850000000.0',\n",
       "   'Operating Income': '17210000000.0',\n",
       "   'Interest Expense': '0.0',\n",
       "   'Earnings before Tax': '17672000000.0',\n",
       "   'Income Tax Expense': '4594000000.0',\n",
       "   'Net Income - Non-Controlling int': '0.0',\n",
       "   'Net Income - Discontinued ops': '0.0',\n",
       "   'Net Income': '13078000000.0',\n",
       "   'Preferred Dividends': '0.0',\n",
       "   'Net Income Com': '13078000000.0',\n",
       "   'EPS': '0.4975',\n",
       "   'EPS Diluted': '0.493214',\n",
       "   'Weighted Average Shs Out': '26289648000.0',\n",
       "   'Weighted Average Shs Out (Dil)': '26522076000.0',\n",
       "   'Dividend per Share': '2.63192066865',\n",
       "   'Gross Margin': '0.386336953331377',\n",
       "   'EBITDA Margin': '0.353316700909891',\n",
       "   'EBIT Margin': '0.315710302319',\n",
       "   'Profit Margin': '0.239910478426768',\n",
       "   'Free Cash Flow margin': '0.387235837981',\n",
       "   'EBITDA': '19260000000.0',\n",
       "   'EBIT': '17210000000.0',\n",
       "   'Consolidated Income': '13078000000.0',\n",
       "   'Earnings Before Tax Margin': '0.32418550044027',\n",
       "   'Net Profit Margin': '0.239910478426768'},\n",
       "  {'date': '2012-09-29',\n",
       "   'Revenue': '35966000000.0',\n",
       "   'Revenue Growth': '0.026925163464',\n",
       "   'Cost of Revenue': '21565000000.0',\n",
       "   'Gross Profit': '14401000000.0',\n",
       "   'R&D Expenses': '906000000.0',\n",
       "   'SG&A Expense': '0.0',\n",
       "   'Operating Expenses': '3457000000.0',\n",
       "   'Operating Income': '10944000000.0',\n",
       "   'Interest Expense': '0.0',\n",
       "   'Earnings before Tax': '10893000000.0',\n",
       "   'Income Tax Expense': '2670000000.0',\n",
       "   'Net Income - Non-Controlling int': '0.0',\n",
       "   'Net Income - Discontinued ops': '0.0',\n",
       "   'Net Income': '8223000000.0',\n",
       "   'Preferred Dividends': '0.0',\n",
       "   'Net Income Com': '8223000000.0',\n",
       "   'EPS': '0.312857',\n",
       "   'EPS Diluted': '0.309643',\n",
       "   'Weighted Average Shs Out': '26273604000.0',\n",
       "   'Weighted Average Shs Out (Dil)': '26549208000.0',\n",
       "   'Dividend per Share': '2.63181556135',\n",
       "   'Gross Margin': '0.400405938942334',\n",
       "   'EBITDA Margin': '0.330145137073903',\n",
       "   'EBIT Margin': '0.304287382528',\n",
       "   'Profit Margin': '0.22863259745315',\n",
       "   'Free Cash Flow margin': '0.157787910805',\n",
       "   'EBITDA': '11874000000.0',\n",
       "   'EBIT': '10944000000.0',\n",
       "   'Consolidated Income': '8223000000.0',\n",
       "   'Earnings Before Tax Margin': '0.302869376633487',\n",
       "   'Net Profit Margin': '0.22863259745315'},\n",
       "  {'date': '2012-06-30',\n",
       "   'Revenue': '35023000000.0',\n",
       "   'Revenue Growth': '-0.106236921349',\n",
       "   'Cost of Revenue': '20029000000.0',\n",
       "   'Gross Profit': '14994000000.0',\n",
       "   'R&D Expenses': '876000000.0',\n",
       "   'SG&A Expense': '0.0',\n",
       "   'Operating Expenses': '3421000000.0',\n",
       "   'Operating Income': '11573000000.0',\n",
       "   'Interest Expense': '0.0',\n",
       "   'Earnings before Tax': '11861000000.0',\n",
       "   'Income Tax Expense': '3037000000.0',\n",
       "   'Net Income - Non-Controlling int': '0.0',\n",
       "   'Net Income - Discontinued ops': '0.0',\n",
       "   'Net Income': '8824000000.0',\n",
       "   'Preferred Dividends': '0.0',\n",
       "   'Net Income Com': '8824000000.0',\n",
       "   'EPS': '0.336429',\n",
       "   'EPS Diluted': '0.332857',\n",
       "   'Weighted Average Shs Out': '26224688000.0',\n",
       "   'Weighted Average Shs Out (Dil)': '26517652000.0',\n",
       "   'Dividend per Share': '0.0',\n",
       "   'Gross Margin': '0.428118664877366',\n",
       "   'EBITDA Margin': '0.362504639808126',\n",
       "   'EBIT Margin': '0.330439996574',\n",
       "   'Profit Margin': '0.251948719412957',\n",
       "   'Free Cash Flow margin': '0.232218827628',\n",
       "   'EBITDA': '12696000000.0',\n",
       "   'EBIT': '11573000000.0',\n",
       "   'Consolidated Income': '8824000000.0',\n",
       "   'Earnings Before Tax Margin': '0.338663164206379',\n",
       "   'Net Profit Margin': '0.251948719412957'},\n",
       "  {'date': '2012-03-31',\n",
       "   'Revenue': '39186000000.0',\n",
       "   'Revenue Growth': '-0.154252908294',\n",
       "   'Cost of Revenue': '20622000000.0',\n",
       "   'Gross Profit': '18564000000.0',\n",
       "   'R&D Expenses': '841000000.0',\n",
       "   'SG&A Expense': '0.0',\n",
       "   'Operating Expenses': '3180000000.0',\n",
       "   'Operating Income': '15384000000.0',\n",
       "   'Interest Expense': '0.0',\n",
       "   'Earnings before Tax': '15532000000.0',\n",
       "   'Income Tax Expense': '3910000000.0',\n",
       "   'Net Income - Non-Controlling int': '0.0',\n",
       "   'Net Income - Discontinued ops': '0.0',\n",
       "   'Net Income': '11622000000.0',\n",
       "   'Preferred Dividends': '0.0',\n",
       "   'Net Income Com': '11622000000.0',\n",
       "   'EPS': '0.444643',\n",
       "   'EPS Diluted': '0.439286',\n",
       "   'Weighted Average Shs Out': '26140296000.0',\n",
       "   'Weighted Average Shs Out (Dil)': '26457004000.0',\n",
       "   'Dividend per Share': '0.0',\n",
       "   'Gross Margin': '0.473740621650589',\n",
       "   'EBITDA Margin': '0.415250344510795',\n",
       "   'EBIT Margin': '0.392589190017',\n",
       "   'Profit Margin': '0.296585515235033',\n",
       "   'Free Cash Flow margin': '0.31950186291',\n",
       "   'EBITDA': '16272000000.0',\n",
       "   'EBIT': '15384000000.0',\n",
       "   'Consolidated Income': '11622000000.0',\n",
       "   'Earnings Before Tax Margin': '0.396366049099168',\n",
       "   'Net Profit Margin': '0.296585515235033'},\n",
       "  {'date': '2011-12-31',\n",
       "   'Revenue': '46333000000.0',\n",
       "   'Revenue Growth': '0.638945879024',\n",
       "   'Cost of Revenue': '25630000000.0',\n",
       "   'Gross Profit': '20703000000.0',\n",
       "   'R&D Expenses': '758000000.0',\n",
       "   'SG&A Expense': '0.0',\n",
       "   'Operating Expenses': '3363000000.0',\n",
       "   'Operating Income': '17340000000.0',\n",
       "   'Interest Expense': '0.0',\n",
       "   'Earnings before Tax': '17477000000.0',\n",
       "   'Income Tax Expense': '4413000000.0',\n",
       "   'Net Income - Non-Controlling int': '0.0',\n",
       "   'Net Income - Discontinued ops': '0.0',\n",
       "   'Net Income': '13064000000.0',\n",
       "   'Preferred Dividends': '0.0',\n",
       "   'Net Income Com': '13064000000.0',\n",
       "   'EPS': '0.501071',\n",
       "   'EPS Diluted': '0.495357',\n",
       "   'Weighted Average Shs Out': '26069148000.0',\n",
       "   'Weighted Average Shs Out (Dil)': '26364016000.0',\n",
       "   'Dividend per Share': '0.0',\n",
       "   'Gross Margin': '0.446830552737789',\n",
       "   'EBITDA Margin': '0.392765415578529',\n",
       "   'EBIT Margin': '0.374247296743',\n",
       "   'Profit Margin': '0.281958863013403',\n",
       "   'Free Cash Flow margin': '0.350355038525',\n",
       "   'EBITDA': '18198000000.0',\n",
       "   'EBIT': '17340000000.0',\n",
       "   'Consolidated Income': '13064000000.0',\n",
       "   'Earnings Before Tax Margin': '0.37720415254786',\n",
       "   'Net Profit Margin': '0.281958863013403'},\n",
       "  {'date': '2011-09-24',\n",
       "   'Revenue': '28270000000.0',\n",
       "   'Revenue Growth': '-0.0105351580274',\n",
       "   'Cost of Revenue': '16890000000.0',\n",
       "   'Gross Profit': '11380000000.0',\n",
       "   'R&D Expenses': '645000000.0',\n",
       "   'SG&A Expense': '0.0',\n",
       "   'Operating Expenses': '2670000000.0',\n",
       "   'Operating Income': '8710000000.0',\n",
       "   'Interest Expense': '0.0',\n",
       "   'Earnings before Tax': '8791000000.0',\n",
       "   'Income Tax Expense': '2168000000.0',\n",
       "   'Net Income - Non-Controlling int': '0.0',\n",
       "   'Net Income - Discontinued ops': '0.0',\n",
       "   'Net Income': '6623000000.0',\n",
       "   'Preferred Dividends': '0.0',\n",
       "   'Net Income Com': '6623000000.0',\n",
       "   'EPS': '0.254643',\n",
       "   'EPS Diluted': '0.251786',\n",
       "   'Weighted Average Shs Out': '25991840000.0',\n",
       "   'Weighted Average Shs Out (Dil)': '26306476000.0',\n",
       "   'Dividend per Share': '0.0',\n",
       "   'Gross Margin': '0.402546869472939',\n",
       "   'EBITDA Margin': '0.330173328616908',\n",
       "   'EBIT Margin': '0.308100459851',\n",
       "   'Profit Margin': '0.234276618323311',\n",
       "   'Free Cash Flow margin': '0.310718075699',\n",
       "   'EBITDA': '9334000000.0',\n",
       "   'EBIT': '8710000000.0',\n",
       "   'Consolidated Income': '6623000000.0',\n",
       "   'Earnings Before Tax Margin': '0.31096568800849',\n",
       "   'Net Profit Margin': '0.234276618323311'},\n",
       "  {'date': '2011-06-25',\n",
       "   'Revenue': '28571000000.0',\n",
       "   'Revenue Growth': '0.158268131512',\n",
       "   'Cost of Revenue': '16649000000.0',\n",
       "   'Gross Profit': '11922000000.0',\n",
       "   'R&D Expenses': '628000000.0',\n",
       "   'SG&A Expense': '0.0',\n",
       "   'Operating Expenses': '2543000000.0',\n",
       "   'Operating Income': '9379000000.0',\n",
       "   'Interest Expense': '0.0',\n",
       "   'Earnings before Tax': '9551000000.0',\n",
       "   'Income Tax Expense': '2243000000.0',\n",
       "   'Net Income - Non-Controlling int': '0.0',\n",
       "   'Net Income - Discontinued ops': '0.0',\n",
       "   'Net Income': '7308000000.0',\n",
       "   'Preferred Dividends': '0.0',\n",
       "   'Net Income Com': '7308000000.0',\n",
       "   'EPS': '0.281786',\n",
       "   'EPS Diluted': '0.278214',\n",
       "   'Weighted Average Shs Out': '25931024000.0',\n",
       "   'Weighted Average Shs Out (Dil)': '26258680000.0',\n",
       "   'Dividend per Share': '0.0',\n",
       "   'Gross Margin': '0.417276259143887',\n",
       "   'EBITDA Margin': '0.351125266879003',\n",
       "   'EBIT Margin': '0.328269924049',\n",
       "   'Profit Margin': '0.255783836757551',\n",
       "   'Free Cash Flow margin': '0.361590423856',\n",
       "   'EBITDA': '10032000000.0',\n",
       "   'EBIT': '9379000000.0',\n",
       "   'Consolidated Income': '7308000000.0',\n",
       "   'Earnings Before Tax Margin': '0.334290014350215',\n",
       "   'Net Profit Margin': '0.255783836757551'},\n",
       "  {'date': '2011-03-26',\n",
       "   'Revenue': '24667000000.0',\n",
       "   'Revenue Growth': '-0.0775588048315',\n",
       "   'Cost of Revenue': '14449000000.0',\n",
       "   'Gross Profit': '10218000000.0',\n",
       "   'R&D Expenses': '581000000.0',\n",
       "   'SG&A Expense': '0.0',\n",
       "   'Operating Expenses': '2344000000.0',\n",
       "   'Operating Income': '7874000000.0',\n",
       "   'Interest Expense': '0.0',\n",
       "   'Earnings before Tax': '7900000000.0',\n",
       "   'Income Tax Expense': '1913000000.0',\n",
       "   'Net Income - Non-Controlling int': '0.0',\n",
       "   'Net Income - Discontinued ops': '0.0',\n",
       "   'Net Income': '5987000000.0',\n",
       "   'Preferred Dividends': '0.0',\n",
       "   'Net Income Com': '5987000000.0',\n",
       "   'EPS': '0.231786',\n",
       "   'EPS Diluted': '0.228571',\n",
       "   'Weighted Average Shs Out': '25849488000.0',\n",
       "   'Weighted Average Shs Out (Dil)': '26206432000.0',\n",
       "   'Dividend per Share': '0.0',\n",
       "   'Gross Margin': '0.414237645437224',\n",
       "   'EBITDA Margin': '0.337860299185146',\n",
       "   'EBIT Margin': '0.319211902542',\n",
       "   'Profit Margin': '0.242712936311671',\n",
       "   'Free Cash Flow margin': '0.226821259172',\n",
       "   'EBITDA': '8334000000.0',\n",
       "   'EBIT': '7874000000.0',\n",
       "   'Consolidated Income': '5987000000.0',\n",
       "   'Earnings Before Tax Margin': '0.32026594235213',\n",
       "   'Net Profit Margin': '0.242712936311671'},\n",
       "  {'date': '2010-12-25',\n",
       "   'Revenue': '26741000000.0',\n",
       "   'Revenue Growth': '0.314506218355',\n",
       "   'Cost of Revenue': '16443000000.0',\n",
       "   'Gross Profit': '10298000000.0',\n",
       "   'R&D Expenses': '575000000.0',\n",
       "   'SG&A Expense': '0.0',\n",
       "   'Operating Expenses': '2471000000.0',\n",
       "   'Operating Income': '7827000000.0',\n",
       "   'Interest Expense': '0.0',\n",
       "   'Earnings before Tax': '7963000000.0',\n",
       "   'Income Tax Expense': '1959000000.0',\n",
       "   'Net Income - Non-Controlling int': '0.0',\n",
       "   'Net Income - Discontinued ops': '0.0',\n",
       "   'Net Income': '6004000000.0',\n",
       "   'Preferred Dividends': '0.0',\n",
       "   'Net Income Com': '6004000000.0',\n",
       "   'EPS': '0.233214',\n",
       "   'EPS Diluted': '0.229643',\n",
       "   'Weighted Average Shs Out': '25740232000.0',\n",
       "   'Weighted Average Shs Out (Dil)': '26128312000.0',\n",
       "   'Dividend per Share': '0.0',\n",
       "   'Gross Margin': '0.385101529486556',\n",
       "   'EBITDA Margin': '0.311095321790509',\n",
       "   'EBIT Margin': '0.292696608205',\n",
       "   'Profit Margin': '0.224524138962642',\n",
       "   'Free Cash Flow margin': '0.320070304028',\n",
       "   'EBITDA': '8319000000.0',\n",
       "   'EBIT': '7827000000.0',\n",
       "   'Consolidated Income': '6004000000.0',\n",
       "   'Earnings Before Tax Margin': '0.297782431472271',\n",
       "   'Net Profit Margin': '0.224524138962642'},\n",
       "  {'date': '2010-09-25',\n",
       "   'Revenue': '20343000000.0',\n",
       "   'Revenue Growth': '0.295732484076',\n",
       "   'Cost of Revenue': '12831000000.0',\n",
       "   'Gross Profit': '7512000000.0',\n",
       "   'R&D Expenses': '494000000.0',\n",
       "   'SG&A Expense': '0.0',\n",
       "   'Operating Expenses': '2065000000.0',\n",
       "   'Operating Income': '5447000000.0',\n",
       "   'Interest Expense': '0.0',\n",
       "   'Earnings before Tax': '5461000000.0',\n",
       "   'Income Tax Expense': '1153000000.0',\n",
       "   'Net Income - Non-Controlling int': '0.0',\n",
       "   'Net Income - Discontinued ops': '0.0',\n",
       "   'Net Income': '4308000000.0',\n",
       "   'Preferred Dividends': '0.0',\n",
       "   'Net Income Com': '4308000000.0',\n",
       "   'EPS': '0.17',\n",
       "   'EPS Diluted': '0.16',\n",
       "   'Weighted Average Shs Out': '25740232000.0',\n",
       "   'Weighted Average Shs Out (Dil)': '26128312000.0',\n",
       "   'Dividend per Share': '0.0',\n",
       "   'Gross Margin': '0.369267069753724',\n",
       "   'EBITDA Margin': '0.284618787789412',\n",
       "   'EBIT Margin': '0.267757951138',\n",
       "   'Profit Margin': '0.211768175785282',\n",
       "   'Free Cash Flow margin': '0.241999705058',\n",
       "   'EBITDA': '5790000000.0',\n",
       "   'EBIT': '5447000000.0',\n",
       "   'Consolidated Income': '4308000000.0',\n",
       "   'Earnings Before Tax Margin': '0.268446148552328',\n",
       "   'Net Profit Margin': '0.211768175785282'},\n",
       "  {'date': '2010-06-26',\n",
       "   'Revenue': '15700000000.0',\n",
       "   'Revenue Growth': '0.163049114749',\n",
       "   'Cost of Revenue': '9564000000.0',\n",
       "   'Gross Profit': '6136000000.0',\n",
       "   'R&D Expenses': '464000000.0',\n",
       "   'SG&A Expense': '0.0',\n",
       "   'Operating Expenses': '1902000000.0',\n",
       "   'Operating Income': '4234000000.0',\n",
       "   'Interest Expense': '0.0',\n",
       "   'Earnings before Tax': '4292000000.0',\n",
       "   'Income Tax Expense': '1039000000.0',\n",
       "   'Net Income - Non-Controlling int': '0.0',\n",
       "   'Net Income - Discontinued ops': '0.0',\n",
       "   'Net Income': '3253000000.0',\n",
       "   'Preferred Dividends': '0.0',\n",
       "   'Net Income Com': '3253000000.0',\n",
       "   'EPS': '0.1275',\n",
       "   'EPS Diluted': '0.125357',\n",
       "   'Weighted Average Shs Out': '25541516000.0',\n",
       "   'Weighted Average Shs Out (Dil)': '25966108000.0',\n",
       "   'Dividend per Share': '0.0',\n",
       "   'Gross Margin': '0.390828025477707',\n",
       "   'EBITDA Margin': '0.290764331210191',\n",
       "   'EBIT Margin': '0.269681528662',\n",
       "   'Profit Margin': '0.207197452229299',\n",
       "   'Free Cash Flow margin': '0.267898089172',\n",
       "   'EBITDA': '4565000000.0',\n",
       "   'EBIT': '4234000000.0',\n",
       "   'Consolidated Income': '3253000000.0',\n",
       "   'Earnings Before Tax Margin': '0.273375796178344',\n",
       "   'Net Profit Margin': '0.207197452229299'},\n",
       "  {'date': '2010-03-27',\n",
       "   'Revenue': '13499000000.0',\n",
       "   'Revenue Growth': '-0.139259070331',\n",
       "   'Cost of Revenue': '7874000000.0',\n",
       "   'Gross Profit': '5625000000.0',\n",
       "   'R&D Expenses': '426000000.0',\n",
       "   'SG&A Expense': '0.0',\n",
       "   'Operating Expenses': '1646000000.0',\n",
       "   'Operating Income': '3979000000.0',\n",
       "   'Interest Expense': '0.0',\n",
       "   'Earnings before Tax': '4029000000.0',\n",
       "   'Income Tax Expense': '955000000.0',\n",
       "   'Net Income - Non-Controlling int': '0.0',\n",
       "   'Net Income - Discontinued ops': '0.0',\n",
       "   'Net Income': '3074000000.0',\n",
       "   'Preferred Dividends': '0.0',\n",
       "   'Net Income Com': '3074000000.0',\n",
       "   'EPS': '0.121071',\n",
       "   'EPS Diluted': '0.118929',\n",
       "   'Weighted Average Shs Out': '25411344000.0',\n",
       "   'Weighted Average Shs Out (Dil)': '25840584000.0',\n",
       "   'Dividend per Share': '0.0',\n",
       "   'Gross Margin': '0.416697533150604',\n",
       "   'EBITDA Margin': '0.314467738350989',\n",
       "   'EBIT Margin': '0.298266054417',\n",
       "   'Profit Margin': '0.227720571894214',\n",
       "   'Free Cash Flow margin': '0.255671304229',\n",
       "   'EBITDA': '4245000000.0',\n",
       "   'EBIT': '8704000000.0',\n",
       "   'Consolidated Income': '6452000000.0',\n",
       "   'Earnings Before Tax Margin': '0.298466553078006',\n",
       "   'Net Profit Margin': '0.227720571894214'},\n",
       "  {'date': '2009-12-26',\n",
       "   'Revenue': '15683000000.0',\n",
       "   'Revenue Growth': '0.588956433637',\n",
       "   'Cost of Revenue': '9272000000.0',\n",
       "   'Gross Profit': '6411000000.0',\n",
       "   'R&D Expenses': '398000000.0',\n",
       "   'SG&A Expense': '0.0',\n",
       "   'Operating Expenses': '1686000000.0',\n",
       "   'Operating Income': '4725000000.0',\n",
       "   'Interest Expense': '0.0',\n",
       "   'Earnings before Tax': '4758000000.0',\n",
       "   'Income Tax Expense': '1380000000.0',\n",
       "   'Net Income - Non-Controlling int': '0.0',\n",
       "   'Net Income - Discontinued ops': '0.0',\n",
       "   'Net Income': '3378000000.0',\n",
       "   'Preferred Dividends': '0.0',\n",
       "   'Net Income Com': '3378000000.0',\n",
       "   'EPS': '0.133571',\n",
       "   'EPS Diluted': '0.131071',\n",
       "   'Weighted Average Shs Out': '25299176000.0',\n",
       "   'Weighted Average Shs Out (Dil)': '25753924000.0',\n",
       "   'Dividend per Share': '0.0',\n",
       "   'Gross Margin': '0.408786584199452',\n",
       "   'EBITDA Margin': '0.316712363705924',\n",
       "   'EBIT Margin': '0.3034',\n",
       "   'Profit Margin': '0.215392463176688',\n",
       "   'Free Cash Flow margin': '0.3443',\n",
       "   'EBITDA': '4967000000.0',\n",
       "   'EBIT': '4758000000.0',\n",
       "   'Consolidated Income': '3378000000.0',\n",
       "   'Earnings Before Tax Margin': '0.303385831792387',\n",
       "   'Net Profit Margin': '0.215392463176688'},\n",
       "  {'date': '2009-09-26',\n",
       "   'Revenue': '9870000000.0',\n",
       "   'Revenue Growth': '0.183879093199',\n",
       "   'Cost of Revenue': '6256000000.0',\n",
       "   'Gross Profit': '3614000000.0',\n",
       "   'R&D Expenses': '358000000.0',\n",
       "   'SG&A Expense': '0.0',\n",
       "   'Operating Expenses': '1421000000.0',\n",
       "   'Operating Income': '2193000000.0',\n",
       "   'Interest Expense': '0.0',\n",
       "   'Earnings before Tax': '2238000000.0',\n",
       "   'Income Tax Expense': '573000000.0',\n",
       "   'Net Income - Non-Controlling int': '0.0',\n",
       "   'Net Income - Discontinued ops': '0.0',\n",
       "   'Net Income': '1665000000.0',\n",
       "   'Preferred Dividends': '0.0',\n",
       "   'Net Income Com': '1665000000.0',\n",
       "   'EPS': '0.066071',\n",
       "   'EPS Diluted': '0.065',\n",
       "   'Weighted Average Shs Out': '25144896000.0',\n",
       "   'Weighted Average Shs Out (Dil)': '25602472000.0',\n",
       "   'Dividend per Share': '0.0',\n",
       "   'Gross Margin': '0.366160081053698',\n",
       "   'EBITDA Margin': '0.246707193515704',\n",
       "   'EBIT Margin': '0.3055',\n",
       "   'Profit Margin': '0.168693009118541',\n",
       "   'Free Cash Flow margin': '0.2161',\n",
       "   'EBITDA': '2435000000.0',\n",
       "   'EBIT': '3729000000.0',\n",
       "   'Consolidated Income': '2532000000.0',\n",
       "   'Earnings Before Tax Margin': '0.226747720364742',\n",
       "   'Net Profit Margin': '0.168693009118541'},\n",
       "  {'date': '2009-06-27',\n",
       "   'Revenue': '8337000000.0',\n",
       "   'Revenue Growth': '0.02131569276',\n",
       "   'Cost of Revenue': '5314000000.0',\n",
       "   'Gross Profit': '3023000000.0',\n",
       "   'R&D Expenses': '341000000.0',\n",
       "   'SG&A Expense': '0.0',\n",
       "   'Operating Expenses': '1351000000.0',\n",
       "   'Operating Income': '1672000000.0',\n",
       "   'Interest Expense': '0.0',\n",
       "   'Earnings before Tax': '1732000000.0',\n",
       "   'Income Tax Expense': '503000000.0',\n",
       "   'Net Income - Non-Controlling int': '0.0',\n",
       "   'Net Income - Discontinued ops': '0.0',\n",
       "   'Net Income': '1229000000.0',\n",
       "   'Preferred Dividends': '0.0',\n",
       "   'Net Income Com': '1229000000.0',\n",
       "   'EPS': '0.049286',\n",
       "   'EPS Diluted': '0.048214',\n",
       "   'Weighted Average Shs Out': '25023936000.0',\n",
       "   'Weighted Average Shs Out (Dil)': '25456480000.0',\n",
       "   'Dividend per Share': '0.0',\n",
       "   'Gross Margin': '0.362600455799448',\n",
       "   'EBITDA Margin': '0.228859301907161',\n",
       "   'EBIT Margin': '0.2766',\n",
       "   'Profit Margin': '0.147415137339571',\n",
       "   'Free Cash Flow margin': '0.2022',\n",
       "   'EBITDA': '1908000000.0',\n",
       "   'EBIT': '2692000000.0',\n",
       "   'Consolidated Income': '1828000000.0',\n",
       "   'Earnings Before Tax Margin': '0.207748590620127',\n",
       "   'Net Profit Margin': '0.147415137339571'},\n",
       "  {'date': '2009-03-28',\n",
       "   'Revenue': '8163000000.0',\n",
       "   'Revenue Growth': '-0.197108291531',\n",
       "   'Cost of Revenue': '5192000000.0',\n",
       "   'Gross Profit': '2971000000.0',\n",
       "   'R&D Expenses': '319000000.0',\n",
       "   'SG&A Expense': '0.0',\n",
       "   'Operating Expenses': '1304000000.0',\n",
       "   'Operating Income': '1667000000.0',\n",
       "   'Interest Expense': '0.0',\n",
       "   'Earnings before Tax': '1730000000.0',\n",
       "   'Income Tax Expense': '525000000.0',\n",
       "   'Net Income - Non-Controlling int': '',\n",
       "   'Net Income - Discontinued ops': '',\n",
       "   'Net Income': '1205000000.0',\n",
       "   'Preferred Dividends': '',\n",
       "   'Net Income Com': '1205000000.0',\n",
       "   'EPS': '0.048214',\n",
       "   'EPS Diluted': '0.0475',\n",
       "   'Weighted Average Shs Out': '24953040000.0',\n",
       "   'Weighted Average Shs Out (Dil)': '25283804000.0',\n",
       "   'Dividend per Share': '',\n",
       "   'Gross Margin': '0.363959328678182',\n",
       "   'EBITDA Margin': '0.233002572583609',\n",
       "   'EBIT Margin': '',\n",
       "   'Profit Margin': '0.147617297562171',\n",
       "   'Free Cash Flow margin': '',\n",
       "   'EBITDA': '1902000000.0',\n",
       "   'EBIT': '',\n",
       "   'Consolidated Income': '',\n",
       "   'Earnings Before Tax Margin': '0.211931887786353',\n",
       "   'Net Profit Margin': '0.147617297562171'},\n",
       "  {'date': '2008-12-27',\n",
       "   'Revenue': '10167000000.0',\n",
       "   'Revenue Growth': '0.287777074098',\n",
       "   'Cost of Revenue': '6635000000.0',\n",
       "   'Gross Profit': '3532000000.0',\n",
       "   'R&D Expenses': '315000000.0',\n",
       "   'SG&A Expense': '0.0',\n",
       "   'Operating Expenses': '1406000000.0',\n",
       "   'Operating Income': '2126000000.0',\n",
       "   'Interest Expense': '0.0',\n",
       "   'Earnings before Tax': '2284000000.0',\n",
       "   'Income Tax Expense': '679000000.0',\n",
       "   'Net Income - Non-Controlling int': '',\n",
       "   'Net Income - Discontinued ops': '',\n",
       "   'Net Income': '1605000000.0',\n",
       "   'Preferred Dividends': '',\n",
       "   'Net Income Com': '1605000000.0',\n",
       "   'EPS': '0.064643',\n",
       "   'EPS Diluted': '0.063571',\n",
       "   'Weighted Average Shs Out': '24895976000.0',\n",
       "   'Weighted Average Shs Out (Dil)': '25241832000.0',\n",
       "   'Dividend per Share': '',\n",
       "   'Gross Margin': '0.347398445952592',\n",
       "   'EBITDA Margin': '0.240188846267335',\n",
       "   'EBIT Margin': '',\n",
       "   'Profit Margin': '0.157863676600767',\n",
       "   'Free Cash Flow margin': '',\n",
       "   'EBITDA': '2442000000.0',\n",
       "   'EBIT': '',\n",
       "   'Consolidated Income': '',\n",
       "   'Earnings Before Tax Margin': '0.224648372184519',\n",
       "   'Net Profit Margin': '0.157863676600767'},\n",
       "  {'date': '2008-09-27',\n",
       "   'Revenue': '7895000000.0',\n",
       "   'Revenue Growth': '0.0577438370847',\n",
       "   'Cost of Revenue': '5156000000.0',\n",
       "   'Gross Profit': '2739000000.0',\n",
       "   'R&D Expenses': '298000000.0',\n",
       "   'SG&A Expense': '0.0',\n",
       "   'Operating Expenses': '1297000000.0',\n",
       "   'Operating Income': '1442000000.0',\n",
       "   'Interest Expense': '0.0',\n",
       "   'Earnings before Tax': '1582000000.0',\n",
       "   'Income Tax Expense': '446000000.0',\n",
       "   'Net Income - Non-Controlling int': '',\n",
       "   'Net Income - Discontinued ops': '',\n",
       "   'Net Income': '1136000000.0',\n",
       "   'Preferred Dividends': '',\n",
       "   'Net Income Com': '1136000000.0',\n",
       "   'EPS': '0.046',\n",
       "   'EPS Diluted': '0.045',\n",
       "   'Weighted Average Shs Out': '24895976000.0',\n",
       "   'Weighted Average Shs Out (Dil)': '25241832000.0',\n",
       "   'Dividend per Share': '',\n",
       "   'Gross Margin': '0.346928435718809',\n",
       "   'EBITDA Margin': '0.21735275490817',\n",
       "   'EBIT Margin': '',\n",
       "   'Profit Margin': '0.143888537048765',\n",
       "   'Free Cash Flow margin': '',\n",
       "   'EBITDA': '1716000000.0',\n",
       "   'EBIT': '',\n",
       "   'Consolidated Income': '',\n",
       "   'Earnings Before Tax Margin': '0.200379987333756',\n",
       "   'Net Profit Margin': '0.143888537048765'},\n",
       "  {'date': '2008-06-28',\n",
       "   'Revenue': '7464000000.0',\n",
       "   'Revenue Growth': '-0.00638977635783',\n",
       "   'Cost of Revenue': '4864000000.0',\n",
       "   'Gross Profit': '2600000000.0',\n",
       "   'R&D Expenses': '292000000.0',\n",
       "   'SG&A Expense': '0.0',\n",
       "   'Operating Expenses': '1208000000.0',\n",
       "   'Operating Income': '1392000000.0',\n",
       "   'Interest Expense': '0.0',\n",
       "   'Earnings before Tax': '1510000000.0',\n",
       "   'Income Tax Expense': '438000000.0',\n",
       "   'Net Income - Non-Controlling int': '',\n",
       "   'Net Income - Discontinued ops': '',\n",
       "   'Net Income': '1072000000.0',\n",
       "   'Preferred Dividends': '',\n",
       "   'Net Income Com': '1072000000.0',\n",
       "   'EPS': '0.043214',\n",
       "   'EPS Diluted': '0.0425',\n",
       "   'Weighted Average Shs Out': '24744664000.0',\n",
       "   'Weighted Average Shs Out (Dil)': '25288676000.0',\n",
       "   'Dividend per Share': '',\n",
       "   'Gross Margin': '0.348338692390139',\n",
       "   'EBITDA Margin': '0.217979635584137',\n",
       "   'EBIT Margin': '',\n",
       "   'Profit Margin': '0.143622722400857',\n",
       "   'Free Cash Flow margin': '',\n",
       "   'EBITDA': '1627000000.0',\n",
       "   'EBIT': '',\n",
       "   'Consolidated Income': '',\n",
       "   'Earnings Before Tax Margin': '0.202304394426581',\n",
       "   'Net Profit Margin': '0.143622722400857'},\n",
       "  {'date': '2008-03-29',\n",
       "   'Revenue': '7512000000.0',\n",
       "   'Revenue Growth': '-0.218151540383',\n",
       "   'Cost of Revenue': '5038000000.0',\n",
       "   'Gross Profit': '2474000000.0',\n",
       "   'R&D Expenses': '273000000.0',\n",
       "   'SG&A Expense': '0.0',\n",
       "   'Operating Expenses': '1159000000.0',\n",
       "   'Operating Income': '1315000000.0',\n",
       "   'Interest Expense': '0.0',\n",
       "   'Earnings before Tax': '1477000000.0',\n",
       "   'Income Tax Expense': '432000000.0',\n",
       "   'Net Income - Non-Controlling int': '',\n",
       "   'Net Income - Discontinued ops': '',\n",
       "   'Net Income': '1045000000.0',\n",
       "   'Preferred Dividends': '',\n",
       "   'Net Income Com': '1045000000.0',\n",
       "   'EPS': '0.0425',\n",
       "   'EPS Diluted': '0.041429',\n",
       "   'Weighted Average Shs Out': '24627288000.0',\n",
       "   'Weighted Average Shs Out (Dil)': '25181212000.0',\n",
       "   'Dividend per Share': '',\n",
       "   'Gross Margin': '0.329339723109691',\n",
       "   'EBITDA Margin': '0.212060702875399',\n",
       "   'EBIT Margin': '',\n",
       "   'Profit Margin': '0.139110756123536',\n",
       "   'Free Cash Flow margin': '',\n",
       "   'EBITDA': '1593000000.0',\n",
       "   'EBIT': '',\n",
       "   'Consolidated Income': '',\n",
       "   'Earnings Before Tax Margin': '0.196618743343983',\n",
       "   'Net Profit Margin': '0.139110756123536'},\n",
       "  {'date': '2007-12-29',\n",
       "   'Revenue': '9608000000.0',\n",
       "   'Revenue Growth': '0.545439922792',\n",
       "   'Cost of Revenue': '6276000000.0',\n",
       "   'Gross Profit': '3332000000.0',\n",
       "   'R&D Expenses': '246000000.0',\n",
       "   'SG&A Expense': '0.0',\n",
       "   'Operating Expenses': '1206000000.0',\n",
       "   'Operating Income': '2126000000.0',\n",
       "   'Interest Expense': '0.0',\n",
       "   'Earnings before Tax': '2326000000.0',\n",
       "   'Income Tax Expense': '745000000.0',\n",
       "   'Net Income - Non-Controlling int': '',\n",
       "   'Net Income - Discontinued ops': '',\n",
       "   'Net Income': '1581000000.0',\n",
       "   'Preferred Dividends': '',\n",
       "   'Net Income Com': '1581000000.0',\n",
       "   'EPS': '0.064643',\n",
       "   'EPS Diluted': '0.062857',\n",
       "   'Weighted Average Shs Out': '24524080000.0',\n",
       "   'Weighted Average Shs Out (Dil)': '25201512000.0',\n",
       "   'Dividend per Share': '',\n",
       "   'Gross Margin': '0.346794338051624',\n",
       "   'EBITDA Margin': '0.253122398001665',\n",
       "   'EBIT Margin': '',\n",
       "   'Profit Margin': '0.16455037468776',\n",
       "   'Free Cash Flow margin': '',\n",
       "   'EBITDA': '2432000000.0',\n",
       "   'EBIT': '',\n",
       "   'Consolidated Income': '',\n",
       "   'Earnings Before Tax Margin': '0.242089925062448',\n",
       "   'Net Profit Margin': '0.16455037468776'},\n",
       "  {'date': '2007-09-29',\n",
       "   'Revenue': '6217000000.0',\n",
       "   'Revenue Growth': '0.149168207024',\n",
       "   'Cost of Revenue': '4127000000.0',\n",
       "   'Gross Profit': '2090000000.0',\n",
       "   'R&D Expenses': '207000000.0',\n",
       "   'SG&A Expense': '0.0',\n",
       "   'Operating Expenses': '1030000000.0',\n",
       "   'Operating Income': '1060000000.0',\n",
       "   'Interest Expense': '0.0',\n",
       "   'Earnings before Tax': '1230000000.0',\n",
       "   'Income Tax Expense': '326000000.0',\n",
       "   'Net Income - Non-Controlling int': '',\n",
       "   'Net Income - Discontinued ops': '',\n",
       "   'Net Income': '904000000.0',\n",
       "   'Preferred Dividends': '',\n",
       "   'Net Income Com': '904000000.0',\n",
       "   'EPS': '0.037',\n",
       "   'EPS Diluted': '0.036',\n",
       "   'Weighted Average Shs Out': '24524080000.0',\n",
       "   'Weighted Average Shs Out (Dil)': '25201512000.0',\n",
       "   'Dividend per Share': '',\n",
       "   'Gross Margin': '0.336175004021232',\n",
       "   'EBITDA Margin': '0.212803603023967',\n",
       "   'EBIT Margin': '',\n",
       "   'Profit Margin': '0.145407752935499',\n",
       "   'Free Cash Flow margin': '',\n",
       "   'EBITDA': '1323000000.0',\n",
       "   'EBIT': '',\n",
       "   'Consolidated Income': '',\n",
       "   'Earnings Before Tax Margin': '0.197844619591443',\n",
       "   'Net Profit Margin': '0.145407752935499'},\n",
       "  {'date': '2007-06-30',\n",
       "   'Revenue': '5410000000.0',\n",
       "   'Revenue Growth': '0.02773556231',\n",
       "   'Cost of Revenue': '3415000000.0',\n",
       "   'Gross Profit': '1995000000.0',\n",
       "   'R&D Expenses': '208000000.0',\n",
       "   'SG&A Expense': '0.0',\n",
       "   'Operating Expenses': '954000000.0',\n",
       "   'Operating Income': '1041000000.0',\n",
       "   'Interest Expense': '0.0',\n",
       "   'Earnings before Tax': '1196000000.0',\n",
       "   'Income Tax Expense': '378000000.0',\n",
       "   'Net Income - Non-Controlling int': '',\n",
       "   'Net Income - Discontinued ops': '',\n",
       "   'Net Income': '818000000.0',\n",
       "   'Preferred Dividends': '',\n",
       "   'Net Income Com': '818000000.0',\n",
       "   'EPS': '0.033571',\n",
       "   'EPS Diluted': '0.032857',\n",
       "   'Weighted Average Shs Out': '24270568000.0',\n",
       "   'Weighted Average Shs Out (Dil)': '24938788000.0',\n",
       "   'Dividend per Share': '',\n",
       "   'Gross Margin': '0.368761552680222',\n",
       "   'EBITDA Margin': '0.236044362292052',\n",
       "   'EBIT Margin': '',\n",
       "   'Profit Margin': '0.151201478743068',\n",
       "   'Free Cash Flow margin': '',\n",
       "   'EBITDA': '1277000000.0',\n",
       "   'EBIT': '',\n",
       "   'Consolidated Income': '',\n",
       "   'Earnings Before Tax Margin': '0.221072088724584',\n",
       "   'Net Profit Margin': '0.151201478743068'},\n",
       "  {'date': '2007-03-31',\n",
       "   'Revenue': '5264000000.0',\n",
       "   'Revenue Growth': '-0.260154602952',\n",
       "   'Cost of Revenue': '3415000000.0',\n",
       "   'Gross Profit': '1849000000.0',\n",
       "   'R&D Expenses': '183000000.0',\n",
       "   'SG&A Expense': '0.0',\n",
       "   'Operating Expenses': '863000000.0',\n",
       "   'Operating Income': '986000000.0',\n",
       "   'Interest Expense': '0.0',\n",
       "   'Earnings before Tax': '1134000000.0',\n",
       "   'Income Tax Expense': '364000000.0',\n",
       "   'Net Income - Non-Controlling int': '',\n",
       "   'Net Income - Discontinued ops': '',\n",
       "   'Net Income': '770000000.0',\n",
       "   'Preferred Dividends': '',\n",
       "   'Net Income Com': '770000000.0',\n",
       "   'EPS': '0.031786',\n",
       "   'EPS Diluted': '0.031071',\n",
       "   'Weighted Average Shs Out': '24164084000.0',\n",
       "   'Weighted Average Shs Out (Dil)': '24826284000.0',\n",
       "   'Dividend per Share': '',\n",
       "   'Gross Margin': '0.351253799392097',\n",
       "   'EBITDA Margin': '0.228533434650456',\n",
       "   'EBIT Margin': '',\n",
       "   'Profit Margin': '0.146276595744681',\n",
       "   'Free Cash Flow margin': '',\n",
       "   'EBITDA': '1203000000.0',\n",
       "   'EBIT': '',\n",
       "   'Consolidated Income': '',\n",
       "   'Earnings Before Tax Margin': '0.215425531914894',\n",
       "   'Net Profit Margin': '0.146276595744681'},\n",
       "  {'date': '2006-12-30',\n",
       "   'Revenue': '7115000000.0',\n",
       "   'Revenue Growth': '0.470953070085',\n",
       "   'Cost of Revenue': '4895000000.0',\n",
       "   'Gross Profit': '2220000000.0',\n",
       "   'R&D Expenses': '184000000.0',\n",
       "   'SG&A Expense': '0.0',\n",
       "   'Operating Expenses': '898000000.0',\n",
       "   'Operating Income': '1322000000.0',\n",
       "   'Interest Expense': '0.0',\n",
       "   'Earnings before Tax': '1448000000.0',\n",
       "   'Income Tax Expense': '444000000.0',\n",
       "   'Net Income - Non-Controlling int': '',\n",
       "   'Net Income - Discontinued ops': '',\n",
       "   'Net Income': '1004000000.0',\n",
       "   'Preferred Dividends': '',\n",
       "   'Net Income Com': '1004000000.0',\n",
       "   'EPS': '0.041786',\n",
       "   'EPS Diluted': '0.040714',\n",
       "   'Weighted Average Shs Out': '24015348000.0',\n",
       "   'Weighted Average Shs Out (Dil)': '24732316000.0',\n",
       "   'Dividend per Share': '',\n",
       "   'Gross Margin': '0.312016865776528',\n",
       "   'EBITDA Margin': '0.21391426563598',\n",
       "   'EBIT Margin': '',\n",
       "   'Profit Margin': '0.141110330288124',\n",
       "   'Free Cash Flow margin': '',\n",
       "   'EBITDA': '1522000000.0',\n",
       "   'EBIT': '',\n",
       "   'Consolidated Income': '',\n",
       "   'Earnings Before Tax Margin': '0.203513703443429',\n",
       "   'Net Profit Margin': '0.141110330288124'},\n",
       "  {'date': '2006-09-30',\n",
       "   'Revenue': '4837000000.0',\n",
       "   'Revenue Growth': '0.106864988558',\n",
       "   'Cost of Revenue': '3425000000.0',\n",
       "   'Gross Profit': '1412000000.0',\n",
       "   'R&D Expenses': '179000000.0',\n",
       "   'SG&A Expense': '0.0',\n",
       "   'Operating Expenses': '804000000.0',\n",
       "   'Operating Income': '608000000.0',\n",
       "   'Interest Expense': '0.0',\n",
       "   'Earnings before Tax': '721000000.0',\n",
       "   'Income Tax Expense': '179000000.0',\n",
       "   'Net Income - Non-Controlling int': '',\n",
       "   'Net Income - Discontinued ops': '',\n",
       "   'Net Income': '542000000.0',\n",
       "   'Preferred Dividends': '',\n",
       "   'Net Income Com': '542000000.0',\n",
       "   'EPS': '0.023',\n",
       "   'EPS Diluted': '0.022',\n",
       "   'Weighted Average Shs Out': '24015348000.0',\n",
       "   'Weighted Average Shs Out (Dil)': '24732316000.0',\n",
       "   'Dividend per Share': '',\n",
       "   'Gross Margin': '0.291916477155262',\n",
       "   'EBITDA Margin': '0.162704155468265',\n",
       "   'EBIT Margin': '',\n",
       "   'Profit Margin': '0.112052925366963',\n",
       "   'Free Cash Flow margin': '',\n",
       "   'EBITDA': '787000000.0',\n",
       "   'EBIT': '',\n",
       "   'Consolidated Income': '',\n",
       "   'Earnings Before Tax Margin': '0.149059334298119',\n",
       "   'Net Profit Margin': '0.112052925366963'},\n",
       "  {'date': '2006-07-01',\n",
       "   'Revenue': '4370000000.0',\n",
       "   'Revenue Growth': '0.00252351456756',\n",
       "   'Cost of Revenue': '3045000000.0',\n",
       "   'Gross Profit': '1325000000.0',\n",
       "   'R&D Expenses': '175000000.0',\n",
       "   'SG&A Expense': '0.0',\n",
       "   'Operating Expenses': '759000000.0',\n",
       "   'Operating Income': '566000000.0',\n",
       "   'Interest Expense': '0.0',\n",
       "   'Earnings before Tax': '661000000.0',\n",
       "   'Income Tax Expense': '189000000.0',\n",
       "   'Net Income - Non-Controlling int': '',\n",
       "   'Net Income - Discontinued ops': '',\n",
       "   'Net Income': '472000000.0',\n",
       "   'Preferred Dividends': '',\n",
       "   'Net Income Com': '472000000.0',\n",
       "   'EPS': '0.019643',\n",
       "   'EPS Diluted': '0.019286',\n",
       "   'Weighted Average Shs Out': '23838500000.0',\n",
       "   'Weighted Average Shs Out (Dil)': '24538304000.0',\n",
       "   'Dividend per Share': '',\n",
       "   'Gross Margin': '0.303203661327231',\n",
       "   'EBITDA Margin': '0.164302059496568',\n",
       "   'EBIT Margin': '',\n",
       "   'Profit Margin': '0.108009153318078',\n",
       "   'Free Cash Flow margin': '',\n",
       "   'EBITDA': '718000000.0',\n",
       "   'EBIT': '',\n",
       "   'Consolidated Income': '',\n",
       "   'Earnings Before Tax Margin': '0.151258581235698',\n",
       "   'Net Profit Margin': '0.108009153318078'},\n",
       "  {'date': '2006-04-01',\n",
       "   'Revenue': '4359000000.0',\n",
       "   'Revenue Growth': '-0.241781179336',\n",
       "   'Cost of Revenue': '3062000000.0',\n",
       "   'Gross Profit': '1297000000.0',\n",
       "   'R&D Expenses': '176000000.0',\n",
       "   'SG&A Expense': '0.0',\n",
       "   'Operating Expenses': '768000000.0',\n",
       "   'Operating Income': '529000000.0',\n",
       "   'Interest Expense': '0.0',\n",
       "   'Earnings before Tax': '605000000.0',\n",
       "   'Income Tax Expense': '195000000.0',\n",
       "   'Net Income - Non-Controlling int': '',\n",
       "   'Net Income - Discontinued ops': '',\n",
       "   'Net Income': '410000000.0',\n",
       "   'Preferred Dividends': '',\n",
       "   'Net Income Com': '410000000.0',\n",
       "   'EPS': '0.0175',\n",
       "   'EPS Diluted': '0.016786',\n",
       "   'Weighted Average Shs Out': '23545480000.0',\n",
       "   'Weighted Average Shs Out (Dil)': '24599036000.0',\n",
       "   'Dividend per Share': '',\n",
       "   'Gross Margin': '0.297545308557009',\n",
       "   'EBITDA Margin': '0.150263821977518',\n",
       "   'EBIT Margin': '',\n",
       "   'Profit Margin': '0.0940582702454691',\n",
       "   'Free Cash Flow margin': '',\n",
       "   'EBITDA': '655000000.0',\n",
       "   'EBIT': '',\n",
       "   'Consolidated Income': '',\n",
       "   'Earnings Before Tax Margin': '0.138793301215875',\n",
       "   'Net Profit Margin': '0.0940582702454691'},\n",
       "  {'date': '2005-12-31',\n",
       "   'Revenue': '5749000000.0',\n",
       "   'Revenue Growth': '0.563077759652',\n",
       "   'Cost of Revenue': '4185000000.0',\n",
       "   'Gross Profit': '1564000000.0',\n",
       "   'R&D Expenses': '182000000.0',\n",
       "   'SG&A Expense': '0.0',\n",
       "   'Operating Expenses': '814000000.0',\n",
       "   'Operating Income': '750000000.0',\n",
       "   'Interest Expense': '0.0',\n",
       "   'Earnings before Tax': '831000000.0',\n",
       "   'Income Tax Expense': '266000000.0',\n",
       "   'Net Income - Non-Controlling int': '',\n",
       "   'Net Income - Discontinued ops': '',\n",
       "   'Net Income': '565000000.0',\n",
       "   'Preferred Dividends': '',\n",
       "   'Net Income Com': '565000000.0',\n",
       "   'EPS': '0.024286',\n",
       "   'EPS Diluted': '0.023214',\n",
       "   'Weighted Average Shs Out': '23261868000.0',\n",
       "   'Weighted Average Shs Out (Dil)': '24477796000.0',\n",
       "   'Dividend per Share': '',\n",
       "   'Gross Margin': '0.2720473125761',\n",
       "   'EBITDA Margin': '0.153591929031136',\n",
       "   'EBIT Margin': '',\n",
       "   'Profit Margin': '0.0982779613845886',\n",
       "   'Free Cash Flow margin': '',\n",
       "   'EBITDA': '883000000.0',\n",
       "   'EBIT': '',\n",
       "   'Consolidated Income': '',\n",
       "   'Earnings Before Tax Margin': '0.144546877717864',\n",
       "   'Net Profit Margin': '0.0982779613845886'},\n",
       "  {'date': '2005-09-24',\n",
       "   'Revenue': '3678000000.0',\n",
       "   'Revenue Growth': '0.0448863636364',\n",
       "   'Cost of Revenue': '2643000000.0',\n",
       "   'Gross Profit': '1035000000.0',\n",
       "   'R&D Expenses': '147000000.0',\n",
       "   'SG&A Expense': '0.0',\n",
       "   'Operating Expenses': '617000000.0',\n",
       "   'Operating Income': '418000000.0',\n",
       "   'Interest Expense': '0.0',\n",
       "   'Earnings before Tax': '478000000.0',\n",
       "   'Income Tax Expense': '48000000.0',\n",
       "   'Net Income - Non-Controlling int': '',\n",
       "   'Net Income - Discontinued ops': '',\n",
       "   'Net Income': '430000000.0',\n",
       "   'Preferred Dividends': '',\n",
       "   'Net Income Com': '430000000.0',\n",
       "   'EPS': '0.018',\n",
       "   'EPS Diluted': '0.018',\n",
       "   'Weighted Average Shs Out': '23261868000.0',\n",
       "   'Weighted Average Shs Out (Dil)': '24477796000.0',\n",
       "   'Dividend per Share': '',\n",
       "   'Gross Margin': '0.281402936378467',\n",
       "   'EBITDA Margin': '0.143828167482327',\n",
       "   'EBIT Margin': '',\n",
       "   'Profit Margin': '0.116911364872213',\n",
       "   'Free Cash Flow margin': '',\n",
       "   'EBITDA': '529000000.0',\n",
       "   'EBIT': '',\n",
       "   'Consolidated Income': '',\n",
       "   'Earnings Before Tax Margin': '0.129961935834693',\n",
       "   'Net Profit Margin': '0.116911364872213'},\n",
       "  {'date': '2005-06-25',\n",
       "   'Revenue': '3520000000.0',\n",
       "   'Revenue Growth': '0.0854147394388',\n",
       "   'Cost of Revenue': '2476000000.0',\n",
       "   'Gross Profit': '1044000000.0',\n",
       "   'R&D Expenses': '145000000.0',\n",
       "   'SG&A Expense': '0.0',\n",
       "   'Operating Expenses': '617000000.0',\n",
       "   'Operating Income': '427000000.0',\n",
       "   'Interest Expense': '0.0',\n",
       "   'Earnings before Tax': '473000000.0',\n",
       "   'Income Tax Expense': '153000000.0',\n",
       "   'Net Income - Non-Controlling int': '',\n",
       "   'Net Income - Discontinued ops': '',\n",
       "   'Net Income': '320000000.0',\n",
       "   'Preferred Dividends': '',\n",
       "   'Net Income Com': '320000000.0',\n",
       "   'EPS': '0.013929',\n",
       "   'EPS Diluted': '0.013214',\n",
       "   'Weighted Average Shs Out': '22822576000.0',\n",
       "   'Weighted Average Shs Out (Dil)': '24099264000.0',\n",
       "   'Dividend per Share': '',\n",
       "   'Gross Margin': '0.296590909090909',\n",
       "   'EBITDA Margin': '0.147443181818182',\n",
       "   'EBIT Margin': '',\n",
       "   'Profit Margin': '0.0909090909090909',\n",
       "   'Free Cash Flow margin': '',\n",
       "   'EBITDA': '519000000.0',\n",
       "   'EBIT': '',\n",
       "   'Consolidated Income': '',\n",
       "   'Earnings Before Tax Margin': '0.134375',\n",
       "   'Net Profit Margin': '0.0909090909090909'},\n",
       "  {'date': '2005-03-26',\n",
       "   'Revenue': '3243000000.0',\n",
       "   'Revenue Growth': '-0.0707736389685',\n",
       "   'Cost of Revenue': '2275000000.0',\n",
       "   'Gross Profit': '968000000.0',\n",
       "   'R&D Expenses': '119000000.0',\n",
       "   'SG&A Expense': '0.0',\n",
       "   'Operating Expenses': '566000000.0',\n",
       "   'Operating Income': '402000000.0',\n",
       "   'Interest Expense': '0.0',\n",
       "   'Earnings before Tax': '435000000.0',\n",
       "   'Income Tax Expense': '145000000.0',\n",
       "   'Net Income - Non-Controlling int': '',\n",
       "   'Net Income - Discontinued ops': '',\n",
       "   'Net Income': '290000000.0',\n",
       "   'Preferred Dividends': '',\n",
       "   'Net Income Com': '290000000.0',\n",
       "   'EPS': '0.012857',\n",
       "   'EPS Diluted': '0.012143',\n",
       "   'Weighted Average Shs Out': '22628816000.0',\n",
       "   'Weighted Average Shs Out (Dil)': '23996308000.0',\n",
       "   'Dividend per Share': '',\n",
       "   'Gross Margin': '0.298489053345668',\n",
       "   'EBITDA Margin': '0.146777674992291',\n",
       "   'EBIT Margin': '',\n",
       "   'Profit Margin': '0.0894233734196731',\n",
       "   'Free Cash Flow margin': '',\n",
       "   'EBITDA': '476000000.0',\n",
       "   'EBIT': '',\n",
       "   'Consolidated Income': '',\n",
       "   'Earnings Before Tax Margin': '0.13413506012951',\n",
       "   'Net Profit Margin': '0.0894233734196731'},\n",
       "  {'date': '2004-12-25',\n",
       "   'Revenue': '3490000000.0',\n",
       "   'Revenue Growth': '0.485106382979',\n",
       "   'Cost of Revenue': '2494000000.0',\n",
       "   'Gross Profit': '996000000.0',\n",
       "   'R&D Expenses': '123000000.0',\n",
       "   'SG&A Expense': '0.0',\n",
       "   'Operating Expenses': '593000000.0',\n",
       "   'Operating Income': '403000000.0',\n",
       "   'Interest Expense': '0.0',\n",
       "   'Earnings before Tax': '429000000.0',\n",
       "   'Income Tax Expense': '134000000.0',\n",
       "   'Net Income - Non-Controlling int': '',\n",
       "   'Net Income - Discontinued ops': '',\n",
       "   'Net Income': '295000000.0',\n",
       "   'Preferred Dividends': '',\n",
       "   'Net Income Com': '295000000.0',\n",
       "   'EPS': '0.013393',\n",
       "   'EPS Diluted': '0.0125',\n",
       "   'Weighted Average Shs Out': '22092896000.0',\n",
       "   'Weighted Average Shs Out (Dil)': '23468872000.0',\n",
       "   'Dividend per Share': '',\n",
       "   'Gross Margin': '0.285386819484241',\n",
       "   'EBITDA Margin': '0.134670487106017',\n",
       "   'EBIT Margin': '',\n",
       "   'Profit Margin': '0.0845272206303725',\n",
       "   'Free Cash Flow margin': '',\n",
       "   'EBITDA': '470000000.0',\n",
       "   'EBIT': '',\n",
       "   'Consolidated Income': '',\n",
       "   'Earnings Before Tax Margin': '0.122922636103152',\n",
       "   'Net Profit Margin': '0.0845272206303725'},\n",
       "  {'date': '2004-09-25',\n",
       "   'Revenue': '2350000000.0',\n",
       "   'Revenue Growth': '0.166832174777',\n",
       "   'Cost of Revenue': '1716000000.0',\n",
       "   'Gross Profit': '634000000.0',\n",
       "   'R&D Expenses': '122000000.0',\n",
       "   'SG&A Expense': '0.0',\n",
       "   'Operating Expenses': '501000000.0',\n",
       "   'Operating Income': '128000000.0',\n",
       "   'Interest Expense': '0.0',\n",
       "   'Earnings before Tax': '147000000.0',\n",
       "   'Income Tax Expense': '41000000.0',\n",
       "   'Net Income - Non-Controlling int': '',\n",
       "   'Net Income - Discontinued ops': '',\n",
       "   'Net Income': '106000000.0',\n",
       "   'Preferred Dividends': '',\n",
       "   'Net Income Com': '106000000.0',\n",
       "   'EPS': '0.0048',\n",
       "   'EPS Diluted': '0.0045',\n",
       "   'Weighted Average Shs Out': '22092896000.0',\n",
       "   'Weighted Average Shs Out (Dil)': '23468872000.0',\n",
       "   'Dividend per Share': '',\n",
       "   'Gross Margin': '0.269787234042553',\n",
       "   'EBITDA Margin': '0.0795744680851064',\n",
       "   'EBIT Margin': '',\n",
       "   'Profit Margin': '0.0451063829787234',\n",
       "   'Free Cash Flow margin': '',\n",
       "   'EBITDA': '187000000.0',\n",
       "   'EBIT': '',\n",
       "   'Consolidated Income': '',\n",
       "   'Earnings Before Tax Margin': '0.0625531914893617',\n",
       "   'Net Profit Margin': '0.0451063829787234'},\n",
       "  {'date': '2004-06-26',\n",
       "   'Revenue': '2014000000.0',\n",
       "   'Revenue Growth': '0.0550026191723',\n",
       "   'Cost of Revenue': '1455000000.0',\n",
       "   'Gross Profit': '559000000.0',\n",
       "   'R&D Expenses': '125000000.0',\n",
       "   'SG&A Expense': '0.0',\n",
       "   'Operating Expenses': '479000000.0',\n",
       "   'Operating Income': '72000000.0',\n",
       "   'Interest Expense': '0.0',\n",
       "   'Earnings before Tax': '85000000.0',\n",
       "   'Income Tax Expense': '24000000.0',\n",
       "   'Net Income - Non-Controlling int': '',\n",
       "   'Net Income - Discontinued ops': '',\n",
       "   'Net Income': '61000000.0',\n",
       "   'Preferred Dividends': '',\n",
       "   'Net Income Com': '61000000.0',\n",
       "   'EPS': '0.002857',\n",
       "   'EPS Diluted': '0.002857',\n",
       "   'Weighted Average Shs Out': '21001288000.0',\n",
       "   'Weighted Average Shs Out (Dil)': '21986776000.0',\n",
       "   'Dividend per Share': '',\n",
       "   'Gross Margin': '0.277557100297915',\n",
       "   'EBITDA Margin': '0.0625620655412115',\n",
       "   'EBIT Margin': '',\n",
       "   'Profit Margin': '0.0302879841112214',\n",
       "   'Free Cash Flow margin': '',\n",
       "   'EBITDA': '126000000.0',\n",
       "   'EBIT': '',\n",
       "   'Consolidated Income': '',\n",
       "   'Earnings Before Tax Margin': '0.0422045680238332',\n",
       "   'Net Profit Margin': '0.0302879841112214'},\n",
       "  {'date': '2004-03-27',\n",
       "   'Revenue': '1909000000.0',\n",
       "   'Revenue Growth': '-0.0483549351944',\n",
       "   'Cost of Revenue': '1379000000.0',\n",
       "   'Gross Profit': '530000000.0',\n",
       "   'R&D Expenses': '123000000.0',\n",
       "   'SG&A Expense': '0.0',\n",
       "   'Operating Expenses': '468000000.0',\n",
       "   'Operating Income': '52000000.0',\n",
       "   'Interest Expense': '1000000.0',\n",
       "   'Earnings before Tax': '64000000.0',\n",
       "   'Income Tax Expense': '18000000.0',\n",
       "   'Net Income - Non-Controlling int': '',\n",
       "   'Net Income - Discontinued ops': '',\n",
       "   'Net Income': '46000000.0',\n",
       "   'Preferred Dividends': '',\n",
       "   'Net Income Com': '46000000.0',\n",
       "   'EPS': '0.002321',\n",
       "   'EPS Diluted': '0.002143',\n",
       "   'Weighted Average Shs Out': '20459432000.0',\n",
       "   'Weighted Average Shs Out (Dil)': '21180880000.0',\n",
       "   'Dividend per Share': '',\n",
       "   'Gross Margin': '0.277632268203248',\n",
       "   'EBITDA Margin': '0.0529072812991095',\n",
       "   'EBIT Margin': '',\n",
       "   'Profit Margin': '0.0240963855421687',\n",
       "   'Free Cash Flow margin': '',\n",
       "   'EBITDA': '101000000.0',\n",
       "   'EBIT': '',\n",
       "   'Consolidated Income': '',\n",
       "   'Earnings Before Tax Margin': '0.0335254059717129',\n",
       "   'Net Profit Margin': '0.0240963855421687'},\n",
       "  {'date': '2003-12-27',\n",
       "   'Revenue': '2006000000.0',\n",
       "   'Revenue Growth': '0.169679300292',\n",
       "   'Cost of Revenue': '1470000000.0',\n",
       "   'Gross Profit': '536000000.0',\n",
       "   'R&D Expenses': '119000000.0',\n",
       "   'SG&A Expense': '0.0',\n",
       "   'Operating Expenses': '462000000.0',\n",
       "   'Operating Income': '74000000.0',\n",
       "   'Interest Expense': '2000000.0',\n",
       "   'Earnings before Tax': '87000000.0',\n",
       "   'Income Tax Expense': '24000000.0',\n",
       "   'Net Income - Non-Controlling int': '',\n",
       "   'Net Income - Discontinued ops': '',\n",
       "   'Net Income': '63000000.0',\n",
       "   'Preferred Dividends': '',\n",
       "   'Net Income Com': '63000000.0',\n",
       "   'EPS': '0.003036',\n",
       "   'EPS Diluted': '0.003036',\n",
       "   'Weighted Average Shs Out': '20297200000.0',\n",
       "   'Weighted Average Shs Out (Dil)': '20849248000.0',\n",
       "   'Dividend per Share': '',\n",
       "   'Gross Margin': '0.267198404785643',\n",
       "   'EBITDA Margin': '0.0608175473579262',\n",
       "   'EBIT Margin': '',\n",
       "   'Profit Margin': '0.0314057826520439',\n",
       "   'Free Cash Flow margin': '',\n",
       "   'EBITDA': '122000000.0',\n",
       "   'EBIT': '',\n",
       "   'Consolidated Income': '',\n",
       "   'Earnings Before Tax Margin': '0.043369890329013',\n",
       "   'Net Profit Margin': '0.0314057826520439'},\n",
       "  {'date': '2003-09-27',\n",
       "   'Revenue': '1715000000.0',\n",
       "   'Revenue Growth': '0.11003236246',\n",
       "   'Cost of Revenue': '1259000000.0',\n",
       "   'Gross Profit': '456000000.0',\n",
       "   'R&D Expenses': '111000000.0',\n",
       "   'SG&A Expense': '0.0',\n",
       "   'Operating Expenses': '425000000.0',\n",
       "   'Operating Income': '31000000.0',\n",
       "   'Interest Expense': '2000000.0',\n",
       "   'Earnings before Tax': '55000000.0',\n",
       "   'Income Tax Expense': '14000000.0',\n",
       "   'Net Income - Non-Controlling int': '',\n",
       "   'Net Income - Discontinued ops': '',\n",
       "   'Net Income': '44000000.0',\n",
       "   'Preferred Dividends': '',\n",
       "   'Net Income Com': '44000000.0',\n",
       "   'EPS': '0.0022',\n",
       "   'EPS Diluted': '0.0021',\n",
       "   'Weighted Average Shs Out': '20297200000.0',\n",
       "   'Weighted Average Shs Out (Dil)': '20849248000.0',\n",
       "   'Dividend per Share': '',\n",
       "   'Gross Margin': '0.265889212827988',\n",
       "   'EBITDA Margin': '0.0466472303206997',\n",
       "   'EBIT Margin': '',\n",
       "   'Profit Margin': '0.0256559766763848',\n",
       "   'Free Cash Flow margin': '',\n",
       "   'EBITDA': '80000000.0',\n",
       "   'EBIT': '',\n",
       "   'Consolidated Income': '',\n",
       "   'Earnings Before Tax Margin': '0.032069970845481',\n",
       "   'Net Profit Margin': '0.0256559766763848'},\n",
       "  {'date': '2003-06-28',\n",
       "   'Revenue': '1545000000.0',\n",
       "   'Revenue Growth': '0.0474576271186',\n",
       "   'Cost of Revenue': '1117000000.0',\n",
       "   'Gross Profit': '428000000.0',\n",
       "   'R&D Expenses': '120000000.0',\n",
       "   'SG&A Expense': '0.0',\n",
       "   'Operating Expenses': '419000000.0',\n",
       "   'Operating Income': '9000000.0',\n",
       "   'Interest Expense': '2000000.0',\n",
       "   'Earnings before Tax': '26000000.0',\n",
       "   'Income Tax Expense': '7000000.0',\n",
       "   'Net Income - Non-Controlling int': '',\n",
       "   'Net Income - Discontinued ops': '',\n",
       "   'Net Income': '19000000.0',\n",
       "   'Preferred Dividends': '',\n",
       "   'Net Income Com': '19000000.0',\n",
       "   'EPS': '0.000893',\n",
       "   'EPS Diluted': '0.000893',\n",
       "   'Weighted Average Shs Out': '20204408000.0',\n",
       "   'Weighted Average Shs Out (Dil)': '20371512000.0',\n",
       "   'Dividend per Share': '',\n",
       "   'Gross Margin': '0.277022653721683',\n",
       "   'EBITDA Margin': '0.0381877022653722',\n",
       "   'EBIT Margin': '',\n",
       "   'Profit Margin': '0.0122977346278317',\n",
       "   'Free Cash Flow margin': '',\n",
       "   'EBITDA': '59000000.0',\n",
       "   'EBIT': '',\n",
       "   'Consolidated Income': '',\n",
       "   'Earnings Before Tax Margin': '0.0168284789644013',\n",
       "   'Net Profit Margin': '0.0122977346278317'},\n",
       "  {'date': '2003-03-29',\n",
       "   'Revenue': '1475000000.0',\n",
       "   'Revenue Growth': '0.00203804347826',\n",
       "   'Cost of Revenue': '1057000000.0',\n",
       "   'Gross Profit': '418000000.0',\n",
       "   'R&D Expenses': '119000000.0',\n",
       "   'SG&A Expense': '0.0',\n",
       "   'Operating Expenses': '419000000.0',\n",
       "   'Operating Income': '-4000000.0',\n",
       "   'Interest Expense': '2000000.0',\n",
       "   'Earnings before Tax': '19000000.0',\n",
       "   'Income Tax Expense': '5000000.0',\n",
       "   'Net Income - Non-Controlling int': '',\n",
       "   'Net Income - Discontinued ops': '',\n",
       "   'Net Income': '14000000.0',\n",
       "   'Preferred Dividends': '',\n",
       "   'Net Income Com': '14000000.0',\n",
       "   'EPS': '0.000714',\n",
       "   'EPS Diluted': '0.000714',\n",
       "   'Weighted Average Shs Out': '20187440000.0',\n",
       "   'Weighted Average Shs Out (Dil)': '20285608000.0',\n",
       "   'Dividend per Share': '',\n",
       "   'Gross Margin': '0.283389830508475',\n",
       "   'EBITDA Margin': '0.0345762711864407',\n",
       "   'EBIT Margin': '',\n",
       "   'Profit Margin': '0.00949152542372881',\n",
       "   'Free Cash Flow margin': '',\n",
       "   'EBITDA': '51000000.0',\n",
       "   'EBIT': '',\n",
       "   'Consolidated Income': '',\n",
       "   'Earnings Before Tax Margin': '0.0128813559322034',\n",
       "   'Net Profit Margin': '0.00949152542372881'},\n",
       "  {'date': '2002-12-28',\n",
       "   'Revenue': '1472000000.0',\n",
       "   'Revenue Growth': '0.020097020097',\n",
       "   'Cost of Revenue': '1066000000.0',\n",
       "   'Gross Profit': '406000000.0',\n",
       "   'R&D Expenses': '121000000.0',\n",
       "   'SG&A Expense': '0.0',\n",
       "   'Operating Expenses': '420000000.0',\n",
       "   'Operating Income': '-37000000.0',\n",
       "   'Interest Expense': '2000000.0',\n",
       "   'Earnings before Tax': '-8000000.0',\n",
       "   'Income Tax Expense': '-2000000.0',\n",
       "   'Net Income - Non-Controlling int': '',\n",
       "   'Net Income - Discontinued ops': '',\n",
       "   'Net Income': '-8000000.0',\n",
       "   'Preferred Dividends': '',\n",
       "   'Net Income Com': '-8000000.0',\n",
       "   'EPS': '-0.000357',\n",
       "   'EPS Diluted': '-0.000357',\n",
       "   'Weighted Average Shs Out': '20107192000.0',\n",
       "   'Weighted Average Shs Out (Dil)': '20107192000.0',\n",
       "   'Dividend per Share': '',\n",
       "   'Gross Margin': '0.275815217391304',\n",
       "   'EBITDA Margin': '0.016304347826087',\n",
       "   'EBIT Margin': '',\n",
       "   'Profit Margin': '-0.00543478260869565',\n",
       "   'Free Cash Flow margin': '',\n",
       "   'EBITDA': '24000000.0',\n",
       "   'EBIT': '',\n",
       "   'Consolidated Income': '',\n",
       "   'Earnings Before Tax Margin': '-0.00543478260869565',\n",
       "   'Net Profit Margin': '-0.00543478260869565'},\n",
       "  {'date': '2002-09-28',\n",
       "   'Revenue': '1443000000.0',\n",
       "   'Revenue Growth': '0.00979706088174',\n",
       "   'Cost of Revenue': '1062000000.0',\n",
       "   'Gross Profit': '381000000.0',\n",
       "   'R&D Expenses': '117000000.0',\n",
       "   'SG&A Expense': '0.0',\n",
       "   'Operating Expenses': '397000000.0',\n",
       "   'Operating Income': '-20000000.0',\n",
       "   'Interest Expense': '2000000.0',\n",
       "   'Earnings before Tax': '-60000000.0',\n",
       "   'Income Tax Expense': '-15000000.0',\n",
       "   'Net Income - Non-Controlling int': '',\n",
       "   'Net Income - Discontinued ops': '',\n",
       "   'Net Income': '-45000000.0',\n",
       "   'Preferred Dividends': '',\n",
       "   'Net Income Com': '-45000000.0',\n",
       "   'EPS': '-0.00224',\n",
       "   'EPS Diluted': '-0.00224',\n",
       "   'Weighted Average Shs Out': '20107192000.0',\n",
       "   'Weighted Average Shs Out (Dil)': '20107192000.0',\n",
       "   'Dividend per Share': '',\n",
       "   'Gross Margin': '0.264033264033264',\n",
       "   'EBITDA Margin': '-0.0173250173250173',\n",
       "   'EBIT Margin': '',\n",
       "   'Profit Margin': '-0.0311850311850312',\n",
       "   'Free Cash Flow margin': '',\n",
       "   'EBITDA': '-25000000.0',\n",
       "   'EBIT': '',\n",
       "   'Consolidated Income': '',\n",
       "   'Earnings Before Tax Margin': '-0.0415800415800416',\n",
       "   'Net Profit Margin': '-0.0311850311850312'},\n",
       "  {'date': '2002-06-29',\n",
       "   'Revenue': '1429000000.0',\n",
       "   'Revenue Growth': '-0.0441471571906',\n",
       "   'Cost of Revenue': '1038000000.0',\n",
       "   'Gross Profit': '391000000.0',\n",
       "   'R&D Expenses': '106000000.0',\n",
       "   'SG&A Expense': '0.0',\n",
       "   'Operating Expenses': '378000000.0',\n",
       "   'Operating Income': '13000000.0',\n",
       "   'Interest Expense': '2000000.0',\n",
       "   'Earnings before Tax': '39000000.0',\n",
       "   'Income Tax Expense': '7000000.0',\n",
       "   'Net Income - Non-Controlling int': '',\n",
       "   'Net Income - Discontinued ops': '',\n",
       "   'Net Income': '32000000.0',\n",
       "   'Preferred Dividends': '',\n",
       "   'Net Income Com': '32000000.0',\n",
       "   'EPS': '0.001607',\n",
       "   'EPS Diluted': '0.001607',\n",
       "   'Weighted Average Shs Out': '19956720000.0',\n",
       "   'Weighted Average Shs Out (Dil)': '20545392000.0',\n",
       "   'Dividend per Share': '',\n",
       "   'Gross Margin': '0.273617914625612',\n",
       "   'EBITDA Margin': '0.0482855143456963',\n",
       "   'EBIT Margin': '',\n",
       "   'Profit Margin': '0.0223932820153954',\n",
       "   'Free Cash Flow margin': '',\n",
       "   'EBITDA': '69000000.0',\n",
       "   'EBIT': '',\n",
       "   'Consolidated Income': '',\n",
       "   'Earnings Before Tax Margin': '0.0272918124562631',\n",
       "   'Net Profit Margin': '0.0223932820153954'},\n",
       "  {'date': '2002-03-30',\n",
       "   'Revenue': '1495000000.0',\n",
       "   'Revenue Growth': '0.0872727272727',\n",
       "   'Cost of Revenue': '1086000000.0',\n",
       "   'Gross Profit': '409000000.0',\n",
       "   'R&D Expenses': '111000000.0',\n",
       "   'SG&A Expense': '0.0',\n",
       "   'Operating Expenses': '381000000.0',\n",
       "   'Operating Income': '28000000.0',\n",
       "   'Interest Expense': '3000000.0',\n",
       "   'Earnings before Tax': '55000000.0',\n",
       "   'Income Tax Expense': '15000000.0',\n",
       "   'Net Income - Non-Controlling int': '',\n",
       "   'Net Income - Discontinued ops': '',\n",
       "   'Net Income': '40000000.0',\n",
       "   'Preferred Dividends': '',\n",
       "   'Net Income Com': '40000000.0',\n",
       "   'EPS': '0.001964',\n",
       "   'EPS Diluted': '0.001964',\n",
       "   'Weighted Average Shs Out': '19794880000.0',\n",
       "   'Weighted Average Shs Out (Dil)': '20494264000.0',\n",
       "   'Dividend per Share': '',\n",
       "   'Gross Margin': '0.273578595317726',\n",
       "   'EBITDA Margin': '0.0581939799331104',\n",
       "   'EBIT Margin': '',\n",
       "   'Profit Margin': '0.0267558528428094',\n",
       "   'Free Cash Flow margin': '',\n",
       "   'EBITDA': '87000000.0',\n",
       "   'EBIT': '',\n",
       "   'Consolidated Income': '',\n",
       "   'Earnings Before Tax Margin': '0.0367892976588629',\n",
       "   'Net Profit Margin': '0.0267558528428094'},\n",
       "  {'date': '2001-12-29',\n",
       "   'Revenue': '1375000000.0',\n",
       "   'Revenue Growth': '-0.051724137931',\n",
       "   'Cost of Revenue': '953000000.0',\n",
       "   'Gross Profit': '422000000.0',\n",
       "   'R&D Expenses': '113000000.0',\n",
       "   'SG&A Expense': '0.0',\n",
       "   'Operating Expenses': '402000000.0',\n",
       "   'Operating Income': '-4000000.0',\n",
       "   'Interest Expense': '3000000.0',\n",
       "   'Earnings before Tax': '53000000.0',\n",
       "   'Income Tax Expense': '15000000.0',\n",
       "   'Net Income - Non-Controlling int': '',\n",
       "   'Net Income - Discontinued ops': '',\n",
       "   'Net Income': '38000000.0',\n",
       "   'Preferred Dividends': '',\n",
       "   'Net Income Com': '38000000.0',\n",
       "   'EPS': '0.001964',\n",
       "   'EPS Diluted': '0.001964',\n",
       "   'Weighted Average Shs Out': '19674480000.0',\n",
       "   'Weighted Average Shs Out (Dil)': '20020504000.0',\n",
       "   'Dividend per Share': '',\n",
       "   'Gross Margin': '0.306909090909091',\n",
       "   'EBITDA Margin': '0.0610909090909091',\n",
       "   'EBIT Margin': '',\n",
       "   'Profit Margin': '0.0276363636363636',\n",
       "   'Free Cash Flow margin': '',\n",
       "   'EBITDA': '84000000.0',\n",
       "   'EBIT': '',\n",
       "   'Consolidated Income': '',\n",
       "   'Earnings Before Tax Margin': '0.0385454545454545',\n",
       "   'Net Profit Margin': '0.0276363636363636'},\n",
       "  {'date': '2001-09-29',\n",
       "   'Revenue': '1450000000.0',\n",
       "   'Revenue Growth': '-0.0169491525424',\n",
       "   'Cost of Revenue': '1013000000.0',\n",
       "   'Gross Profit': '437000000.0',\n",
       "   'R&D Expenses': '116000000.0',\n",
       "   'SG&A Expense': '0.0',\n",
       "   'Operating Expenses': '384000000.0',\n",
       "   'Operating Income': '53000000.0',\n",
       "   'Interest Expense': '2000000.0',\n",
       "   'Earnings before Tax': '94000000.0',\n",
       "   'Income Tax Expense': '28000000.0',\n",
       "   'Net Income - Non-Controlling int': '',\n",
       "   'Net Income - Discontinued ops': '',\n",
       "   'Net Income': '66000000.0',\n",
       "   'Preferred Dividends': '',\n",
       "   'Net Income Com': '66000000.0',\n",
       "   'EPS': '0.0034',\n",
       "   'EPS Diluted': '0.0033',\n",
       "   'Weighted Average Shs Out': '19674480000.0',\n",
       "   'Weighted Average Shs Out (Dil)': '20020504000.0',\n",
       "   'Dividend per Share': '',\n",
       "   'Gross Margin': '0.301379310344828',\n",
       "   'EBITDA Margin': '0.0868965517241379',\n",
       "   'EBIT Margin': '',\n",
       "   'Profit Margin': '0.0455172413793103',\n",
       "   'Free Cash Flow margin': '',\n",
       "   'EBITDA': '126000000.0',\n",
       "   'EBIT': '',\n",
       "   'Consolidated Income': '',\n",
       "   'Earnings Before Tax Margin': '0.0648275862068965',\n",
       "   'Net Profit Margin': '0.0455172413793103'},\n",
       "  {'date': '2001-06-30',\n",
       "   'Revenue': '1475000000.0',\n",
       "   'Revenue Growth': '0.0307477288609',\n",
       "   'Cost of Revenue': '1041000000.0',\n",
       "   'Gross Profit': '434000000.0',\n",
       "   'R&D Expenses': '122000000.0',\n",
       "   'SG&A Expense': '0.0',\n",
       "   'Operating Expenses': '403000000.0',\n",
       "   'Operating Income': '31000000.0',\n",
       "   'Interest Expense': '4000000.0',\n",
       "   'Earnings before Tax': '87000000.0',\n",
       "   'Income Tax Expense': '26000000.0',\n",
       "   'Net Income - Non-Controlling int': '',\n",
       "   'Net Income - Discontinued ops': '',\n",
       "   'Net Income': '61000000.0',\n",
       "   'Preferred Dividends': '',\n",
       "   'Net Income Com': '61000000.0',\n",
       "   'EPS': '0.003036',\n",
       "   'EPS Diluted': '0.003036',\n",
       "   'Weighted Average Shs Out': '19530840000.0',\n",
       "   'Weighted Average Shs Out (Dil)': '20099072000.0',\n",
       "   'Dividend per Share': '',\n",
       "   'Gross Margin': '0.294237288135593',\n",
       "   'EBITDA Margin': '0.0793220338983051',\n",
       "   'EBIT Margin': '',\n",
       "   'Profit Margin': '0.0413559322033898',\n",
       "   'Free Cash Flow margin': '',\n",
       "   'EBITDA': '117000000.0',\n",
       "   'EBIT': '',\n",
       "   'Consolidated Income': '',\n",
       "   'Earnings Before Tax Margin': '0.0589830508474576',\n",
       "   'Net Profit Margin': '0.0413559322033898'},\n",
       "  {'date': '2001-03-31',\n",
       "   'Revenue': '1431000000.0',\n",
       "   'Revenue Growth': '0.421052631579',\n",
       "   'Cost of Revenue': '1046000000.0',\n",
       "   'Gross Profit': '385000000.0',\n",
       "   'R&D Expenses': '101000000.0',\n",
       "   'SG&A Expense': '0.0',\n",
       "   'Operating Expenses': '393000000.0',\n",
       "   'Operating Income': '-8000000.0',\n",
       "   'Interest Expense': '0.0',\n",
       "   'Earnings before Tax': '62000000.0',\n",
       "   'Income Tax Expense': '19000000.0',\n",
       "   'Net Income - Non-Controlling int': '',\n",
       "   'Net Income - Discontinued ops': '',\n",
       "   'Net Income': '43000000.0',\n",
       "   'Preferred Dividends': '',\n",
       "   'Net Income Com': '43000000.0',\n",
       "   'EPS': '0.002143',\n",
       "   'EPS Diluted': '0.002143',\n",
       "   'Weighted Average Shs Out': '19380480000.0',\n",
       "   'Weighted Average Shs Out (Dil)': '19757472000.0',\n",
       "   'Dividend per Share': '',\n",
       "   'Gross Margin': '0.269042627533194',\n",
       "   'EBITDA Margin': '0.0587002096436059',\n",
       "   'EBIT Margin': '',\n",
       "   'Profit Margin': '0.0300489168413697',\n",
       "   'Free Cash Flow margin': '',\n",
       "   'EBITDA': '84000000.0',\n",
       "   'EBIT': '',\n",
       "   'Consolidated Income': '',\n",
       "   'Earnings Before Tax Margin': '0.0433263452131377',\n",
       "   'Net Profit Margin': '0.0300489168413697'},\n",
       "  {'date': '2000-12-30',\n",
       "   'Revenue': '1007000000.0',\n",
       "   'Revenue Growth': '-0.461497326203',\n",
       "   'Cost of Revenue': '1028000000.0',\n",
       "   'Gross Profit': '-21000000.0',\n",
       "   'R&D Expenses': '102000000.0',\n",
       "   'SG&A Expense': '0.0',\n",
       "   'Operating Expenses': '399000000.0',\n",
       "   'Operating Income': '-420000000.0',\n",
       "   'Interest Expense': '5000000.0',\n",
       "   'Earnings before Tax': '-295000000.0',\n",
       "   'Income Tax Expense': '-88000000.0',\n",
       "   'Net Income - Non-Controlling int': '',\n",
       "   'Net Income - Discontinued ops': '',\n",
       "   'Net Income': '-195000000.0',\n",
       "   'Preferred Dividends': '',\n",
       "   'Net Income Com': '-195000000.0',\n",
       "   'EPS': '-0.010357',\n",
       "   'EPS Diluted': '-0.010357',\n",
       "   'Weighted Average Shs Out': '18881520000.0',\n",
       "   'Weighted Average Shs Out (Dil)': '18881520000.0',\n",
       "   'Dividend per Share': '',\n",
       "   'Gross Margin': '-0.0208540218470705',\n",
       "   'EBITDA Margin': '-0.252234359483615',\n",
       "   'EBIT Margin': '',\n",
       "   'Profit Margin': '-0.19364448857994',\n",
       "   'Free Cash Flow margin': '',\n",
       "   'EBITDA': '-254000000.0',\n",
       "   'EBIT': '',\n",
       "   'Consolidated Income': '',\n",
       "   'Earnings Before Tax Margin': '-0.292949354518371',\n",
       "   'Net Profit Margin': '-0.19364448857994'},\n",
       "  {'date': '2000-09-30',\n",
       "   'Revenue': '1870000000.0',\n",
       "   'Revenue Growth': '0.0246575342466',\n",
       "   'Cost of Revenue': '1403000000.0',\n",
       "   'Gross Profit': '467000000.0',\n",
       "   'R&D Expenses': '101000000.0',\n",
       "   'SG&A Expense': '0.0',\n",
       "   'Operating Expenses': '383000000.0',\n",
       "   'Operating Income': '84000000.0',\n",
       "   'Interest Expense': '6000000.0',\n",
       "   'Earnings before Tax': '229000000.0',\n",
       "   'Income Tax Expense': '59000000.0',\n",
       "   'Net Income - Non-Controlling int': '',\n",
       "   'Net Income - Discontinued ops': '',\n",
       "   'Net Income': '170000000.0',\n",
       "   'Preferred Dividends': '',\n",
       "   'Net Income Com': '170000000.0',\n",
       "   'EPS': '0.009',\n",
       "   'EPS Diluted': '0.009',\n",
       "   'Weighted Average Shs Out': '18881520000.0',\n",
       "   'Weighted Average Shs Out (Dil)': '18881520000.0',\n",
       "   'Dividend per Share': '',\n",
       "   'Gross Margin': '0.249732620320856',\n",
       "   'EBITDA Margin': '0.135294117647059',\n",
       "   'EBIT Margin': '',\n",
       "   'Profit Margin': '0.0909090909090909',\n",
       "   'Free Cash Flow margin': '',\n",
       "   'EBITDA': '253000000.0',\n",
       "   'EBIT': '',\n",
       "   'Consolidated Income': '',\n",
       "   'Earnings Before Tax Margin': '0.122459893048128',\n",
       "   'Net Profit Margin': '0.0909090909090909'},\n",
       "  {'date': '2000-07-01',\n",
       "   'Revenue': '1825000000.0',\n",
       "   'Revenue Growth': '-0.0616966580977',\n",
       "   'Cost of Revenue': '1282000000.0',\n",
       "   'Gross Profit': '543000000.0',\n",
       "   'R&D Expenses': '97000000.0',\n",
       "   'SG&A Expense': '0.0',\n",
       "   'Operating Expenses': '375000000.0',\n",
       "   'Operating Income': '168000000.0',\n",
       "   'Interest Expense': '0.0',\n",
       "   'Earnings before Tax': '270000000.0',\n",
       "   'Income Tax Expense': '70000000.0',\n",
       "   'Net Income - Non-Controlling int': '',\n",
       "   'Net Income - Discontinued ops': '',\n",
       "   'Net Income': '200000000.0',\n",
       "   'Preferred Dividends': '',\n",
       "   'Net Income Com': '200000000.0',\n",
       "   'EPS': '0.011071',\n",
       "   'EPS Diluted': '0.009821',\n",
       "   'Weighted Average Shs Out': '18202240000.0',\n",
       "   'Weighted Average Shs Out (Dil)': '20261752000.0',\n",
       "   'Dividend per Share': '',\n",
       "   'Gross Margin': '0.297534246575342',\n",
       "   'EBITDA Margin': '0.161643835616438',\n",
       "   'EBIT Margin': '',\n",
       "   'Profit Margin': '0.10958904109589',\n",
       "   'Free Cash Flow margin': '',\n",
       "   'EBITDA': '295000000.0',\n",
       "   'EBIT': '',\n",
       "   'Consolidated Income': '',\n",
       "   'Earnings Before Tax Margin': '0.147945205479452',\n",
       "   'Net Profit Margin': '0.10958904109589'},\n",
       "  {'date': '2000-04-01',\n",
       "   'Revenue': '1945000000.0',\n",
       "   'Revenue Growth': '-0.169867690994',\n",
       "   'Cost of Revenue': '1396000000.0',\n",
       "   'Gross Profit': '549000000.0',\n",
       "   'R&D Expenses': '92000000.0',\n",
       "   'SG&A Expense': '0.0',\n",
       "   'Operating Expenses': '379000000.0',\n",
       "   'Operating Income': '170000000.0',\n",
       "   'Interest Expense': '0.0',\n",
       "   'Earnings before Tax': '319000000.0',\n",
       "   'Income Tax Expense': '86000000.0',\n",
       "   'Net Income - Non-Controlling int': '',\n",
       "   'Net Income - Discontinued ops': '',\n",
       "   'Net Income': '233000000.0',\n",
       "   'Preferred Dividends': '',\n",
       "   'Net Income Com': '233000000.0',\n",
       "   'EPS': '0.012857',\n",
       "   'EPS Diluted': '0.011429',\n",
       "   'Weighted Average Shs Out': '18163264000.0',\n",
       "   'Weighted Average Shs Out (Dil)': '20383216000.0',\n",
       "   'Dividend per Share': '',\n",
       "   'Gross Margin': '0.282262210796915',\n",
       "   'EBITDA Margin': '0.174807197943445',\n",
       "   'EBIT Margin': '',\n",
       "   'Profit Margin': '0.119794344473008',\n",
       "   'Free Cash Flow margin': '',\n",
       "   'EBITDA': '340000000.0',\n",
       "   'EBIT': '',\n",
       "   'Consolidated Income': '',\n",
       "   'Earnings Before Tax Margin': '0.16401028277635',\n",
       "   'Net Profit Margin': '0.119794344473008'},\n",
       "  {'date': '2000-01-01',\n",
       "   'Revenue': '2343000000.0',\n",
       "   'Revenue Growth': '0.75374251497',\n",
       "   'Cost of Revenue': '1736000000.0',\n",
       "   'Gross Profit': '607000000.0',\n",
       "   'R&D Expenses': '90000000.0',\n",
       "   'SG&A Expense': '0.0',\n",
       "   'Operating Expenses': '409000000.0',\n",
       "   'Operating Income': '100000000.0',\n",
       "   'Interest Expense': '5000000.0',\n",
       "   'Earnings before Tax': '274000000.0',\n",
       "   'Income Tax Expense': '91000000.0',\n",
       "   'Net Income - Non-Controlling int': '',\n",
       "   'Net Income - Discontinued ops': '',\n",
       "   'Net Income': '183000000.0',\n",
       "   'Preferred Dividends': '',\n",
       "   'Net Income Com': '183000000.0',\n",
       "   'EPS': '0.010179',\n",
       "   'EPS Diluted': '0.009196',\n",
       "   'Weighted Average Shs Out': '18036368000.0',\n",
       "   'Weighted Average Shs Out (Dil)': '19982704000.0',\n",
       "   'Dividend per Share': '',\n",
       "   'Gross Margin': '0.259069568928724',\n",
       "   'EBITDA Margin': '0.127614169867691',\n",
       "   'EBIT Margin': '',\n",
       "   'Profit Margin': '0.0781049935979513',\n",
       "   'Free Cash Flow margin': '',\n",
       "   'EBITDA': '299000000.0',\n",
       "   'EBIT': '',\n",
       "   'Consolidated Income': '',\n",
       "   'Earnings Before Tax Margin': '0.116944088775075',\n",
       "   'Net Profit Margin': '0.0781049935979513'},\n",
       "  {'date': '1999-09-25',\n",
       "   'Revenue': '1336000000.0',\n",
       "   'Revenue Growth': '-0.142490372272',\n",
       "   'Cost of Revenue': '952000000.0',\n",
       "   'Gross Profit': '384000000.0',\n",
       "   'R&D Expenses': '82000000.0',\n",
       "   'SG&A Expense': '0.0',\n",
       "   'Operating Expenses': '317000000.0',\n",
       "   'Operating Income': '49000000.0',\n",
       "   'Interest Expense': '5000000.0',\n",
       "   'Earnings before Tax': '125000000.0',\n",
       "   'Income Tax Expense': '14000000.0',\n",
       "   'Net Income - Non-Controlling int': '',\n",
       "   'Net Income - Discontinued ops': '',\n",
       "   'Net Income': '111000000.0',\n",
       "   'Preferred Dividends': '',\n",
       "   'Net Income Com': '111000000.0',\n",
       "   'EPS': '0.0062',\n",
       "   'EPS Diluted': '0.0056',\n",
       "   'Weighted Average Shs Out': '18036368000.0',\n",
       "   'Weighted Average Shs Out (Dil)': '19982704000.0',\n",
       "   'Dividend per Share': '',\n",
       "   'Gross Margin': '0.287425149700599',\n",
       "   'EBITDA Margin': '0.111526946107784',\n",
       "   'EBIT Margin': '',\n",
       "   'Profit Margin': '0.0830838323353293',\n",
       "   'Free Cash Flow margin': '',\n",
       "   'EBITDA': '149000000.0',\n",
       "   'EBIT': '',\n",
       "   'Consolidated Income': '',\n",
       "   'Earnings Before Tax Margin': '0.093562874251497',\n",
       "   'Net Profit Margin': '0.0830838323353293'},\n",
       "  {'date': '1999-06-26',\n",
       "   'Revenue': '1558000000.0',\n",
       "   'Revenue Growth': '0.0183006535948',\n",
       "   'Cost of Revenue': '1131000000.0',\n",
       "   'Gross Profit': '427000000.0',\n",
       "   'R&D Expenses': '80000000.0',\n",
       "   'SG&A Expense': '0.0',\n",
       "   'Operating Expenses': '323000000.0',\n",
       "   'Operating Income': '104000000.0',\n",
       "   'Interest Expense': '0.0',\n",
       "   'Earnings before Tax': '229000000.0',\n",
       "   'Income Tax Expense': '26000000.0',\n",
       "   'Net Income - Non-Controlling int': '',\n",
       "   'Net Income - Discontinued ops': '',\n",
       "   'Net Income': '203000000.0',\n",
       "   'Preferred Dividends': '',\n",
       "   'Net Income Com': '203000000.0',\n",
       "   'EPS': '0.012589',\n",
       "   'EPS Diluted': '0.010714',\n",
       "   'Weighted Average Shs Out': '16134048000.0',\n",
       "   'Weighted Average Shs Out (Dil)': '19560800000.0',\n",
       "   'Dividend per Share': '',\n",
       "   'Gross Margin': '0.274069319640565',\n",
       "   'EBITDA Margin': '0.159178433889602',\n",
       "   'EBIT Margin': '',\n",
       "   'Profit Margin': '0.130295250320924',\n",
       "   'Free Cash Flow margin': '',\n",
       "   'EBITDA': '248000000.0',\n",
       "   'EBIT': '',\n",
       "   'Consolidated Income': '',\n",
       "   'Earnings Before Tax Margin': '0.146983311938383',\n",
       "   'Net Profit Margin': '0.130295250320924'},\n",
       "  {'date': '1999-03-27',\n",
       "   'Revenue': '1530000000.0',\n",
       "   'Revenue Growth': '-0.105263157895',\n",
       "   'Cost of Revenue': '1127000000.0',\n",
       "   'Gross Profit': '403000000.0',\n",
       "   'R&D Expenses': '76000000.0',\n",
       "   'SG&A Expense': '0.0',\n",
       "   'Operating Expenses': '315000000.0',\n",
       "   'Operating Income': '79000000.0',\n",
       "   'Interest Expense': '0.0',\n",
       "   'Earnings before Tax': '153000000.0',\n",
       "   'Income Tax Expense': '18000000.0',\n",
       "   'Net Income - Non-Controlling int': '',\n",
       "   'Net Income - Discontinued ops': '',\n",
       "   'Net Income': '135000000.0',\n",
       "   'Preferred Dividends': '',\n",
       "   'Net Income Com': '135000000.0',\n",
       "   'EPS': '0.008839',\n",
       "   'EPS Diluted': '0.0075',\n",
       "   'Weighted Average Shs Out': '15273552000.0',\n",
       "   'Weighted Average Shs Out (Dil)': '19398848000.0',\n",
       "   'Dividend per Share': '',\n",
       "   'Gross Margin': '0.263398692810458',\n",
       "   'EBITDA Margin': '0.115686274509804',\n",
       "   'EBIT Margin': '',\n",
       "   'Profit Margin': '0.0882352941176471',\n",
       "   'Free Cash Flow margin': '',\n",
       "   'EBITDA': '177000000.0',\n",
       "   'EBIT': '',\n",
       "   'Consolidated Income': '',\n",
       "   'Earnings Before Tax Margin': '0.1',\n",
       "   'Net Profit Margin': '0.0882352941176471'},\n",
       "  {'date': '1998-12-26',\n",
       "   'Revenue': '1710000000.0',\n",
       "   'Revenue Growth': '0.098971722365',\n",
       "   'Cost of Revenue': '1228000000.0',\n",
       "   'Gross Profit': '482000000.0',\n",
       "   'R&D Expenses': '76000000.0',\n",
       "   'SG&A Expense': '0.0',\n",
       "   'Operating Expenses': '355000000.0',\n",
       "   'Operating Income': '127000000.0',\n",
       "   'Interest Expense': '16000000.0',\n",
       "   'Earnings before Tax': '169000000.0',\n",
       "   'Income Tax Expense': '17000000.0',\n",
       "   'Net Income - Non-Controlling int': '',\n",
       "   'Net Income - Discontinued ops': '',\n",
       "   'Net Income': '152000000.0',\n",
       "   'Preferred Dividends': '',\n",
       "   'Net Income Com': '152000000.0',\n",
       "   'EPS': '0.01',\n",
       "   'EPS Diluted': '0.008482',\n",
       "   'Weighted Average Shs Out': '15150240000.0',\n",
       "   'Weighted Average Shs Out (Dil)': '19270944000.0',\n",
       "   'Dividend per Share': '',\n",
       "   'Gross Margin': '0.28187134502924',\n",
       "   'EBITDA Margin': '0.121637426900585',\n",
       "   'EBIT Margin': '',\n",
       "   'Profit Margin': '0.0888888888888889',\n",
       "   'Free Cash Flow margin': '',\n",
       "   'EBITDA': '208000000.0',\n",
       "   'EBIT': '',\n",
       "   'Consolidated Income': '',\n",
       "   'Earnings Before Tax Margin': '0.0988304093567251',\n",
       "   'Net Profit Margin': '0.0888888888888889'},\n",
       "  {'date': '1998-09-25',\n",
       "   'Revenue': '1556000000.0',\n",
       "   'Revenue Growth': '0.109843081312',\n",
       "   'Cost of Revenue': '1139000000.0',\n",
       "   'Gross Profit': '417000000.0',\n",
       "   'R&D Expenses': '73000000.0',\n",
       "   'SG&A Expense': '0.0',\n",
       "   'Operating Expenses': '308000000.0',\n",
       "   'Operating Income': '109000000.0',\n",
       "   'Interest Expense': '0.0',\n",
       "   'Earnings before Tax': '114000000.0',\n",
       "   'Income Tax Expense': '8000000.0',\n",
       "   'Net Income - Non-Controlling int': '',\n",
       "   'Net Income - Discontinued ops': '',\n",
       "   'Net Income': '106000000.0',\n",
       "   'Preferred Dividends': '',\n",
       "   'Net Income Com': '106000000.0',\n",
       "   'EPS': '0.007',\n",
       "   'EPS Diluted': '0.0055',\n",
       "   'Weighted Average Shs Out': '15150240000.0',\n",
       "   'Weighted Average Shs Out (Dil)': '19270944000.0',\n",
       "   'Dividend per Share': '',\n",
       "   'Gross Margin': '0.267994858611825',\n",
       "   'EBITDA Margin': '0.0880462724935733',\n",
       "   'EBIT Margin': '',\n",
       "   'Profit Margin': '0.0681233933161954',\n",
       "   'Free Cash Flow margin': '',\n",
       "   'EBITDA': '137000000.0',\n",
       "   'EBIT': '',\n",
       "   'Consolidated Income': '',\n",
       "   'Earnings Before Tax Margin': '0.0732647814910026',\n",
       "   'Net Profit Margin': '0.0681233933161954'},\n",
       "  {'date': '1998-06-26',\n",
       "   'Revenue': '1402000000.0',\n",
       "   'Revenue Growth': '-0.00213523131673',\n",
       "   'Cost of Revenue': '1042000000.0',\n",
       "   'Gross Profit': '360000000.0',\n",
       "   'R&D Expenses': '83000000.0',\n",
       "   'SG&A Expense': '0.0',\n",
       "   'Operating Expenses': '299000000.0',\n",
       "   'Operating Income': '61000000.0',\n",
       "   'Interest Expense': '0.0',\n",
       "   'Earnings before Tax': '109000000.0',\n",
       "   'Income Tax Expense': '8000000.0',\n",
       "   'Net Income - Non-Controlling int': '',\n",
       "   'Net Income - Discontinued ops': '',\n",
       "   'Net Income': '101000000.0',\n",
       "   'Preferred Dividends': '',\n",
       "   'Net Income Com': '101000000.0',\n",
       "   'EPS': '0.006786',\n",
       "   'EPS Diluted': '0.005804',\n",
       "   'Weighted Average Shs Out': '14903616000.0',\n",
       "   'Weighted Average Shs Out (Dil)': '19240032000.0',\n",
       "   'Dividend per Share': '',\n",
       "   'Gross Margin': '0.256776034236805',\n",
       "   'EBITDA Margin': '0.100570613409415',\n",
       "   'EBIT Margin': '',\n",
       "   'Profit Margin': '0.0720399429386591',\n",
       "   'Free Cash Flow margin': '',\n",
       "   'EBITDA': '141000000.0',\n",
       "   'EBIT': '',\n",
       "   'Consolidated Income': '',\n",
       "   'Earnings Before Tax Margin': '0.0777460770328103',\n",
       "   'Net Profit Margin': '0.0720399429386591'},\n",
       "  {'date': '1998-03-27',\n",
       "   'Revenue': '1405000000.0',\n",
       "   'Revenue Growth': '-0.109632446134',\n",
       "   'Cost of Revenue': '1056000000.0',\n",
       "   'Gross Profit': '349000000.0',\n",
       "   'R&D Expenses': '75000000.0',\n",
       "   'SG&A Expense': '0.0',\n",
       "   'Operating Expenses': '298000000.0',\n",
       "   'Operating Income': '51000000.0',\n",
       "   'Interest Expense': '0.0',\n",
       "   'Earnings before Tax': '59000000.0',\n",
       "   'Income Tax Expense': '4000000.0',\n",
       "   'Net Income - Non-Controlling int': '',\n",
       "   'Net Income - Discontinued ops': '',\n",
       "   'Net Income': '55000000.0',\n",
       "   'Preferred Dividends': '',\n",
       "   'Net Income Com': '55000000.0',\n",
       "   'EPS': '0.00375',\n",
       "   'EPS Diluted': '0.003393',\n",
       "   'Weighted Average Shs Out': '14780528000.0',\n",
       "   'Weighted Average Shs Out (Dil)': '16342480000.0',\n",
       "   'Dividend per Share': '',\n",
       "   'Gross Margin': '0.248398576512456',\n",
       "   'EBITDA Margin': '0.0619217081850534',\n",
       "   'EBIT Margin': '',\n",
       "   'Profit Margin': '0.0391459074733096',\n",
       "   'Free Cash Flow margin': '',\n",
       "   'EBITDA': '87000000.0',\n",
       "   'EBIT': '',\n",
       "   'Consolidated Income': '',\n",
       "   'Earnings Before Tax Margin': '0.0419928825622776',\n",
       "   'Net Profit Margin': '0.0391459074733096'},\n",
       "  {'date': '1997-12-26',\n",
       "   'Revenue': '1578000000.0',\n",
       "   'Revenue Growth': '-0.0223048327138',\n",
       "   'Cost of Revenue': '1225000000.0',\n",
       "   'Gross Profit': '353000000.0',\n",
       "   'R&D Expenses': '79000000.0',\n",
       "   'SG&A Expense': '0.0',\n",
       "   'Operating Expenses': '313000000.0',\n",
       "   'Operating Income': '40000000.0',\n",
       "   'Interest Expense': '0.0',\n",
       "   'Earnings before Tax': '47000000.0',\n",
       "   'Income Tax Expense': '0.0',\n",
       "   'Net Income - Non-Controlling int': '',\n",
       "   'Net Income - Discontinued ops': '',\n",
       "   'Net Income': '47000000.0',\n",
       "   'Preferred Dividends': '',\n",
       "   'Net Income Com': '47000000.0',\n",
       "   'EPS': '0.003304',\n",
       "   'EPS Diluted': '0.002946',\n",
       "   'Weighted Average Shs Out': '14334768000.0',\n",
       "   'Weighted Average Shs Out (Dil)': '15661968000.0',\n",
       "   'Dividend per Share': '',\n",
       "   'Gross Margin': '0.223700887198986',\n",
       "   'EBITDA Margin': '0.0475285171102662',\n",
       "   'EBIT Margin': '',\n",
       "   'Profit Margin': '0.0297845373891001',\n",
       "   'Free Cash Flow margin': '',\n",
       "   'EBITDA': '75000000.0',\n",
       "   'EBIT': '',\n",
       "   'Consolidated Income': '',\n",
       "   'Earnings Before Tax Margin': '0.0297845373891001',\n",
       "   'Net Profit Margin': '0.0297845373891001'},\n",
       "  {'date': '1997-09-26',\n",
       "   'Revenue': '1614000000.0',\n",
       "   'Revenue Growth': '-0.0708117443869',\n",
       "   'Cost of Revenue': '1294000000.0',\n",
       "   'Gross Profit': '320000000.0',\n",
       "   'R&D Expenses': '94000000.0',\n",
       "   'SG&A Expense': '0.0',\n",
       "   'Operating Expenses': '353000000.0',\n",
       "   'Operating Income': '-170000000.0',\n",
       "   'Interest Expense': '0.0',\n",
       "   'Earnings before Tax': '-161000000.0',\n",
       "   'Income Tax Expense': '0.0',\n",
       "   'Net Income - Non-Controlling int': '',\n",
       "   'Net Income - Discontinued ops': '',\n",
       "   'Net Income': '-161000000.0',\n",
       "   'Preferred Dividends': '',\n",
       "   'Net Income Com': '-161000000.0',\n",
       "   'EPS': '-0.01123',\n",
       "   'EPS Diluted': '-0.01028',\n",
       "   'Weighted Average Shs Out': '14334768000.0',\n",
       "   'Weighted Average Shs Out (Dil)': '15661968000.0',\n",
       "   'Dividend per Share': '',\n",
       "   'Gross Margin': '0.198265179677819',\n",
       "   'EBITDA Margin': '-0.0743494423791822',\n",
       "   'EBIT Margin': '',\n",
       "   'Profit Margin': '-0.0997521685254027',\n",
       "   'Free Cash Flow margin': '',\n",
       "   'EBITDA': '-120000000.0',\n",
       "   'EBIT': '',\n",
       "   'Consolidated Income': '',\n",
       "   'Earnings Before Tax Margin': '-0.0997521685254027',\n",
       "   'Net Profit Margin': '-0.0997521685254027'},\n",
       "  {'date': '1997-06-27',\n",
       "   'Revenue': '1737000000.0',\n",
       "   'Revenue Growth': '0.0849469081824',\n",
       "   'Cost of Revenue': '1389000000.0',\n",
       "   'Gross Profit': '348000000.0',\n",
       "   'R&D Expenses': '101000000.0',\n",
       "   'SG&A Expense': '0.0',\n",
       "   'Operating Expenses': '408000000.0',\n",
       "   'Operating Income': '-60000000.0',\n",
       "   'Interest Expense': '0.0',\n",
       "   'Earnings before Tax': '-56000000.0',\n",
       "   'Income Tax Expense': '0.0',\n",
       "   'Net Income - Non-Controlling int': '',\n",
       "   'Net Income - Discontinued ops': '',\n",
       "   'Net Income': '-56000000.0',\n",
       "   'Preferred Dividends': '',\n",
       "   'Net Income Com': '-56000000.0',\n",
       "   'EPS': '-0.003929',\n",
       "   'EPS Diluted': '-0.003929',\n",
       "   'Weighted Average Shs Out': '14168000000.0',\n",
       "   'Weighted Average Shs Out (Dil)': '14168000000.0',\n",
       "   'Dividend per Share': '',\n",
       "   'Gross Margin': '0.200345423143351',\n",
       "   'EBITDA Margin': '-0.0195739781232009',\n",
       "   'EBIT Margin': '',\n",
       "   'Profit Margin': '-0.0322394933793897',\n",
       "   'Free Cash Flow margin': '',\n",
       "   'EBITDA': '-34000000.0',\n",
       "   'EBIT': '',\n",
       "   'Consolidated Income': '',\n",
       "   'Earnings Before Tax Margin': '-0.0322394933793897',\n",
       "   'Net Profit Margin': '-0.0322394933793897'},\n",
       "  {'date': '1997-03-28',\n",
       "   'Revenue': '1601000000.0',\n",
       "   'Revenue Growth': '-0.248003757633',\n",
       "   'Cost of Revenue': '1298000000.0',\n",
       "   'Gross Profit': '303000000.0',\n",
       "   'R&D Expenses': '516000000.0',\n",
       "   'SG&A Expense': '0.0',\n",
       "   'Operating Expenses': '864000000.0',\n",
       "   'Operating Income': '-716000000.0',\n",
       "   'Interest Expense': '0.0',\n",
       "   'Earnings before Tax': '-708000000.0',\n",
       "   'Income Tax Expense': '0.0',\n",
       "   'Net Income - Non-Controlling int': '',\n",
       "   'Net Income - Discontinued ops': '',\n",
       "   'Net Income': '-708000000.0',\n",
       "   'Preferred Dividends': '',\n",
       "   'Net Income Com': '-708000000.0',\n",
       "   'EPS': '-0.050357',\n",
       "   'EPS Diluted': '-0.050357',\n",
       "   'Weighted Average Shs Out': '14068208000.0',\n",
       "   'Weighted Average Shs Out (Dil)': '14068208000.0',\n",
       "   'Dividend per Share': '',\n",
       "   'Gross Margin': '0.189256714553404',\n",
       "   'EBITDA Margin': '-0.423485321673954',\n",
       "   'EBIT Margin': '',\n",
       "   'Profit Margin': '-0.442223610243598',\n",
       "   'Free Cash Flow margin': '',\n",
       "   'EBITDA': '-678000000.0',\n",
       "   'EBIT': '',\n",
       "   'Consolidated Income': '',\n",
       "   'Earnings Before Tax Margin': '-0.442223610243598',\n",
       "   'Net Profit Margin': '-0.442223610243598'},\n",
       "  {'date': '1996-12-27',\n",
       "   'Revenue': '2129000000.0',\n",
       "   'Revenue Growth': '-0.0827229642396',\n",
       "   'Cost of Revenue': '1732000000.0',\n",
       "   'Gross Profit': '397000000.0',\n",
       "   'R&D Expenses': '149000000.0',\n",
       "   'SG&A Expense': '0.0',\n",
       "   'Operating Expenses': '521000000.0',\n",
       "   'Operating Income': '-124000000.0',\n",
       "   'Interest Expense': '0.0',\n",
       "   'Earnings before Tax': '-120000000.0',\n",
       "   'Income Tax Expense': '0.0',\n",
       "   'Net Income - Non-Controlling int': '',\n",
       "   'Net Income - Discontinued ops': '',\n",
       "   'Net Income': '-120000000.0',\n",
       "   'Preferred Dividends': '',\n",
       "   'Net Income Com': '-120000000.0',\n",
       "   'EPS': '-0.008571',\n",
       "   'EPS Diluted': '-0.008571',\n",
       "   'Weighted Average Shs Out': '13947584000.0',\n",
       "   'Weighted Average Shs Out (Dil)': '13947584000.0',\n",
       "   'Dividend per Share': '',\n",
       "   'Gross Margin': '0.186472522310944',\n",
       "   'EBITDA Margin': '-0.0446218882104274',\n",
       "   'EBIT Margin': '',\n",
       "   'Profit Margin': '-0.0563644903710662',\n",
       "   'Free Cash Flow margin': '',\n",
       "   'EBITDA': '-95000000.0',\n",
       "   'EBIT': '',\n",
       "   'Consolidated Income': '',\n",
       "   'Earnings Before Tax Margin': '-0.0563644903710662',\n",
       "   'Net Profit Margin': '-0.0563644903710662'},\n",
       "  {'date': '1996-09-27',\n",
       "   'Revenue': '2321000000.0',\n",
       "   'Revenue Growth': '0.0651675080312',\n",
       "   'Cost of Revenue': '1810000000.0',\n",
       "   'Gross Profit': '511000000.0',\n",
       "   'R&D Expenses': '146000000.0',\n",
       "   'SG&A Expense': '0.0',\n",
       "   'Operating Expenses': '505000000.0',\n",
       "   'Operating Income': '34000000.0',\n",
       "   'Interest Expense': '18000000.0',\n",
       "   'Earnings before Tax': '40000000.0',\n",
       "   'Income Tax Expense': '15000000.0',\n",
       "   'Net Income - Non-Controlling int': '',\n",
       "   'Net Income - Discontinued ops': '',\n",
       "   'Net Income': '25000000.0',\n",
       "   'Preferred Dividends': '',\n",
       "   'Net Income Com': '25000000.0',\n",
       "   'EPS': '0.0018',\n",
       "   'EPS Diluted': '0.0018',\n",
       "   'Weighted Average Shs Out': '13947584000.0',\n",
       "   'Weighted Average Shs Out (Dil)': '13947584000.0',\n",
       "   'Dividend per Share': '',\n",
       "   'Gross Margin': '0.220163722533391',\n",
       "   'EBITDA Margin': '0.044808272296424',\n",
       "   'EBIT Margin': '',\n",
       "   'Profit Margin': '0.010771219302025',\n",
       "   'Free Cash Flow margin': '',\n",
       "   'EBITDA': '104000000.0',\n",
       "   'EBIT': '',\n",
       "   'Consolidated Income': '',\n",
       "   'Earnings Before Tax Margin': '0.01723395088324',\n",
       "   'Net Profit Margin': '0.010771219302025'},\n",
       "  {'date': '1996-06-28',\n",
       "   'Revenue': '2179000000.0',\n",
       "   'Revenue Growth': '-0.00274599542334',\n",
       "   'Cost of Revenue': '1776000000.0',\n",
       "   'Gross Profit': '403000000.0',\n",
       "   'R&D Expenses': '155000000.0',\n",
       "   'SG&A Expense': '0.0',\n",
       "   'Operating Expenses': '519000000.0',\n",
       "   'Operating Income': '-116000000.0',\n",
       "   'Interest Expense': '12000000.0',\n",
       "   'Earnings before Tax': '-51000000.0',\n",
       "   'Income Tax Expense': '-19000000.0',\n",
       "   'Net Income - Non-Controlling int': '',\n",
       "   'Net Income - Discontinued ops': '',\n",
       "   'Net Income': '-32000000.0',\n",
       "   'Preferred Dividends': '',\n",
       "   'Net Income Com': '-32000000.0',\n",
       "   'EPS': '-0.002321',\n",
       "   'EPS Diluted': '-0.002321',\n",
       "   'Weighted Average Shs Out': '13858320000.0',\n",
       "   'Weighted Average Shs Out (Dil)': '13858320000.0',\n",
       "   'Dividend per Share': '',\n",
       "   'Gross Margin': '0.184947223497017',\n",
       "   'EBITDA Margin': '-0.007801743919229',\n",
       "   'EBIT Margin': '',\n",
       "   'Profit Margin': '-0.0146856356126664',\n",
       "   'Free Cash Flow margin': '',\n",
       "   'EBITDA': '-17000000.0',\n",
       "   'EBIT': '',\n",
       "   'Consolidated Income': '',\n",
       "   'Earnings Before Tax Margin': '-0.023405231757687',\n",
       "   'Net Profit Margin': '-0.0146856356126664'},\n",
       "  {'date': '1996-03-29',\n",
       "   'Revenue': '2185000000.0',\n",
       "   'Revenue Growth': '-0.305908513342',\n",
       "   'Cost of Revenue': '2606000000.0',\n",
       "   'Gross Profit': '-421000000.0',\n",
       "   'R&D Expenses': '150000000.0',\n",
       "   'SG&A Expense': '0.0',\n",
       "   'Operating Expenses': '554000000.0',\n",
       "   'Operating Income': '-1182000000.0',\n",
       "   'Interest Expense': '13000000.0',\n",
       "   'Earnings before Tax': '-1175000000.0',\n",
       "   'Income Tax Expense': '-435000000.0',\n",
       "   'Net Income - Non-Controlling int': '',\n",
       "   'Net Income - Discontinued ops': '',\n",
       "   'Net Income': '-740000000.0',\n",
       "   'Preferred Dividends': '',\n",
       "   'Net Income Com': '-740000000.0',\n",
       "   'EPS': '-0.053482',\n",
       "   'EPS Diluted': '-0.053482',\n",
       "   'Weighted Average Shs Out': '13849808000.0',\n",
       "   'Weighted Average Shs Out (Dil)': '13849808000.0',\n",
       "   'Dividend per Share': '',\n",
       "   'Gross Margin': '-0.192677345537757',\n",
       "   'EBITDA Margin': '-0.510755148741419',\n",
       "   'EBIT Margin': '',\n",
       "   'Profit Margin': '-0.338672768878719',\n",
       "   'Free Cash Flow margin': '',\n",
       "   'EBITDA': '-1116000000.0',\n",
       "   'EBIT': '',\n",
       "   'Consolidated Income': '',\n",
       "   'Earnings Before Tax Margin': '-0.537757437070938',\n",
       "   'Net Profit Margin': '-0.338672768878719'},\n",
       "  {'date': '1995-12-29',\n",
       "   'Revenue': '3148000000.0',\n",
       "   'Revenue Growth': '0.048285048285',\n",
       "   'Cost of Revenue': '2673000000.0',\n",
       "   'Gross Profit': '475000000.0',\n",
       "   'R&D Expenses': '153000000.0',\n",
       "   'SG&A Expense': '0.0',\n",
       "   'Operating Expenses': '594000000.0',\n",
       "   'Operating Income': '-119000000.0',\n",
       "   'Interest Expense': '17000000.0',\n",
       "   'Earnings before Tax': '-109000000.0',\n",
       "   'Income Tax Expense': '-40000000.0',\n",
       "   'Net Income - Non-Controlling int': '',\n",
       "   'Net Income - Discontinued ops': '',\n",
       "   'Net Income': '-69000000.0',\n",
       "   'Preferred Dividends': '',\n",
       "   'Net Income Com': '-69000000.0',\n",
       "   'EPS': '-0.005',\n",
       "   'EPS Diluted': '-0.005',\n",
       "   'Weighted Average Shs Out': '13775328000.0',\n",
       "   'Weighted Average Shs Out (Dil)': '13775328000.0',\n",
       "   'Dividend per Share': '',\n",
       "   'Gross Margin': '0.150889453621347',\n",
       "   'EBITDA Margin': '-0.0158831003811944',\n",
       "   'EBIT Margin': '',\n",
       "   'Profit Margin': '-0.0219186785260483',\n",
       "   'Free Cash Flow margin': '',\n",
       "   'EBITDA': '-50000000.0',\n",
       "   'EBIT': '',\n",
       "   'Consolidated Income': '',\n",
       "   'Earnings Before Tax Margin': '-0.0346251588310038',\n",
       "   'Net Profit Margin': '-0.0219186785260483'},\n",
       "  {'date': '1995-09-29',\n",
       "   'Revenue': '3003000000.0',\n",
       "   'Revenue Growth': '0.166213592233',\n",
       "   'Cost of Revenue': '2382000000.0',\n",
       "   'Gross Profit': '621000000.0',\n",
       "   'R&D Expenses': '171000000.0',\n",
       "   'SG&A Expense': '0.0',\n",
       "   'Operating Expenses': '549000000.0',\n",
       "   'Operating Income': '72000000.0',\n",
       "   'Interest Expense': '15000000.0',\n",
       "   'Earnings before Tax': '95000000.0',\n",
       "   'Income Tax Expense': '35000000.0',\n",
       "   'Net Income - Non-Controlling int': '',\n",
       "   'Net Income - Discontinued ops': '',\n",
       "   'Net Income': '60000000.0',\n",
       "   'Preferred Dividends': '',\n",
       "   'Net Income Com': '60000000.0',\n",
       "   'EPS': '0.0044',\n",
       "   'EPS Diluted': '0.0044',\n",
       "   'Weighted Average Shs Out': '13775328000.0',\n",
       "   'Weighted Average Shs Out (Dil)': '13775328000.0',\n",
       "   'Dividend per Share': '',\n",
       "   'Gross Margin': '0.206793206793207',\n",
       "   'EBITDA Margin': '0.0442890442890443',\n",
       "   'EBIT Margin': '',\n",
       "   'Profit Margin': '0.01998001998002',\n",
       "   'Free Cash Flow margin': '',\n",
       "   'EBITDA': '133000000.0',\n",
       "   'EBIT': '',\n",
       "   'Consolidated Income': '',\n",
       "   'Earnings Before Tax Margin': '0.0316350316350316',\n",
       "   'Net Profit Margin': '0.01998001998002'},\n",
       "  {'date': '1995-06-30',\n",
       "   'Revenue': '2575000000.0',\n",
       "   'Revenue Growth': '-0.0290346907994',\n",
       "   'Cost of Revenue': '1847000000.0',\n",
       "   'Gross Profit': '728000000.0',\n",
       "   'R&D Expenses': '168000000.0',\n",
       "   'SG&A Expense': '0.0',\n",
       "   'Operating Expenses': '572000000.0',\n",
       "   'Operating Income': '162000000.0',\n",
       "   'Interest Expense': '16000000.0',\n",
       "   'Earnings before Tax': '164000000.0',\n",
       "   'Income Tax Expense': '61000000.0',\n",
       "   'Net Income - Non-Controlling int': '',\n",
       "   'Net Income - Discontinued ops': '',\n",
       "   'Net Income': '103000000.0',\n",
       "   'Preferred Dividends': '',\n",
       "   'Net Income Com': '103000000.0',\n",
       "   'EPS': '0.0075',\n",
       "   'EPS Diluted': '0.0075',\n",
       "   'Weighted Average Shs Out': '13798736000.0',\n",
       "   'Weighted Average Shs Out (Dil)': '13798736000.0',\n",
       "   'Dividend per Share': '',\n",
       "   'Gross Margin': '0.282718446601942',\n",
       "   'EBITDA Margin': '0.0842718446601942',\n",
       "   'EBIT Margin': '',\n",
       "   'Profit Margin': '0.04',\n",
       "   'Free Cash Flow margin': '',\n",
       "   'EBITDA': '217000000.0',\n",
       "   'EBIT': '',\n",
       "   'Consolidated Income': '',\n",
       "   'Earnings Before Tax Margin': '0.0636893203883495',\n",
       "   'Net Profit Margin': '0.04'},\n",
       "  {'date': '1995-03-31',\n",
       "   'Revenue': '2652000000.0',\n",
       "   'Revenue Growth': '-0.0635593220339',\n",
       "   'Cost of Revenue': '1957000000.0',\n",
       "   'Gross Profit': '695000000.0',\n",
       "   'R&D Expenses': '143000000.0',\n",
       "   'SG&A Expense': '0.0',\n",
       "   'Operating Expenses': '529000000.0',\n",
       "   'Operating Income': '166000000.0',\n",
       "   'Interest Expense': '10000000.0',\n",
       "   'Earnings before Tax': '116000000.0',\n",
       "   'Income Tax Expense': '43000000.0',\n",
       "   'Net Income - Non-Controlling int': '',\n",
       "   'Net Income - Discontinued ops': '',\n",
       "   'Net Income': '73000000.0',\n",
       "   'Preferred Dividends': '',\n",
       "   'Net Income Com': '73000000.0',\n",
       "   'EPS': '0.005268',\n",
       "   'EPS Diluted': '0.005268',\n",
       "   'Weighted Average Shs Out': '13736128000.0',\n",
       "   'Weighted Average Shs Out (Dil)': '13736128000.0',\n",
       "   'Dividend per Share': '',\n",
       "   'Gross Margin': '0.262066365007541',\n",
       "   'EBITDA Margin': '0.058446455505279',\n",
       "   'EBIT Margin': '',\n",
       "   'Profit Margin': '0.027526395173454',\n",
       "   'Free Cash Flow margin': '',\n",
       "   'EBITDA': '155000000.0',\n",
       "   'EBIT': '',\n",
       "   'Consolidated Income': '',\n",
       "   'Earnings Before Tax Margin': '0.0437405731523379',\n",
       "   'Net Profit Margin': '0.027526395173454'},\n",
       "  {'date': '1994-12-30',\n",
       "   'Revenue': '2832000000.0',\n",
       "   'Revenue Growth': '0.135850439942',\n",
       "   'Cost of Revenue': '2018000000.0',\n",
       "   'Gross Profit': '814000000.0',\n",
       "   'R&D Expenses': '132000000.0',\n",
       "   'SG&A Expense': '0.0',\n",
       "   'Operating Expenses': '547000000.0',\n",
       "   'Operating Income': '284000000.0',\n",
       "   'Interest Expense': '0.0',\n",
       "   'Earnings before Tax': '299000000.0',\n",
       "   'Income Tax Expense': '111000000.0',\n",
       "   'Net Income - Non-Controlling int': '',\n",
       "   'Net Income - Discontinued ops': '',\n",
       "   'Net Income': '188000000.0',\n",
       "   'Preferred Dividends': '',\n",
       "   'Net Income Com': '188000000.0',\n",
       "   'EPS': '0.013839',\n",
       "   'EPS Diluted': '0.013839',\n",
       "   'Weighted Average Shs Out': '13619221056.0',\n",
       "   'Weighted Average Shs Out (Dil)': '13625472000.0',\n",
       "   'Dividend per Share': '',\n",
       "   'Gross Margin': '0.287429378531073',\n",
       "   'EBITDA Margin': '0.118997175141243',\n",
       "   'EBIT Margin': '',\n",
       "   'Profit Margin': '0.0663841807909605',\n",
       "   'Free Cash Flow margin': '',\n",
       "   'EBITDA': '337000000.0',\n",
       "   'EBIT': '',\n",
       "   'Consolidated Income': '',\n",
       "   'Earnings Before Tax Margin': '0.105579096045198',\n",
       "   'Net Profit Margin': '0.0663841807909605'},\n",
       "  {'date': '1994-09-30',\n",
       "   'Revenue': '2493286000.0',\n",
       "   'Revenue Growth': '0.159717532099',\n",
       "   'Cost of Revenue': '1814413000.0',\n",
       "   'Gross Profit': '678873000.0',\n",
       "   'R&D Expenses': '142110000.0',\n",
       "   'SG&A Expense': '0.0',\n",
       "   'Operating Expenses': '488462000.0',\n",
       "   'Operating Income': '190411000.0',\n",
       "   'Interest Expense': '0.0',\n",
       "   'Earnings before Tax': '184927000.0',\n",
       "   'Income Tax Expense': '70272000.0',\n",
       "   'Net Income - Non-Controlling int': '',\n",
       "   'Net Income - Discontinued ops': '',\n",
       "   'Net Income': '114655000.0',\n",
       "   'Preferred Dividends': '',\n",
       "   'Net Income Com': '114655000.0',\n",
       "   'EPS': '0.0084',\n",
       "   'EPS Diluted': '0.0084',\n",
       "   'Weighted Average Shs Out': '13619221056.0',\n",
       "   'Weighted Average Shs Out (Dil)': '13625472000.0',\n",
       "   'Dividend per Share': '',\n",
       "   'Gross Margin': '0.272280436339834',\n",
       "   'EBITDA Margin': '0.0924671297235857',\n",
       "   'EBIT Margin': '',\n",
       "   'Profit Margin': '0.0459854986551884',\n",
       "   'Free Cash Flow margin': '',\n",
       "   'EBITDA': '230547000.0',\n",
       "   'EBIT': '',\n",
       "   'Consolidated Income': '',\n",
       "   'Earnings Before Tax Margin': '0.0741699909276353',\n",
       "   'Net Profit Margin': '0.0459854986551884'},\n",
       "  {'date': '1994-07-01',\n",
       "   'Revenue': '2149908000.0',\n",
       "   'Revenue Growth': '0.0351025517573',\n",
       "   'Cost of Revenue': '1576036000.0',\n",
       "   'Gross Profit': '573872000.0',\n",
       "   'R&D Expenses': '135439000.0',\n",
       "   'SG&A Expense': '0.0',\n",
       "   'Operating Expenses': '468306000.0',\n",
       "   'Operating Income': '232421000.0',\n",
       "   'Interest Expense': '0.0',\n",
       "   'Earnings before Tax': '222743000.0',\n",
       "   'Income Tax Expense': '84642000.0',\n",
       "   'Net Income - Non-Controlling int': '',\n",
       "   'Net Income - Discontinued ops': '',\n",
       "   'Net Income': '138101000.0',\n",
       "   'Preferred Dividends': '',\n",
       "   'Net Income Com': '138101000.0',\n",
       "   'EPS': '0.010357',\n",
       "   'EPS Diluted': '0.010357',\n",
       "   'Weighted Average Shs Out': '13312320000.0',\n",
       "   'Weighted Average Shs Out (Dil)': '13312320000.0',\n",
       "   'Dividend per Share': '',\n",
       "   'Gross Margin': '0.266928631364691',\n",
       "   'EBITDA Margin': '0.122833628229673',\n",
       "   'EBIT Margin': '',\n",
       "   'Profit Margin': '0.0642357719493113',\n",
       "   'Free Cash Flow margin': '',\n",
       "   'EBITDA': '264081000.0',\n",
       "   'EBIT': '',\n",
       "   'Consolidated Income': '',\n",
       "   'Earnings Before Tax Margin': '0.103605828714531',\n",
       "   'Net Profit Margin': '0.0642357719493113'},\n",
       "  {'date': '1994-04-01',\n",
       "   'Revenue': '2077000000.0',\n",
       "   'Revenue Growth': '-0.158718984598',\n",
       "   'Cost of Revenue': '1578000000.0',\n",
       "   'Gross Profit': '499000000.0',\n",
       "   'R&D Expenses': '134000000.0',\n",
       "   'SG&A Expense': '0.0',\n",
       "   'Operating Expenses': '464000000.0',\n",
       "   'Operating Income': '35000000.0',\n",
       "   'Interest Expense': '8000000.0',\n",
       "   'Earnings before Tax': '28000000.0',\n",
       "   'Income Tax Expense': '11000000.0',\n",
       "   'Net Income - Non-Controlling int': '',\n",
       "   'Net Income - Discontinued ops': '',\n",
       "   'Net Income': '17000000.0',\n",
       "   'Preferred Dividends': '',\n",
       "   'Net Income Com': '17000000.0',\n",
       "   'EPS': '0.001339',\n",
       "   'EPS Diluted': '0.001339',\n",
       "   'Weighted Average Shs Out': '13321728000.0',\n",
       "   'Weighted Average Shs Out (Dil)': '13321728000.0',\n",
       "   'Dividend per Share': '',\n",
       "   'Gross Margin': '0.240250361097737',\n",
       "   'EBITDA Margin': '0.0358180067404911',\n",
       "   'EBIT Margin': '',\n",
       "   'Profit Margin': '0.00818488204140587',\n",
       "   'Free Cash Flow margin': '',\n",
       "   'EBITDA': '74394000.0',\n",
       "   'EBIT': '',\n",
       "   'Consolidated Income': '',\n",
       "   'Earnings Before Tax Margin': '0.013480982185845',\n",
       "   'Net Profit Margin': '0.00818488204140587'},\n",
       "  {'date': '1993-12-31',\n",
       "   'Revenue': '2468854000.0',\n",
       "   'Revenue Growth': '0.325915145005',\n",
       "   'Cost of Revenue': '1876830000.0',\n",
       "   'Gross Profit': '592024000.0',\n",
       "   'R&D Expenses': '152612000.0',\n",
       "   'SG&A Expense': '0.0',\n",
       "   'Operating Expenses': '527317000.0',\n",
       "   'Operating Income': '64707000.0',\n",
       "   'Interest Expense': '0.0',\n",
       "   'Earnings before Tax': '64544000.0',\n",
       "   'Income Tax Expense': '24526000.0',\n",
       "   'Net Income - Non-Controlling int': '',\n",
       "   'Net Income - Discontinued ops': '',\n",
       "   'Net Income': '40018000.0',\n",
       "   'Preferred Dividends': '',\n",
       "   'Net Income Com': '40018000.0',\n",
       "   'EPS': '0.003036',\n",
       "   'EPS Diluted': '0.003036',\n",
       "   'Weighted Average Shs Out': '13099072000.0',\n",
       "   'Weighted Average Shs Out (Dil)': '13099072000.0',\n",
       "   'Dividend per Share': '',\n",
       "   'Gross Margin': '0.239797088041658',\n",
       "   'EBITDA Margin': '0.0434007033222702',\n",
       "   'EBIT Margin': '',\n",
       "   'Profit Margin': '0.0162091399491424',\n",
       "   'Free Cash Flow margin': '',\n",
       "   'EBITDA': '107150000.0',\n",
       "   'EBIT': '',\n",
       "   'Consolidated Income': '',\n",
       "   'Earnings Before Tax Margin': '0.0261433037352553',\n",
       "   'Net Profit Margin': '0.0162091399491424'},\n",
       "  {'date': '1993-09-30',\n",
       "   'Revenue': '2140800000.0',\n",
       "   'Revenue Growth': '',\n",
       "   'Cost of Revenue': '1547900000.0',\n",
       "   'Gross Profit': '592900000.0',\n",
       "   'R&D Expenses': '0.0',\n",
       "   'SG&A Expense': '0.0',\n",
       "   'Operating Expenses': '585800000.0',\n",
       "   'Operating Income': '7100000.0',\n",
       "   'Interest Expense': '0.0',\n",
       "   'Earnings before Tax': '4400000.0',\n",
       "   'Income Tax Expense': '1700000.0',\n",
       "   'Net Income - Non-Controlling int': '',\n",
       "   'Net Income - Discontinued ops': '',\n",
       "   'Net Income': '2700000.0',\n",
       "   'Preferred Dividends': '',\n",
       "   'Net Income Com': '2700000.0',\n",
       "   'EPS': '0.00021',\n",
       "   'EPS Diluted': '0.00021',\n",
       "   'Weighted Average Shs Out': '13099072000.0',\n",
       "   'Weighted Average Shs Out (Dil)': '13099072000.0',\n",
       "   'Dividend per Share': '',\n",
       "   'Gross Margin': '0.276952541106129',\n",
       "   'EBITDA Margin': '0.0219076980568012',\n",
       "   'EBIT Margin': '',\n",
       "   'Profit Margin': '0.00126121076233184',\n",
       "   'Free Cash Flow margin': '',\n",
       "   'EBITDA': '46900000.0',\n",
       "   'EBIT': '',\n",
       "   'Consolidated Income': '',\n",
       "   'Earnings Before Tax Margin': '0.00205530642750374',\n",
       "   'Net Profit Margin': '0.00126121076233184'},\n",
       "  {'date': '1993-06-30',\n",
       "   'Revenue': '1862000000.0',\n",
       "   'Revenue Growth': '-0.056689801915',\n",
       "   'Cost of Revenue': '1214600000.0',\n",
       "   'Gross Profit': '647400000.0',\n",
       "   'R&D Expenses': '0.0',\n",
       "   'SG&A Expense': '0.0',\n",
       "   'Operating Expenses': '954100000.0',\n",
       "   'Operating Income': '-306700000.0',\n",
       "   'Interest Expense': '0.0',\n",
       "   'Earnings before Tax': '-303700000.0',\n",
       "   'Income Tax Expense': '-115400000.0',\n",
       "   'Net Income - Non-Controlling int': '',\n",
       "   'Net Income - Discontinued ops': '',\n",
       "   'Net Income': '-188300000.0',\n",
       "   'Preferred Dividends': '',\n",
       "   'Net Income Com': '-188300000.0',\n",
       "   'EPS': '-0.014643',\n",
       "   'EPS Diluted': '-0.014643',\n",
       "   'Weighted Average Shs Out': '12859512195.0',\n",
       "   'Weighted Average Shs Out (Dil)': '12859512195.0',\n",
       "   'Dividend per Share': '',\n",
       "   'Gross Margin': '0.347690655209452',\n",
       "   'EBITDA Margin': '-0.140870032223416',\n",
       "   'EBIT Margin': '',\n",
       "   'Profit Margin': '-0.101127819548872',\n",
       "   'Free Cash Flow margin': '',\n",
       "   'EBITDA': '-262300000.0',\n",
       "   'EBIT': '',\n",
       "   'Consolidated Income': '',\n",
       "   'Earnings Before Tax Margin': '-0.163104189044039',\n",
       "   'Net Profit Margin': '-0.101127819548872'},\n",
       "  {'date': '1993-03-31',\n",
       "   'Revenue': '1973900000.0',\n",
       "   'Revenue Growth': '-0.013198020297',\n",
       "   'Cost of Revenue': '1172000000.0',\n",
       "   'Gross Profit': '801900000.0',\n",
       "   'R&D Expenses': '0.0',\n",
       "   'SG&A Expense': '0.0',\n",
       "   'Operating Expenses': '632800000.0',\n",
       "   'Operating Income': '169100000.0',\n",
       "   'Interest Expense': '0.0',\n",
       "   'Earnings before Tax': '178900000.0',\n",
       "   'Income Tax Expense': '68000000.0',\n",
       "   'Net Income - Non-Controlling int': '',\n",
       "   'Net Income - Discontinued ops': '',\n",
       "   'Net Income': '110900000.0',\n",
       "   'Preferred Dividends': '',\n",
       "   'Net Income Com': '110900000.0',\n",
       "   'EPS': '0.008214',\n",
       "   'EPS Diluted': '0.008214',\n",
       "   'Weighted Average Shs Out': '13500869565.0',\n",
       "   'Weighted Average Shs Out (Dil)': '13500869565.0',\n",
       "   'Dividend per Share': '',\n",
       "   'Gross Margin': '0.406251583160241',\n",
       "   'EBITDA Margin': '0.11231572014793',\n",
       "   'EBIT Margin': '',\n",
       "   'Profit Margin': '0.0561831906378236',\n",
       "   'Free Cash Flow margin': '',\n",
       "   'EBITDA': '221700000.0',\n",
       "   'EBIT': '',\n",
       "   'Consolidated Income': '',\n",
       "   'Earnings Before Tax Margin': '0.0906327574851816',\n",
       "   'Net Profit Margin': '0.0561831906378236'},\n",
       "  {'date': '1992-12-31',\n",
       "   'Revenue': '2000300000.0',\n",
       "   'Revenue Growth': '0.149465578669',\n",
       "   'Cost of Revenue': '1150000000.0',\n",
       "   'Gross Profit': '850300000.0',\n",
       "   'R&D Expenses': '0.0',\n",
       "   'SG&A Expense': '0.0',\n",
       "   'Operating Expenses': '609500000.0',\n",
       "   'Operating Income': '240800000.0',\n",
       "   'Interest Expense': '0.0',\n",
       "   'Earnings before Tax': '260200000.0',\n",
       "   'Income Tax Expense': '98900000.0',\n",
       "   'Net Income - Non-Controlling int': '',\n",
       "   'Net Income - Discontinued ops': '',\n",
       "   'Net Income': '161300000.0',\n",
       "   'Preferred Dividends': '',\n",
       "   'Net Income Com': '161300000.0',\n",
       "   'EPS': '0.011964',\n",
       "   'EPS Diluted': '0.011964',\n",
       "   'Weighted Average Shs Out': '13481791045.0',\n",
       "   'Weighted Average Shs Out (Dil)': '13481791045.0',\n",
       "   'Dividend per Share': '',\n",
       "   'Gross Margin': '0.42508623706444',\n",
       "   'EBITDA Margin': '0.149777533369994',\n",
       "   'EBIT Margin': '',\n",
       "   'Profit Margin': '0.0806379043143528',\n",
       "   'Free Cash Flow margin': '',\n",
       "   'EBITDA': '299600000.0',\n",
       "   'EBIT': '',\n",
       "   'Consolidated Income': '',\n",
       "   'Earnings Before Tax Margin': '0.130080487926811',\n",
       "   'Net Profit Margin': '0.0806379043143528'},\n",
       "  {'date': '1992-09-30',\n",
       "   'Revenue': '1767700000.0',\n",
       "   'Revenue Growth': '',\n",
       "   'Cost of Revenue': '952700000.0',\n",
       "   'Gross Profit': '815000000.0',\n",
       "   'R&D Expenses': '0.0',\n",
       "   'SG&A Expense': '0.0',\n",
       "   'Operating Expenses': '683400000.0',\n",
       "   'Operating Income': '131600000.0',\n",
       "   'Interest Expense': '0.0',\n",
       "   'Earnings before Tax': '157500000.0',\n",
       "   'Income Tax Expense': '59900000.0',\n",
       "   'Net Income - Non-Controlling int': '',\n",
       "   'Net Income - Discontinued ops': '',\n",
       "   'Net Income': '97600000.0',\n",
       "   'Preferred Dividends': '',\n",
       "   'Net Income Com': '97600000.0',\n",
       "   'EPS': '0.0072',\n",
       "   'EPS Diluted': '0.0072',\n",
       "   'Weighted Average Shs Out': '13481791045.0',\n",
       "   'Weighted Average Shs Out (Dil)': '13481791045.0',\n",
       "   'Dividend per Share': '',\n",
       "   'Gross Margin': '0.461051083328619',\n",
       "   'EBITDA Margin': '0.123041240029417',\n",
       "   'EBIT Margin': '',\n",
       "   'Profit Margin': '0.0552129886292923',\n",
       "   'Free Cash Flow margin': '',\n",
       "   'EBITDA': '217500000.0',\n",
       "   'EBIT': '',\n",
       "   'Consolidated Income': '',\n",
       "   'Earnings Before Tax Margin': '0.089098828986819',\n",
       "   'Net Profit Margin': '0.0552129886292923'},\n",
       "  {'date': '1992-06-30',\n",
       "   'Revenue': '1740200000.0',\n",
       "   'Revenue Growth': '0.0141025641026',\n",
       "   'Cost of Revenue': '911700000.0',\n",
       "   'Gross Profit': '828500000.0',\n",
       "   'R&D Expenses': '0.0',\n",
       "   'SG&A Expense': '0.0',\n",
       "   'Operating Expenses': '627400000.0',\n",
       "   'Operating Income': '201100000.0',\n",
       "   'Interest Expense': '0.0',\n",
       "   'Earnings before Tax': '212400000.0',\n",
       "   'Income Tax Expense': '80700000.0',\n",
       "   'Net Income - Non-Controlling int': '',\n",
       "   'Net Income - Discontinued ops': '',\n",
       "   'Net Income': '131700000.0',\n",
       "   'Preferred Dividends': '',\n",
       "   'Net Income Com': '131700000.0',\n",
       "   'EPS': '0.009643',\n",
       "   'EPS Diluted': '0.009643',\n",
       "   'Weighted Average Shs Out': '13657777778.0',\n",
       "   'Weighted Average Shs Out (Dil)': '13657777778.0',\n",
       "   'Dividend per Share': '',\n",
       "   'Gross Margin': '0.476094701758419',\n",
       "   'EBITDA Margin': '0.154924721296403',\n",
       "   'EBIT Margin': '',\n",
       "   'Profit Margin': '0.0756809562119297',\n",
       "   'Free Cash Flow margin': '',\n",
       "   'EBITDA': '269600000.0',\n",
       "   'EBIT': '',\n",
       "   'Consolidated Income': '',\n",
       "   'Earnings Before Tax Margin': '0.122054936214228',\n",
       "   'Net Profit Margin': '0.0756809562119297'},\n",
       "  {'date': '1992-03-31',\n",
       "   'Revenue': '1716000000.0',\n",
       "   'Revenue Growth': '-0.0787071835069',\n",
       "   'Cost of Revenue': '910200000.0',\n",
       "   'Gross Profit': '805800000.0',\n",
       "   'R&D Expenses': '0.0',\n",
       "   'SG&A Expense': '0.0',\n",
       "   'Operating Expenses': '595400000.0',\n",
       "   'Operating Income': '210400000.0',\n",
       "   'Interest Expense': '0.0',\n",
       "   'Earnings before Tax': '217900000.0',\n",
       "   'Income Tax Expense': '82800000.0',\n",
       "   'Net Income - Non-Controlling int': '',\n",
       "   'Net Income - Discontinued ops': '',\n",
       "   'Net Income': '135100000.0',\n",
       "   'Preferred Dividends': '',\n",
       "   'Net Income Com': '135100000.0',\n",
       "   'EPS': '0.009821',\n",
       "   'EPS Diluted': '0.009821',\n",
       "   'Weighted Average Shs Out': '13755636364.0',\n",
       "   'Weighted Average Shs Out (Dil)': '13755636364.0',\n",
       "   'Dividend per Share': '',\n",
       "   'Gross Margin': '0.46958041958042',\n",
       "   'EBITDA Margin': '0.156235431235431',\n",
       "   'EBIT Margin': '',\n",
       "   'Profit Margin': '0.0787296037296037',\n",
       "   'Free Cash Flow margin': '',\n",
       "   'EBITDA': '268100000.0',\n",
       "   'EBIT': '',\n",
       "   'Consolidated Income': '',\n",
       "   'Earnings Before Tax Margin': '0.126981351981352',\n",
       "   'Net Profit Margin': '0.0787296037296037'},\n",
       "  {'date': '1991-12-31',\n",
       "   'Revenue': '1862600000.0',\n",
       "   'Revenue Growth': '0.218500588774',\n",
       "   'Cost of Revenue': '999600000.0',\n",
       "   'Gross Profit': '863000000.0',\n",
       "   'R&D Expenses': '0.0',\n",
       "   'SG&A Expense': '0.0',\n",
       "   'Operating Expenses': '600400000.0',\n",
       "   'Operating Income': '262600000.0',\n",
       "   'Interest Expense': '0.0',\n",
       "   'Earnings before Tax': '267800000.0',\n",
       "   'Income Tax Expense': '101800000.0',\n",
       "   'Net Income - Non-Controlling int': '',\n",
       "   'Net Income - Discontinued ops': '',\n",
       "   'Net Income': '166000000.0',\n",
       "   'Preferred Dividends': '',\n",
       "   'Net Income Com': '166000000.0',\n",
       "   'EPS': '0.012143',\n",
       "   'EPS Diluted': '0.012143',\n",
       "   'Weighted Average Shs Out': '13670588235.0',\n",
       "   'Weighted Average Shs Out (Dil)': '13670588235.0',\n",
       "   'Dividend per Share': '',\n",
       "   'Gross Margin': '0.463330827875013',\n",
       "   'EBITDA Margin': '0.170514334800816',\n",
       "   'EBIT Margin': '',\n",
       "   'Profit Margin': '0.0891227316654139',\n",
       "   'Free Cash Flow margin': '',\n",
       "   'EBITDA': '317600000.0',\n",
       "   'EBIT': '',\n",
       "   'Consolidated Income': '',\n",
       "   'Earnings Before Tax Margin': '0.143777515301192',\n",
       "   'Net Profit Margin': '0.0891227316654139'},\n",
       "  {'date': '1991-09-30',\n",
       "   'Revenue': '1507000000.0',\n",
       "   'Revenue Growth': '',\n",
       "   'Cost of Revenue': '794300000.0',\n",
       "   'Gross Profit': '712700000.0',\n",
       "   'R&D Expenses': '0.0',\n",
       "   'SG&A Expense': '0.0',\n",
       "   'Operating Expenses': '591400000.0',\n",
       "   'Operating Income': '121300000.0',\n",
       "   'Interest Expense': '0.0',\n",
       "   'Earnings before Tax': '131000000.0',\n",
       "   'Income Tax Expense': '49800000.0',\n",
       "   'Net Income - Non-Controlling int': '',\n",
       "   'Net Income - Discontinued ops': '',\n",
       "   'Net Income': '81200000.0',\n",
       "   'Preferred Dividends': '',\n",
       "   'Net Income Com': '81200000.0',\n",
       "   'EPS': '0.0059',\n",
       "   'EPS Diluted': '0.0059',\n",
       "   'Weighted Average Shs Out': '13670588235.0',\n",
       "   'Weighted Average Shs Out (Dil)': '13670588235.0',\n",
       "   'Dividend per Share': '',\n",
       "   'Gross Margin': '0.472926343729263',\n",
       "   'EBITDA Margin': '0.125348374253484',\n",
       "   'EBIT Margin': '',\n",
       "   'Profit Margin': '0.0538818845388188',\n",
       "   'Free Cash Flow margin': '',\n",
       "   'EBITDA': '188900000.0',\n",
       "   'EBIT': '',\n",
       "   'Consolidated Income': '',\n",
       "   'Earnings Before Tax Margin': '0.0869276708692767',\n",
       "   'Net Profit Margin': '0.0538818845388188'},\n",
       "  {'date': '1991-06-30',\n",
       "   'Revenue': '1528600000.0',\n",
       "   'Revenue Growth': '-0.0432496714026',\n",
       "   'Cost of Revenue': '774900000.0',\n",
       "   'Gross Profit': '753700000.0',\n",
       "   'R&D Expenses': '0.0',\n",
       "   'SG&A Expense': '0.0',\n",
       "   'Operating Expenses': '842500000.0',\n",
       "   'Operating Income': '-88800000.0',\n",
       "   'Interest Expense': '0.0',\n",
       "   'Earnings before Tax': '-85600000.0',\n",
       "   'Income Tax Expense': '-32500000.0',\n",
       "   'Net Income - Non-Controlling int': '',\n",
       "   'Net Income - Discontinued ops': '',\n",
       "   'Net Income': '-53100000.0',\n",
       "   'Preferred Dividends': '',\n",
       "   'Net Income Com': '-53100000.0',\n",
       "   'EPS': '-0.003929',\n",
       "   'EPS Diluted': '-0.003929',\n",
       "   'Weighted Average Shs Out': '13516363636.0',\n",
       "   'Weighted Average Shs Out (Dil)': '13516363636.0',\n",
       "   'Dividend per Share': '',\n",
       "   'Gross Margin': '0.493065550176632',\n",
       "   'EBITDA Margin': '-0.0209996074839723',\n",
       "   'EBIT Margin': '',\n",
       "   'Profit Margin': '-0.0347376684547952',\n",
       "   'Free Cash Flow margin': '',\n",
       "   'EBITDA': '-32100000.0',\n",
       "   'EBIT': '',\n",
       "   'Consolidated Income': '',\n",
       "   'Earnings Before Tax Margin': '-0.0559989532905927',\n",
       "   'Net Profit Margin': '-0.0347376684547952'},\n",
       "  {'date': '1991-03-31',\n",
       "   'Revenue': '1597700000.0',\n",
       "   'Revenue Growth': '-0.0464339003283',\n",
       "   'Cost of Revenue': '772700000.0',\n",
       "   'Gross Profit': '825000000.0',\n",
       "   'R&D Expenses': '0.0',\n",
       "   'SG&A Expense': '0.0',\n",
       "   'Operating Expenses': '638400000.0',\n",
       "   'Operating Income': '186600000.0',\n",
       "   'Interest Expense': '0.0',\n",
       "   'Earnings before Tax': '211500000.0',\n",
       "   'Income Tax Expense': '80400000.0',\n",
       "   'Net Income - Non-Controlling int': '',\n",
       "   'Net Income - Discontinued ops': '',\n",
       "   'Net Income': '131100000.0',\n",
       "   'Preferred Dividends': '',\n",
       "   'Net Income Com': '131100000.0',\n",
       "   'EPS': '0.009643',\n",
       "   'EPS Diluted': '0.009643',\n",
       "   'Weighted Average Shs Out': '13595555556.0',\n",
       "   'Weighted Average Shs Out (Dil)': '13595555556.0',\n",
       "   'Dividend per Share': '',\n",
       "   'Gross Margin': '0.51636727796207',\n",
       "   'EBITDA Margin': '0.161106590724166',\n",
       "   'EBIT Margin': '',\n",
       "   'Profit Margin': '0.0820554547161545',\n",
       "   'Free Cash Flow margin': '',\n",
       "   'EBITDA': '257400000.0',\n",
       "   'EBIT': '',\n",
       "   'Consolidated Income': '',\n",
       "   'Earnings Before Tax Margin': '0.132377793077549',\n",
       "   'Net Profit Margin': '0.0820554547161545'},\n",
       "  {'date': '1990-12-31',\n",
       "   'Revenue': '1675500000.0',\n",
       "   'Revenue Growth': '0.227652403283',\n",
       "   'Cost of Revenue': '767700000.0',\n",
       "   'Gross Profit': '907800000.0',\n",
       "   'R&D Expenses': '0.0',\n",
       "   'SG&A Expense': '0.0',\n",
       "   'Operating Expenses': '679400000.0',\n",
       "   'Operating Income': '228400000.0',\n",
       "   'Interest Expense': '0.0',\n",
       "   'Earnings before Tax': '242700000.0',\n",
       "   'Income Tax Expense': '92200000.0',\n",
       "   'Net Income - Non-Controlling int': '',\n",
       "   'Net Income - Discontinued ops': '',\n",
       "   'Net Income': '150500000.0',\n",
       "   'Preferred Dividends': '',\n",
       "   'Net Income Com': '150500000.0',\n",
       "   'EPS': '0.011429',\n",
       "   'EPS Diluted': '0.011429',\n",
       "   'Weighted Average Shs Out': '13168750000.0',\n",
       "   'Weighted Average Shs Out (Dil)': '13168750000.0',\n",
       "   'Dividend per Share': '',\n",
       "   'Gross Margin': '0.541808415398389',\n",
       "   'EBITDA Margin': '0.172963294538944',\n",
       "   'EBIT Margin': '',\n",
       "   'Profit Margin': '0.0898239331542823',\n",
       "   'Free Cash Flow margin': '',\n",
       "   'EBITDA': '289800000.0',\n",
       "   'EBIT': '',\n",
       "   'Consolidated Income': '',\n",
       "   'Earnings Before Tax Margin': '0.144852282900627',\n",
       "   'Net Profit Margin': '0.0898239331542823'},\n",
       "  {'date': '1990-09-30',\n",
       "   'Revenue': '1354100000.0',\n",
       "   'Revenue Growth': '',\n",
       "   'Cost of Revenue': '591400000.0',\n",
       "   'Gross Profit': '762700000.0',\n",
       "   'R&D Expenses': '0.0',\n",
       "   'SG&A Expense': '0.0',\n",
       "   'Operating Expenses': '622100000.0',\n",
       "   'Operating Income': '140600000.0',\n",
       "   'Interest Expense': '0.0',\n",
       "   'Earnings before Tax': '161400000.0',\n",
       "   'Income Tax Expense': '62900000.0',\n",
       "   'Net Income - Non-Controlling int': '',\n",
       "   'Net Income - Discontinued ops': '',\n",
       "   'Net Income': '98500000.0',\n",
       "   'Preferred Dividends': '',\n",
       "   'Net Income Com': '98500000.0',\n",
       "   'EPS': '0.0075',\n",
       "   'EPS Diluted': '0.0075',\n",
       "   'Weighted Average Shs Out': '13168750000.0',\n",
       "   'Weighted Average Shs Out (Dil)': '13168750000.0',\n",
       "   'Dividend per Share': '',\n",
       "   'Gross Margin': '0.563252344730818',\n",
       "   'EBITDA Margin': '0.164094232331438',\n",
       "   'EBIT Margin': '',\n",
       "   'Profit Margin': '0.0727420426851784',\n",
       "   'Free Cash Flow margin': '',\n",
       "   'EBITDA': '222200000.0',\n",
       "   'EBIT': '',\n",
       "   'Consolidated Income': '',\n",
       "   'Earnings Before Tax Margin': '0.119193560298353',\n",
       "   'Net Profit Margin': '0.0727420426851784'},\n",
       "  {'date': '1990-06-30',\n",
       "   'Revenue': '1364800000.0',\n",
       "   'Revenue Growth': '0.0138166691428',\n",
       "   'Cost of Revenue': '578300000.0',\n",
       "   'Gross Profit': '786500000.0',\n",
       "   'R&D Expenses': '0.0',\n",
       "   'SG&A Expense': '0.0',\n",
       "   'Operating Expenses': '604200000.0',\n",
       "   'Operating Income': '182300000.0',\n",
       "   'Interest Expense': '0.0',\n",
       "   'Earnings before Tax': '196400000.0',\n",
       "   'Income Tax Expense': '76600000.0',\n",
       "   'Net Income - Non-Controlling int': '',\n",
       "   'Net Income - Discontinued ops': '',\n",
       "   'Net Income': '119800000.0',\n",
       "   'Preferred Dividends': '',\n",
       "   'Net Income Com': '119800000.0',\n",
       "   'EPS': '0.008571',\n",
       "   'EPS Diluted': '0.008571',\n",
       "   'Weighted Average Shs Out': '13976666667.0',\n",
       "   'Weighted Average Shs Out (Dil)': '13976666667.0',\n",
       "   'Dividend per Share': '',\n",
       "   'Gross Margin': '0.576274912075029',\n",
       "   'EBITDA Margin': '0.180466002344666',\n",
       "   'EBIT Margin': '',\n",
       "   'Profit Margin': '0.087778429073857',\n",
       "   'Free Cash Flow margin': '',\n",
       "   'EBITDA': '246300000.0',\n",
       "   'EBIT': '',\n",
       "   'Consolidated Income': '',\n",
       "   'Earnings Before Tax Margin': '0.14390386869871',\n",
       "   'Net Profit Margin': '0.087778429073857'},\n",
       "  {'date': '1990-03-31',\n",
       "   'Revenue': '1346200000.0',\n",
       "   'Revenue Growth': '-0.0985670282577',\n",
       "   'Cost of Revenue': '565300000.0',\n",
       "   'Gross Profit': '780900000.0',\n",
       "   'R&D Expenses': '0.0',\n",
       "   'SG&A Expense': '0.0',\n",
       "   'Operating Expenses': '581700000.0',\n",
       "   'Operating Income': '199200000.0',\n",
       "   'Interest Expense': '0.0',\n",
       "   'Earnings before Tax': '216100000.0',\n",
       "   'Income Tax Expense': '84300000.0',\n",
       "   'Net Income - Non-Controlling int': '',\n",
       "   'Net Income - Discontinued ops': '',\n",
       "   'Net Income': '131800000.0',\n",
       "   'Preferred Dividends': '',\n",
       "   'Net Income Com': '131800000.0',\n",
       "   'EPS': '0.009286',\n",
       "   'EPS Diluted': '0.009286',\n",
       "   'Weighted Average Shs Out': '14193846154.0',\n",
       "   'Weighted Average Shs Out (Dil)': '14193846154.0',\n",
       "   'Dividend per Share': '',\n",
       "   'Gross Margin': '0.580077254494132',\n",
       "   'EBITDA Margin': '0.193359084831377',\n",
       "   'EBIT Margin': '',\n",
       "   'Profit Margin': '0.0979052146783539',\n",
       "   'Free Cash Flow margin': '',\n",
       "   'EBITDA': '260300000.0',\n",
       "   'EBIT': '',\n",
       "   'Consolidated Income': '',\n",
       "   'Earnings Before Tax Margin': '0.160525924825435',\n",
       "   'Net Profit Margin': '0.0979052146783539'},\n",
       "  {'date': '1989-12-31',\n",
       "   'Revenue': '1493400000.0',\n",
       "   'Revenue Growth': '0.196442877744',\n",
       "   'Cost of Revenue': '668500000.0',\n",
       "   'Gross Profit': '824900000.0',\n",
       "   'R&D Expenses': '0.0',\n",
       "   'SG&A Expense': '0.0',\n",
       "   'Operating Expenses': '634900000.0',\n",
       "   'Operating Income': '190000000.0',\n",
       "   'Interest Expense': '0.0',\n",
       "   'Earnings before Tax': '204600000.0',\n",
       "   'Income Tax Expense': '79800000.0',\n",
       "   'Net Income - Non-Controlling int': '',\n",
       "   'Net Income - Discontinued ops': '',\n",
       "   'Net Income': '124800000.0',\n",
       "   'Preferred Dividends': '',\n",
       "   'Net Income Com': '124800000.0',\n",
       "   'EPS': '0.008571',\n",
       "   'EPS Diluted': '0.008571',\n",
       "   'Weighted Average Shs Out': '14560000000.0',\n",
       "   'Weighted Average Shs Out (Dil)': '14560000000.0',\n",
       "   'Dividend per Share': '',\n",
       "   'Gross Margin': '0.552363733761886',\n",
       "   'EBITDA Margin': '0.169010312039641',\n",
       "   'EBIT Margin': '',\n",
       "   'Profit Margin': '0.0835676978706308',\n",
       "   'Free Cash Flow margin': '',\n",
       "   'EBITDA': '252400000.0',\n",
       "   'EBIT': '',\n",
       "   'Consolidated Income': '',\n",
       "   'Earnings Before Tax Margin': '0.137002812374448',\n",
       "   'Net Profit Margin': '0.0835676978706308'},\n",
       "  {'date': '1989-09-30',\n",
       "   'Revenue': '1383700000.0',\n",
       "   'Revenue Growth': '',\n",
       "   'Cost of Revenue': '0.0',\n",
       "   'Gross Profit': '0.0',\n",
       "   'R&D Expenses': '0.0',\n",
       "   'SG&A Expense': '0.0',\n",
       "   'Operating Expenses': '0.0',\n",
       "   'Operating Income': '-3266000000.0',\n",
       "   'Interest Expense': '0.0',\n",
       "   'Earnings before Tax': '0.0',\n",
       "   'Income Tax Expense': '0.0',\n",
       "   'Net Income - Non-Controlling int': '',\n",
       "   'Net Income - Discontinued ops': '',\n",
       "   'Net Income': '0.0',\n",
       "   'Preferred Dividends': '',\n",
       "   'Net Income Com': '0.0',\n",
       "   'EPS': '0.0',\n",
       "   'EPS Diluted': '0.0',\n",
       "   'Weighted Average Shs Out': '14560000000.0',\n",
       "   'Weighted Average Shs Out (Dil)': '14560000000.0',\n",
       "   'Dividend per Share': '',\n",
       "   'Gross Margin': '0.0',\n",
       "   'EBITDA Margin': '-2.36033822360338',\n",
       "   'EBIT Margin': '',\n",
       "   'Profit Margin': '0.0',\n",
       "   'Free Cash Flow margin': '',\n",
       "   'EBITDA': '-3266000000.0',\n",
       "   'EBIT': '',\n",
       "   'Consolidated Income': '',\n",
       "   'Earnings Before Tax Margin': '0.0',\n",
       "   'Net Profit Margin': '0.0'},\n",
       "  {'date': '1989-06-30',\n",
       "   'Revenue': '1248200000.0',\n",
       "   'Revenue Growth': '0.00104258561232',\n",
       "   'Cost of Revenue': '0.0',\n",
       "   'Gross Profit': '0.0',\n",
       "   'R&D Expenses': '0.0',\n",
       "   'SG&A Expense': '0.0',\n",
       "   'Operating Expenses': '0.0',\n",
       "   'Operating Income': '1248200000.0',\n",
       "   'Interest Expense': '0.0',\n",
       "   'Earnings before Tax': '0.0',\n",
       "   'Income Tax Expense': '0.0',\n",
       "   'Net Income - Non-Controlling int': '',\n",
       "   'Net Income - Discontinued ops': '',\n",
       "   'Net Income': '0.0',\n",
       "   'Preferred Dividends': '',\n",
       "   'Net Income Com': '0.0',\n",
       "   'EPS': '0.006607',\n",
       "   'EPS Diluted': '0.006607',\n",
       "   'Weighted Average Shs Out': '13889792000.0',\n",
       "   'Weighted Average Shs Out (Dil)': '13889792000.0',\n",
       "   'Dividend per Share': '',\n",
       "   'Gross Margin': '0.0',\n",
       "   'EBITDA Margin': '1.0',\n",
       "   'EBIT Margin': '',\n",
       "   'Profit Margin': '0.0',\n",
       "   'Free Cash Flow margin': '',\n",
       "   'EBITDA': '1248200000.0',\n",
       "   'EBIT': '',\n",
       "   'Consolidated Income': '',\n",
       "   'Earnings Before Tax Margin': '0.0',\n",
       "   'Net Profit Margin': '0.0'},\n",
       "  {'date': '1989-03-31',\n",
       "   'Revenue': '1246900000.0',\n",
       "   'Revenue Growth': '-0.112589851256',\n",
       "   'Cost of Revenue': '0.0',\n",
       "   'Gross Profit': '0.0',\n",
       "   'R&D Expenses': '0.0',\n",
       "   'SG&A Expense': '0.0',\n",
       "   'Operating Expenses': '0.0',\n",
       "   'Operating Income': '1246900000.0',\n",
       "   'Interest Expense': '0.0',\n",
       "   'Earnings before Tax': '0.0',\n",
       "   'Income Tax Expense': '0.0',\n",
       "   'Net Income - Non-Controlling int': '',\n",
       "   'Net Income - Discontinued ops': '',\n",
       "   'Net Income': '0.0',\n",
       "   'Preferred Dividends': '',\n",
       "   'Net Income Com': '0.0',\n",
       "   'EPS': '0.003929',\n",
       "   'EPS Diluted': '0.003929',\n",
       "   'Weighted Average Shs Out': '14307664000.0',\n",
       "   'Weighted Average Shs Out (Dil)': '14307664000.0',\n",
       "   'Dividend per Share': '',\n",
       "   'Gross Margin': '0.0',\n",
       "   'EBITDA Margin': '1.0',\n",
       "   'EBIT Margin': '',\n",
       "   'Profit Margin': '0.0',\n",
       "   'Free Cash Flow margin': '',\n",
       "   'EBITDA': '1246900000.0',\n",
       "   'EBIT': '',\n",
       "   'Consolidated Income': '',\n",
       "   'Earnings Before Tax Margin': '0.0',\n",
       "   'Net Profit Margin': '0.0'},\n",
       "  {'date': '1988-12-31',\n",
       "   'Revenue': '1405100000.0',\n",
       "   'Revenue Growth': '0.414862551606',\n",
       "   'Cost of Revenue': '0.0',\n",
       "   'Gross Profit': '0.0',\n",
       "   'R&D Expenses': '0.0',\n",
       "   'SG&A Expense': '0.0',\n",
       "   'Operating Expenses': '0.0',\n",
       "   'Operating Income': '1405100000.0',\n",
       "   'Interest Expense': '0.0',\n",
       "   'Earnings before Tax': '0.0',\n",
       "   'Income Tax Expense': '0.0',\n",
       "   'Net Income - Non-Controlling int': '',\n",
       "   'Net Income - Discontinued ops': '',\n",
       "   'Net Income': '0.0',\n",
       "   'Preferred Dividends': '',\n",
       "   'Net Income Com': '0.0',\n",
       "   'EPS': '0.009821',\n",
       "   'EPS Diluted': '0.009821',\n",
       "   'Weighted Average Shs Out': '14285264000.0',\n",
       "   'Weighted Average Shs Out (Dil)': '14285264000.0',\n",
       "   'Dividend per Share': '',\n",
       "   'Gross Margin': '0.0',\n",
       "   'EBITDA Margin': '1.0',\n",
       "   'EBIT Margin': '',\n",
       "   'Profit Margin': '0.0',\n",
       "   'Free Cash Flow margin': '',\n",
       "   'EBITDA': '1405100000.0',\n",
       "   'EBIT': '',\n",
       "   'Consolidated Income': '',\n",
       "   'Earnings Before Tax Margin': '0.0',\n",
       "   'Net Profit Margin': '0.0'},\n",
       "  {'date': '1988-09-30',\n",
       "   'Revenue': '1168700000.0',\n",
       "   'Revenue Growth': '',\n",
       "   'Cost of Revenue': '0.0',\n",
       "   'Gross Profit': '0.0',\n",
       "   'R&D Expenses': '0.0',\n",
       "   'SG&A Expense': '0.0',\n",
       "   'Operating Expenses': '0.0',\n",
       "   'Operating Income': '-2282400000.0',\n",
       "   'Interest Expense': '0.0',\n",
       "   'Earnings before Tax': '0.0',\n",
       "   'Income Tax Expense': '0.0',\n",
       "   'Net Income - Non-Controlling int': '',\n",
       "   'Net Income - Discontinued ops': '',\n",
       "   'Net Income': '0.0',\n",
       "   'Preferred Dividends': '',\n",
       "   'Net Income Com': '0.0',\n",
       "   'EPS': '0.0',\n",
       "   'EPS Diluted': '0.0',\n",
       "   'Weighted Average Shs Out': '14285264000.0',\n",
       "   'Weighted Average Shs Out (Dil)': '14285264000.0',\n",
       "   'Dividend per Share': '',\n",
       "   'Gross Margin': '0.0',\n",
       "   'EBITDA Margin': '-1.95293916317276',\n",
       "   'EBIT Margin': '',\n",
       "   'Profit Margin': '0.0',\n",
       "   'Free Cash Flow margin': '',\n",
       "   'EBITDA': '-2282400000.0',\n",
       "   'EBIT': '',\n",
       "   'Consolidated Income': '',\n",
       "   'Earnings Before Tax Margin': '0.0',\n",
       "   'Net Profit Margin': '0.0'},\n",
       "  {'date': '1988-06-30',\n",
       "   'Revenue': '993100000.0',\n",
       "   'Revenue Growth': '0.145179889299',\n",
       "   'Cost of Revenue': '0.0',\n",
       "   'Gross Profit': '0.0',\n",
       "   'R&D Expenses': '0.0',\n",
       "   'SG&A Expense': '0.0',\n",
       "   'Operating Expenses': '0.0',\n",
       "   'Operating Income': '993100000.0',\n",
       "   'Interest Expense': '0.0',\n",
       "   'Earnings before Tax': '0.0',\n",
       "   'Income Tax Expense': '0.0',\n",
       "   'Net Income - Non-Controlling int': '',\n",
       "   'Net Income - Discontinued ops': '',\n",
       "   'Net Income': '0.0',\n",
       "   'Preferred Dividends': '',\n",
       "   'Net Income Com': '0.0',\n",
       "   'EPS': '0.006429',\n",
       "   'EPS Diluted': '0.006429',\n",
       "   'Weighted Average Shs Out': '14622720000.0',\n",
       "   'Weighted Average Shs Out (Dil)': '14622720000.0',\n",
       "   'Dividend per Share': '',\n",
       "   'Gross Margin': '0.0',\n",
       "   'EBITDA Margin': '1.0',\n",
       "   'EBIT Margin': '',\n",
       "   'Profit Margin': '0.0',\n",
       "   'Free Cash Flow margin': '',\n",
       "   'EBITDA': '993100000.0',\n",
       "   'EBIT': '',\n",
       "   'Consolidated Income': '',\n",
       "   'Earnings Before Tax Margin': '0.0',\n",
       "   'Net Profit Margin': '0.0'},\n",
       "  {'date': '1988-03-31',\n",
       "   'Revenue': '867200000.0',\n",
       "   'Revenue Growth': '-0.168073676132',\n",
       "   'Cost of Revenue': '0.0',\n",
       "   'Gross Profit': '0.0',\n",
       "   'R&D Expenses': '0.0',\n",
       "   'SG&A Expense': '0.0',\n",
       "   'Operating Expenses': '0.0',\n",
       "   'Operating Income': '867200000.0',\n",
       "   'Interest Expense': '0.0',\n",
       "   'Earnings before Tax': '0.0',\n",
       "   'Income Tax Expense': '0.0',\n",
       "   'Net Income - Non-Controlling int': '',\n",
       "   'Net Income - Discontinued ops': '',\n",
       "   'Net Income': '0.0',\n",
       "   'Preferred Dividends': '',\n",
       "   'Net Income Com': '0.0',\n",
       "   'EPS': '0.005536',\n",
       "   'EPS Diluted': '0.005536',\n",
       "   'Weighted Average Shs Out': '13946352000.0',\n",
       "   'Weighted Average Shs Out (Dil)': '13946352000.0',\n",
       "   'Dividend per Share': '',\n",
       "   'Gross Margin': '0.0',\n",
       "   'EBITDA Margin': '1.0',\n",
       "   'EBIT Margin': '',\n",
       "   'Profit Margin': '0.0',\n",
       "   'Free Cash Flow margin': '',\n",
       "   'EBITDA': '867200000.0',\n",
       "   'EBIT': '',\n",
       "   'Consolidated Income': '',\n",
       "   'Earnings Before Tax Margin': '0.0',\n",
       "   'Net Profit Margin': '0.0'},\n",
       "  {'date': '1987-12-31',\n",
       "   'Revenue': '1042400000.0',\n",
       "   'Revenue Growth': '0.636163867525',\n",
       "   'Cost of Revenue': '0.0',\n",
       "   'Gross Profit': '0.0',\n",
       "   'R&D Expenses': '0.0',\n",
       "   'SG&A Expense': '0.0',\n",
       "   'Operating Expenses': '0.0',\n",
       "   'Operating Income': '1042400000.0',\n",
       "   'Interest Expense': '0.0',\n",
       "   'Earnings before Tax': '0.0',\n",
       "   'Income Tax Expense': '0.0',\n",
       "   'Net Income - Non-Controlling int': '',\n",
       "   'Net Income - Discontinued ops': '',\n",
       "   'Net Income': '0.0',\n",
       "   'Preferred Dividends': '',\n",
       "   'Net Income Com': '0.0',\n",
       "   'EPS': '0.008214',\n",
       "   'EPS Diluted': '0.008214',\n",
       "   'Weighted Average Shs Out': '14063280000.0',\n",
       "   'Weighted Average Shs Out (Dil)': '14063280000.0',\n",
       "   'Dividend per Share': '',\n",
       "   'Gross Margin': '0.0',\n",
       "   'EBITDA Margin': '1.0',\n",
       "   'EBIT Margin': '',\n",
       "   'Profit Margin': '0.0',\n",
       "   'Free Cash Flow margin': '',\n",
       "   'EBITDA': '1042400000.0',\n",
       "   'EBIT': '',\n",
       "   'Consolidated Income': '',\n",
       "   'Earnings Before Tax Margin': '0.0',\n",
       "   'Net Profit Margin': '0.0'},\n",
       "  {'date': '1987-09-30',\n",
       "   'Revenue': '786500000.0',\n",
       "   'Revenue Growth': '',\n",
       "   'Cost of Revenue': '0.0',\n",
       "   'Gross Profit': '0.0',\n",
       "   'R&D Expenses': '0.0',\n",
       "   'SG&A Expense': '0.0',\n",
       "   'Operating Expenses': '0.0',\n",
       "   'Operating Income': '-1503100000.0',\n",
       "   'Interest Expense': '0.0',\n",
       "   'Earnings before Tax': '0.0',\n",
       "   'Income Tax Expense': '0.0',\n",
       "   'Net Income - Non-Controlling int': '',\n",
       "   'Net Income - Discontinued ops': '',\n",
       "   'Net Income': '0.0',\n",
       "   'Preferred Dividends': '',\n",
       "   'Net Income Com': '0.0',\n",
       "   'EPS': '0.0',\n",
       "   'EPS Diluted': '0.0',\n",
       "   'Weighted Average Shs Out': '14063280000.0',\n",
       "   'Weighted Average Shs Out (Dil)': '14063280000.0',\n",
       "   'Dividend per Share': '',\n",
       "   'Gross Margin': '0.0',\n",
       "   'EBITDA Margin': '-1.91112523839797',\n",
       "   'EBIT Margin': '',\n",
       "   'Profit Margin': '0.0',\n",
       "   'Free Cash Flow margin': '',\n",
       "   'EBITDA': '-1503100000.0',\n",
       "   'EBIT': '',\n",
       "   'Consolidated Income': '',\n",
       "   'Earnings Before Tax Margin': '0.0',\n",
       "   'Net Profit Margin': '0.0'},\n",
       "  {'date': '1987-06-30',\n",
       "   'Revenue': '637100000.0',\n",
       "   'Revenue Growth': '0.107422214497',\n",
       "   'Cost of Revenue': '0.0',\n",
       "   'Gross Profit': '0.0',\n",
       "   'R&D Expenses': '0.0',\n",
       "   'SG&A Expense': '0.0',\n",
       "   'Operating Expenses': '0.0',\n",
       "   'Operating Income': '637100000.0',\n",
       "   'Interest Expense': '0.0',\n",
       "   'Earnings before Tax': '0.0',\n",
       "   'Income Tax Expense': '0.0',\n",
       "   'Net Income - Non-Controlling int': '',\n",
       "   'Net Income - Discontinued ops': '',\n",
       "   'Net Income': '0.0',\n",
       "   'Preferred Dividends': '',\n",
       "   'Net Income Com': '0.0',\n",
       "   'EPS': '0.003571',\n",
       "   'EPS Diluted': '0.003571',\n",
       "   'Weighted Average Shs Out': '14028672000.0',\n",
       "   'Weighted Average Shs Out (Dil)': '14028672000.0',\n",
       "   'Dividend per Share': '',\n",
       "   'Gross Margin': '0.0',\n",
       "   'EBITDA Margin': '1.0',\n",
       "   'EBIT Margin': '',\n",
       "   'Profit Margin': '0.0',\n",
       "   'Free Cash Flow margin': '',\n",
       "   'EBITDA': '637100000.0',\n",
       "   'EBIT': '',\n",
       "   'Consolidated Income': '',\n",
       "   'Earnings Before Tax Margin': '0.0',\n",
       "   'Net Profit Margin': '0.0'},\n",
       "  {'date': '1987-03-31',\n",
       "   'Revenue': '575300000.0',\n",
       "   'Revenue Growth': '-0.13136041069',\n",
       "   'Cost of Revenue': '0.0',\n",
       "   'Gross Profit': '0.0',\n",
       "   'R&D Expenses': '0.0',\n",
       "   'SG&A Expense': '0.0',\n",
       "   'Operating Expenses': '0.0',\n",
       "   'Operating Income': '575300000.0',\n",
       "   'Interest Expense': '0.0',\n",
       "   'Earnings before Tax': '0.0',\n",
       "   'Income Tax Expense': '0.0',\n",
       "   'Net Income - Non-Controlling int': '',\n",
       "   'Net Income - Discontinued ops': '',\n",
       "   'Net Income': '0.0',\n",
       "   'Preferred Dividends': '',\n",
       "   'Net Income Com': '0.0',\n",
       "   'EPS': '0.002321',\n",
       "   'EPS Diluted': '0.002321',\n",
       "   'Weighted Average Shs Out': '14028672000.0',\n",
       "   'Weighted Average Shs Out (Dil)': '14028672000.0',\n",
       "   'Dividend per Share': '',\n",
       "   'Gross Margin': '0.0',\n",
       "   'EBITDA Margin': '1.0',\n",
       "   'EBIT Margin': '',\n",
       "   'Profit Margin': '0.0',\n",
       "   'Free Cash Flow margin': '',\n",
       "   'EBITDA': '575300000.0',\n",
       "   'EBIT': '',\n",
       "   'Consolidated Income': '',\n",
       "   'Earnings Before Tax Margin': '0.0',\n",
       "   'Net Profit Margin': '0.0'},\n",
       "  {'date': '1986-12-31',\n",
       "   'Revenue': '662300000.0',\n",
       "   'Revenue Growth': '0.477358911443',\n",
       "   'Cost of Revenue': '0.0',\n",
       "   'Gross Profit': '0.0',\n",
       "   'R&D Expenses': '0.0',\n",
       "   'SG&A Expense': '0.0',\n",
       "   'Operating Expenses': '0.0',\n",
       "   'Operating Income': '662300000.0',\n",
       "   'Interest Expense': '0.0',\n",
       "   'Earnings before Tax': '0.0',\n",
       "   'Income Tax Expense': '0.0',\n",
       "   'Net Income - Non-Controlling int': '',\n",
       "   'Net Income - Discontinued ops': '',\n",
       "   'Net Income': '0.0',\n",
       "   'Preferred Dividends': '',\n",
       "   'Net Income Com': '0.0',\n",
       "   'EPS': '0.004107',\n",
       "   'EPS Diluted': '0.004107',\n",
       "   'Weighted Average Shs Out': '14260064000.0',\n",
       "   'Weighted Average Shs Out (Dil)': '14260064000.0',\n",
       "   'Dividend per Share': '',\n",
       "   'Gross Margin': '0.0',\n",
       "   'EBITDA Margin': '1.0',\n",
       "   'EBIT Margin': '',\n",
       "   'Profit Margin': '0.0',\n",
       "   'Free Cash Flow margin': '',\n",
       "   'EBITDA': '662300000.0',\n",
       "   'EBIT': '',\n",
       "   'Consolidated Income': '',\n",
       "   'Earnings Before Tax Margin': '0.0',\n",
       "   'Net Profit Margin': '0.0'},\n",
       "  {'date': '1986-09-30',\n",
       "   'Revenue': '510800000.0',\n",
       "   'Revenue Growth': '',\n",
       "   'Cost of Revenue': '0.0',\n",
       "   'Gross Profit': '0.0',\n",
       "   'R&D Expenses': '0.0',\n",
       "   'SG&A Expense': '0.0',\n",
       "   'Operating Expenses': '0.0',\n",
       "   'Operating Income': '-1117600000.0',\n",
       "   'Interest Expense': '0.0',\n",
       "   'Earnings before Tax': '0.0',\n",
       "   'Income Tax Expense': '0.0',\n",
       "   'Net Income - Non-Controlling int': '',\n",
       "   'Net Income - Discontinued ops': '',\n",
       "   'Net Income': '0.0',\n",
       "   'Preferred Dividends': '',\n",
       "   'Net Income Com': '0.0',\n",
       "   'EPS': '0.0',\n",
       "   'EPS Diluted': '0.0',\n",
       "   'Weighted Average Shs Out': '14260064000.0',\n",
       "   'Weighted Average Shs Out (Dil)': '14260064000.0',\n",
       "   'Dividend per Share': '',\n",
       "   'Gross Margin': '0.0',\n",
       "   'EBITDA Margin': '-2.18794048551292',\n",
       "   'EBIT Margin': '',\n",
       "   'Profit Margin': '0.0',\n",
       "   'Free Cash Flow margin': '',\n",
       "   'EBITDA': '-1117600000.0',\n",
       "   'EBIT': '',\n",
       "   'Consolidated Income': '',\n",
       "   'Earnings Before Tax Margin': '0.0',\n",
       "   'Net Profit Margin': '0.0'},\n",
       "  {'date': '1986-06-30',\n",
       "   'Revenue': '448300000.0',\n",
       "   'Revenue Growth': '0.0963560772805',\n",
       "   'Cost of Revenue': '0.0',\n",
       "   'Gross Profit': '0.0',\n",
       "   'R&D Expenses': '0.0',\n",
       "   'SG&A Expense': '0.0',\n",
       "   'Operating Expenses': '0.0',\n",
       "   'Operating Income': '448300000.0',\n",
       "   'Interest Expense': '0.0',\n",
       "   'Earnings before Tax': '0.0',\n",
       "   'Income Tax Expense': '0.0',\n",
       "   'Net Income - Non-Controlling int': '',\n",
       "   'Net Income - Discontinued ops': '',\n",
       "   'Net Income': '0.0',\n",
       "   'Preferred Dividends': '',\n",
       "   'Net Income Com': '0.0',\n",
       "   'EPS': '0.002321',\n",
       "   'EPS Diluted': '0.002321',\n",
       "   'Weighted Average Shs Out': '14260064000.0',\n",
       "   'Weighted Average Shs Out (Dil)': '14260064000.0',\n",
       "   'Dividend per Share': '',\n",
       "   'Gross Margin': '0.0',\n",
       "   'EBITDA Margin': '1.0',\n",
       "   'EBIT Margin': '',\n",
       "   'Profit Margin': '0.0',\n",
       "   'Free Cash Flow margin': '',\n",
       "   'EBITDA': '448300000.0',\n",
       "   'EBIT': '',\n",
       "   'Consolidated Income': '',\n",
       "   'Earnings Before Tax Margin': '0.0',\n",
       "   'Net Profit Margin': '0.0'},\n",
       "  {'date': '1986-03-31',\n",
       "   'Revenue': '408900000.0',\n",
       "   'Revenue Growth': '-0.234126240869',\n",
       "   'Cost of Revenue': '0.0',\n",
       "   'Gross Profit': '0.0',\n",
       "   'R&D Expenses': '0.0',\n",
       "   'SG&A Expense': '0.0',\n",
       "   'Operating Expenses': '0.0',\n",
       "   'Operating Income': '408900000.0',\n",
       "   'Interest Expense': '0.0',\n",
       "   'Earnings before Tax': '0.0',\n",
       "   'Income Tax Expense': '0.0',\n",
       "   'Net Income - Non-Controlling int': '',\n",
       "   'Net Income - Discontinued ops': '',\n",
       "   'Net Income': '0.0',\n",
       "   'Preferred Dividends': '',\n",
       "   'Net Income Com': '0.0',\n",
       "   'EPS': '0.002321',\n",
       "   'EPS Diluted': '0.002321',\n",
       "   'Weighted Average Shs Out': '14033600000.0',\n",
       "   'Weighted Average Shs Out (Dil)': '14033600000.0',\n",
       "   'Dividend per Share': '',\n",
       "   'Gross Margin': '0.0',\n",
       "   'EBITDA Margin': '1.0',\n",
       "   'EBIT Margin': '',\n",
       "   'Profit Margin': '0.0',\n",
       "   'Free Cash Flow margin': '',\n",
       "   'EBITDA': '408900000.0',\n",
       "   'EBIT': '',\n",
       "   'Consolidated Income': '',\n",
       "   'Earnings Before Tax Margin': '0.0',\n",
       "   'Net Profit Margin': '0.0'},\n",
       "  {'date': '1985-12-31',\n",
       "   'Revenue': '533900000.0',\n",
       "   'Revenue Growth': '',\n",
       "   'Cost of Revenue': '0.0',\n",
       "   'Gross Profit': '0.0',\n",
       "   'R&D Expenses': '0.0',\n",
       "   'SG&A Expense': '0.0',\n",
       "   'Operating Expenses': '0.0',\n",
       "   'Operating Income': '533900000.0',\n",
       "   'Interest Expense': '0.0',\n",
       "   'Earnings before Tax': '0.0',\n",
       "   'Income Tax Expense': '0.0',\n",
       "   'Net Income - Non-Controlling int': '',\n",
       "   'Net Income - Discontinued ops': '',\n",
       "   'Net Income': '0.0',\n",
       "   'Preferred Dividends': '',\n",
       "   'Net Income Com': '0.0',\n",
       "   'EPS': '0.004107',\n",
       "   'EPS Diluted': '0.004107',\n",
       "   'Weighted Average Shs Out': '13837824000.0',\n",
       "   'Weighted Average Shs Out (Dil)': '13837824000.0',\n",
       "   'Dividend per Share': '',\n",
       "   'Gross Margin': '0.0',\n",
       "   'EBITDA Margin': '1.0',\n",
       "   'EBIT Margin': '',\n",
       "   'Profit Margin': '0.0',\n",
       "   'Free Cash Flow margin': '',\n",
       "   'EBITDA': '533900000.0',\n",
       "   'EBIT': '',\n",
       "   'Consolidated Income': '',\n",
       "   'Earnings Before Tax Margin': '0.0',\n",
       "   'Net Profit Margin': '0.0'},\n",
       "  {'date': '1985-09-30',\n",
       "   'Revenue': '409700000.0',\n",
       "   'Revenue Growth': '',\n",
       "   'Cost of Revenue': '0.0',\n",
       "   'Gross Profit': '0.0',\n",
       "   'R&D Expenses': '0.0',\n",
       "   'SG&A Expense': '0.0',\n",
       "   'Operating Expenses': '0.0',\n",
       "   'Operating Income': '-1361300000.0',\n",
       "   'Interest Expense': '0.0',\n",
       "   'Earnings before Tax': '0.0',\n",
       "   'Income Tax Expense': '0.0',\n",
       "   'Net Income - Non-Controlling int': '',\n",
       "   'Net Income - Discontinued ops': '',\n",
       "   'Net Income': '0.0',\n",
       "   'Preferred Dividends': '',\n",
       "   'Net Income Com': '0.0',\n",
       "   'EPS': '0.0',\n",
       "   'EPS Diluted': '0.0',\n",
       "   'Weighted Average Shs Out': '13837824000.0',\n",
       "   'Weighted Average Shs Out (Dil)': '13837824000.0',\n",
       "   'Dividend per Share': '',\n",
       "   'Gross Margin': '0.0',\n",
       "   'EBITDA Margin': '-3.32267512814254',\n",
       "   'EBIT Margin': '',\n",
       "   'Profit Margin': '0.0',\n",
       "   'Free Cash Flow margin': '',\n",
       "   'EBITDA': '-1361300000.0',\n",
       "   'EBIT': '',\n",
       "   'Consolidated Income': '',\n",
       "   'Earnings Before Tax Margin': '0.0',\n",
       "   'Net Profit Margin': '0.0'}]}"
      ]
     },
     "execution_count": 5,
     "metadata": {},
     "output_type": "execute_result"
    }
   ],
   "source": [
    "\n",
    "\n",
    "stock = 'AAPL'\n",
    "# AAPL?period=annual&apikey=Aw4HU49x1ktoouk2qz8sxClJniOyuJoC\n",
    "income_statement = requests.get(f\"https://financialmodelingprep.com/api/v3/financials/income-statement/{stock}?period=quarter&apikey=Aw4HU49x1ktoouk2qz8sxClJniOyuJoC\")\n",
    "income_statement = income_statement.json()\n",
    "\n",
    "\n",
    "\n",
    "income_statement"
   ]
  },
  {
   "cell_type": "code",
   "execution_count": 4,
   "metadata": {},
   "outputs": [
    {
     "data": {
      "text/plain": [
       "{'symbol': 'AAPL',\n",
       " 'financials': [{'date': '2021-09-25',\n",
       "   'Revenue': '365817000000.0',\n",
       "   'Revenue Growth': '',\n",
       "   'Cost of Revenue': '212981000000.0',\n",
       "   'Gross Profit': '152836000000.0',\n",
       "   'R&D Expenses': '21914000000.0',\n",
       "   'SG&A Expense': '0.0',\n",
       "   'Operating Expenses': '43887000000.0',\n",
       "   'Operating Income': '108949000000.0',\n",
       "   'Interest Expense': '2645000000.0',\n",
       "   'Earnings before Tax': '109207000000.0',\n",
       "   'Income Tax Expense': '14527000000.0',\n",
       "   'Net Income - Non-Controlling int': '',\n",
       "   'Net Income - Discontinued ops': '',\n",
       "   'Net Income': '94680000000.0',\n",
       "   'Preferred Dividends': '',\n",
       "   'Net Income Com': '94680000000.0',\n",
       "   'EPS': '5.67',\n",
       "   'EPS Diluted': '5.61',\n",
       "   'Weighted Average Shs Out': '16701272000.0',\n",
       "   'Weighted Average Shs Out (Dil)': '16864919000.0',\n",
       "   'Dividend per Share': '',\n",
       "   'Gross Margin': '0.417793596251678',\n",
       "   'EBITDA Margin': '0.336605461200546',\n",
       "   'EBIT Margin': '',\n",
       "   'Profit Margin': '0.258817933556942',\n",
       "   'Free Cash Flow margin': '',\n",
       "   'EBITDA': '123136000000.0',\n",
       "   'EBIT': '',\n",
       "   'Consolidated Income': '',\n",
       "   'Earnings Before Tax Margin': '0.298529045943737',\n",
       "   'Net Profit Margin': '0.258817933556942'},\n",
       "  {'date': '2020-09-26',\n",
       "   'Revenue': '274515000000.0',\n",
       "   'Revenue Growth': '0.0551208037698',\n",
       "   'Cost of Revenue': '169559000000.0',\n",
       "   'Gross Profit': '104956000000.0',\n",
       "   'R&D Expenses': '18752000000.0',\n",
       "   'SG&A Expense': '0.0',\n",
       "   'Operating Expenses': '38668000000.0',\n",
       "   'Operating Income': '66288000000.0',\n",
       "   'Interest Expense': '2873000000.0',\n",
       "   'Earnings before Tax': '67091000000.0',\n",
       "   'Income Tax Expense': '9680000000.0',\n",
       "   'Net Income - Non-Controlling int': '0.0',\n",
       "   'Net Income - Discontinued ops': '0.0',\n",
       "   'Net Income': '57411000000.0',\n",
       "   'Preferred Dividends': '0.0',\n",
       "   'Net Income Com': '57411000000.0',\n",
       "   'EPS': '3.31',\n",
       "   'EPS Diluted': '3.28',\n",
       "   'Weighted Average Shs Out': '17352119000.0',\n",
       "   'Weighted Average Shs Out (Dil)': '17528214000.0',\n",
       "   'Dividend per Share': '0.803333414346',\n",
       "   'Gross Margin': '0.382332477278109',\n",
       "   'EBITDA Margin': '0.295138699160337',\n",
       "   'EBIT Margin': '0.300289471658',\n",
       "   'Profit Margin': '0.209136112780722',\n",
       "   'Free Cash Flow margin': '0.332348797492',\n",
       "   'EBITDA': '81020000000.0',\n",
       "   'EBIT': '66288000000.0',\n",
       "   'Consolidated Income': '57411000000.0',\n",
       "   'Earnings Before Tax Margin': '0.244398302460703',\n",
       "   'Net Profit Margin': '0.209136112780722'},\n",
       "  {'date': '2019-09-28',\n",
       "   'Revenue': '260174000000.0',\n",
       "   'Revenue Growth': '-0.0204107758053',\n",
       "   'Cost of Revenue': '161782000000.0',\n",
       "   'Gross Profit': '98392000000.0',\n",
       "   'R&D Expenses': '16217000000.0',\n",
       "   'SG&A Expense': '0.0',\n",
       "   'Operating Expenses': '34462000000.0',\n",
       "   'Operating Income': '63930000000.0',\n",
       "   'Interest Expense': '3576000000.0',\n",
       "   'Earnings before Tax': '65737000000.0',\n",
       "   'Income Tax Expense': '10481000000.0',\n",
       "   'Net Income - Non-Controlling int': '0.0',\n",
       "   'Net Income - Discontinued ops': '0.0',\n",
       "   'Net Income': '55256000000.0',\n",
       "   'Preferred Dividends': '0.0',\n",
       "   'Net Income Com': '55256000000.0',\n",
       "   'EPS': '2.9925',\n",
       "   'EPS Diluted': '2.9725',\n",
       "   'Weighted Average Shs Out': '18471336000.0',\n",
       "   'Weighted Average Shs Out (Dil)': '18595652000.0',\n",
       "   'Dividend per Share': '3.03705403822',\n",
       "   'Gross Margin': '0.378177681090347',\n",
       "   'EBITDA Margin': '0.314635590028212',\n",
       "   'EBIT Margin': '0.245720171885',\n",
       "   'Profit Margin': '0.212380945059845',\n",
       "   'Free Cash Flow margin': '0.226371582095',\n",
       "   'EBITDA': '81860000000.0',\n",
       "   'EBIT': '63930000000.0',\n",
       "   'Consolidated Income': '55256000000.0',\n",
       "   'Earnings Before Tax Margin': '0.252665523841737',\n",
       "   'Net Profit Margin': '0.212380945059845'},\n",
       "  {'date': '2018-09-29',\n",
       "   'Revenue': '265595000000.0',\n",
       "   'Revenue Growth': '0.158619576503',\n",
       "   'Cost of Revenue': '163756000000.0',\n",
       "   'Gross Profit': '101839000000.0',\n",
       "   'R&D Expenses': '14236000000.0',\n",
       "   'SG&A Expense': '0.0',\n",
       "   'Operating Expenses': '30941000000.0',\n",
       "   'Operating Income': '70898000000.0',\n",
       "   'Interest Expense': '3240000000.0',\n",
       "   'Earnings before Tax': '72903000000.0',\n",
       "   'Income Tax Expense': '13372000000.0',\n",
       "   'Net Income - Non-Controlling int': '0.0',\n",
       "   'Net Income - Discontinued ops': '0.0',\n",
       "   'Net Income': '59531000000.0',\n",
       "   'Preferred Dividends': '0.0',\n",
       "   'Net Income Com': '59531000000.0',\n",
       "   'EPS': '3.0025',\n",
       "   'EPS Diluted': '2.9775',\n",
       "   'Weighted Average Shs Out': '19821508000.0',\n",
       "   'Weighted Average Shs Out (Dil)': '20000436000.0',\n",
       "   'Dividend per Share': '2.74234021698',\n",
       "   'Gross Margin': '0.383437188200079',\n",
       "   'EBITDA Margin': '0.327739603531693',\n",
       "   'EBIT Margin': '0.266940266195',\n",
       "   'Profit Margin': '0.224142020745872',\n",
       "   'Free Cash Flow margin': '0.24142397259',\n",
       "   'EBITDA': '87046000000.0',\n",
       "   'EBIT': '70898000000.0',\n",
       "   'Consolidated Income': '59531000000.0',\n",
       "   'Earnings Before Tax Margin': '0.274489354091756',\n",
       "   'Net Profit Margin': '0.224142020745872'},\n",
       "  {'date': '2017-09-30',\n",
       "   'Revenue': '229234000000.0',\n",
       "   'Revenue Growth': '0.063045181994',\n",
       "   'Cost of Revenue': '141048000000.0',\n",
       "   'Gross Profit': '88186000000.0',\n",
       "   'R&D Expenses': '11581000000.0',\n",
       "   'SG&A Expense': '0.0',\n",
       "   'Operating Expenses': '26842000000.0',\n",
       "   'Operating Income': '61344000000.0',\n",
       "   'Interest Expense': '2323000000.0',\n",
       "   'Earnings before Tax': '64089000000.0',\n",
       "   'Income Tax Expense': '15738000000.0',\n",
       "   'Net Income - Non-Controlling int': '0.0',\n",
       "   'Net Income - Discontinued ops': '0.0',\n",
       "   'Net Income': '48351000000.0',\n",
       "   'Preferred Dividends': '0.0',\n",
       "   'Net Income Com': '48351000000.0',\n",
       "   'EPS': '2.3175',\n",
       "   'EPS Diluted': '2.3025',\n",
       "   'Weighted Average Shs Out': '20868968000.0',\n",
       "   'Weighted Average Shs Out (Dil)': '21006768000.0',\n",
       "   'Dividend per Share': '2.43140686849',\n",
       "   'Gross Margin': '0.384698604918991',\n",
       "   'EBITDA Margin': '0.334021131245801',\n",
       "   'EBIT Margin': '0.267604282087',\n",
       "   'Profit Margin': '0.210924208450753',\n",
       "   'Free Cash Flow margin': '0.223121351981',\n",
       "   'EBITDA': '76569000000.0',\n",
       "   'EBIT': '61344000000.0',\n",
       "   'Consolidated Income': '48351000000.0',\n",
       "   'Earnings Before Tax Margin': '0.27957894553164',\n",
       "   'Net Profit Margin': '0.210924208450753'},\n",
       "  {'date': '2016-09-24',\n",
       "   'Revenue': '215639000000.0',\n",
       "   'Revenue Growth': '-0.077342061913',\n",
       "   'Cost of Revenue': '131376000000.0',\n",
       "   'Gross Profit': '84263000000.0',\n",
       "   'R&D Expenses': '10045000000.0',\n",
       "   'SG&A Expense': '0.0',\n",
       "   'Operating Expenses': '24239000000.0',\n",
       "   'Operating Income': '60024000000.0',\n",
       "   'Interest Expense': '1456000000.0',\n",
       "   'Earnings before Tax': '61372000000.0',\n",
       "   'Income Tax Expense': '15685000000.0',\n",
       "   'Net Income - Non-Controlling int': '0.0',\n",
       "   'Net Income - Discontinued ops': '0.0',\n",
       "   'Net Income': '45687000000.0',\n",
       "   'Preferred Dividends': '0.0',\n",
       "   'Net Income Com': '45687000000.0',\n",
       "   'EPS': '2.0875',\n",
       "   'EPS Diluted': '2.0775',\n",
       "   'Weighted Average Shs Out': '21883280000.0',\n",
       "   'Weighted Average Shs Out (Dil)': '22001124000.0',\n",
       "   'Dividend per Share': '2.20897805039',\n",
       "   'Gross Margin': '0.39075955648097',\n",
       "   'EBITDA Margin': '0.340072992362235',\n",
       "   'EBIT Margin': '0.278354101067',\n",
       "   'Profit Margin': '0.211867983064288',\n",
       "   'Free Cash Flow margin': '0.246198507691',\n",
       "   'EBITDA': '73333000000.0',\n",
       "   'EBIT': '60024000000.0',\n",
       "   'Consolidated Income': '45687000000.0',\n",
       "   'Earnings Before Tax Margin': '0.284605289395703',\n",
       "   'Net Profit Margin': '0.211867983064288'},\n",
       "  {'date': '2015-09-26',\n",
       "   'Revenue': '233715000000.0',\n",
       "   'Revenue Growth': '0.278563418037',\n",
       "   'Cost of Revenue': '140089000000.0',\n",
       "   'Gross Profit': '93626000000.0',\n",
       "   'R&D Expenses': '8067000000.0',\n",
       "   'SG&A Expense': '0.0',\n",
       "   'Operating Expenses': '22396000000.0',\n",
       "   'Operating Income': '71230000000.0',\n",
       "   'Interest Expense': '733000000.0',\n",
       "   'Earnings before Tax': '72515000000.0',\n",
       "   'Income Tax Expense': '19121000000.0',\n",
       "   'Net Income - Non-Controlling int': '0.0',\n",
       "   'Net Income - Discontinued ops': '0.0',\n",
       "   'Net Income': '53394000000.0',\n",
       "   'Preferred Dividends': '0.0',\n",
       "   'Net Income Com': '53394000000.0',\n",
       "   'EPS': '2.32',\n",
       "   'EPS Diluted': '2.305',\n",
       "   'Weighted Average Shs Out': '23013684000.0',\n",
       "   'Weighted Average Shs Out (Dil)': '23172276000.0',\n",
       "   'Dividend per Share': '1.99566067658',\n",
       "   'Gross Margin': '0.400599020174144',\n",
       "   'EBITDA Margin': '0.36157285582868',\n",
       "   'EBIT Margin': '0.304772907173',\n",
       "   'Profit Margin': '0.228457736987356',\n",
       "   'Free Cash Flow margin': '0.299591382667',\n",
       "   'EBITDA': '84505000000.0',\n",
       "   'EBIT': '71230000000.0',\n",
       "   'Consolidated Income': '53394000000.0',\n",
       "   'Earnings Before Tax Margin': '0.3102710566288',\n",
       "   'Net Profit Margin': '0.228457736987356'},\n",
       "  {'date': '2014-09-27',\n",
       "   'Revenue': '182795000000.0',\n",
       "   'Revenue Growth': '0.0695395237259',\n",
       "   'Cost of Revenue': '112258000000.0',\n",
       "   'Gross Profit': '70537000000.0',\n",
       "   'R&D Expenses': '6041000000.0',\n",
       "   'SG&A Expense': '0.0',\n",
       "   'Operating Expenses': '18034000000.0',\n",
       "   'Operating Income': '52503000000.0',\n",
       "   'Interest Expense': '384000000.0',\n",
       "   'Earnings before Tax': '53483000000.0',\n",
       "   'Income Tax Expense': '13973000000.0',\n",
       "   'Net Income - Non-Controlling int': '0.0',\n",
       "   'Net Income - Discontinued ops': '0.0',\n",
       "   'Net Income': '39510000000.0',\n",
       "   'Preferred Dividends': '0.0',\n",
       "   'Net Income Com': '39510000000.0',\n",
       "   'EPS': '1.6225',\n",
       "   'EPS Diluted': '1.6125',\n",
       "   'Weighted Average Shs Out': '24342288000.0',\n",
       "   'Weighted Average Shs Out (Dil)': '24490652000.0',\n",
       "   'Dividend per Share': '1.817183144',\n",
       "   'Gross Margin': '0.385880357777839',\n",
       "   'EBITDA Margin': '0.338154763532919',\n",
       "   'EBIT Margin': '0.287223392325',\n",
       "   'Profit Margin': '0.216143767608523',\n",
       "   'Free Cash Flow margin': '0.274307284116',\n",
       "   'EBITDA': '61813000000.0',\n",
       "   'EBIT': '52503000000.0',\n",
       "   'Consolidated Income': '39510000000.0',\n",
       "   'Earnings Before Tax Margin': '0.292584589294018',\n",
       "   'Net Profit Margin': '0.216143767608523'},\n",
       "  {'date': '2013-09-28',\n",
       "   'Revenue': '170910000000.0',\n",
       "   'Revenue Growth': '0.092020855164',\n",
       "   'Cost of Revenue': '106606000000.0',\n",
       "   'Gross Profit': '64304000000.0',\n",
       "   'R&D Expenses': '4475000000.0',\n",
       "   'SG&A Expense': '0.0',\n",
       "   'Operating Expenses': '15305000000.0',\n",
       "   'Operating Income': '48999000000.0',\n",
       "   'Interest Expense': '136000000.0',\n",
       "   'Earnings before Tax': '50155000000.0',\n",
       "   'Income Tax Expense': '13118000000.0',\n",
       "   'Net Income - Non-Controlling int': '0.0',\n",
       "   'Net Income - Discontinued ops': '0.0',\n",
       "   'Net Income': '37037000000.0',\n",
       "   'Preferred Dividends': '0.0',\n",
       "   'Net Income Com': '37037000000.0',\n",
       "   'EPS': '1.429643',\n",
       "   'EPS Diluted': '1.419643',\n",
       "   'Weighted Average Shs Out': '25909268000.0',\n",
       "   'Weighted Average Shs Out (Dil)': '26086536000.0',\n",
       "   'Dividend per Share': '11.338876116',\n",
       "   'Gross Margin': '0.376244807208472',\n",
       "   'EBITDA Margin': '0.333789713884501',\n",
       "   'EBIT Margin': '0.286694751624',\n",
       "   'Profit Margin': '0.216704698379264',\n",
       "   'Free Cash Flow margin': '0.266227839214',\n",
       "   'EBITDA': '57048000000.0',\n",
       "   'EBIT': '48999000000.0',\n",
       "   'Consolidated Income': '37037000000.0',\n",
       "   'Earnings Before Tax Margin': '0.293458545433269',\n",
       "   'Net Profit Margin': '0.216704698379264'},\n",
       "  {'date': '2012-09-29',\n",
       "   'Revenue': '156508000000.0',\n",
       "   'Revenue Growth': '0.445814741938',\n",
       "   'Cost of Revenue': '87846000000.0',\n",
       "   'Gross Profit': '68662000000.0',\n",
       "   'R&D Expenses': '3381000000.0',\n",
       "   'SG&A Expense': '0.0',\n",
       "   'Operating Expenses': '13421000000.0',\n",
       "   'Operating Income': '55241000000.0',\n",
       "   'Interest Expense': '0.0',\n",
       "   'Earnings before Tax': '55763000000.0',\n",
       "   'Income Tax Expense': '14030000000.0',\n",
       "   'Net Income - Non-Controlling int': '0.0',\n",
       "   'Net Income - Discontinued ops': '0.0',\n",
       "   'Net Income': '41733000000.0',\n",
       "   'Preferred Dividends': '0.0',\n",
       "   'Net Income Com': '41733000000.0',\n",
       "   'EPS': '1.594286',\n",
       "   'EPS Diluted': '1.576786',\n",
       "   'Weighted Average Shs Out': '26174904000.0',\n",
       "   'Weighted Average Shs Out (Dil)': '26469940000.0',\n",
       "   'Dividend per Share': '2.63181556135',\n",
       "   'Gross Margin': '0.438712398088277',\n",
       "   'EBITDA Margin': '0.377233112684336',\n",
       "   'EBIT Margin': '0.35295959312',\n",
       "   'Profit Margin': '0.266650906023973',\n",
       "   'Free Cash Flow margin': '0.271941370409',\n",
       "   'EBITDA': '59040000000.0',\n",
       "   'EBIT': '55241000000.0',\n",
       "   'Consolidated Income': '41733000000.0',\n",
       "   'Earnings Before Tax Margin': '0.356294885884428',\n",
       "   'Net Profit Margin': '0.266650906023973'},\n",
       "  {'date': '2011-09-24',\n",
       "   'Revenue': '108249000000.0',\n",
       "   'Revenue Growth': '0.659624377156',\n",
       "   'Cost of Revenue': '64431000000.0',\n",
       "   'Gross Profit': '43818000000.0',\n",
       "   'R&D Expenses': '2429000000.0',\n",
       "   'SG&A Expense': '0.0',\n",
       "   'Operating Expenses': '10028000000.0',\n",
       "   'Operating Income': '33790000000.0',\n",
       "   'Interest Expense': '0.0',\n",
       "   'Earnings before Tax': '34205000000.0',\n",
       "   'Income Tax Expense': '8283000000.0',\n",
       "   'Net Income - Non-Controlling int': '0.0',\n",
       "   'Net Income - Discontinued ops': '0.0',\n",
       "   'Net Income': '25922000000.0',\n",
       "   'Preferred Dividends': '0.0',\n",
       "   'Net Income Com': '25922000000.0',\n",
       "   'EPS': '1.001786',\n",
       "   'EPS Diluted': '0.988571',\n",
       "   'Weighted Average Shs Out': '25879224000.0',\n",
       "   'Weighted Average Shs Out (Dil)': '26226060000.0',\n",
       "   'Dividend per Share': '0.0',\n",
       "   'Gross Margin': '0.404788958789458',\n",
       "   'EBITDA Margin': '0.332742103853153',\n",
       "   'EBIT Margin': '0.312150689614',\n",
       "   'Profit Margin': '0.239466415394138',\n",
       "   'Free Cash Flow margin': '0.307337712127',\n",
       "   'EBITDA': '36019000000.0',\n",
       "   'EBIT': '33790000000.0',\n",
       "   'Consolidated Income': '25922000000.0',\n",
       "   'Earnings Before Tax Margin': '0.315984443274303',\n",
       "   'Net Profit Margin': '0.239466415394138'},\n",
       "  {'date': '2010-09-25',\n",
       "   'Revenue': '65225000000.0',\n",
       "   'Revenue Growth': '0.785176670225',\n",
       "   'Cost of Revenue': '39541000000.0',\n",
       "   'Gross Profit': '25684000000.0',\n",
       "   'R&D Expenses': '1782000000.0',\n",
       "   'SG&A Expense': '0.0',\n",
       "   'Operating Expenses': '7299000000.0',\n",
       "   'Operating Income': '18385000000.0',\n",
       "   'Interest Expense': '0.0',\n",
       "   'Earnings before Tax': '18540000000.0',\n",
       "   'Income Tax Expense': '4527000000.0',\n",
       "   'Net Income - Non-Controlling int': '0.0',\n",
       "   'Net Income - Discontinued ops': '0.0',\n",
       "   'Net Income': '14013000000.0',\n",
       "   'Preferred Dividends': '0.0',\n",
       "   'Net Income Com': '14013000000.0',\n",
       "   'EPS': '0.550357',\n",
       "   'EPS Diluted': '0.541071',\n",
       "   'Weighted Average Shs Out': '25464908000.0',\n",
       "   'Weighted Average Shs Out (Dil)': '25891936000.0',\n",
       "   'Dividend per Share': '0.0',\n",
       "   'Gross Margin': '0.393775392870832',\n",
       "   'EBITDA Margin': '0.299992334227673',\n",
       "   'EBIT Margin': '0.281870448448',\n",
       "   'Profit Margin': '0.214840935224224',\n",
       "   'Free Cash Flow margin': '0.254350325795',\n",
       "   'EBITDA': '19567000000.0',\n",
       "   'EBIT': '18385000000.0',\n",
       "   'Consolidated Income': '14013000000.0',\n",
       "   'Earnings Before Tax Margin': '0.284246837868915',\n",
       "   'Net Profit Margin': '0.214840935224224'},\n",
       "  {'date': '2009-09-26',\n",
       "   'Revenue': '36537000000.0',\n",
       "   'Revenue Growth': '0.12494227039',\n",
       "   'Cost of Revenue': '23397000000.0',\n",
       "   'Gross Profit': '13140000000.0',\n",
       "   'R&D Expenses': '1333000000.0',\n",
       "   'SG&A Expense': '0.0',\n",
       "   'Operating Expenses': '5482000000.0',\n",
       "   'Operating Income': '7658000000.0',\n",
       "   'Interest Expense': '0.0',\n",
       "   'Earnings before Tax': '7984000000.0',\n",
       "   'Income Tax Expense': '2280000000.0',\n",
       "   'Net Income - Non-Controlling int': '0.0',\n",
       "   'Net Income - Discontinued ops': '0.0',\n",
       "   'Net Income': '5704000000.0',\n",
       "   'Preferred Dividends': '0.0',\n",
       "   'Net Income Com': '5704000000.0',\n",
       "   'EPS': '0.228214',\n",
       "   'EPS Diluted': '0.224643',\n",
       "   'Weighted Average Shs Out': '25004448000.0',\n",
       "   'Weighted Average Shs Out (Dil)': '25396140000.0',\n",
       "   'Dividend per Share': '0.0',\n",
       "   'Gross Margin': '0.359635438049101',\n",
       "   'EBITDA Margin': '0.237758984043572',\n",
       "   'EBIT Margin': '0.2812',\n",
       "   'Profit Margin': '0.156115718312943',\n",
       "   'Free Cash Flow margin': '0.2085',\n",
       "   'EBITDA': '8687000000.0',\n",
       "   'EBIT': '12066000000.0',\n",
       "   'Consolidated Income': '8235000000.0',\n",
       "   'Earnings Before Tax Margin': '0.218518214412787',\n",
       "   'Net Profit Margin': '0.156115718312943'},\n",
       "  {'date': '2008-09-27',\n",
       "   'Revenue': '32479000000.0',\n",
       "   'Revenue Growth': '0.35295342831',\n",
       "   'Cost of Revenue': '21334000000.0',\n",
       "   'Gross Profit': '11145000000.0',\n",
       "   'R&D Expenses': '1109000000.0',\n",
       "   'SG&A Expense': '0.0',\n",
       "   'Operating Expenses': '4870000000.0',\n",
       "   'Operating Income': '6275000000.0',\n",
       "   'Interest Expense': '0.0',\n",
       "   'Earnings before Tax': '6895000000.0',\n",
       "   'Income Tax Expense': '2061000000.0',\n",
       "   'Net Income - Non-Controlling int': '',\n",
       "   'Net Income - Discontinued ops': '',\n",
       "   'Net Income': '4834000000.0',\n",
       "   'Preferred Dividends': '',\n",
       "   'Net Income Com': '4834000000.0',\n",
       "   'EPS': '0.195714',\n",
       "   'EPS Diluted': '0.191429',\n",
       "   'Weighted Average Shs Out': '24684576000.0',\n",
       "   'Weighted Average Shs Out (Dil)': '25259892000.0',\n",
       "   'Dividend per Share': '',\n",
       "   'Gross Margin': '0.343144801256196',\n",
       "   'EBITDA Margin': '0.226854275070045',\n",
       "   'EBIT Margin': '',\n",
       "   'Profit Margin': '0.148834631608116',\n",
       "   'Free Cash Flow margin': '',\n",
       "   'EBITDA': '7368000000.0',\n",
       "   'EBIT': '',\n",
       "   'Consolidated Income': '',\n",
       "   'Earnings Before Tax Margin': '0.212291018812156',\n",
       "   'Net Profit Margin': '0.148834631608116'},\n",
       "  {'date': '2007-09-29',\n",
       "   'Revenue': '24006000000.0',\n",
       "   'Revenue Growth': '0.242868237121',\n",
       "   'Cost of Revenue': '15852000000.0',\n",
       "   'Gross Profit': '8154000000.0',\n",
       "   'R&D Expenses': '782000000.0',\n",
       "   'SG&A Expense': '0.0',\n",
       "   'Operating Expenses': '3745000000.0',\n",
       "   'Operating Income': '4409000000.0',\n",
       "   'Interest Expense': '0.0',\n",
       "   'Earnings before Tax': '5008000000.0',\n",
       "   'Income Tax Expense': '1512000000.0',\n",
       "   'Net Income - Non-Controlling int': '',\n",
       "   'Net Income - Discontinued ops': '',\n",
       "   'Net Income': '3496000000.0',\n",
       "   'Preferred Dividends': '',\n",
       "   'Net Income Com': '3496000000.0',\n",
       "   'EPS': '0.144286',\n",
       "   'EPS Diluted': '0.140357',\n",
       "   'Weighted Average Shs Out': '24208660000.0',\n",
       "   'Weighted Average Shs Out (Dil)': '24900176000.0',\n",
       "   'Dividend per Share': '',\n",
       "   'Gross Margin': '0.339665083729068',\n",
       "   'EBITDA Margin': '0.221819545113722',\n",
       "   'EBIT Margin': '',\n",
       "   'Profit Margin': '0.145630259101891',\n",
       "   'Free Cash Flow margin': '',\n",
       "   'EBITDA': '5325000000.0',\n",
       "   'EBIT': '',\n",
       "   'Consolidated Income': '',\n",
       "   'Earnings Before Tax Margin': '0.208614513038407',\n",
       "   'Net Profit Margin': '0.145630259101891'},\n",
       "  {'date': '2006-09-30',\n",
       "   'Revenue': '19315000000.0',\n",
       "   'Revenue Growth': '0.386476204149',\n",
       "   'Cost of Revenue': '13717000000.0',\n",
       "   'Gross Profit': '5598000000.0',\n",
       "   'R&D Expenses': '712000000.0',\n",
       "   'SG&A Expense': '0.0',\n",
       "   'Operating Expenses': '3145000000.0',\n",
       "   'Operating Income': '2453000000.0',\n",
       "   'Interest Expense': '0.0',\n",
       "   'Earnings before Tax': '2818000000.0',\n",
       "   'Income Tax Expense': '829000000.0',\n",
       "   'Net Income - Non-Controlling int': '',\n",
       "   'Net Income - Discontinued ops': '',\n",
       "   'Net Income': '1989000000.0',\n",
       "   'Preferred Dividends': '',\n",
       "   'Net Income Com': '1989000000.0',\n",
       "   'EPS': '0.084286',\n",
       "   'EPS Diluted': '0.081071',\n",
       "   'Weighted Average Shs Out': '23633624000.0',\n",
       "   'Weighted Average Shs Out (Dil)': '24570728000.0',\n",
       "   'Dividend per Share': '',\n",
       "   'Gross Margin': '0.289826559668651',\n",
       "   'EBITDA Margin': '0.157545948744499',\n",
       "   'EBIT Margin': '',\n",
       "   'Profit Margin': '0.102976960911209',\n",
       "   'Free Cash Flow margin': '',\n",
       "   'EBITDA': '3043000000.0',\n",
       "   'EBIT': '',\n",
       "   'Consolidated Income': '',\n",
       "   'Earnings Before Tax Margin': '0.145896971265856',\n",
       "   'Net Profit Margin': '0.102976960911209'},\n",
       "  {'date': '2005-09-24',\n",
       "   'Revenue': '13931000000.0',\n",
       "   'Revenue Growth': '0.682691146274',\n",
       "   'Cost of Revenue': '9888000000.0',\n",
       "   'Gross Profit': '4043000000.0',\n",
       "   'R&D Expenses': '534000000.0',\n",
       "   'SG&A Expense': '0.0',\n",
       "   'Operating Expenses': '2393000000.0',\n",
       "   'Operating Income': '1650000000.0',\n",
       "   'Interest Expense': '0.0',\n",
       "   'Earnings before Tax': '1815000000.0',\n",
       "   'Income Tax Expense': '480000000.0',\n",
       "   'Net Income - Non-Controlling int': '',\n",
       "   'Net Income - Discontinued ops': '',\n",
       "   'Net Income': '1335000000.0',\n",
       "   'Preferred Dividends': '',\n",
       "   'Net Income Com': '1335000000.0',\n",
       "   'EPS': '0.058929',\n",
       "   'EPS Diluted': '0.055714',\n",
       "   'Weighted Average Shs Out': '22636292000.0',\n",
       "   'Weighted Average Shs Out (Dil)': '23989840000.0',\n",
       "   'Dividend per Share': '',\n",
       "   'Gross Margin': '0.29021606489125',\n",
       "   'EBITDA Margin': '0.14313401765846',\n",
       "   'EBIT Margin': '',\n",
       "   'Profit Margin': '0.0958294451223889',\n",
       "   'Free Cash Flow margin': '',\n",
       "   'EBITDA': '1994000000.0',\n",
       "   'EBIT': '',\n",
       "   'Consolidated Income': '',\n",
       "   'Earnings Before Tax Margin': '0.130284975952911',\n",
       "   'Net Profit Margin': '0.0958294451223889'},\n",
       "  {'date': '2004-09-25',\n",
       "   'Revenue': '8279000000.0',\n",
       "   'Revenue Growth': '0.333816658611',\n",
       "   'Cost of Revenue': '6020000000.0',\n",
       "   'Gross Profit': '2259000000.0',\n",
       "   'R&D Expenses': '489000000.0',\n",
       "   'SG&A Expense': '0.0',\n",
       "   'Operating Expenses': '1910000000.0',\n",
       "   'Operating Income': '326000000.0',\n",
       "   'Interest Expense': '3000000.0',\n",
       "   'Earnings before Tax': '383000000.0',\n",
       "   'Income Tax Expense': '107000000.0',\n",
       "   'Net Income - Non-Controlling int': '',\n",
       "   'Net Income - Discontinued ops': '',\n",
       "   'Net Income': '276000000.0',\n",
       "   'Preferred Dividends': '',\n",
       "   'Net Income Com': '276000000.0',\n",
       "   'EPS': '0.013214',\n",
       "   'EPS Diluted': '0.012679',\n",
       "   'Weighted Average Shs Out': '20809040000.0',\n",
       "   'Weighted Average Shs Out (Dil)': '21689416000.0',\n",
       "   'Dividend per Share': '',\n",
       "   'Gross Margin': '0.272859040946974',\n",
       "   'EBITDA Margin': '0.0647421186133591',\n",
       "   'EBIT Margin': '',\n",
       "   'Profit Margin': '0.0333373595844909',\n",
       "   'Free Cash Flow margin': '',\n",
       "   'EBITDA': '536000000.0',\n",
       "   'EBIT': '',\n",
       "   'Consolidated Income': '',\n",
       "   'Earnings Before Tax Margin': '0.0462616258002174',\n",
       "   'Net Profit Margin': '0.0333373595844909'},\n",
       "  {'date': '2003-09-27',\n",
       "   'Revenue': '6207000000.0',\n",
       "   'Revenue Growth': '0.0809822361546',\n",
       "   'Cost of Revenue': '4499000000.0',\n",
       "   'Gross Profit': '1708000000.0',\n",
       "   'R&D Expenses': '471000000.0',\n",
       "   'SG&A Expense': '0.0',\n",
       "   'Operating Expenses': '1683000000.0',\n",
       "   'Operating Income': '-1000000.0',\n",
       "   'Interest Expense': '8000000.0',\n",
       "   'Earnings before Tax': '92000000.0',\n",
       "   'Income Tax Expense': '24000000.0',\n",
       "   'Net Income - Non-Controlling int': '',\n",
       "   'Net Income - Discontinued ops': '',\n",
       "   'Net Income': '69000000.0',\n",
       "   'Preferred Dividends': '',\n",
       "   'Net Income Com': '69000000.0',\n",
       "   'EPS': '0.003393',\n",
       "   'EPS Diluted': '0.003393',\n",
       "   'Weighted Average Shs Out': '20195336000.0',\n",
       "   'Weighted Average Shs Out (Dil)': '20354096000.0',\n",
       "   'Dividend per Share': '',\n",
       "   'Gross Margin': '0.275173191557918',\n",
       "   'EBITDA Margin': '0.0344772031577252',\n",
       "   'EBIT Margin': '',\n",
       "   'Profit Margin': '0.0111164813919768',\n",
       "   'Free Cash Flow margin': '',\n",
       "   'EBITDA': '214000000.0',\n",
       "   'EBIT': '',\n",
       "   'Consolidated Income': '',\n",
       "   'Earnings Before Tax Margin': '0.0148219751893024',\n",
       "   'Net Profit Margin': '0.0111164813919768'},\n",
       "  {'date': '2002-09-28',\n",
       "   'Revenue': '5742000000.0',\n",
       "   'Revenue Growth': '0.0706694014544',\n",
       "   'Cost of Revenue': '4139000000.0',\n",
       "   'Gross Profit': '1603000000.0',\n",
       "   'R&D Expenses': '447000000.0',\n",
       "   'SG&A Expense': '0.0',\n",
       "   'Operating Expenses': '1558000000.0',\n",
       "   'Operating Income': '17000000.0',\n",
       "   'Interest Expense': '11000000.0',\n",
       "   'Earnings before Tax': '87000000.0',\n",
       "   'Income Tax Expense': '22000000.0',\n",
       "   'Net Income - Non-Controlling int': '',\n",
       "   'Net Income - Discontinued ops': '',\n",
       "   'Net Income': '65000000.0',\n",
       "   'Preferred Dividends': '',\n",
       "   'Net Income Com': '65000000.0',\n",
       "   'EPS': '0.003214',\n",
       "   'EPS Diluted': '0.003214',\n",
       "   'Weighted Average Shs Out': '19881232000.0',\n",
       "   'Weighted Average Shs Out (Dil)': '20259960000.0',\n",
       "   'Dividend per Share': '',\n",
       "   'Gross Margin': '0.279171020550331',\n",
       "   'EBITDA Margin': '0.0376175548589342',\n",
       "   'EBIT Margin': '',\n",
       "   'Profit Margin': '0.0113200975269941',\n",
       "   'Free Cash Flow margin': '',\n",
       "   'EBITDA': '216000000.0',\n",
       "   'EBIT': '',\n",
       "   'Consolidated Income': '',\n",
       "   'Earnings Before Tax Margin': '0.0151515151515152',\n",
       "   'Net Profit Margin': '0.0113200975269941'},\n",
       "  {'date': '2001-09-29',\n",
       "   'Revenue': '5363000000.0',\n",
       "   'Revenue Growth': '-0.328197419516',\n",
       "   'Cost of Revenue': '4128000000.0',\n",
       "   'Gross Profit': '1235000000.0',\n",
       "   'R&D Expenses': '441000000.0',\n",
       "   'SG&A Expense': '0.0',\n",
       "   'Operating Expenses': '1579000000.0',\n",
       "   'Operating Income': '-344000000.0',\n",
       "   'Interest Expense': '16000000.0',\n",
       "   'Earnings before Tax': '-52000000.0',\n",
       "   'Income Tax Expense': '-15000000.0',\n",
       "   'Net Income - Non-Controlling int': '',\n",
       "   'Net Income - Discontinued ops': '',\n",
       "   'Net Income': '-25000000.0',\n",
       "   'Preferred Dividends': '',\n",
       "   'Net Income Com': '-25000000.0',\n",
       "   'EPS': '-0.00125',\n",
       "   'EPS Diluted': '-0.00125',\n",
       "   'Weighted Average Shs Out': '19354328000.0',\n",
       "   'Weighted Average Shs Out (Dil)': '19354328000.0',\n",
       "   'Dividend per Share': '',\n",
       "   'Gross Margin': '0.230281558829014',\n",
       "   'EBITDA Margin': '0.0145440984523588',\n",
       "   'EBIT Margin': '',\n",
       "   'Profit Margin': '-0.00466157001678165',\n",
       "   'Free Cash Flow margin': '',\n",
       "   'EBITDA': '78000000.0',\n",
       "   'EBIT': '',\n",
       "   'Consolidated Income': '',\n",
       "   'Earnings Before Tax Margin': '-0.00969606563490584',\n",
       "   'Net Profit Margin': '-0.00466157001678165'},\n",
       "  {'date': '2000-09-30',\n",
       "   'Revenue': '7983000000.0',\n",
       "   'Revenue Growth': '0.301434626671',\n",
       "   'Cost of Revenue': '5817000000.0',\n",
       "   'Gross Profit': '2166000000.0',\n",
       "   'R&D Expenses': '380000000.0',\n",
       "   'SG&A Expense': '0.0',\n",
       "   'Operating Expenses': '1546000000.0',\n",
       "   'Operating Income': '522000000.0',\n",
       "   'Interest Expense': '21000000.0',\n",
       "   'Earnings before Tax': '1092000000.0',\n",
       "   'Income Tax Expense': '306000000.0',\n",
       "   'Net Income - Non-Controlling int': '',\n",
       "   'Net Income - Discontinued ops': '',\n",
       "   'Net Income': '786000000.0',\n",
       "   'Preferred Dividends': '',\n",
       "   'Net Income Com': '786000000.0',\n",
       "   'EPS': '0.043214',\n",
       "   'EPS Diluted': '0.038929',\n",
       "   'Weighted Average Shs Out': '18175808000.0',\n",
       "   'Weighted Average Shs Out (Dil)': '20178144000.0',\n",
       "   'Dividend per Share': '',\n",
       "   'Gross Margin': '0.271326568959038',\n",
       "   'EBITDA Margin': '0.149943630214205',\n",
       "   'EBIT Margin': '',\n",
       "   'Profit Margin': '0.0984592258549418',\n",
       "   'Free Cash Flow margin': '',\n",
       "   'EBITDA': '1197000000.0',\n",
       "   'EBIT': '',\n",
       "   'Consolidated Income': '',\n",
       "   'Earnings Before Tax Margin': '0.136790680195415',\n",
       "   'Net Profit Margin': '0.0984592258549418'},\n",
       "  {'date': '1999-09-25',\n",
       "   'Revenue': '6134000000.0',\n",
       "   'Revenue Growth': '0.0324861134489',\n",
       "   'Cost of Revenue': '4438000000.0',\n",
       "   'Gross Profit': '1696000000.0',\n",
       "   'R&D Expenses': '314000000.0',\n",
       "   'SG&A Expense': '0.0',\n",
       "   'Operating Expenses': '1310000000.0',\n",
       "   'Operating Income': '359000000.0',\n",
       "   'Interest Expense': '47000000.0',\n",
       "   'Earnings before Tax': '676000000.0',\n",
       "   'Income Tax Expense': '75000000.0',\n",
       "   'Net Income - Non-Controlling int': '',\n",
       "   'Net Income - Discontinued ops': '',\n",
       "   'Net Income': '601000000.0',\n",
       "   'Preferred Dividends': '',\n",
       "   'Net Income Com': '601000000.0',\n",
       "   'EPS': '0.0375',\n",
       "   'EPS Diluted': '0.032232',\n",
       "   'Weighted Average Shs Out': '16033584000.0',\n",
       "   'Weighted Average Shs Out (Dil)': '19506368000.0',\n",
       "   'Dividend per Share': '',\n",
       "   'Gross Margin': '0.276491685686338',\n",
       "   'EBITDA Margin': '0.131724812520378',\n",
       "   'EBIT Margin': '',\n",
       "   'Profit Margin': '0.0979784805999348',\n",
       "   'Free Cash Flow margin': '',\n",
       "   'EBITDA': '808000000.0',\n",
       "   'EBIT': '',\n",
       "   'Consolidated Income': '',\n",
       "   'Earnings Before Tax Margin': '0.110205412455168',\n",
       "   'Net Profit Margin': '0.0979784805999348'},\n",
       "  {'date': '1998-09-25',\n",
       "   'Revenue': '5941000000.0',\n",
       "   'Revenue Growth': '-0.160994209857',\n",
       "   'Cost of Revenue': '4462000000.0',\n",
       "   'Gross Profit': '1479000000.0',\n",
       "   'R&D Expenses': '310000000.0',\n",
       "   'SG&A Expense': '0.0',\n",
       "   'Operating Expenses': '1218000000.0',\n",
       "   'Operating Income': '261000000.0',\n",
       "   'Interest Expense': '62000000.0',\n",
       "   'Earnings before Tax': '329000000.0',\n",
       "   'Income Tax Expense': '20000000.0',\n",
       "   'Net Income - Non-Controlling int': '',\n",
       "   'Net Income - Discontinued ops': '',\n",
       "   'Net Income': '309000000.0',\n",
       "   'Preferred Dividends': '',\n",
       "   'Net Income Com': '309000000.0',\n",
       "   'EPS': '0.020893',\n",
       "   'EPS Diluted': '0.01875',\n",
       "   'Weighted Average Shs Out': '14781088000.0',\n",
       "   'Weighted Average Shs Out (Dil)': '18806704000.0',\n",
       "   'Dividend per Share': '',\n",
       "   'Gross Margin': '0.248947988554115',\n",
       "   'EBITDA Margin': '0.0844975593334455',\n",
       "   'EBIT Margin': '',\n",
       "   'Profit Margin': '0.0520114458845312',\n",
       "   'Free Cash Flow margin': '',\n",
       "   'EBITDA': '502000000.0',\n",
       "   'EBIT': '',\n",
       "   'Consolidated Income': '',\n",
       "   'Earnings Before Tax Margin': '0.0553778825113617',\n",
       "   'Net Profit Margin': '0.0520114458845312'},\n",
       "  {'date': '1997-09-26',\n",
       "   'Revenue': '7081000000.0',\n",
       "   'Revenue Growth': '-0.27987389403',\n",
       "   'Cost of Revenue': '5713000000.0',\n",
       "   'Gross Profit': '1368000000.0',\n",
       "   'R&D Expenses': '860000000.0',\n",
       "   'SG&A Expense': '0.0',\n",
       "   'Operating Expenses': '2146000000.0',\n",
       "   'Operating Income': '-1070000000.0',\n",
       "   'Interest Expense': '71000000.0',\n",
       "   'Earnings before Tax': '-1045000000.0',\n",
       "   'Income Tax Expense': '0.0',\n",
       "   'Net Income - Non-Controlling int': '',\n",
       "   'Net Income - Discontinued ops': '',\n",
       "   'Net Income': '-1045000000.0',\n",
       "   'Preferred Dividends': '',\n",
       "   'Net Income Com': '-1045000000.0',\n",
       "   'EPS': '-0.074018',\n",
       "   'EPS Diluted': '-0.074018',\n",
       "   'Weighted Average Shs Out': '14118944000.0',\n",
       "   'Weighted Average Shs Out (Dil)': '14118944000.0',\n",
       "   'Dividend per Share': '',\n",
       "   'Gross Margin': '0.193193051828838',\n",
       "   'EBITDA Margin': '-0.120886880384127',\n",
       "   'EBIT Margin': '',\n",
       "   'Profit Margin': '-0.147578025702584',\n",
       "   'Free Cash Flow margin': '',\n",
       "   'EBITDA': '-856000000.0',\n",
       "   'EBIT': '',\n",
       "   'Consolidated Income': '',\n",
       "   'Earnings Before Tax Margin': '-0.147578025702584',\n",
       "   'Net Profit Margin': '-0.147578025702584'},\n",
       "  {'date': '1996-09-27',\n",
       "   'Revenue': '9833000000.0',\n",
       "   'Revenue Growth': '-0.111101066715',\n",
       "   'Cost of Revenue': '8865000000.0',\n",
       "   'Gross Profit': '968000000.0',\n",
       "   'R&D Expenses': '604000000.0',\n",
       "   'SG&A Expense': '0.0',\n",
       "   'Operating Expenses': '2172000000.0',\n",
       "   'Operating Income': '-1383000000.0',\n",
       "   'Interest Expense': '60000000.0',\n",
       "   'Earnings before Tax': '-1295000000.0',\n",
       "   'Income Tax Expense': '-479000000.0',\n",
       "   'Net Income - Non-Controlling int': '',\n",
       "   'Net Income - Discontinued ops': '',\n",
       "   'Net Income': '-816000000.0',\n",
       "   'Preferred Dividends': '',\n",
       "   'Net Income Com': '-816000000.0',\n",
       "   'EPS': '-0.058839',\n",
       "   'EPS Diluted': '-0.058839',\n",
       "   'Weighted Average Shs Out': '13858208000.0',\n",
       "   'Weighted Average Shs Out (Dil)': '13858208000.0',\n",
       "   'Dividend per Share': '',\n",
       "   'Gross Margin': '0.0984440150513577',\n",
       "   'EBITDA Margin': '-0.109732533306214',\n",
       "   'EBIT Margin': '',\n",
       "   'Profit Margin': '-0.0829858639275908',\n",
       "   'Free Cash Flow margin': '',\n",
       "   'EBITDA': '-1079000000.0',\n",
       "   'EBIT': '',\n",
       "   'Consolidated Income': '',\n",
       "   'Earnings Before Tax Margin': '-0.131699379639988',\n",
       "   'Net Profit Margin': '-0.0829858639275908'},\n",
       "  {'date': '1995-09-29',\n",
       "   'Revenue': '11062000000.0',\n",
       "   'Revenue Growth': '0.203863681973',\n",
       "   'Cost of Revenue': '8204000000.0',\n",
       "   'Gross Profit': '2858000000.0',\n",
       "   'R&D Expenses': '614000000.0',\n",
       "   'SG&A Expense': '0.0',\n",
       "   'Operating Expenses': '2197000000.0',\n",
       "   'Operating Income': '684000000.0',\n",
       "   'Interest Expense': '48000000.0',\n",
       "   'Earnings before Tax': '674000000.0',\n",
       "   'Income Tax Expense': '250000000.0',\n",
       "   'Net Income - Non-Controlling int': '',\n",
       "   'Net Income - Discontinued ops': '',\n",
       "   'Net Income': '424000000.0',\n",
       "   'Preferred Dividends': '',\n",
       "   'Net Income Com': '424000000.0',\n",
       "   'EPS': '0.030804',\n",
       "   'EPS Diluted': '0.030804',\n",
       "   'Weighted Average Shs Out': '13781264000.0',\n",
       "   'Weighted Average Shs Out (Dil)': '13781264000.0',\n",
       "   'Dividend per Share': '',\n",
       "   'Gross Margin': '0.258361959862593',\n",
       "   'EBITDA Margin': '0.0767492316036883',\n",
       "   'EBIT Margin': '',\n",
       "   'Profit Margin': '0.0383294160188031',\n",
       "   'Free Cash Flow margin': '',\n",
       "   'EBITDA': '849000000.0',\n",
       "   'EBIT': '',\n",
       "   'Consolidated Income': '',\n",
       "   'Earnings Before Tax Margin': '0.0609293075393238',\n",
       "   'Net Profit Margin': '0.0383294160188031'},\n",
       "  {'date': '1994-09-30',\n",
       "   'Revenue': '9188748000.0',\n",
       "   'Revenue Growth': '0.151905227529',\n",
       "   'Cost of Revenue': '6844915000.0',\n",
       "   'Gross Profit': '2343833000.0',\n",
       "   'R&D Expenses': '564303000.0',\n",
       "   'SG&A Expense': '0.0',\n",
       "   'Operating Expenses': '1948414000.0',\n",
       "   'Operating Income': '522274000.0',\n",
       "   'Interest Expense': '39653000.0',\n",
       "   'Earnings before Tax': '500286000.0',\n",
       "   'Income Tax Expense': '190108000.0',\n",
       "   'Net Income - Non-Controlling int': '',\n",
       "   'Net Income - Discontinued ops': '',\n",
       "   'Net Income': '310178000.0',\n",
       "   'Preferred Dividends': '',\n",
       "   'Net Income Com': '310178000.0',\n",
       "   'EPS': '0.023304',\n",
       "   'EPS Diluted': '0.023304',\n",
       "   'Weighted Average Shs Out': '13298320000.0',\n",
       "   'Weighted Average Shs Out (Dil)': '13306720000.0',\n",
       "   'Dividend per Share': '',\n",
       "   'Gross Margin': '0.255076426081116',\n",
       "   'EBITDA Margin': '0.0770395488046903',\n",
       "   'EBIT Margin': '',\n",
       "   'Profit Margin': '0.0337562854047146',\n",
       "   'Free Cash Flow margin': '',\n",
       "   'EBITDA': '707897000.0',\n",
       "   'EBIT': '',\n",
       "   'Consolidated Income': '',\n",
       "   'Earnings Before Tax Margin': '0.0544455022599379',\n",
       "   'Net Profit Margin': '0.0337562854047146'},\n",
       "  {'date': '1993-09-30',\n",
       "   'Revenue': '7977000000.0',\n",
       "   'Revenue Growth': '0.12566146899',\n",
       "   'Cost of Revenue': '5082700000.0',\n",
       "   'Gross Profit': '2894300000.0',\n",
       "   'R&D Expenses': '0.0',\n",
       "   'SG&A Expense': '0.0',\n",
       "   'Operating Expenses': '2783900000.0',\n",
       "   'Operating Income': '110400000.0',\n",
       "   'Interest Expense': '0.0',\n",
       "   'Earnings before Tax': '139700000.0',\n",
       "   'Income Tax Expense': '53100000.0',\n",
       "   'Net Income - Non-Controlling int': '',\n",
       "   'Net Income - Discontinued ops': '',\n",
       "   'Net Income': '86600000.0',\n",
       "   'Preferred Dividends': '',\n",
       "   'Net Income Com': '86600000.0',\n",
       "   'EPS': '0.006607',\n",
       "   'EPS Diluted': '0.006607',\n",
       "   'Weighted Average Shs Out': '13107027027.0',\n",
       "   'Weighted Average Shs Out (Dil)': '13107027027.0',\n",
       "   'Dividend per Share': '',\n",
       "   'Gross Margin': '0.362830638084493',\n",
       "   'EBITDA Margin': '0.0383352137395011',\n",
       "   'EBIT Margin': '',\n",
       "   'Profit Margin': '0.0108562116083741',\n",
       "   'Free Cash Flow margin': '',\n",
       "   'EBITDA': '305800000.0',\n",
       "   'EBIT': '',\n",
       "   'Consolidated Income': '',\n",
       "   'Earnings Before Tax Margin': '0.0175128494421462',\n",
       "   'Net Profit Margin': '0.0108562116083741'},\n",
       "  {'date': '1992-09-30',\n",
       "   'Revenue': '7086500000.0',\n",
       "   'Revenue Growth': '0.123272254628',\n",
       "   'Cost of Revenue': '3774200000.0',\n",
       "   'Gross Profit': '3312300000.0',\n",
       "   'R&D Expenses': '0.0',\n",
       "   'SG&A Expense': '0.0',\n",
       "   'Operating Expenses': '2506600000.0',\n",
       "   'Operating Income': '805700000.0',\n",
       "   'Interest Expense': '0.0',\n",
       "   'Earnings before Tax': '855500000.0',\n",
       "   'Income Tax Expense': '325100000.0',\n",
       "   'Net Income - Non-Controlling int': '',\n",
       "   'Net Income - Discontinued ops': '',\n",
       "   'Net Income': '530400000.0',\n",
       "   'Preferred Dividends': '',\n",
       "   'Net Income Com': '530400000.0',\n",
       "   'EPS': '0.03875',\n",
       "   'EPS Diluted': '0.03875',\n",
       "   'Weighted Average Shs Out': '13687741935.0',\n",
       "   'Weighted Average Shs Out (Dil)': '13687741935.0',\n",
       "   'Dividend per Share': '',\n",
       "   'Gross Margin': '0.467409863825584',\n",
       "   'EBITDA Margin': '0.151372327665279',\n",
       "   'EBIT Margin': '',\n",
       "   'Profit Margin': '0.0748465391942426',\n",
       "   'Free Cash Flow margin': '',\n",
       "   'EBITDA': '1072700000.0',\n",
       "   'EBIT': '',\n",
       "   'Consolidated Income': '',\n",
       "   'Earnings Before Tax Margin': '0.120722500529175',\n",
       "   'Net Profit Margin': '0.0748465391942426'},\n",
       "  {'date': '1991-09-30',\n",
       "   'Revenue': '6308800000.0',\n",
       "   'Revenue Growth': '0.135002878526',\n",
       "   'Cost of Revenue': '3109700000.0',\n",
       "   'Gross Profit': '3199100000.0',\n",
       "   'R&D Expenses': '0.0',\n",
       "   'SG&A Expense': '0.0',\n",
       "   'Operating Expenses': '2751800000.0',\n",
       "   'Operating Income': '447300000.0',\n",
       "   'Interest Expense': '0.0',\n",
       "   'Earnings before Tax': '499700000.0',\n",
       "   'Income Tax Expense': '189900000.0',\n",
       "   'Net Income - Non-Controlling int': '',\n",
       "   'Net Income - Discontinued ops': '',\n",
       "   'Net Income': '309800000.0',\n",
       "   'Preferred Dividends': '',\n",
       "   'Net Income Com': '309800000.0',\n",
       "   'EPS': '0.023036',\n",
       "   'EPS Diluted': '0.023036',\n",
       "   'Weighted Average Shs Out': '13448682171.0',\n",
       "   'Weighted Average Shs Out (Dil)': '13448682171.0',\n",
       "   'Dividend per Share': '',\n",
       "   'Gross Margin': '0.507085341110829',\n",
       "   'EBITDA Margin': '0.111606010651788',\n",
       "   'EBIT Margin': '',\n",
       "   'Profit Margin': '0.049106010651788',\n",
       "   'Free Cash Flow margin': '',\n",
       "   'EBITDA': '704100000.0',\n",
       "   'EBIT': '',\n",
       "   'Consolidated Income': '',\n",
       "   'Earnings Before Tax Margin': '0.0792068222165864',\n",
       "   'Net Profit Margin': '0.049106010651788'},\n",
       "  {'date': '1990-09-30',\n",
       "   'Revenue': '5558400000.0',\n",
       "   'Revenue Growth': '0.0519303557911',\n",
       "   'Cost of Revenue': '2403500000.0',\n",
       "   'Gross Profit': '3154900000.0',\n",
       "   'R&D Expenses': '0.0',\n",
       "   'SG&A Expense': '0.0',\n",
       "   'Operating Expenses': '2442900000.0',\n",
       "   'Operating Income': '712000000.0',\n",
       "   'Interest Expense': '0.0',\n",
       "   'Earnings before Tax': '778500000.0',\n",
       "   'Income Tax Expense': '303600000.0',\n",
       "   'Net Income - Non-Controlling int': '',\n",
       "   'Net Income - Discontinued ops': '',\n",
       "   'Net Income': '474900000.0',\n",
       "   'Preferred Dividends': '',\n",
       "   'Net Income Com': '474900000.0',\n",
       "   'EPS': '0.03375',\n",
       "   'EPS Diluted': '0.03375',\n",
       "   'Weighted Average Shs Out': '14071111111.0',\n",
       "   'Weighted Average Shs Out (Dil)': '14071111111.0',\n",
       "   'Dividend per Share': '',\n",
       "   'Gross Margin': '0.567591393206678',\n",
       "   'EBITDA Margin': '0.176525618883132',\n",
       "   'EBIT Margin': '',\n",
       "   'Profit Margin': '0.0854382556131261',\n",
       "   'Free Cash Flow margin': '',\n",
       "   'EBITDA': '981200000.0',\n",
       "   'EBIT': '',\n",
       "   'Consolidated Income': '',\n",
       "   'Earnings Before Tax Margin': '0.14005829015544',\n",
       "   'Net Profit Margin': '0.0854382556131261'},\n",
       "  {'date': '1989-09-30',\n",
       "   'Revenue': '5284000000.0',\n",
       "   'Revenue Growth': '0.297833669008',\n",
       "   'Cost of Revenue': '2570000000.0',\n",
       "   'Gross Profit': '2714000000.0',\n",
       "   'R&D Expenses': '0.0',\n",
       "   'SG&A Expense': '0.0',\n",
       "   'Operating Expenses': '2079700000.0',\n",
       "   'Operating Income': '634300000.0',\n",
       "   'Interest Expense': '0.0',\n",
       "   'Earnings before Tax': '744300000.0',\n",
       "   'Income Tax Expense': '290300000.0',\n",
       "   'Net Income - Non-Controlling int': '',\n",
       "   'Net Income - Discontinued ops': '',\n",
       "   'Net Income': '454000000.0',\n",
       "   'Preferred Dividends': '',\n",
       "   'Net Income Com': '454000000.0',\n",
       "   'EPS': '0.031607',\n",
       "   'EPS Diluted': '0.031607',\n",
       "   'Weighted Average Shs Out': '14363841808.0',\n",
       "   'Weighted Average Shs Out (Dil)': '14363841808.0',\n",
       "   'Dividend per Share': '',\n",
       "   'Gross Margin': '0.513626040878123',\n",
       "   'EBITDA Margin': '0.164477668433005',\n",
       "   'EBIT Margin': '',\n",
       "   'Profit Margin': '0.0859197577592733',\n",
       "   'Free Cash Flow margin': '',\n",
       "   'EBITDA': '869100000.0',\n",
       "   'EBIT': '',\n",
       "   'Consolidated Income': '',\n",
       "   'Earnings Before Tax Margin': '0.140859197577593',\n",
       "   'Net Profit Margin': '0.0859197577592733'},\n",
       "  {'date': '1988-09-30',\n",
       "   'Revenue': '4071400000.0',\n",
       "   'Revenue Growth': '0.529968809891',\n",
       "   'Cost of Revenue': '1913200000.0',\n",
       "   'Gross Profit': '2158200000.0',\n",
       "   'R&D Expenses': '0.0',\n",
       "   'SG&A Expense': '0.0',\n",
       "   'Operating Expenses': '1537900000.0',\n",
       "   'Operating Income': '620300000.0',\n",
       "   'Interest Expense': '0.0',\n",
       "   'Earnings before Tax': '656200000.0',\n",
       "   'Income Tax Expense': '255900000.0',\n",
       "   'Net Income - Non-Controlling int': '',\n",
       "   'Net Income - Discontinued ops': '',\n",
       "   'Net Income': '400300000.0',\n",
       "   'Preferred Dividends': '',\n",
       "   'Net Income Com': '400300000.0',\n",
       "   'EPS': '0.0275',\n",
       "   'EPS Diluted': '0.0275',\n",
       "   'Weighted Average Shs Out': '14556363636.0',\n",
       "   'Weighted Average Shs Out (Dil)': '14556363636.0',\n",
       "   'Dividend per Share': '',\n",
       "   'Gross Margin': '0.530087930441617',\n",
       "   'EBITDA Margin': '0.180257405315125',\n",
       "   'EBIT Margin': '',\n",
       "   'Profit Margin': '0.0983199882104436',\n",
       "   'Free Cash Flow margin': '',\n",
       "   'EBITDA': '733900000.0',\n",
       "   'EBIT': '',\n",
       "   'Consolidated Income': '',\n",
       "   'Earnings Before Tax Margin': '0.161173060863585',\n",
       "   'Net Profit Margin': '0.0983199882104436'},\n",
       "  {'date': '1987-09-30',\n",
       "   'Revenue': '2661100000.0',\n",
       "   'Revenue Growth': '0.399179767601',\n",
       "   'Cost of Revenue': '1225700000.0',\n",
       "   'Gross Profit': '1435400000.0',\n",
       "   'R&D Expenses': '0.0',\n",
       "   'SG&A Expense': '0.0',\n",
       "   'Operating Expenses': '1063900000.0',\n",
       "   'Operating Income': '371500000.0',\n",
       "   'Interest Expense': '0.0',\n",
       "   'Earnings before Tax': '410400000.0',\n",
       "   'Income Tax Expense': '192900000.0',\n",
       "   'Net Income - Non-Controlling int': '',\n",
       "   'Net Income - Discontinued ops': '',\n",
       "   'Net Income': '217500000.0',\n",
       "   'Preferred Dividends': '',\n",
       "   'Net Income Com': '217500000.0',\n",
       "   'EPS': '0.014821',\n",
       "   'EPS Diluted': '0.014821',\n",
       "   'Weighted Average Shs Out': '14674698795.0',\n",
       "   'Weighted Average Shs Out (Dil)': '14674698795.0',\n",
       "   'Dividend per Share': '',\n",
       "   'Gross Margin': '0.539400999586637',\n",
       "   'EBITDA Margin': '0.180714742023975',\n",
       "   'EBIT Margin': '',\n",
       "   'Profit Margin': '0.081733117883582',\n",
       "   'Free Cash Flow margin': '',\n",
       "   'EBITDA': '480900000.0',\n",
       "   'EBIT': '',\n",
       "   'Consolidated Income': '',\n",
       "   'Earnings Before Tax Margin': '0.154221938296193',\n",
       "   'Net Profit Margin': '0.081733117883582'},\n",
       "  {'date': '1986-09-30',\n",
       "   'Revenue': '1901900000.0',\n",
       "   'Revenue Growth': '-0.00854923630298',\n",
       "   'Cost of Revenue': '840000000.0',\n",
       "   'Gross Profit': '1061900000.0',\n",
       "   'R&D Expenses': '0.0',\n",
       "   'SG&A Expense': '0.0',\n",
       "   'Operating Expenses': '788400000.0',\n",
       "   'Operating Income': '273500000.0',\n",
       "   'Interest Expense': '0.0',\n",
       "   'Earnings before Tax': '309800000.0',\n",
       "   'Income Tax Expense': '155800000.0',\n",
       "   'Net Income - Non-Controlling int': '',\n",
       "   'Net Income - Discontinued ops': '',\n",
       "   'Net Income': '154000000.0',\n",
       "   'Preferred Dividends': '',\n",
       "   'Net Income Com': '154000000.0',\n",
       "   'EPS': '0.010714',\n",
       "   'EPS Diluted': '0.010714',\n",
       "   'Weighted Average Shs Out': '14373333333.0',\n",
       "   'Weighted Average Shs Out (Dil)': '14373333333.0',\n",
       "   'Dividend per Share': '',\n",
       "   'Gross Margin': '0.558336400441664',\n",
       "   'EBITDA Margin': '0.189757610810242',\n",
       "   'EBIT Margin': '',\n",
       "   'Profit Margin': '0.0809716599190283',\n",
       "   'Free Cash Flow margin': '',\n",
       "   'EBITDA': '360900000.0',\n",
       "   'EBIT': '',\n",
       "   'Consolidated Income': '',\n",
       "   'Earnings Before Tax Margin': '0.16288974183711',\n",
       "   'Net Profit Margin': '0.0809716599190283'},\n",
       "  {'date': '1985-09-30',\n",
       "   'Revenue': '1918300000.0',\n",
       "   'Revenue Growth': '',\n",
       "   'Cost of Revenue': '1076000000.0',\n",
       "   'Gross Profit': '842300000.0',\n",
       "   'R&D Expenses': '0.0',\n",
       "   'SG&A Expense': '0.0',\n",
       "   'Operating Expenses': '695000000.0',\n",
       "   'Operating Income': '147300000.0',\n",
       "   'Interest Expense': '0.0',\n",
       "   'Earnings before Tax': '120000000.0',\n",
       "   'Income Tax Expense': '58800000.0',\n",
       "   'Net Income - Non-Controlling int': '',\n",
       "   'Net Income - Discontinued ops': '',\n",
       "   'Net Income': '61200000.0',\n",
       "   'Preferred Dividends': '',\n",
       "   'Net Income Com': '61200000.0',\n",
       "   'EPS': '0.004464',\n",
       "   'EPS Diluted': '0.004464',\n",
       "   'Weighted Average Shs Out': '13708800000.0',\n",
       "   'Weighted Average Shs Out (Dil)': '13708800000.0',\n",
       "   'Dividend per Share': '',\n",
       "   'Gross Margin': '0.439086691341292',\n",
       "   'EBITDA Margin': '0.0843455142574154',\n",
       "   'EBIT Margin': '',\n",
       "   'Profit Margin': '0.0319032476672053',\n",
       "   'Free Cash Flow margin': '',\n",
       "   'EBITDA': '161800000.0',\n",
       "   'EBIT': '',\n",
       "   'Consolidated Income': '',\n",
       "   'Earnings Before Tax Margin': '0.0625553875827556',\n",
       "   'Net Profit Margin': '0.0319032476672053'}]}"
      ]
     },
     "execution_count": 4,
     "metadata": {},
     "output_type": "execute_result"
    }
   ],
   "source": [
    "\n",
    "import requests\n",
    "\n",
    "stock = 'AAPL'\n",
    "# AAPL?period=annual&apikey=Aw4HU49x1ktoouk2qz8sxClJniOyuJoC\n",
    "income_statement = requests.get(f\"https://financialmodelingprep.com/api/v3/financials/income-statement/{stock}?period=annual&apikey=Aw4HU49x1ktoouk2qz8sxClJniOyuJoC\")\n",
    "income_statement = income_statement.json()\n",
    "\n",
    "\n",
    "\n",
    "income_statement\n"
   ]
  },
  {
   "cell_type": "code",
   "execution_count": 4,
   "metadata": {},
   "outputs": [
    {
     "data": {
      "text/plain": [
       "<Response [403]>"
      ]
     },
     "execution_count": 4,
     "metadata": {},
     "output_type": "execute_result"
    }
   ],
   "source": [
    "balance_statement = requests.get(f\"https://financialmodelingprep.com/api/v3/financials/balance-sheet-statement/{stock}?period=quarter&apikey=Aw4HU49x1ktoouk2qz8sxClJniOyuJoC\")\n",
    "balance_statementBS = balance_statement.json()\n",
    "\n",
    "balance_statement"
   ]
  },
  {
   "cell_type": "code",
   "execution_count": 5,
   "metadata": {},
   "outputs": [
    {
     "data": {
      "text/plain": [
       "{'symbol': 'AAPL',\n",
       " 'financials': [{'date': '2021-09-25',\n",
       "   'Cash and cash equivalents': '34940000000.0',\n",
       "   'Short-term investments': '27699000000.0',\n",
       "   'Cash and short-term investments': '62639000000.0',\n",
       "   'Receivables': '51506000000.0',\n",
       "   'Inventories': '6580000000.0',\n",
       "   'Total current assets': '134836000000.0',\n",
       "   'Property, Plant & Equipment Net': '39440000000.0',\n",
       "   'Goodwill and Intangible Assets': '0.0',\n",
       "   'Long-term investments': '127877000000.0',\n",
       "   'Tax assets': '0.0',\n",
       "   'Total non-current assets': '216166000000.0',\n",
       "   'Total assets': '351002000000.0',\n",
       "   'Payables': '54763000000.0',\n",
       "   'Short-term debt': '15613000000.0',\n",
       "   'Total current liabilities': '125481000000.0',\n",
       "   'Long-term debt': '109106000000.0',\n",
       "   'Total debt': '124719000000.0',\n",
       "   'Deferred revenue': '7612000000.0',\n",
       "   'Tax Liabilities': '',\n",
       "   'Deposit Liabilities': '',\n",
       "   'Total non-current liabilities': '162431000000.0',\n",
       "   'Total liabilities': '287912000000.0',\n",
       "   'Other comprehensive income': '163000000.0',\n",
       "   'Retained earnings (deficit)': '5562000000.0',\n",
       "   'Total shareholders equity': '63090000000.0',\n",
       "   'Investments': '155576000000.0',\n",
       "   'Net Debt': '89779000000.0',\n",
       "   'Other Assets': '0.0',\n",
       "   'Other Liabilities': '0.0'},\n",
       "  {'date': '2020-09-26',\n",
       "   'Cash and cash equivalents': '38016000000.0',\n",
       "   'Short-term investments': '52927000000.0',\n",
       "   'Cash and short-term investments': '90943000000.0',\n",
       "   'Receivables': '37445000000.0',\n",
       "   'Inventories': '4061000000.0',\n",
       "   'Total current assets': '143713000000.0',\n",
       "   'Property, Plant & Equipment Net': '36766000000.0',\n",
       "   'Goodwill and Intangible Assets': '0.0',\n",
       "   'Long-term investments': '100887000000.0',\n",
       "   'Tax assets': '0.0',\n",
       "   'Total non-current assets': '180175000000.0',\n",
       "   'Total assets': '323888000000.0',\n",
       "   'Payables': '42296000000.0',\n",
       "   'Short-term debt': '13769000000.0',\n",
       "   'Total current liabilities': '105392000000.0',\n",
       "   'Long-term debt': '98667000000.0',\n",
       "   'Total debt': '112436000000.0',\n",
       "   'Deferred revenue': '6643000000.0',\n",
       "   'Tax Liabilities': '0.0',\n",
       "   'Deposit Liabilities': '0.0',\n",
       "   'Total non-current liabilities': '153157000000.0',\n",
       "   'Total liabilities': '258549000000.0',\n",
       "   'Other comprehensive income': '-406000000.0',\n",
       "   'Retained earnings (deficit)': '14966000000.0',\n",
       "   'Total shareholders equity': '65339000000.0',\n",
       "   'Investments': '153814000000.0',\n",
       "   'Net Debt': '74420000000.0',\n",
       "   'Other Assets': '0.0',\n",
       "   'Other Liabilities': '0.0'},\n",
       "  {'date': '2019-09-28',\n",
       "   'Cash and cash equivalents': '48844000000.0',\n",
       "   'Short-term investments': '51713000000.0',\n",
       "   'Cash and short-term investments': '100557000000.0',\n",
       "   'Receivables': '45804000000.0',\n",
       "   'Inventories': '4106000000.0',\n",
       "   'Total current assets': '162819000000.0',\n",
       "   'Property, Plant & Equipment Net': '37378000000.0',\n",
       "   'Goodwill and Intangible Assets': '0.0',\n",
       "   'Long-term investments': '105341000000.0',\n",
       "   'Tax assets': '0.0',\n",
       "   'Total non-current assets': '175697000000.0',\n",
       "   'Total assets': '338516000000.0',\n",
       "   'Payables': '46236000000.0',\n",
       "   'Short-term debt': '16240000000.0',\n",
       "   'Total current liabilities': '105718000000.0',\n",
       "   'Long-term debt': '91807000000.0',\n",
       "   'Total debt': '108047000000.0',\n",
       "   'Deferred revenue': '5522000000.0',\n",
       "   'Tax Liabilities': '0.0',\n",
       "   'Deposit Liabilities': '0.0',\n",
       "   'Total non-current liabilities': '142310000000.0',\n",
       "   'Total liabilities': '248028000000.0',\n",
       "   'Other comprehensive income': '-584000000.0',\n",
       "   'Retained earnings (deficit)': '45898000000.0',\n",
       "   'Total shareholders equity': '90488000000.0',\n",
       "   'Investments': '157054000000.0',\n",
       "   'Net Debt': '59203000000.0',\n",
       "   'Other Assets': '0.0',\n",
       "   'Other Liabilities': '0.0'},\n",
       "  {'date': '2018-09-29',\n",
       "   'Cash and cash equivalents': '25913000000.0',\n",
       "   'Short-term investments': '40388000000.0',\n",
       "   'Cash and short-term investments': '66301000000.0',\n",
       "   'Receivables': '48995000000.0',\n",
       "   'Inventories': '3956000000.0',\n",
       "   'Total current assets': '131339000000.0',\n",
       "   'Property, Plant & Equipment Net': '41304000000.0',\n",
       "   'Goodwill and Intangible Assets': '0.0',\n",
       "   'Long-term investments': '170799000000.0',\n",
       "   'Tax assets': '0.0',\n",
       "   'Total non-current assets': '234386000000.0',\n",
       "   'Total assets': '365725000000.0',\n",
       "   'Payables': '55888000000.0',\n",
       "   'Short-term debt': '20748000000.0',\n",
       "   'Total current liabilities': '116866000000.0',\n",
       "   'Long-term debt': '93735000000.0',\n",
       "   'Total debt': '114483000000.0',\n",
       "   'Deferred revenue': '7543000000.0',\n",
       "   'Tax Liabilities': '0.0',\n",
       "   'Deposit Liabilities': '0.0',\n",
       "   'Total non-current liabilities': '141712000000.0',\n",
       "   'Total liabilities': '258578000000.0',\n",
       "   'Other comprehensive income': '-3454000000.0',\n",
       "   'Retained earnings (deficit)': '70400000000.0',\n",
       "   'Total shareholders equity': '107147000000.0',\n",
       "   'Investments': '211187000000.0',\n",
       "   'Net Debt': '88570000000.0',\n",
       "   'Other Assets': '0.0',\n",
       "   'Other Liabilities': '0.0'},\n",
       "  {'date': '2017-09-30',\n",
       "   'Cash and cash equivalents': '20289000000.0',\n",
       "   'Short-term investments': '53892000000.0',\n",
       "   'Cash and short-term investments': '74181000000.0',\n",
       "   'Receivables': '35673000000.0',\n",
       "   'Inventories': '4855000000.0',\n",
       "   'Total current assets': '128645000000.0',\n",
       "   'Property, Plant & Equipment Net': '33783000000.0',\n",
       "   'Goodwill and Intangible Assets': '8015000000.0',\n",
       "   'Long-term investments': '194714000000.0',\n",
       "   'Tax assets': '0.0',\n",
       "   'Total non-current assets': '246674000000.0',\n",
       "   'Total assets': '375319000000.0',\n",
       "   'Payables': '49049000000.0',\n",
       "   'Short-term debt': '18473000000.0',\n",
       "   'Total current liabilities': '100814000000.0',\n",
       "   'Long-term debt': '97207000000.0',\n",
       "   'Total debt': '115680000000.0',\n",
       "   'Deferred revenue': '7548000000.0',\n",
       "   'Tax Liabilities': '0.0',\n",
       "   'Deposit Liabilities': '0.0',\n",
       "   'Total non-current liabilities': '140458000000.0',\n",
       "   'Total liabilities': '241272000000.0',\n",
       "   'Other comprehensive income': '-150000000.0',\n",
       "   'Retained earnings (deficit)': '98330000000.0',\n",
       "   'Total shareholders equity': '134047000000.0',\n",
       "   'Investments': '248606000000.0',\n",
       "   'Net Debt': '95391000000.0',\n",
       "   'Other Assets': '0.0',\n",
       "   'Other Liabilities': '0.0'},\n",
       "  {'date': '2016-09-24',\n",
       "   'Cash and cash equivalents': '20484000000.0',\n",
       "   'Short-term investments': '46671000000.0',\n",
       "   'Cash and short-term investments': '67155000000.0',\n",
       "   'Receivables': '29299000000.0',\n",
       "   'Inventories': '2132000000.0',\n",
       "   'Total current assets': '106869000000.0',\n",
       "   'Property, Plant & Equipment Net': '27010000000.0',\n",
       "   'Goodwill and Intangible Assets': '8620000000.0',\n",
       "   'Long-term investments': '170430000000.0',\n",
       "   'Tax assets': '0.0',\n",
       "   'Total non-current assets': '214817000000.0',\n",
       "   'Total assets': '321686000000.0',\n",
       "   'Payables': '37294000000.0',\n",
       "   'Short-term debt': '11605000000.0',\n",
       "   'Total current liabilities': '79006000000.0',\n",
       "   'Long-term debt': '75427000000.0',\n",
       "   'Total debt': '87032000000.0',\n",
       "   'Deferred revenue': '8080000000.0',\n",
       "   'Tax Liabilities': '0.0',\n",
       "   'Deposit Liabilities': '0.0',\n",
       "   'Total non-current liabilities': '114431000000.0',\n",
       "   'Total liabilities': '193437000000.0',\n",
       "   'Other comprehensive income': '634000000.0',\n",
       "   'Retained earnings (deficit)': '96364000000.0',\n",
       "   'Total shareholders equity': '128249000000.0',\n",
       "   'Investments': '217101000000.0',\n",
       "   'Net Debt': '66548000000.0',\n",
       "   'Other Assets': '0.0',\n",
       "   'Other Liabilities': '0.0'},\n",
       "  {'date': '2015-09-26',\n",
       "   'Cash and cash equivalents': '21120000000.0',\n",
       "   'Short-term investments': '20481000000.0',\n",
       "   'Cash and short-term investments': '41601000000.0',\n",
       "   'Receivables': '30343000000.0',\n",
       "   'Inventories': '2349000000.0',\n",
       "   'Total current assets': '89378000000.0',\n",
       "   'Property, Plant & Equipment Net': '22471000000.0',\n",
       "   'Goodwill and Intangible Assets': '9009000000.0',\n",
       "   'Long-term investments': '164065000000.0',\n",
       "   'Tax assets': '0.0',\n",
       "   'Total non-current assets': '201101000000.0',\n",
       "   'Total assets': '290479000000.0',\n",
       "   'Payables': '35490000000.0',\n",
       "   'Short-term debt': '10999000000.0',\n",
       "   'Total current liabilities': '80610000000.0',\n",
       "   'Long-term debt': '53463000000.0',\n",
       "   'Total debt': '64462000000.0',\n",
       "   'Deferred revenue': '8940000000.0',\n",
       "   'Tax Liabilities': '0.0',\n",
       "   'Deposit Liabilities': '0.0',\n",
       "   'Total non-current liabilities': '90514000000.0',\n",
       "   'Total liabilities': '171124000000.0',\n",
       "   'Other comprehensive income': '-345000000.0',\n",
       "   'Retained earnings (deficit)': '92284000000.0',\n",
       "   'Total shareholders equity': '119355000000.0',\n",
       "   'Investments': '184546000000.0',\n",
       "   'Net Debt': '43342000000.0',\n",
       "   'Other Assets': '0.0',\n",
       "   'Other Liabilities': '0.0'},\n",
       "  {'date': '2014-09-27',\n",
       "   'Cash and cash equivalents': '13844000000.0',\n",
       "   'Short-term investments': '11233000000.0',\n",
       "   'Cash and short-term investments': '25077000000.0',\n",
       "   'Receivables': '27219000000.0',\n",
       "   'Inventories': '2111000000.0',\n",
       "   'Total current assets': '68531000000.0',\n",
       "   'Property, Plant & Equipment Net': '20624000000.0',\n",
       "   'Goodwill and Intangible Assets': '8758000000.0',\n",
       "   'Long-term investments': '130162000000.0',\n",
       "   'Tax assets': '0.0',\n",
       "   'Total non-current assets': '163308000000.0',\n",
       "   'Total assets': '231839000000.0',\n",
       "   'Payables': '30196000000.0',\n",
       "   'Short-term debt': '6308000000.0',\n",
       "   'Total current liabilities': '63448000000.0',\n",
       "   'Long-term debt': '28987000000.0',\n",
       "   'Total debt': '35295000000.0',\n",
       "   'Deferred revenue': '8491000000.0',\n",
       "   'Tax Liabilities': '0.0',\n",
       "   'Deposit Liabilities': '0.0',\n",
       "   'Total non-current liabilities': '56844000000.0',\n",
       "   'Total liabilities': '120292000000.0',\n",
       "   'Other comprehensive income': '1082000000.0',\n",
       "   'Retained earnings (deficit)': '87152000000.0',\n",
       "   'Total shareholders equity': '111547000000.0',\n",
       "   'Investments': '141395000000.0',\n",
       "   'Net Debt': '21451000000.0',\n",
       "   'Other Assets': '0.0',\n",
       "   'Other Liabilities': '0.0'},\n",
       "  {'date': '2013-09-28',\n",
       "   'Cash and cash equivalents': '14259000000.0',\n",
       "   'Short-term investments': '26287000000.0',\n",
       "   'Cash and short-term investments': '40546000000.0',\n",
       "   'Receivables': '20641000000.0',\n",
       "   'Inventories': '1764000000.0',\n",
       "   'Total current assets': '73286000000.0',\n",
       "   'Property, Plant & Equipment Net': '16597000000.0',\n",
       "   'Goodwill and Intangible Assets': '5756000000.0',\n",
       "   'Long-term investments': '106215000000.0',\n",
       "   'Tax assets': '0.0',\n",
       "   'Total non-current assets': '133714000000.0',\n",
       "   'Total assets': '207000000000.0',\n",
       "   'Payables': '22367000000.0',\n",
       "   'Short-term debt': '0.0',\n",
       "   'Total current liabilities': '43658000000.0',\n",
       "   'Long-term debt': '16960000000.0',\n",
       "   'Total debt': '16960000000.0',\n",
       "   'Deferred revenue': '7435000000.0',\n",
       "   'Tax Liabilities': '0.0',\n",
       "   'Deposit Liabilities': '0.0',\n",
       "   'Total non-current liabilities': '39793000000.0',\n",
       "   'Total liabilities': '83451000000.0',\n",
       "   'Other comprehensive income': '-471000000.0',\n",
       "   'Retained earnings (deficit)': '104256000000.0',\n",
       "   'Total shareholders equity': '123549000000.0',\n",
       "   'Investments': '132502000000.0',\n",
       "   'Net Debt': '2701000000.0',\n",
       "   'Other Assets': '0.0',\n",
       "   'Other Liabilities': '0.0'},\n",
       "  {'date': '2012-09-29',\n",
       "   'Cash and cash equivalents': '10746000000.0',\n",
       "   'Short-term investments': '18383000000.0',\n",
       "   'Cash and short-term investments': '29129000000.0',\n",
       "   'Receivables': '18692000000.0',\n",
       "   'Inventories': '791000000.0',\n",
       "   'Total current assets': '57653000000.0',\n",
       "   'Property, Plant & Equipment Net': '15452000000.0',\n",
       "   'Goodwill and Intangible Assets': '5359000000.0',\n",
       "   'Long-term investments': '92122000000.0',\n",
       "   'Tax assets': '0.0',\n",
       "   'Total non-current assets': '118411000000.0',\n",
       "   'Total assets': '176064000000.0',\n",
       "   'Payables': '21175000000.0',\n",
       "   'Short-term debt': '0.0',\n",
       "   'Total current liabilities': '38542000000.0',\n",
       "   'Long-term debt': '0.0',\n",
       "   'Total debt': '0.0',\n",
       "   'Deferred revenue': '5953000000.0',\n",
       "   'Tax Liabilities': '0.0',\n",
       "   'Deposit Liabilities': '0.0',\n",
       "   'Total non-current liabilities': '19312000000.0',\n",
       "   'Total liabilities': '57854000000.0',\n",
       "   'Other comprehensive income': '499000000.0',\n",
       "   'Retained earnings (deficit)': '101289000000.0',\n",
       "   'Total shareholders equity': '118210000000.0',\n",
       "   'Investments': '110505000000.0',\n",
       "   'Net Debt': '-10746000000.0',\n",
       "   'Other Assets': '0.0',\n",
       "   'Other Liabilities': '0.0'},\n",
       "  {'date': '2011-09-24',\n",
       "   'Cash and cash equivalents': '9815000000.0',\n",
       "   'Short-term investments': '16137000000.0',\n",
       "   'Cash and short-term investments': '25952000000.0',\n",
       "   'Receivables': '11717000000.0',\n",
       "   'Inventories': '776000000.0',\n",
       "   'Total current assets': '44988000000.0',\n",
       "   'Property, Plant & Equipment Net': '7777000000.0',\n",
       "   'Goodwill and Intangible Assets': '4432000000.0',\n",
       "   'Long-term investments': '55618000000.0',\n",
       "   'Tax assets': '0.0',\n",
       "   'Total non-current assets': '71383000000.0',\n",
       "   'Total assets': '116371000000.0',\n",
       "   'Payables': '14632000000.0',\n",
       "   'Short-term debt': '0.0',\n",
       "   'Total current liabilities': '27970000000.0',\n",
       "   'Long-term debt': '0.0',\n",
       "   'Total debt': '0.0',\n",
       "   'Deferred revenue': '4091000000.0',\n",
       "   'Tax Liabilities': '0.0',\n",
       "   'Deposit Liabilities': '0.0',\n",
       "   'Total non-current liabilities': '11786000000.0',\n",
       "   'Total liabilities': '39756000000.0',\n",
       "   'Other comprehensive income': '443000000.0',\n",
       "   'Retained earnings (deficit)': '62841000000.0',\n",
       "   'Total shareholders equity': '76615000000.0',\n",
       "   'Investments': '71755000000.0',\n",
       "   'Net Debt': '-9815000000.0',\n",
       "   'Other Assets': '0.0',\n",
       "   'Other Liabilities': '0.0'},\n",
       "  {'date': '2010-09-25',\n",
       "   'Cash and cash equivalents': '11261000000.0',\n",
       "   'Short-term investments': '14359000000.0',\n",
       "   'Cash and short-term investments': '25620000000.0',\n",
       "   'Receivables': '9924000000.0',\n",
       "   'Inventories': '1051000000.0',\n",
       "   'Total current assets': '41678000000.0',\n",
       "   'Property, Plant & Equipment Net': '4768000000.0',\n",
       "   'Goodwill and Intangible Assets': '1083000000.0',\n",
       "   'Long-term investments': '25391000000.0',\n",
       "   'Tax assets': '0.0',\n",
       "   'Total non-current assets': '33505000000.0',\n",
       "   'Total assets': '75183000000.0',\n",
       "   'Payables': '12015000000.0',\n",
       "   'Short-term debt': '0.0',\n",
       "   'Total current liabilities': '20722000000.0',\n",
       "   'Long-term debt': '0.0',\n",
       "   'Total debt': '0.0',\n",
       "   'Deferred revenue': '2984000000.0',\n",
       "   'Tax Liabilities': '0.0',\n",
       "   'Deposit Liabilities': '0.0',\n",
       "   'Total non-current liabilities': '6670000000.0',\n",
       "   'Total liabilities': '27392000000.0',\n",
       "   'Other comprehensive income': '-46000000.0',\n",
       "   'Retained earnings (deficit)': '37169000000.0',\n",
       "   'Total shareholders equity': '47791000000.0',\n",
       "   'Investments': '39750000000.0',\n",
       "   'Net Debt': '-11261000000.0',\n",
       "   'Other Assets': '0.0',\n",
       "   'Other Liabilities': '0.0'},\n",
       "  {'date': '2009-09-26',\n",
       "   'Cash and cash equivalents': '5263000000.0',\n",
       "   'Short-term investments': '18201000000.0',\n",
       "   'Cash and short-term investments': '23464000000.0',\n",
       "   'Receivables': '5057000000.0',\n",
       "   'Inventories': '455000000.0',\n",
       "   'Total current assets': '36265000000.0',\n",
       "   'Property, Plant & Equipment Net': '2954000000.0',\n",
       "   'Goodwill and Intangible Assets': '453000000.0',\n",
       "   'Long-term investments': '10528000000.0',\n",
       "   'Tax assets': '259000000.0',\n",
       "   'Total non-current assets': '17586000000.0',\n",
       "   'Total assets': '53851000000.0',\n",
       "   'Payables': '5601000000.0',\n",
       "   'Short-term debt': '0.0',\n",
       "   'Total current liabilities': '19282000000.0',\n",
       "   'Long-term debt': '0.0',\n",
       "   'Total debt': '0.0',\n",
       "   'Deferred revenue': '10305000000.0',\n",
       "   'Tax Liabilities': '0.0',\n",
       "   'Deposit Liabilities': '0.0',\n",
       "   'Total non-current liabilities': '6737000000.0',\n",
       "   'Total liabilities': '26019000000.0',\n",
       "   'Other comprehensive income': '84000000.0',\n",
       "   'Retained earnings (deficit)': '19538000000.0',\n",
       "   'Total shareholders equity': '27832000000.0',\n",
       "   'Investments': '28729000000.0',\n",
       "   'Net Debt': '-5263000000.0',\n",
       "   'Other Assets': '0.0',\n",
       "   'Other Liabilities': '0.0'},\n",
       "  {'date': '2008-09-27',\n",
       "   'Cash and cash equivalents': '11875000000.0',\n",
       "   'Short-term investments': '12615000000.0',\n",
       "   'Cash and short-term investments': '24490000000.0',\n",
       "   'Receivables': '4704000000.0',\n",
       "   'Inventories': '509000000.0',\n",
       "   'Total current assets': '34690000000.0',\n",
       "   'Property, Plant & Equipment Net': '2455000000.0',\n",
       "   'Goodwill and Intangible Assets': '492000000.0',\n",
       "   'Long-term investments': '0.0',\n",
       "   'Tax assets': '138000000.0',\n",
       "   'Total non-current assets': '4882000000.0',\n",
       "   'Total assets': '39572000000.0',\n",
       "   'Payables': '5520000000.0',\n",
       "   'Short-term debt': '0.0',\n",
       "   'Total current liabilities': '14092000000.0',\n",
       "   'Long-term debt': '0.0',\n",
       "   'Total debt': '0.0',\n",
       "   'Deferred revenue': '4853000000.0',\n",
       "   'Tax Liabilities': '',\n",
       "   'Deposit Liabilities': '',\n",
       "   'Total non-current liabilities': '4450000000.0',\n",
       "   'Total liabilities': '18542000000.0',\n",
       "   'Other comprehensive income': '8000000.0',\n",
       "   'Retained earnings (deficit)': '13845000000.0',\n",
       "   'Total shareholders equity': '21030000000.0',\n",
       "   'Investments': '0.0',\n",
       "   'Net Debt': '-11875000000.0',\n",
       "   'Other Assets': '0.0',\n",
       "   'Other Liabilities': '0.0'},\n",
       "  {'date': '2007-09-29',\n",
       "   'Cash and cash equivalents': '9352000000.0',\n",
       "   'Short-term investments': '6034000000.0',\n",
       "   'Cash and short-term investments': '15386000000.0',\n",
       "   'Receivables': '4029000000.0',\n",
       "   'Inventories': '346000000.0',\n",
       "   'Total current assets': '21956000000.0',\n",
       "   'Property, Plant & Equipment Net': '1832000000.0',\n",
       "   'Goodwill and Intangible Assets': '337000000.0',\n",
       "   'Long-term investments': '0.0',\n",
       "   'Tax assets': '88000000.0',\n",
       "   'Total non-current assets': '3391000000.0',\n",
       "   'Total assets': '25347000000.0',\n",
       "   'Payables': '4970000000.0',\n",
       "   'Short-term debt': '0.0',\n",
       "   'Total current liabilities': '9299000000.0',\n",
       "   'Long-term debt': '0.0',\n",
       "   'Total debt': '0.0',\n",
       "   'Deferred revenue': '1410000000.0',\n",
       "   'Tax Liabilities': '',\n",
       "   'Deposit Liabilities': '',\n",
       "   'Total non-current liabilities': '1516000000.0',\n",
       "   'Total liabilities': '10815000000.0',\n",
       "   'Other comprehensive income': '63000000.0',\n",
       "   'Retained earnings (deficit)': '9101000000.0',\n",
       "   'Total shareholders equity': '14532000000.0',\n",
       "   'Investments': '0.0',\n",
       "   'Net Debt': '-9352000000.0',\n",
       "   'Other Assets': '0.0',\n",
       "   'Other Liabilities': '0.0'},\n",
       "  {'date': '2006-09-30',\n",
       "   'Cash and cash equivalents': '6392000000.0',\n",
       "   'Short-term investments': '3718000000.0',\n",
       "   'Cash and short-term investments': '10110000000.0',\n",
       "   'Receivables': '2845000000.0',\n",
       "   'Inventories': '270000000.0',\n",
       "   'Total current assets': '14509000000.0',\n",
       "   'Property, Plant & Equipment Net': '1281000000.0',\n",
       "   'Goodwill and Intangible Assets': '177000000.0',\n",
       "   'Long-term investments': '0.0',\n",
       "   'Tax assets': '0.0',\n",
       "   'Total non-current assets': '2696000000.0',\n",
       "   'Total assets': '17205000000.0',\n",
       "   'Payables': '3390000000.0',\n",
       "   'Short-term debt': '0.0',\n",
       "   'Total current liabilities': '6471000000.0',\n",
       "   'Long-term debt': '0.0',\n",
       "   'Total debt': '0.0',\n",
       "   'Deferred revenue': '746000000.0',\n",
       "   'Tax Liabilities': '',\n",
       "   'Deposit Liabilities': '',\n",
       "   'Total non-current liabilities': '750000000.0',\n",
       "   'Total liabilities': '7221000000.0',\n",
       "   'Other comprehensive income': '22000000.0',\n",
       "   'Retained earnings (deficit)': '5607000000.0',\n",
       "   'Total shareholders equity': '9984000000.0',\n",
       "   'Investments': '0.0',\n",
       "   'Net Debt': '-6392000000.0',\n",
       "   'Other Assets': '0.0',\n",
       "   'Other Liabilities': '0.0'},\n",
       "  {'date': '2005-09-24',\n",
       "   'Cash and cash equivalents': '3491000000.0',\n",
       "   'Short-term investments': '4770000000.0',\n",
       "   'Cash and short-term investments': '8261000000.0',\n",
       "   'Receivables': '1312000000.0',\n",
       "   'Inventories': '165000000.0',\n",
       "   'Total current assets': '10300000000.0',\n",
       "   'Property, Plant & Equipment Net': '817000000.0',\n",
       "   'Goodwill and Intangible Assets': '96000000.0',\n",
       "   'Long-term investments': '0.0',\n",
       "   'Tax assets': '183000000.0',\n",
       "   'Total non-current assets': '1251000000.0',\n",
       "   'Total assets': '11551000000.0',\n",
       "   'Payables': '1779000000.0',\n",
       "   'Short-term debt': '0.0',\n",
       "   'Total current liabilities': '3484000000.0',\n",
       "   'Long-term debt': '0.0',\n",
       "   'Total debt': '0.0',\n",
       "   'Deferred revenue': '501000000.0',\n",
       "   'Tax Liabilities': '',\n",
       "   'Deposit Liabilities': '',\n",
       "   'Total non-current liabilities': '601000000.0',\n",
       "   'Total liabilities': '4085000000.0',\n",
       "   'Other comprehensive income': '0.0',\n",
       "   'Retained earnings (deficit)': '4005000000.0',\n",
       "   'Total shareholders equity': '7466000000.0',\n",
       "   'Investments': '0.0',\n",
       "   'Net Debt': '-3491000000.0',\n",
       "   'Other Assets': '0.0',\n",
       "   'Other Liabilities': '0.0'},\n",
       "  {'date': '2004-09-25',\n",
       "   'Cash and cash equivalents': '2969000000.0',\n",
       "   'Short-term investments': '2495000000.0',\n",
       "   'Cash and short-term investments': '5464000000.0',\n",
       "   'Receivables': '1050000000.0',\n",
       "   'Inventories': '101000000.0',\n",
       "   'Total current assets': '7055000000.0',\n",
       "   'Property, Plant & Equipment Net': '707000000.0',\n",
       "   'Goodwill and Intangible Assets': '97000000.0',\n",
       "   'Long-term investments': '0.0',\n",
       "   'Tax assets': '86000000.0',\n",
       "   'Total non-current assets': '995000000.0',\n",
       "   'Total assets': '8050000000.0',\n",
       "   'Payables': '1451000000.0',\n",
       "   'Short-term debt': '0.0',\n",
       "   'Total current liabilities': '2680000000.0',\n",
       "   'Long-term debt': '0.0',\n",
       "   'Total debt': '0.0',\n",
       "   'Deferred revenue': '544000000.0',\n",
       "   'Tax Liabilities': '',\n",
       "   'Deposit Liabilities': '',\n",
       "   'Total non-current liabilities': '294000000.0',\n",
       "   'Total liabilities': '2974000000.0',\n",
       "   'Other comprehensive income': '-15000000.0',\n",
       "   'Retained earnings (deficit)': '2670000000.0',\n",
       "   'Total shareholders equity': '5076000000.0',\n",
       "   'Investments': '0.0',\n",
       "   'Net Debt': '-2969000000.0',\n",
       "   'Other Assets': '0.0',\n",
       "   'Other Liabilities': '0.0'},\n",
       "  {'date': '2003-09-27',\n",
       "   'Cash and cash equivalents': '3396000000.0',\n",
       "   'Short-term investments': '1170000000.0',\n",
       "   'Cash and short-term investments': '4566000000.0',\n",
       "   'Receivables': '950000000.0',\n",
       "   'Inventories': '56000000.0',\n",
       "   'Total current assets': '5887000000.0',\n",
       "   'Property, Plant & Equipment Net': '669000000.0',\n",
       "   'Goodwill and Intangible Assets': '109000000.0',\n",
       "   'Long-term investments': '5000000.0',\n",
       "   'Tax assets': '60000000.0',\n",
       "   'Total non-current assets': '928000000.0',\n",
       "   'Total assets': '6815000000.0',\n",
       "   'Payables': '1154000000.0',\n",
       "   'Short-term debt': '304000000.0',\n",
       "   'Total current liabilities': '2357000000.0',\n",
       "   'Long-term debt': '0.0',\n",
       "   'Total debt': '304000000.0',\n",
       "   'Deferred revenue': '368000000.0',\n",
       "   'Tax Liabilities': '',\n",
       "   'Deposit Liabilities': '',\n",
       "   'Total non-current liabilities': '235000000.0',\n",
       "   'Total liabilities': '2592000000.0',\n",
       "   'Other comprehensive income': '-35000000.0',\n",
       "   'Retained earnings (deficit)': '2394000000.0',\n",
       "   'Total shareholders equity': '4223000000.0',\n",
       "   'Investments': '1175000000.0',\n",
       "   'Net Debt': '-3092000000.0',\n",
       "   'Other Assets': '0.0',\n",
       "   'Other Liabilities': '0.0'},\n",
       "  {'date': '2002-09-28',\n",
       "   'Cash and cash equivalents': '2252000000.0',\n",
       "   'Short-term investments': '2085000000.0',\n",
       "   'Cash and short-term investments': '4337000000.0',\n",
       "   'Receivables': '565000000.0',\n",
       "   'Inventories': '45000000.0',\n",
       "   'Total current assets': '5388000000.0',\n",
       "   'Property, Plant & Equipment Net': '621000000.0',\n",
       "   'Goodwill and Intangible Assets': '119000000.0',\n",
       "   'Long-term investments': '39000000.0',\n",
       "   'Tax assets': '229000000.0',\n",
       "   'Total non-current assets': '910000000.0',\n",
       "   'Total assets': '6298000000.0',\n",
       "   'Payables': '911000000.0',\n",
       "   'Short-term debt': '0.0',\n",
       "   'Total current liabilities': '1658000000.0',\n",
       "   'Long-term debt': '316000000.0',\n",
       "   'Total debt': '316000000.0',\n",
       "   'Deferred revenue': '0.0',\n",
       "   'Tax Liabilities': '',\n",
       "   'Deposit Liabilities': '',\n",
       "   'Total non-current liabilities': '545000000.0',\n",
       "   'Total liabilities': '2203000000.0',\n",
       "   'Other comprehensive income': '-56000000.0',\n",
       "   'Retained earnings (deficit)': '2325000000.0',\n",
       "   'Total shareholders equity': '4095000000.0',\n",
       "   'Investments': '2124000000.0',\n",
       "   'Net Debt': '-1936000000.0',\n",
       "   'Other Assets': '0.0',\n",
       "   'Other Liabilities': '0.0'},\n",
       "  {'date': '2001-09-29',\n",
       "   'Cash and cash equivalents': '2310000000.0',\n",
       "   'Short-term investments': '2026000000.0',\n",
       "   'Cash and short-term investments': '4336000000.0',\n",
       "   'Receivables': '466000000.0',\n",
       "   'Inventories': '11000000.0',\n",
       "   'Total current assets': '5143000000.0',\n",
       "   'Property, Plant & Equipment Net': '564000000.0',\n",
       "   'Goodwill and Intangible Assets': '76000000.0',\n",
       "   'Long-term investments': '128000000.0',\n",
       "   'Tax assets': '266000000.0',\n",
       "   'Total non-current assets': '878000000.0',\n",
       "   'Total assets': '6021000000.0',\n",
       "   'Payables': '801000000.0',\n",
       "   'Short-term debt': '0.0',\n",
       "   'Total current liabilities': '1518000000.0',\n",
       "   'Long-term debt': '317000000.0',\n",
       "   'Total debt': '317000000.0',\n",
       "   'Deferred revenue': '0.0',\n",
       "   'Tax Liabilities': '',\n",
       "   'Deposit Liabilities': '',\n",
       "   'Total non-current liabilities': '583000000.0',\n",
       "   'Total liabilities': '2101000000.0',\n",
       "   'Other comprehensive income': '-33000000.0',\n",
       "   'Retained earnings (deficit)': '2260000000.0',\n",
       "   'Total shareholders equity': '3920000000.0',\n",
       "   'Investments': '2154000000.0',\n",
       "   'Net Debt': '-1993000000.0',\n",
       "   'Other Assets': '0.0',\n",
       "   'Other Liabilities': '0.0'},\n",
       "  {'date': '2000-09-30',\n",
       "   'Cash and cash equivalents': '1191000000.0',\n",
       "   'Short-term investments': '2836000000.0',\n",
       "   'Cash and short-term investments': '4027000000.0',\n",
       "   'Receivables': '953000000.0',\n",
       "   'Inventories': '33000000.0',\n",
       "   'Total current assets': '5427000000.0',\n",
       "   'Property, Plant & Equipment Net': '313000000.0',\n",
       "   'Goodwill and Intangible Assets': '0.0',\n",
       "   'Long-term investments': '0.0',\n",
       "   'Tax assets': '0.0',\n",
       "   'Total non-current assets': '1376000000.0',\n",
       "   'Total assets': '6803000000.0',\n",
       "   'Payables': '1157000000.0',\n",
       "   'Short-term debt': '0.0',\n",
       "   'Total current liabilities': '1933000000.0',\n",
       "   'Long-term debt': '300000000.0',\n",
       "   'Total debt': '300000000.0',\n",
       "   'Deferred revenue': '0.0',\n",
       "   'Tax Liabilities': '',\n",
       "   'Deposit Liabilities': '',\n",
       "   'Total non-current liabilities': '763000000.0',\n",
       "   'Total liabilities': '2696000000.0',\n",
       "   'Other comprehensive income': '-387000000.0',\n",
       "   'Retained earnings (deficit)': '2285000000.0',\n",
       "   'Total shareholders equity': '4107000000.0',\n",
       "   'Investments': '0.0',\n",
       "   'Net Debt': '-891000000.0',\n",
       "   'Other Assets': '0.0',\n",
       "   'Other Liabilities': '0.0'},\n",
       "  {'date': '1999-09-25',\n",
       "   'Cash and cash equivalents': '1326000000.0',\n",
       "   'Short-term investments': '1900000000.0',\n",
       "   'Cash and short-term investments': '3226000000.0',\n",
       "   'Receivables': '681000000.0',\n",
       "   'Inventories': '20000000.0',\n",
       "   'Total current assets': '4285000000.0',\n",
       "   'Property, Plant & Equipment Net': '318000000.0',\n",
       "   'Goodwill and Intangible Assets': '0.0',\n",
       "   'Long-term investments': '339000000.0',\n",
       "   'Tax assets': '208000000.0',\n",
       "   'Total non-current assets': '876000000.0',\n",
       "   'Total assets': '5161000000.0',\n",
       "   'Payables': '812000000.0',\n",
       "   'Short-term debt': '0.0',\n",
       "   'Total current liabilities': '1549000000.0',\n",
       "   'Long-term debt': '300000000.0',\n",
       "   'Total debt': '300000000.0',\n",
       "   'Deferred revenue': '0.0',\n",
       "   'Tax Liabilities': '',\n",
       "   'Deposit Liabilities': '',\n",
       "   'Total non-current liabilities': '508000000.0',\n",
       "   'Total liabilities': '2057000000.0',\n",
       "   'Other comprehensive income': '106000000.0',\n",
       "   'Retained earnings (deficit)': '1499000000.0',\n",
       "   'Total shareholders equity': '3104000000.0',\n",
       "   'Investments': '2239000000.0',\n",
       "   'Net Debt': '-1026000000.0',\n",
       "   'Other Assets': '0.0',\n",
       "   'Other Liabilities': '0.0'},\n",
       "  {'date': '1998-09-25',\n",
       "   'Cash and cash equivalents': '1481000000.0',\n",
       "   'Short-term investments': '819000000.0',\n",
       "   'Cash and short-term investments': '2300000000.0',\n",
       "   'Receivables': '955000000.0',\n",
       "   'Inventories': '78000000.0',\n",
       "   'Total current assets': '3698000000.0',\n",
       "   'Property, Plant & Equipment Net': '348000000.0',\n",
       "   'Goodwill and Intangible Assets': '0.0',\n",
       "   'Long-term investments': '0.0',\n",
       "   'Tax assets': '173000000.0',\n",
       "   'Total non-current assets': '591000000.0',\n",
       "   'Total assets': '4289000000.0',\n",
       "   'Payables': '719000000.0',\n",
       "   'Short-term debt': '0.0',\n",
       "   'Total current liabilities': '1520000000.0',\n",
       "   'Long-term debt': '954000000.0',\n",
       "   'Total debt': '954000000.0',\n",
       "   'Deferred revenue': '0.0',\n",
       "   'Tax Liabilities': '',\n",
       "   'Deposit Liabilities': '',\n",
       "   'Total non-current liabilities': '1127000000.0',\n",
       "   'Total liabilities': '2647000000.0',\n",
       "   'Other comprehensive income': '-39000000.0',\n",
       "   'Retained earnings (deficit)': '898000000.0',\n",
       "   'Total shareholders equity': '1642000000.0',\n",
       "   'Investments': '819000000.0',\n",
       "   'Net Debt': '-527000000.0',\n",
       "   'Other Assets': '0.0',\n",
       "   'Other Liabilities': '0.0'},\n",
       "  {'date': '1997-09-26',\n",
       "   'Cash and cash equivalents': '1230000000.0',\n",
       "   'Short-term investments': '229000000.0',\n",
       "   'Cash and short-term investments': '1459000000.0',\n",
       "   'Receivables': '1035000000.0',\n",
       "   'Inventories': '437000000.0',\n",
       "   'Total current assets': '3424000000.0',\n",
       "   'Property, Plant & Equipment Net': '486000000.0',\n",
       "   'Goodwill and Intangible Assets': '0.0',\n",
       "   'Long-term investments': '0.0',\n",
       "   'Tax assets': '264000000.0',\n",
       "   'Total non-current assets': '809000000.0',\n",
       "   'Total assets': '4233000000.0',\n",
       "   'Payables': '685000000.0',\n",
       "   'Short-term debt': '25000000.0',\n",
       "   'Total current liabilities': '1818000000.0',\n",
       "   'Long-term debt': '951000000.0',\n",
       "   'Total debt': '976000000.0',\n",
       "   'Deferred revenue': '0.0',\n",
       "   'Tax Liabilities': '',\n",
       "   'Deposit Liabilities': '',\n",
       "   'Total non-current liabilities': '1215000000.0',\n",
       "   'Total liabilities': '3033000000.0',\n",
       "   'Other comprehensive income': '-74000000.0',\n",
       "   'Retained earnings (deficit)': '589000000.0',\n",
       "   'Total shareholders equity': '1200000000.0',\n",
       "   'Investments': '229000000.0',\n",
       "   'Net Debt': '-254000000.0',\n",
       "   'Other Assets': '0.0',\n",
       "   'Other Liabilities': '0.0'},\n",
       "  {'date': '1996-09-27',\n",
       "   'Cash and cash equivalents': '1552000000.0',\n",
       "   'Short-term investments': '193000000.0',\n",
       "   'Cash and short-term investments': '1745000000.0',\n",
       "   'Receivables': '1496000000.0',\n",
       "   'Inventories': '662000000.0',\n",
       "   'Total current assets': '4515000000.0',\n",
       "   'Property, Plant & Equipment Net': '598000000.0',\n",
       "   'Goodwill and Intangible Assets': '0.0',\n",
       "   'Long-term investments': '0.0',\n",
       "   'Tax assets': '354000000.0',\n",
       "   'Total non-current assets': '849000000.0',\n",
       "   'Total assets': '5364000000.0',\n",
       "   'Payables': '791000000.0',\n",
       "   'Short-term debt': '186000000.0',\n",
       "   'Total current liabilities': '2003000000.0',\n",
       "   'Long-term debt': '949000000.0',\n",
       "   'Total debt': '1135000000.0',\n",
       "   'Deferred revenue': '0.0',\n",
       "   'Tax Liabilities': '',\n",
       "   'Deposit Liabilities': '',\n",
       "   'Total non-current liabilities': '1303000000.0',\n",
       "   'Total liabilities': '3306000000.0',\n",
       "   'Other comprehensive income': '-30000000.0',\n",
       "   'Retained earnings (deficit)': '1634000000.0',\n",
       "   'Total shareholders equity': '2058000000.0',\n",
       "   'Investments': '193000000.0',\n",
       "   'Net Debt': '-417000000.0',\n",
       "   'Other Assets': '0.0',\n",
       "   'Other Liabilities': '0.0'},\n",
       "  {'date': '1995-09-29',\n",
       "   'Cash and cash equivalents': '756000000.0',\n",
       "   'Short-term investments': '196000000.0',\n",
       "   'Cash and short-term investments': '952000000.0',\n",
       "   'Receivables': '1931000000.0',\n",
       "   'Inventories': '1775000000.0',\n",
       "   'Total current assets': '5224000000.0',\n",
       "   'Property, Plant & Equipment Net': '711000000.0',\n",
       "   'Goodwill and Intangible Assets': '0.0',\n",
       "   'Long-term investments': '0.0',\n",
       "   'Tax assets': '702000000.0',\n",
       "   'Total non-current assets': '1007000000.0',\n",
       "   'Total assets': '6231000000.0',\n",
       "   'Payables': '1165000000.0',\n",
       "   'Short-term debt': '461000000.0',\n",
       "   'Total current liabilities': '2325000000.0',\n",
       "   'Long-term debt': '303000000.0',\n",
       "   'Total debt': '764000000.0',\n",
       "   'Deferred revenue': '0.0',\n",
       "   'Tax Liabilities': '',\n",
       "   'Deposit Liabilities': '',\n",
       "   'Total non-current liabilities': '1005000000.0',\n",
       "   'Total liabilities': '3330000000.0',\n",
       "   'Other comprehensive income': '78000000.0',\n",
       "   'Retained earnings (deficit)': '2464000000.0',\n",
       "   'Total shareholders equity': '2901000000.0',\n",
       "   'Investments': '196000000.0',\n",
       "   'Net Debt': '8000000.0',\n",
       "   'Other Assets': '0.0',\n",
       "   'Other Liabilities': '0.0'},\n",
       "  {'date': '1994-09-30',\n",
       "   'Cash and cash equivalents': '1203488000.0',\n",
       "   'Short-term investments': '54368000.0',\n",
       "   'Cash and short-term investments': '1257856000.0',\n",
       "   'Receivables': '1581347000.0',\n",
       "   'Inventories': '1088434000.0',\n",
       "   'Total current assets': '4476452000.0',\n",
       "   'Property, Plant & Equipment Net': '667100000.0',\n",
       "   'Goodwill and Intangible Assets': '0.0',\n",
       "   'Long-term investments': '0.0',\n",
       "   'Tax assets': '0.0',\n",
       "   'Total non-current assets': '826294000.0',\n",
       "   'Total assets': '5302746000.0',\n",
       "   'Payables': '881717000.0',\n",
       "   'Short-term debt': '292200000.0',\n",
       "   'Total current liabilities': '1944305000.0',\n",
       "   'Long-term debt': '304000000.0',\n",
       "   'Total debt': '596200000.0',\n",
       "   'Deferred revenue': '0.0',\n",
       "   'Tax Liabilities': '',\n",
       "   'Deposit Liabilities': '',\n",
       "   'Total non-current liabilities': '975140000.0',\n",
       "   'Total liabilities': '2919445000.0',\n",
       "   'Other comprehensive income': '-785088000.0',\n",
       "   'Retained earnings (deficit)': '2096206000.0',\n",
       "   'Total shareholders equity': '2383301000.0',\n",
       "   'Investments': '0.0',\n",
       "   'Net Debt': '-607288000.0',\n",
       "   'Other Assets': '0.0',\n",
       "   'Other Liabilities': '0.0'},\n",
       "  {'date': '1993-09-30',\n",
       "   'Cash and cash equivalents': '676400000.0',\n",
       "   'Short-term investments': '0.0',\n",
       "   'Cash and short-term investments': '676400000.0',\n",
       "   'Receivables': '1381900000.0',\n",
       "   'Inventories': '1506600000.0',\n",
       "   'Total current assets': '4338400000.0',\n",
       "   'Property, Plant & Equipment Net': '659500000.0',\n",
       "   'Goodwill and Intangible Assets': '0.0',\n",
       "   'Long-term investments': '0.0',\n",
       "   'Tax assets': '0.0',\n",
       "   'Total non-current assets': '833000000.0',\n",
       "   'Total assets': '5171400000.0',\n",
       "   'Payables': '742600000.0',\n",
       "   'Short-term debt': '823200000.0',\n",
       "   'Total current liabilities': '2515200000.0',\n",
       "   'Long-term debt': '0.0',\n",
       "   'Total debt': '823200000.0',\n",
       "   'Deferred revenue': '0.0',\n",
       "   'Tax Liabilities': '',\n",
       "   'Deposit Liabilities': '',\n",
       "   'Total non-current liabilities': '629800000.0',\n",
       "   'Total liabilities': '3145000000.0',\n",
       "   'Other comprehensive income': '-753100000.0',\n",
       "   'Retained earnings (deficit)': '1842600000.0',\n",
       "   'Total shareholders equity': '2026400000.0',\n",
       "   'Investments': '0.0',\n",
       "   'Net Debt': '146800000.0',\n",
       "   'Other Assets': '0.0',\n",
       "   'Other Liabilities': '0.0'},\n",
       "  {'date': '1992-09-30',\n",
       "   'Cash and cash equivalents': '498600000.0',\n",
       "   'Short-term investments': '0.0',\n",
       "   'Cash and short-term investments': '498600000.0',\n",
       "   'Receivables': '1087200000.0',\n",
       "   'Inventories': '580100000.0',\n",
       "   'Total current assets': '3558400000.0',\n",
       "   'Property, Plant & Equipment Net': '462200000.0',\n",
       "   'Goodwill and Intangible Assets': '0.0',\n",
       "   'Long-term investments': '0.0',\n",
       "   'Tax assets': '0.0',\n",
       "   'Total non-current assets': '665300000.0',\n",
       "   'Total assets': '4223700000.0',\n",
       "   'Payables': '426900000.0',\n",
       "   'Short-term debt': '184500000.0',\n",
       "   'Total current liabilities': '1425500000.0',\n",
       "   'Long-term debt': '0.0',\n",
       "   'Total debt': '184500000.0',\n",
       "   'Deferred revenue': '0.0',\n",
       "   'Tax Liabilities': '',\n",
       "   'Deposit Liabilities': '',\n",
       "   'Total non-current liabilities': '610800000.0',\n",
       "   'Total liabilities': '2036300000.0',\n",
       "   'Other comprehensive income': '-673400000.0',\n",
       "   'Retained earnings (deficit)': '1904500000.0',\n",
       "   'Total shareholders equity': '2187400000.0',\n",
       "   'Investments': '0.0',\n",
       "   'Net Debt': '-314100000.0',\n",
       "   'Other Assets': '0.0',\n",
       "   'Other Liabilities': '0.0'},\n",
       "  {'date': '1991-09-30',\n",
       "   'Cash and cash equivalents': '604100000.0',\n",
       "   'Short-term investments': '0.0',\n",
       "   'Cash and short-term investments': '604100000.0',\n",
       "   'Receivables': '907200000.0',\n",
       "   'Inventories': '671700000.0',\n",
       "   'Total current assets': '2863600000.0',\n",
       "   'Property, Plant & Equipment Net': '448000000.0',\n",
       "   'Goodwill and Intangible Assets': '0.0',\n",
       "   'Long-term investments': '0.0',\n",
       "   'Tax assets': '0.0',\n",
       "   'Total non-current assets': '630000000.0',\n",
       "   'Total assets': '3493600000.0',\n",
       "   'Payables': '357100000.0',\n",
       "   'Short-term debt': '148600000.0',\n",
       "   'Total current liabilities': '1217100000.0',\n",
       "   'Long-term debt': '0.0',\n",
       "   'Total debt': '148600000.0',\n",
       "   'Deferred revenue': '0.0',\n",
       "   'Tax Liabilities': '',\n",
       "   'Deposit Liabilities': '',\n",
       "   'Total non-current liabilities': '509800000.0',\n",
       "   'Total liabilities': '1726900000.0',\n",
       "   'Other comprehensive income': '-588000000.0',\n",
       "   'Retained earnings (deficit)': '1492000000.0',\n",
       "   'Total shareholders equity': '1766700000.0',\n",
       "   'Investments': '0.0',\n",
       "   'Net Debt': '-455500000.0',\n",
       "   'Other Assets': '0.0',\n",
       "   'Other Liabilities': '0.0'},\n",
       "  {'date': '1990-09-30',\n",
       "   'Cash and cash equivalents': '374700000.0',\n",
       "   'Short-term investments': '0.0',\n",
       "   'Cash and short-term investments': '374700000.0',\n",
       "   'Receivables': '761900000.0',\n",
       "   'Inventories': '355500000.0',\n",
       "   'Total current assets': '2403300000.0',\n",
       "   'Property, Plant & Equipment Net': '398200000.0',\n",
       "   'Goodwill and Intangible Assets': '0.0',\n",
       "   'Long-term investments': '0.0',\n",
       "   'Tax assets': '0.0',\n",
       "   'Total non-current assets': '572400000.0',\n",
       "   'Total assets': '2975700000.0',\n",
       "   'Payables': '340600000.0',\n",
       "   'Short-term debt': '122600000.0',\n",
       "   'Total current liabilities': '1027000000.0',\n",
       "   'Long-term debt': '0.0',\n",
       "   'Total debt': '122600000.0',\n",
       "   'Deferred revenue': '0.0',\n",
       "   'Tax Liabilities': '',\n",
       "   'Deposit Liabilities': '',\n",
       "   'Total non-current liabilities': '501900000.0',\n",
       "   'Total liabilities': '1528900000.0',\n",
       "   'Other comprehensive income': '-446700000.0',\n",
       "   'Retained earnings (deficit)': '1312200000.0',\n",
       "   'Total shareholders equity': '1446800000.0',\n",
       "   'Investments': '0.0',\n",
       "   'Net Debt': '-252100000.0',\n",
       "   'Other Assets': '0.0',\n",
       "   'Other Liabilities': '0.0'},\n",
       "  {'date': '1989-09-30',\n",
       "   'Cash and cash equivalents': '438300000.0',\n",
       "   'Short-term investments': '0.0',\n",
       "   'Cash and short-term investments': '438300000.0',\n",
       "   'Receivables': '792800000.0',\n",
       "   'Inventories': '475400000.0',\n",
       "   'Total current assets': '2294400000.0',\n",
       "   'Property, Plant & Equipment Net': '334200000.0',\n",
       "   'Goodwill and Intangible Assets': '0.0',\n",
       "   'Long-term investments': '0.0',\n",
       "   'Tax assets': '0.0',\n",
       "   'Total non-current assets': '449500000.0',\n",
       "   'Total assets': '2743900000.0',\n",
       "   'Payables': '334200000.0',\n",
       "   'Short-term debt': '56800000.0',\n",
       "   'Total current liabilities': '895300000.0',\n",
       "   'Long-term debt': '0.0',\n",
       "   'Total debt': '56800000.0',\n",
       "   'Deferred revenue': '0.0',\n",
       "   'Tax Liabilities': '',\n",
       "   'Deposit Liabilities': '',\n",
       "   'Total non-current liabilities': '362900000.0',\n",
       "   'Total liabilities': '1258200000.0',\n",
       "   'Other comprehensive income': '-309100000.0',\n",
       "   'Retained earnings (deficit)': '1175900000.0',\n",
       "   'Total shareholders equity': '1485700000.0',\n",
       "   'Investments': '0.0',\n",
       "   'Net Debt': '-381500000.0',\n",
       "   'Other Assets': '0.0',\n",
       "   'Other Liabilities': '0.0'},\n",
       "  {'date': '1988-09-30',\n",
       "   'Cash and cash equivalents': '545700000.0',\n",
       "   'Short-term investments': '0.0',\n",
       "   'Cash and short-term investments': '545700000.0',\n",
       "   'Receivables': '638800000.0',\n",
       "   'Inventories': '461500000.0',\n",
       "   'Total current assets': '1783000000.0',\n",
       "   'Property, Plant & Equipment Net': '207400000.0',\n",
       "   'Goodwill and Intangible Assets': '0.0',\n",
       "   'Long-term investments': '0.0',\n",
       "   'Tax assets': '0.0',\n",
       "   'Total non-current assets': '299100000.0',\n",
       "   'Total assets': '2082100000.0',\n",
       "   'Payables': '0.0',\n",
       "   'Short-term debt': '127900000.0',\n",
       "   'Total current liabilities': '827100000.0',\n",
       "   'Long-term debt': '0.0',\n",
       "   'Total debt': '315000000.0',\n",
       "   'Deferred revenue': '0.0',\n",
       "   'Tax Liabilities': '',\n",
       "   'Deposit Liabilities': '',\n",
       "   'Total non-current liabilities': '251600000.0',\n",
       "   'Total liabilities': '1078700000.0',\n",
       "   'Other comprehensive income': '-213000000.0',\n",
       "   'Retained earnings (deficit)': '776500000.0',\n",
       "   'Total shareholders equity': '1003400000.0',\n",
       "   'Investments': '0.0',\n",
       "   'Net Debt': '-230700000.0',\n",
       "   'Other Assets': '0.0',\n",
       "   'Other Liabilities': '0.0'},\n",
       "  {'date': '1987-09-30',\n",
       "   'Cash and cash equivalents': '565100000.0',\n",
       "   'Short-term investments': '0.0',\n",
       "   'Cash and short-term investments': '565100000.0',\n",
       "   'Receivables': '405600000.0',\n",
       "   'Inventories': '225800000.0',\n",
       "   'Total current assets': '1307400000.0',\n",
       "   'Property, Plant & Equipment Net': '130400000.0',\n",
       "   'Goodwill and Intangible Assets': '0.0',\n",
       "   'Long-term investments': '0.0',\n",
       "   'Tax assets': '0.0',\n",
       "   'Total non-current assets': '170500000.0',\n",
       "   'Total assets': '1477900000.0',\n",
       "   'Payables': '0.0',\n",
       "   'Short-term debt': '0.0',\n",
       "   'Total current liabilities': '478700000.0',\n",
       "   'Long-term debt': '0.0',\n",
       "   'Total debt': '0.0',\n",
       "   'Deferred revenue': '0.0',\n",
       "   'Tax Liabilities': '',\n",
       "   'Deposit Liabilities': '',\n",
       "   'Total non-current liabilities': '162700000.0',\n",
       "   'Total liabilities': '641400000.0',\n",
       "   'Other comprehensive income': '-158700000.0',\n",
       "   'Retained earnings (deficit)': '573100000.0',\n",
       "   'Total shareholders equity': '836500000.0',\n",
       "   'Investments': '0.0',\n",
       "   'Net Debt': '-565100000.0',\n",
       "   'Other Assets': '0.0',\n",
       "   'Other Liabilities': '0.0'},\n",
       "  {'date': '1986-09-30',\n",
       "   'Cash and cash equivalents': '576200000.0',\n",
       "   'Short-term investments': '0.0',\n",
       "   'Cash and short-term investments': '576200000.0',\n",
       "   'Receivables': '263100000.0',\n",
       "   'Inventories': '108700000.0',\n",
       "   'Total current assets': '1040900000.0',\n",
       "   'Property, Plant & Equipment Net': '107300000.0',\n",
       "   'Goodwill and Intangible Assets': '0.0',\n",
       "   'Long-term investments': '0.0',\n",
       "   'Tax assets': '0.0',\n",
       "   'Total non-current assets': '119200000.0',\n",
       "   'Total assets': '1160100000.0',\n",
       "   'Payables': '0.0',\n",
       "   'Short-term debt': '0.0',\n",
       "   'Total current liabilities': '328500000.0',\n",
       "   'Long-term debt': '0.0',\n",
       "   'Total debt': '0.0',\n",
       "   'Deferred revenue': '0.0',\n",
       "   'Tax Liabilities': '',\n",
       "   'Deposit Liabilities': '',\n",
       "   'Total non-current liabilities': '137500000.0',\n",
       "   'Total liabilities': '466000000.0',\n",
       "   'Other comprehensive income': '-114700000.0',\n",
       "   'Retained earnings (deficit)': '474300000.0',\n",
       "   'Total shareholders equity': '694100000.0',\n",
       "   'Investments': '0.0',\n",
       "   'Net Debt': '-576200000.0',\n",
       "   'Other Assets': '0.0',\n",
       "   'Other Liabilities': '0.0'},\n",
       "  {'date': '1985-09-30',\n",
       "   'Cash and cash equivalents': '337000000.0',\n",
       "   'Short-term investments': '0.0',\n",
       "   'Cash and short-term investments': '337000000.0',\n",
       "   'Receivables': '220200000.0',\n",
       "   'Inventories': '167000000.0',\n",
       "   'Total current assets': '822100000.0',\n",
       "   'Property, Plant & Equipment Net': '90400000.0',\n",
       "   'Goodwill and Intangible Assets': '0.0',\n",
       "   'Long-term investments': '0.0',\n",
       "   'Tax assets': '0.0',\n",
       "   'Total non-current assets': '114100000.0',\n",
       "   'Total assets': '936200000.0',\n",
       "   'Payables': '0.0',\n",
       "   'Short-term debt': '0.0',\n",
       "   'Total current liabilities': '295400000.0',\n",
       "   'Long-term debt': '0.0',\n",
       "   'Total debt': '0.0',\n",
       "   'Deferred revenue': '0.0',\n",
       "   'Tax Liabilities': '',\n",
       "   'Deposit Liabilities': '',\n",
       "   'Total non-current liabilities': '90300000.0',\n",
       "   'Total liabilities': '385700000.0',\n",
       "   'Other comprehensive income': '-85200000.0',\n",
       "   'Retained earnings (deficit)': '320300000.0',\n",
       "   'Total shareholders equity': '550500000.0',\n",
       "   'Investments': '0.0',\n",
       "   'Net Debt': '-337000000.0',\n",
       "   'Other Assets': '0.0',\n",
       "   'Other Liabilities': '0.0'}]}"
      ]
     },
     "execution_count": 5,
     "metadata": {},
     "output_type": "execute_result"
    }
   ],
   "source": [
    "\n",
    "\n",
    "\n",
    "\n",
    "balance_statement = requests.get(f\"https://financialmodelingprep.com/api/v3/financials/balance-sheet-statement/{stock}?period=annual&apikey=Aw4HU49x1ktoouk2qz8sxClJniOyuJoC\")\n",
    "balance_statement = balance_statement.json()\n",
    "\n",
    "balance_statement"
   ]
  },
  {
   "cell_type": "code",
   "execution_count": 6,
   "metadata": {},
   "outputs": [
    {
     "data": {
      "text/plain": [
       "{'symbol': 'AAPL',\n",
       " 'financials': [{'date': '2021-09-25',\n",
       "   'Revenue': '365817000000.0',\n",
       "   'Revenue Growth': '',\n",
       "   'Cost of Revenue': '212981000000.0',\n",
       "   'Gross Profit': '152836000000.0',\n",
       "   'R&D Expenses': '21914000000.0',\n",
       "   'SG&A Expense': '0.0',\n",
       "   'Operating Expenses': '43887000000.0',\n",
       "   'Operating Income': '108949000000.0',\n",
       "   'Interest Expense': '2645000000.0',\n",
       "   'Earnings before Tax': '109207000000.0',\n",
       "   'Income Tax Expense': '14527000000.0',\n",
       "   'Net Income - Non-Controlling int': '',\n",
       "   'Net Income - Discontinued ops': '',\n",
       "   'Net Income': '94680000000.0',\n",
       "   'Preferred Dividends': '',\n",
       "   'Net Income Com': '94680000000.0',\n",
       "   'EPS': '5.67',\n",
       "   'EPS Diluted': '5.61',\n",
       "   'Weighted Average Shs Out': '16701272000.0',\n",
       "   'Weighted Average Shs Out (Dil)': '16864919000.0',\n",
       "   'Dividend per Share': '',\n",
       "   'Gross Margin': '0.417793596251678',\n",
       "   'EBITDA Margin': '0.336605461200546',\n",
       "   'EBIT Margin': '',\n",
       "   'Profit Margin': '0.258817933556942',\n",
       "   'Free Cash Flow margin': '',\n",
       "   'EBITDA': '123136000000.0',\n",
       "   'EBIT': '',\n",
       "   'Consolidated Income': '',\n",
       "   'Earnings Before Tax Margin': '0.298529045943737',\n",
       "   'Net Profit Margin': '0.258817933556942'},\n",
       "  {'date': '2020-09-26',\n",
       "   'Revenue': '274515000000.0',\n",
       "   'Revenue Growth': '0.0551208037698',\n",
       "   'Cost of Revenue': '169559000000.0',\n",
       "   'Gross Profit': '104956000000.0',\n",
       "   'R&D Expenses': '18752000000.0',\n",
       "   'SG&A Expense': '0.0',\n",
       "   'Operating Expenses': '38668000000.0',\n",
       "   'Operating Income': '66288000000.0',\n",
       "   'Interest Expense': '2873000000.0',\n",
       "   'Earnings before Tax': '67091000000.0',\n",
       "   'Income Tax Expense': '9680000000.0',\n",
       "   'Net Income - Non-Controlling int': '0.0',\n",
       "   'Net Income - Discontinued ops': '0.0',\n",
       "   'Net Income': '57411000000.0',\n",
       "   'Preferred Dividends': '0.0',\n",
       "   'Net Income Com': '57411000000.0',\n",
       "   'EPS': '3.31',\n",
       "   'EPS Diluted': '3.28',\n",
       "   'Weighted Average Shs Out': '17352119000.0',\n",
       "   'Weighted Average Shs Out (Dil)': '17528214000.0',\n",
       "   'Dividend per Share': '0.803333414346',\n",
       "   'Gross Margin': '0.382332477278109',\n",
       "   'EBITDA Margin': '0.295138699160337',\n",
       "   'EBIT Margin': '0.300289471658',\n",
       "   'Profit Margin': '0.209136112780722',\n",
       "   'Free Cash Flow margin': '0.332348797492',\n",
       "   'EBITDA': '81020000000.0',\n",
       "   'EBIT': '66288000000.0',\n",
       "   'Consolidated Income': '57411000000.0',\n",
       "   'Earnings Before Tax Margin': '0.244398302460703',\n",
       "   'Net Profit Margin': '0.209136112780722'},\n",
       "  {'date': '2019-09-28',\n",
       "   'Revenue': '260174000000.0',\n",
       "   'Revenue Growth': '-0.0204107758053',\n",
       "   'Cost of Revenue': '161782000000.0',\n",
       "   'Gross Profit': '98392000000.0',\n",
       "   'R&D Expenses': '16217000000.0',\n",
       "   'SG&A Expense': '0.0',\n",
       "   'Operating Expenses': '34462000000.0',\n",
       "   'Operating Income': '63930000000.0',\n",
       "   'Interest Expense': '3576000000.0',\n",
       "   'Earnings before Tax': '65737000000.0',\n",
       "   'Income Tax Expense': '10481000000.0',\n",
       "   'Net Income - Non-Controlling int': '0.0',\n",
       "   'Net Income - Discontinued ops': '0.0',\n",
       "   'Net Income': '55256000000.0',\n",
       "   'Preferred Dividends': '0.0',\n",
       "   'Net Income Com': '55256000000.0',\n",
       "   'EPS': '2.9925',\n",
       "   'EPS Diluted': '2.9725',\n",
       "   'Weighted Average Shs Out': '18471336000.0',\n",
       "   'Weighted Average Shs Out (Dil)': '18595652000.0',\n",
       "   'Dividend per Share': '3.03705403822',\n",
       "   'Gross Margin': '0.378177681090347',\n",
       "   'EBITDA Margin': '0.314635590028212',\n",
       "   'EBIT Margin': '0.245720171885',\n",
       "   'Profit Margin': '0.212380945059845',\n",
       "   'Free Cash Flow margin': '0.226371582095',\n",
       "   'EBITDA': '81860000000.0',\n",
       "   'EBIT': '63930000000.0',\n",
       "   'Consolidated Income': '55256000000.0',\n",
       "   'Earnings Before Tax Margin': '0.252665523841737',\n",
       "   'Net Profit Margin': '0.212380945059845'},\n",
       "  {'date': '2018-09-29',\n",
       "   'Revenue': '265595000000.0',\n",
       "   'Revenue Growth': '0.158619576503',\n",
       "   'Cost of Revenue': '163756000000.0',\n",
       "   'Gross Profit': '101839000000.0',\n",
       "   'R&D Expenses': '14236000000.0',\n",
       "   'SG&A Expense': '0.0',\n",
       "   'Operating Expenses': '30941000000.0',\n",
       "   'Operating Income': '70898000000.0',\n",
       "   'Interest Expense': '3240000000.0',\n",
       "   'Earnings before Tax': '72903000000.0',\n",
       "   'Income Tax Expense': '13372000000.0',\n",
       "   'Net Income - Non-Controlling int': '0.0',\n",
       "   'Net Income - Discontinued ops': '0.0',\n",
       "   'Net Income': '59531000000.0',\n",
       "   'Preferred Dividends': '0.0',\n",
       "   'Net Income Com': '59531000000.0',\n",
       "   'EPS': '3.0025',\n",
       "   'EPS Diluted': '2.9775',\n",
       "   'Weighted Average Shs Out': '19821508000.0',\n",
       "   'Weighted Average Shs Out (Dil)': '20000436000.0',\n",
       "   'Dividend per Share': '2.74234021698',\n",
       "   'Gross Margin': '0.383437188200079',\n",
       "   'EBITDA Margin': '0.327739603531693',\n",
       "   'EBIT Margin': '0.266940266195',\n",
       "   'Profit Margin': '0.224142020745872',\n",
       "   'Free Cash Flow margin': '0.24142397259',\n",
       "   'EBITDA': '87046000000.0',\n",
       "   'EBIT': '70898000000.0',\n",
       "   'Consolidated Income': '59531000000.0',\n",
       "   'Earnings Before Tax Margin': '0.274489354091756',\n",
       "   'Net Profit Margin': '0.224142020745872'},\n",
       "  {'date': '2017-09-30',\n",
       "   'Revenue': '229234000000.0',\n",
       "   'Revenue Growth': '0.063045181994',\n",
       "   'Cost of Revenue': '141048000000.0',\n",
       "   'Gross Profit': '88186000000.0',\n",
       "   'R&D Expenses': '11581000000.0',\n",
       "   'SG&A Expense': '0.0',\n",
       "   'Operating Expenses': '26842000000.0',\n",
       "   'Operating Income': '61344000000.0',\n",
       "   'Interest Expense': '2323000000.0',\n",
       "   'Earnings before Tax': '64089000000.0',\n",
       "   'Income Tax Expense': '15738000000.0',\n",
       "   'Net Income - Non-Controlling int': '0.0',\n",
       "   'Net Income - Discontinued ops': '0.0',\n",
       "   'Net Income': '48351000000.0',\n",
       "   'Preferred Dividends': '0.0',\n",
       "   'Net Income Com': '48351000000.0',\n",
       "   'EPS': '2.3175',\n",
       "   'EPS Diluted': '2.3025',\n",
       "   'Weighted Average Shs Out': '20868968000.0',\n",
       "   'Weighted Average Shs Out (Dil)': '21006768000.0',\n",
       "   'Dividend per Share': '2.43140686849',\n",
       "   'Gross Margin': '0.384698604918991',\n",
       "   'EBITDA Margin': '0.334021131245801',\n",
       "   'EBIT Margin': '0.267604282087',\n",
       "   'Profit Margin': '0.210924208450753',\n",
       "   'Free Cash Flow margin': '0.223121351981',\n",
       "   'EBITDA': '76569000000.0',\n",
       "   'EBIT': '61344000000.0',\n",
       "   'Consolidated Income': '48351000000.0',\n",
       "   'Earnings Before Tax Margin': '0.27957894553164',\n",
       "   'Net Profit Margin': '0.210924208450753'},\n",
       "  {'date': '2016-09-24',\n",
       "   'Revenue': '215639000000.0',\n",
       "   'Revenue Growth': '-0.077342061913',\n",
       "   'Cost of Revenue': '131376000000.0',\n",
       "   'Gross Profit': '84263000000.0',\n",
       "   'R&D Expenses': '10045000000.0',\n",
       "   'SG&A Expense': '0.0',\n",
       "   'Operating Expenses': '24239000000.0',\n",
       "   'Operating Income': '60024000000.0',\n",
       "   'Interest Expense': '1456000000.0',\n",
       "   'Earnings before Tax': '61372000000.0',\n",
       "   'Income Tax Expense': '15685000000.0',\n",
       "   'Net Income - Non-Controlling int': '0.0',\n",
       "   'Net Income - Discontinued ops': '0.0',\n",
       "   'Net Income': '45687000000.0',\n",
       "   'Preferred Dividends': '0.0',\n",
       "   'Net Income Com': '45687000000.0',\n",
       "   'EPS': '2.0875',\n",
       "   'EPS Diluted': '2.0775',\n",
       "   'Weighted Average Shs Out': '21883280000.0',\n",
       "   'Weighted Average Shs Out (Dil)': '22001124000.0',\n",
       "   'Dividend per Share': '2.20897805039',\n",
       "   'Gross Margin': '0.39075955648097',\n",
       "   'EBITDA Margin': '0.340072992362235',\n",
       "   'EBIT Margin': '0.278354101067',\n",
       "   'Profit Margin': '0.211867983064288',\n",
       "   'Free Cash Flow margin': '0.246198507691',\n",
       "   'EBITDA': '73333000000.0',\n",
       "   'EBIT': '60024000000.0',\n",
       "   'Consolidated Income': '45687000000.0',\n",
       "   'Earnings Before Tax Margin': '0.284605289395703',\n",
       "   'Net Profit Margin': '0.211867983064288'},\n",
       "  {'date': '2015-09-26',\n",
       "   'Revenue': '233715000000.0',\n",
       "   'Revenue Growth': '0.278563418037',\n",
       "   'Cost of Revenue': '140089000000.0',\n",
       "   'Gross Profit': '93626000000.0',\n",
       "   'R&D Expenses': '8067000000.0',\n",
       "   'SG&A Expense': '0.0',\n",
       "   'Operating Expenses': '22396000000.0',\n",
       "   'Operating Income': '71230000000.0',\n",
       "   'Interest Expense': '733000000.0',\n",
       "   'Earnings before Tax': '72515000000.0',\n",
       "   'Income Tax Expense': '19121000000.0',\n",
       "   'Net Income - Non-Controlling int': '0.0',\n",
       "   'Net Income - Discontinued ops': '0.0',\n",
       "   'Net Income': '53394000000.0',\n",
       "   'Preferred Dividends': '0.0',\n",
       "   'Net Income Com': '53394000000.0',\n",
       "   'EPS': '2.32',\n",
       "   'EPS Diluted': '2.305',\n",
       "   'Weighted Average Shs Out': '23013684000.0',\n",
       "   'Weighted Average Shs Out (Dil)': '23172276000.0',\n",
       "   'Dividend per Share': '1.99566067658',\n",
       "   'Gross Margin': '0.400599020174144',\n",
       "   'EBITDA Margin': '0.36157285582868',\n",
       "   'EBIT Margin': '0.304772907173',\n",
       "   'Profit Margin': '0.228457736987356',\n",
       "   'Free Cash Flow margin': '0.299591382667',\n",
       "   'EBITDA': '84505000000.0',\n",
       "   'EBIT': '71230000000.0',\n",
       "   'Consolidated Income': '53394000000.0',\n",
       "   'Earnings Before Tax Margin': '0.3102710566288',\n",
       "   'Net Profit Margin': '0.228457736987356'},\n",
       "  {'date': '2014-09-27',\n",
       "   'Revenue': '182795000000.0',\n",
       "   'Revenue Growth': '0.0695395237259',\n",
       "   'Cost of Revenue': '112258000000.0',\n",
       "   'Gross Profit': '70537000000.0',\n",
       "   'R&D Expenses': '6041000000.0',\n",
       "   'SG&A Expense': '0.0',\n",
       "   'Operating Expenses': '18034000000.0',\n",
       "   'Operating Income': '52503000000.0',\n",
       "   'Interest Expense': '384000000.0',\n",
       "   'Earnings before Tax': '53483000000.0',\n",
       "   'Income Tax Expense': '13973000000.0',\n",
       "   'Net Income - Non-Controlling int': '0.0',\n",
       "   'Net Income - Discontinued ops': '0.0',\n",
       "   'Net Income': '39510000000.0',\n",
       "   'Preferred Dividends': '0.0',\n",
       "   'Net Income Com': '39510000000.0',\n",
       "   'EPS': '1.6225',\n",
       "   'EPS Diluted': '1.6125',\n",
       "   'Weighted Average Shs Out': '24342288000.0',\n",
       "   'Weighted Average Shs Out (Dil)': '24490652000.0',\n",
       "   'Dividend per Share': '1.817183144',\n",
       "   'Gross Margin': '0.385880357777839',\n",
       "   'EBITDA Margin': '0.338154763532919',\n",
       "   'EBIT Margin': '0.287223392325',\n",
       "   'Profit Margin': '0.216143767608523',\n",
       "   'Free Cash Flow margin': '0.274307284116',\n",
       "   'EBITDA': '61813000000.0',\n",
       "   'EBIT': '52503000000.0',\n",
       "   'Consolidated Income': '39510000000.0',\n",
       "   'Earnings Before Tax Margin': '0.292584589294018',\n",
       "   'Net Profit Margin': '0.216143767608523'},\n",
       "  {'date': '2013-09-28',\n",
       "   'Revenue': '170910000000.0',\n",
       "   'Revenue Growth': '0.092020855164',\n",
       "   'Cost of Revenue': '106606000000.0',\n",
       "   'Gross Profit': '64304000000.0',\n",
       "   'R&D Expenses': '4475000000.0',\n",
       "   'SG&A Expense': '0.0',\n",
       "   'Operating Expenses': '15305000000.0',\n",
       "   'Operating Income': '48999000000.0',\n",
       "   'Interest Expense': '136000000.0',\n",
       "   'Earnings before Tax': '50155000000.0',\n",
       "   'Income Tax Expense': '13118000000.0',\n",
       "   'Net Income - Non-Controlling int': '0.0',\n",
       "   'Net Income - Discontinued ops': '0.0',\n",
       "   'Net Income': '37037000000.0',\n",
       "   'Preferred Dividends': '0.0',\n",
       "   'Net Income Com': '37037000000.0',\n",
       "   'EPS': '1.429643',\n",
       "   'EPS Diluted': '1.419643',\n",
       "   'Weighted Average Shs Out': '25909268000.0',\n",
       "   'Weighted Average Shs Out (Dil)': '26086536000.0',\n",
       "   'Dividend per Share': '11.338876116',\n",
       "   'Gross Margin': '0.376244807208472',\n",
       "   'EBITDA Margin': '0.333789713884501',\n",
       "   'EBIT Margin': '0.286694751624',\n",
       "   'Profit Margin': '0.216704698379264',\n",
       "   'Free Cash Flow margin': '0.266227839214',\n",
       "   'EBITDA': '57048000000.0',\n",
       "   'EBIT': '48999000000.0',\n",
       "   'Consolidated Income': '37037000000.0',\n",
       "   'Earnings Before Tax Margin': '0.293458545433269',\n",
       "   'Net Profit Margin': '0.216704698379264'},\n",
       "  {'date': '2012-09-29',\n",
       "   'Revenue': '156508000000.0',\n",
       "   'Revenue Growth': '0.445814741938',\n",
       "   'Cost of Revenue': '87846000000.0',\n",
       "   'Gross Profit': '68662000000.0',\n",
       "   'R&D Expenses': '3381000000.0',\n",
       "   'SG&A Expense': '0.0',\n",
       "   'Operating Expenses': '13421000000.0',\n",
       "   'Operating Income': '55241000000.0',\n",
       "   'Interest Expense': '0.0',\n",
       "   'Earnings before Tax': '55763000000.0',\n",
       "   'Income Tax Expense': '14030000000.0',\n",
       "   'Net Income - Non-Controlling int': '0.0',\n",
       "   'Net Income - Discontinued ops': '0.0',\n",
       "   'Net Income': '41733000000.0',\n",
       "   'Preferred Dividends': '0.0',\n",
       "   'Net Income Com': '41733000000.0',\n",
       "   'EPS': '1.594286',\n",
       "   'EPS Diluted': '1.576786',\n",
       "   'Weighted Average Shs Out': '26174904000.0',\n",
       "   'Weighted Average Shs Out (Dil)': '26469940000.0',\n",
       "   'Dividend per Share': '2.63181556135',\n",
       "   'Gross Margin': '0.438712398088277',\n",
       "   'EBITDA Margin': '0.377233112684336',\n",
       "   'EBIT Margin': '0.35295959312',\n",
       "   'Profit Margin': '0.266650906023973',\n",
       "   'Free Cash Flow margin': '0.271941370409',\n",
       "   'EBITDA': '59040000000.0',\n",
       "   'EBIT': '55241000000.0',\n",
       "   'Consolidated Income': '41733000000.0',\n",
       "   'Earnings Before Tax Margin': '0.356294885884428',\n",
       "   'Net Profit Margin': '0.266650906023973'},\n",
       "  {'date': '2011-09-24',\n",
       "   'Revenue': '108249000000.0',\n",
       "   'Revenue Growth': '0.659624377156',\n",
       "   'Cost of Revenue': '64431000000.0',\n",
       "   'Gross Profit': '43818000000.0',\n",
       "   'R&D Expenses': '2429000000.0',\n",
       "   'SG&A Expense': '0.0',\n",
       "   'Operating Expenses': '10028000000.0',\n",
       "   'Operating Income': '33790000000.0',\n",
       "   'Interest Expense': '0.0',\n",
       "   'Earnings before Tax': '34205000000.0',\n",
       "   'Income Tax Expense': '8283000000.0',\n",
       "   'Net Income - Non-Controlling int': '0.0',\n",
       "   'Net Income - Discontinued ops': '0.0',\n",
       "   'Net Income': '25922000000.0',\n",
       "   'Preferred Dividends': '0.0',\n",
       "   'Net Income Com': '25922000000.0',\n",
       "   'EPS': '1.001786',\n",
       "   'EPS Diluted': '0.988571',\n",
       "   'Weighted Average Shs Out': '25879224000.0',\n",
       "   'Weighted Average Shs Out (Dil)': '26226060000.0',\n",
       "   'Dividend per Share': '0.0',\n",
       "   'Gross Margin': '0.404788958789458',\n",
       "   'EBITDA Margin': '0.332742103853153',\n",
       "   'EBIT Margin': '0.312150689614',\n",
       "   'Profit Margin': '0.239466415394138',\n",
       "   'Free Cash Flow margin': '0.307337712127',\n",
       "   'EBITDA': '36019000000.0',\n",
       "   'EBIT': '33790000000.0',\n",
       "   'Consolidated Income': '25922000000.0',\n",
       "   'Earnings Before Tax Margin': '0.315984443274303',\n",
       "   'Net Profit Margin': '0.239466415394138'},\n",
       "  {'date': '2010-09-25',\n",
       "   'Revenue': '65225000000.0',\n",
       "   'Revenue Growth': '0.785176670225',\n",
       "   'Cost of Revenue': '39541000000.0',\n",
       "   'Gross Profit': '25684000000.0',\n",
       "   'R&D Expenses': '1782000000.0',\n",
       "   'SG&A Expense': '0.0',\n",
       "   'Operating Expenses': '7299000000.0',\n",
       "   'Operating Income': '18385000000.0',\n",
       "   'Interest Expense': '0.0',\n",
       "   'Earnings before Tax': '18540000000.0',\n",
       "   'Income Tax Expense': '4527000000.0',\n",
       "   'Net Income - Non-Controlling int': '0.0',\n",
       "   'Net Income - Discontinued ops': '0.0',\n",
       "   'Net Income': '14013000000.0',\n",
       "   'Preferred Dividends': '0.0',\n",
       "   'Net Income Com': '14013000000.0',\n",
       "   'EPS': '0.550357',\n",
       "   'EPS Diluted': '0.541071',\n",
       "   'Weighted Average Shs Out': '25464908000.0',\n",
       "   'Weighted Average Shs Out (Dil)': '25891936000.0',\n",
       "   'Dividend per Share': '0.0',\n",
       "   'Gross Margin': '0.393775392870832',\n",
       "   'EBITDA Margin': '0.299992334227673',\n",
       "   'EBIT Margin': '0.281870448448',\n",
       "   'Profit Margin': '0.214840935224224',\n",
       "   'Free Cash Flow margin': '0.254350325795',\n",
       "   'EBITDA': '19567000000.0',\n",
       "   'EBIT': '18385000000.0',\n",
       "   'Consolidated Income': '14013000000.0',\n",
       "   'Earnings Before Tax Margin': '0.284246837868915',\n",
       "   'Net Profit Margin': '0.214840935224224'},\n",
       "  {'date': '2009-09-26',\n",
       "   'Revenue': '36537000000.0',\n",
       "   'Revenue Growth': '0.12494227039',\n",
       "   'Cost of Revenue': '23397000000.0',\n",
       "   'Gross Profit': '13140000000.0',\n",
       "   'R&D Expenses': '1333000000.0',\n",
       "   'SG&A Expense': '0.0',\n",
       "   'Operating Expenses': '5482000000.0',\n",
       "   'Operating Income': '7658000000.0',\n",
       "   'Interest Expense': '0.0',\n",
       "   'Earnings before Tax': '7984000000.0',\n",
       "   'Income Tax Expense': '2280000000.0',\n",
       "   'Net Income - Non-Controlling int': '0.0',\n",
       "   'Net Income - Discontinued ops': '0.0',\n",
       "   'Net Income': '5704000000.0',\n",
       "   'Preferred Dividends': '0.0',\n",
       "   'Net Income Com': '5704000000.0',\n",
       "   'EPS': '0.228214',\n",
       "   'EPS Diluted': '0.224643',\n",
       "   'Weighted Average Shs Out': '25004448000.0',\n",
       "   'Weighted Average Shs Out (Dil)': '25396140000.0',\n",
       "   'Dividend per Share': '0.0',\n",
       "   'Gross Margin': '0.359635438049101',\n",
       "   'EBITDA Margin': '0.237758984043572',\n",
       "   'EBIT Margin': '0.2812',\n",
       "   'Profit Margin': '0.156115718312943',\n",
       "   'Free Cash Flow margin': '0.2085',\n",
       "   'EBITDA': '8687000000.0',\n",
       "   'EBIT': '12066000000.0',\n",
       "   'Consolidated Income': '8235000000.0',\n",
       "   'Earnings Before Tax Margin': '0.218518214412787',\n",
       "   'Net Profit Margin': '0.156115718312943'},\n",
       "  {'date': '2008-09-27',\n",
       "   'Revenue': '32479000000.0',\n",
       "   'Revenue Growth': '0.35295342831',\n",
       "   'Cost of Revenue': '21334000000.0',\n",
       "   'Gross Profit': '11145000000.0',\n",
       "   'R&D Expenses': '1109000000.0',\n",
       "   'SG&A Expense': '0.0',\n",
       "   'Operating Expenses': '4870000000.0',\n",
       "   'Operating Income': '6275000000.0',\n",
       "   'Interest Expense': '0.0',\n",
       "   'Earnings before Tax': '6895000000.0',\n",
       "   'Income Tax Expense': '2061000000.0',\n",
       "   'Net Income - Non-Controlling int': '',\n",
       "   'Net Income - Discontinued ops': '',\n",
       "   'Net Income': '4834000000.0',\n",
       "   'Preferred Dividends': '',\n",
       "   'Net Income Com': '4834000000.0',\n",
       "   'EPS': '0.195714',\n",
       "   'EPS Diluted': '0.191429',\n",
       "   'Weighted Average Shs Out': '24684576000.0',\n",
       "   'Weighted Average Shs Out (Dil)': '25259892000.0',\n",
       "   'Dividend per Share': '',\n",
       "   'Gross Margin': '0.343144801256196',\n",
       "   'EBITDA Margin': '0.226854275070045',\n",
       "   'EBIT Margin': '',\n",
       "   'Profit Margin': '0.148834631608116',\n",
       "   'Free Cash Flow margin': '',\n",
       "   'EBITDA': '7368000000.0',\n",
       "   'EBIT': '',\n",
       "   'Consolidated Income': '',\n",
       "   'Earnings Before Tax Margin': '0.212291018812156',\n",
       "   'Net Profit Margin': '0.148834631608116'},\n",
       "  {'date': '2007-09-29',\n",
       "   'Revenue': '24006000000.0',\n",
       "   'Revenue Growth': '0.242868237121',\n",
       "   'Cost of Revenue': '15852000000.0',\n",
       "   'Gross Profit': '8154000000.0',\n",
       "   'R&D Expenses': '782000000.0',\n",
       "   'SG&A Expense': '0.0',\n",
       "   'Operating Expenses': '3745000000.0',\n",
       "   'Operating Income': '4409000000.0',\n",
       "   'Interest Expense': '0.0',\n",
       "   'Earnings before Tax': '5008000000.0',\n",
       "   'Income Tax Expense': '1512000000.0',\n",
       "   'Net Income - Non-Controlling int': '',\n",
       "   'Net Income - Discontinued ops': '',\n",
       "   'Net Income': '3496000000.0',\n",
       "   'Preferred Dividends': '',\n",
       "   'Net Income Com': '3496000000.0',\n",
       "   'EPS': '0.144286',\n",
       "   'EPS Diluted': '0.140357',\n",
       "   'Weighted Average Shs Out': '24208660000.0',\n",
       "   'Weighted Average Shs Out (Dil)': '24900176000.0',\n",
       "   'Dividend per Share': '',\n",
       "   'Gross Margin': '0.339665083729068',\n",
       "   'EBITDA Margin': '0.221819545113722',\n",
       "   'EBIT Margin': '',\n",
       "   'Profit Margin': '0.145630259101891',\n",
       "   'Free Cash Flow margin': '',\n",
       "   'EBITDA': '5325000000.0',\n",
       "   'EBIT': '',\n",
       "   'Consolidated Income': '',\n",
       "   'Earnings Before Tax Margin': '0.208614513038407',\n",
       "   'Net Profit Margin': '0.145630259101891'},\n",
       "  {'date': '2006-09-30',\n",
       "   'Revenue': '19315000000.0',\n",
       "   'Revenue Growth': '0.386476204149',\n",
       "   'Cost of Revenue': '13717000000.0',\n",
       "   'Gross Profit': '5598000000.0',\n",
       "   'R&D Expenses': '712000000.0',\n",
       "   'SG&A Expense': '0.0',\n",
       "   'Operating Expenses': '3145000000.0',\n",
       "   'Operating Income': '2453000000.0',\n",
       "   'Interest Expense': '0.0',\n",
       "   'Earnings before Tax': '2818000000.0',\n",
       "   'Income Tax Expense': '829000000.0',\n",
       "   'Net Income - Non-Controlling int': '',\n",
       "   'Net Income - Discontinued ops': '',\n",
       "   'Net Income': '1989000000.0',\n",
       "   'Preferred Dividends': '',\n",
       "   'Net Income Com': '1989000000.0',\n",
       "   'EPS': '0.084286',\n",
       "   'EPS Diluted': '0.081071',\n",
       "   'Weighted Average Shs Out': '23633624000.0',\n",
       "   'Weighted Average Shs Out (Dil)': '24570728000.0',\n",
       "   'Dividend per Share': '',\n",
       "   'Gross Margin': '0.289826559668651',\n",
       "   'EBITDA Margin': '0.157545948744499',\n",
       "   'EBIT Margin': '',\n",
       "   'Profit Margin': '0.102976960911209',\n",
       "   'Free Cash Flow margin': '',\n",
       "   'EBITDA': '3043000000.0',\n",
       "   'EBIT': '',\n",
       "   'Consolidated Income': '',\n",
       "   'Earnings Before Tax Margin': '0.145896971265856',\n",
       "   'Net Profit Margin': '0.102976960911209'},\n",
       "  {'date': '2005-09-24',\n",
       "   'Revenue': '13931000000.0',\n",
       "   'Revenue Growth': '0.682691146274',\n",
       "   'Cost of Revenue': '9888000000.0',\n",
       "   'Gross Profit': '4043000000.0',\n",
       "   'R&D Expenses': '534000000.0',\n",
       "   'SG&A Expense': '0.0',\n",
       "   'Operating Expenses': '2393000000.0',\n",
       "   'Operating Income': '1650000000.0',\n",
       "   'Interest Expense': '0.0',\n",
       "   'Earnings before Tax': '1815000000.0',\n",
       "   'Income Tax Expense': '480000000.0',\n",
       "   'Net Income - Non-Controlling int': '',\n",
       "   'Net Income - Discontinued ops': '',\n",
       "   'Net Income': '1335000000.0',\n",
       "   'Preferred Dividends': '',\n",
       "   'Net Income Com': '1335000000.0',\n",
       "   'EPS': '0.058929',\n",
       "   'EPS Diluted': '0.055714',\n",
       "   'Weighted Average Shs Out': '22636292000.0',\n",
       "   'Weighted Average Shs Out (Dil)': '23989840000.0',\n",
       "   'Dividend per Share': '',\n",
       "   'Gross Margin': '0.29021606489125',\n",
       "   'EBITDA Margin': '0.14313401765846',\n",
       "   'EBIT Margin': '',\n",
       "   'Profit Margin': '0.0958294451223889',\n",
       "   'Free Cash Flow margin': '',\n",
       "   'EBITDA': '1994000000.0',\n",
       "   'EBIT': '',\n",
       "   'Consolidated Income': '',\n",
       "   'Earnings Before Tax Margin': '0.130284975952911',\n",
       "   'Net Profit Margin': '0.0958294451223889'},\n",
       "  {'date': '2004-09-25',\n",
       "   'Revenue': '8279000000.0',\n",
       "   'Revenue Growth': '0.333816658611',\n",
       "   'Cost of Revenue': '6020000000.0',\n",
       "   'Gross Profit': '2259000000.0',\n",
       "   'R&D Expenses': '489000000.0',\n",
       "   'SG&A Expense': '0.0',\n",
       "   'Operating Expenses': '1910000000.0',\n",
       "   'Operating Income': '326000000.0',\n",
       "   'Interest Expense': '3000000.0',\n",
       "   'Earnings before Tax': '383000000.0',\n",
       "   'Income Tax Expense': '107000000.0',\n",
       "   'Net Income - Non-Controlling int': '',\n",
       "   'Net Income - Discontinued ops': '',\n",
       "   'Net Income': '276000000.0',\n",
       "   'Preferred Dividends': '',\n",
       "   'Net Income Com': '276000000.0',\n",
       "   'EPS': '0.013214',\n",
       "   'EPS Diluted': '0.012679',\n",
       "   'Weighted Average Shs Out': '20809040000.0',\n",
       "   'Weighted Average Shs Out (Dil)': '21689416000.0',\n",
       "   'Dividend per Share': '',\n",
       "   'Gross Margin': '0.272859040946974',\n",
       "   'EBITDA Margin': '0.0647421186133591',\n",
       "   'EBIT Margin': '',\n",
       "   'Profit Margin': '0.0333373595844909',\n",
       "   'Free Cash Flow margin': '',\n",
       "   'EBITDA': '536000000.0',\n",
       "   'EBIT': '',\n",
       "   'Consolidated Income': '',\n",
       "   'Earnings Before Tax Margin': '0.0462616258002174',\n",
       "   'Net Profit Margin': '0.0333373595844909'},\n",
       "  {'date': '2003-09-27',\n",
       "   'Revenue': '6207000000.0',\n",
       "   'Revenue Growth': '0.0809822361546',\n",
       "   'Cost of Revenue': '4499000000.0',\n",
       "   'Gross Profit': '1708000000.0',\n",
       "   'R&D Expenses': '471000000.0',\n",
       "   'SG&A Expense': '0.0',\n",
       "   'Operating Expenses': '1683000000.0',\n",
       "   'Operating Income': '-1000000.0',\n",
       "   'Interest Expense': '8000000.0',\n",
       "   'Earnings before Tax': '92000000.0',\n",
       "   'Income Tax Expense': '24000000.0',\n",
       "   'Net Income - Non-Controlling int': '',\n",
       "   'Net Income - Discontinued ops': '',\n",
       "   'Net Income': '69000000.0',\n",
       "   'Preferred Dividends': '',\n",
       "   'Net Income Com': '69000000.0',\n",
       "   'EPS': '0.003393',\n",
       "   'EPS Diluted': '0.003393',\n",
       "   'Weighted Average Shs Out': '20195336000.0',\n",
       "   'Weighted Average Shs Out (Dil)': '20354096000.0',\n",
       "   'Dividend per Share': '',\n",
       "   'Gross Margin': '0.275173191557918',\n",
       "   'EBITDA Margin': '0.0344772031577252',\n",
       "   'EBIT Margin': '',\n",
       "   'Profit Margin': '0.0111164813919768',\n",
       "   'Free Cash Flow margin': '',\n",
       "   'EBITDA': '214000000.0',\n",
       "   'EBIT': '',\n",
       "   'Consolidated Income': '',\n",
       "   'Earnings Before Tax Margin': '0.0148219751893024',\n",
       "   'Net Profit Margin': '0.0111164813919768'},\n",
       "  {'date': '2002-09-28',\n",
       "   'Revenue': '5742000000.0',\n",
       "   'Revenue Growth': '0.0706694014544',\n",
       "   'Cost of Revenue': '4139000000.0',\n",
       "   'Gross Profit': '1603000000.0',\n",
       "   'R&D Expenses': '447000000.0',\n",
       "   'SG&A Expense': '0.0',\n",
       "   'Operating Expenses': '1558000000.0',\n",
       "   'Operating Income': '17000000.0',\n",
       "   'Interest Expense': '11000000.0',\n",
       "   'Earnings before Tax': '87000000.0',\n",
       "   'Income Tax Expense': '22000000.0',\n",
       "   'Net Income - Non-Controlling int': '',\n",
       "   'Net Income - Discontinued ops': '',\n",
       "   'Net Income': '65000000.0',\n",
       "   'Preferred Dividends': '',\n",
       "   'Net Income Com': '65000000.0',\n",
       "   'EPS': '0.003214',\n",
       "   'EPS Diluted': '0.003214',\n",
       "   'Weighted Average Shs Out': '19881232000.0',\n",
       "   'Weighted Average Shs Out (Dil)': '20259960000.0',\n",
       "   'Dividend per Share': '',\n",
       "   'Gross Margin': '0.279171020550331',\n",
       "   'EBITDA Margin': '0.0376175548589342',\n",
       "   'EBIT Margin': '',\n",
       "   'Profit Margin': '0.0113200975269941',\n",
       "   'Free Cash Flow margin': '',\n",
       "   'EBITDA': '216000000.0',\n",
       "   'EBIT': '',\n",
       "   'Consolidated Income': '',\n",
       "   'Earnings Before Tax Margin': '0.0151515151515152',\n",
       "   'Net Profit Margin': '0.0113200975269941'},\n",
       "  {'date': '2001-09-29',\n",
       "   'Revenue': '5363000000.0',\n",
       "   'Revenue Growth': '-0.328197419516',\n",
       "   'Cost of Revenue': '4128000000.0',\n",
       "   'Gross Profit': '1235000000.0',\n",
       "   'R&D Expenses': '441000000.0',\n",
       "   'SG&A Expense': '0.0',\n",
       "   'Operating Expenses': '1579000000.0',\n",
       "   'Operating Income': '-344000000.0',\n",
       "   'Interest Expense': '16000000.0',\n",
       "   'Earnings before Tax': '-52000000.0',\n",
       "   'Income Tax Expense': '-15000000.0',\n",
       "   'Net Income - Non-Controlling int': '',\n",
       "   'Net Income - Discontinued ops': '',\n",
       "   'Net Income': '-25000000.0',\n",
       "   'Preferred Dividends': '',\n",
       "   'Net Income Com': '-25000000.0',\n",
       "   'EPS': '-0.00125',\n",
       "   'EPS Diluted': '-0.00125',\n",
       "   'Weighted Average Shs Out': '19354328000.0',\n",
       "   'Weighted Average Shs Out (Dil)': '19354328000.0',\n",
       "   'Dividend per Share': '',\n",
       "   'Gross Margin': '0.230281558829014',\n",
       "   'EBITDA Margin': '0.0145440984523588',\n",
       "   'EBIT Margin': '',\n",
       "   'Profit Margin': '-0.00466157001678165',\n",
       "   'Free Cash Flow margin': '',\n",
       "   'EBITDA': '78000000.0',\n",
       "   'EBIT': '',\n",
       "   'Consolidated Income': '',\n",
       "   'Earnings Before Tax Margin': '-0.00969606563490584',\n",
       "   'Net Profit Margin': '-0.00466157001678165'},\n",
       "  {'date': '2000-09-30',\n",
       "   'Revenue': '7983000000.0',\n",
       "   'Revenue Growth': '0.301434626671',\n",
       "   'Cost of Revenue': '5817000000.0',\n",
       "   'Gross Profit': '2166000000.0',\n",
       "   'R&D Expenses': '380000000.0',\n",
       "   'SG&A Expense': '0.0',\n",
       "   'Operating Expenses': '1546000000.0',\n",
       "   'Operating Income': '522000000.0',\n",
       "   'Interest Expense': '21000000.0',\n",
       "   'Earnings before Tax': '1092000000.0',\n",
       "   'Income Tax Expense': '306000000.0',\n",
       "   'Net Income - Non-Controlling int': '',\n",
       "   'Net Income - Discontinued ops': '',\n",
       "   'Net Income': '786000000.0',\n",
       "   'Preferred Dividends': '',\n",
       "   'Net Income Com': '786000000.0',\n",
       "   'EPS': '0.043214',\n",
       "   'EPS Diluted': '0.038929',\n",
       "   'Weighted Average Shs Out': '18175808000.0',\n",
       "   'Weighted Average Shs Out (Dil)': '20178144000.0',\n",
       "   'Dividend per Share': '',\n",
       "   'Gross Margin': '0.271326568959038',\n",
       "   'EBITDA Margin': '0.149943630214205',\n",
       "   'EBIT Margin': '',\n",
       "   'Profit Margin': '0.0984592258549418',\n",
       "   'Free Cash Flow margin': '',\n",
       "   'EBITDA': '1197000000.0',\n",
       "   'EBIT': '',\n",
       "   'Consolidated Income': '',\n",
       "   'Earnings Before Tax Margin': '0.136790680195415',\n",
       "   'Net Profit Margin': '0.0984592258549418'},\n",
       "  {'date': '1999-09-25',\n",
       "   'Revenue': '6134000000.0',\n",
       "   'Revenue Growth': '0.0324861134489',\n",
       "   'Cost of Revenue': '4438000000.0',\n",
       "   'Gross Profit': '1696000000.0',\n",
       "   'R&D Expenses': '314000000.0',\n",
       "   'SG&A Expense': '0.0',\n",
       "   'Operating Expenses': '1310000000.0',\n",
       "   'Operating Income': '359000000.0',\n",
       "   'Interest Expense': '47000000.0',\n",
       "   'Earnings before Tax': '676000000.0',\n",
       "   'Income Tax Expense': '75000000.0',\n",
       "   'Net Income - Non-Controlling int': '',\n",
       "   'Net Income - Discontinued ops': '',\n",
       "   'Net Income': '601000000.0',\n",
       "   'Preferred Dividends': '',\n",
       "   'Net Income Com': '601000000.0',\n",
       "   'EPS': '0.0375',\n",
       "   'EPS Diluted': '0.032232',\n",
       "   'Weighted Average Shs Out': '16033584000.0',\n",
       "   'Weighted Average Shs Out (Dil)': '19506368000.0',\n",
       "   'Dividend per Share': '',\n",
       "   'Gross Margin': '0.276491685686338',\n",
       "   'EBITDA Margin': '0.131724812520378',\n",
       "   'EBIT Margin': '',\n",
       "   'Profit Margin': '0.0979784805999348',\n",
       "   'Free Cash Flow margin': '',\n",
       "   'EBITDA': '808000000.0',\n",
       "   'EBIT': '',\n",
       "   'Consolidated Income': '',\n",
       "   'Earnings Before Tax Margin': '0.110205412455168',\n",
       "   'Net Profit Margin': '0.0979784805999348'},\n",
       "  {'date': '1998-09-25',\n",
       "   'Revenue': '5941000000.0',\n",
       "   'Revenue Growth': '-0.160994209857',\n",
       "   'Cost of Revenue': '4462000000.0',\n",
       "   'Gross Profit': '1479000000.0',\n",
       "   'R&D Expenses': '310000000.0',\n",
       "   'SG&A Expense': '0.0',\n",
       "   'Operating Expenses': '1218000000.0',\n",
       "   'Operating Income': '261000000.0',\n",
       "   'Interest Expense': '62000000.0',\n",
       "   'Earnings before Tax': '329000000.0',\n",
       "   'Income Tax Expense': '20000000.0',\n",
       "   'Net Income - Non-Controlling int': '',\n",
       "   'Net Income - Discontinued ops': '',\n",
       "   'Net Income': '309000000.0',\n",
       "   'Preferred Dividends': '',\n",
       "   'Net Income Com': '309000000.0',\n",
       "   'EPS': '0.020893',\n",
       "   'EPS Diluted': '0.01875',\n",
       "   'Weighted Average Shs Out': '14781088000.0',\n",
       "   'Weighted Average Shs Out (Dil)': '18806704000.0',\n",
       "   'Dividend per Share': '',\n",
       "   'Gross Margin': '0.248947988554115',\n",
       "   'EBITDA Margin': '0.0844975593334455',\n",
       "   'EBIT Margin': '',\n",
       "   'Profit Margin': '0.0520114458845312',\n",
       "   'Free Cash Flow margin': '',\n",
       "   'EBITDA': '502000000.0',\n",
       "   'EBIT': '',\n",
       "   'Consolidated Income': '',\n",
       "   'Earnings Before Tax Margin': '0.0553778825113617',\n",
       "   'Net Profit Margin': '0.0520114458845312'},\n",
       "  {'date': '1997-09-26',\n",
       "   'Revenue': '7081000000.0',\n",
       "   'Revenue Growth': '-0.27987389403',\n",
       "   'Cost of Revenue': '5713000000.0',\n",
       "   'Gross Profit': '1368000000.0',\n",
       "   'R&D Expenses': '860000000.0',\n",
       "   'SG&A Expense': '0.0',\n",
       "   'Operating Expenses': '2146000000.0',\n",
       "   'Operating Income': '-1070000000.0',\n",
       "   'Interest Expense': '71000000.0',\n",
       "   'Earnings before Tax': '-1045000000.0',\n",
       "   'Income Tax Expense': '0.0',\n",
       "   'Net Income - Non-Controlling int': '',\n",
       "   'Net Income - Discontinued ops': '',\n",
       "   'Net Income': '-1045000000.0',\n",
       "   'Preferred Dividends': '',\n",
       "   'Net Income Com': '-1045000000.0',\n",
       "   'EPS': '-0.074018',\n",
       "   'EPS Diluted': '-0.074018',\n",
       "   'Weighted Average Shs Out': '14118944000.0',\n",
       "   'Weighted Average Shs Out (Dil)': '14118944000.0',\n",
       "   'Dividend per Share': '',\n",
       "   'Gross Margin': '0.193193051828838',\n",
       "   'EBITDA Margin': '-0.120886880384127',\n",
       "   'EBIT Margin': '',\n",
       "   'Profit Margin': '-0.147578025702584',\n",
       "   'Free Cash Flow margin': '',\n",
       "   'EBITDA': '-856000000.0',\n",
       "   'EBIT': '',\n",
       "   'Consolidated Income': '',\n",
       "   'Earnings Before Tax Margin': '-0.147578025702584',\n",
       "   'Net Profit Margin': '-0.147578025702584'},\n",
       "  {'date': '1996-09-27',\n",
       "   'Revenue': '9833000000.0',\n",
       "   'Revenue Growth': '-0.111101066715',\n",
       "   'Cost of Revenue': '8865000000.0',\n",
       "   'Gross Profit': '968000000.0',\n",
       "   'R&D Expenses': '604000000.0',\n",
       "   'SG&A Expense': '0.0',\n",
       "   'Operating Expenses': '2172000000.0',\n",
       "   'Operating Income': '-1383000000.0',\n",
       "   'Interest Expense': '60000000.0',\n",
       "   'Earnings before Tax': '-1295000000.0',\n",
       "   'Income Tax Expense': '-479000000.0',\n",
       "   'Net Income - Non-Controlling int': '',\n",
       "   'Net Income - Discontinued ops': '',\n",
       "   'Net Income': '-816000000.0',\n",
       "   'Preferred Dividends': '',\n",
       "   'Net Income Com': '-816000000.0',\n",
       "   'EPS': '-0.058839',\n",
       "   'EPS Diluted': '-0.058839',\n",
       "   'Weighted Average Shs Out': '13858208000.0',\n",
       "   'Weighted Average Shs Out (Dil)': '13858208000.0',\n",
       "   'Dividend per Share': '',\n",
       "   'Gross Margin': '0.0984440150513577',\n",
       "   'EBITDA Margin': '-0.109732533306214',\n",
       "   'EBIT Margin': '',\n",
       "   'Profit Margin': '-0.0829858639275908',\n",
       "   'Free Cash Flow margin': '',\n",
       "   'EBITDA': '-1079000000.0',\n",
       "   'EBIT': '',\n",
       "   'Consolidated Income': '',\n",
       "   'Earnings Before Tax Margin': '-0.131699379639988',\n",
       "   'Net Profit Margin': '-0.0829858639275908'},\n",
       "  {'date': '1995-09-29',\n",
       "   'Revenue': '11062000000.0',\n",
       "   'Revenue Growth': '0.203863681973',\n",
       "   'Cost of Revenue': '8204000000.0',\n",
       "   'Gross Profit': '2858000000.0',\n",
       "   'R&D Expenses': '614000000.0',\n",
       "   'SG&A Expense': '0.0',\n",
       "   'Operating Expenses': '2197000000.0',\n",
       "   'Operating Income': '684000000.0',\n",
       "   'Interest Expense': '48000000.0',\n",
       "   'Earnings before Tax': '674000000.0',\n",
       "   'Income Tax Expense': '250000000.0',\n",
       "   'Net Income - Non-Controlling int': '',\n",
       "   'Net Income - Discontinued ops': '',\n",
       "   'Net Income': '424000000.0',\n",
       "   'Preferred Dividends': '',\n",
       "   'Net Income Com': '424000000.0',\n",
       "   'EPS': '0.030804',\n",
       "   'EPS Diluted': '0.030804',\n",
       "   'Weighted Average Shs Out': '13781264000.0',\n",
       "   'Weighted Average Shs Out (Dil)': '13781264000.0',\n",
       "   'Dividend per Share': '',\n",
       "   'Gross Margin': '0.258361959862593',\n",
       "   'EBITDA Margin': '0.0767492316036883',\n",
       "   'EBIT Margin': '',\n",
       "   'Profit Margin': '0.0383294160188031',\n",
       "   'Free Cash Flow margin': '',\n",
       "   'EBITDA': '849000000.0',\n",
       "   'EBIT': '',\n",
       "   'Consolidated Income': '',\n",
       "   'Earnings Before Tax Margin': '0.0609293075393238',\n",
       "   'Net Profit Margin': '0.0383294160188031'},\n",
       "  {'date': '1994-09-30',\n",
       "   'Revenue': '9188748000.0',\n",
       "   'Revenue Growth': '0.151905227529',\n",
       "   'Cost of Revenue': '6844915000.0',\n",
       "   'Gross Profit': '2343833000.0',\n",
       "   'R&D Expenses': '564303000.0',\n",
       "   'SG&A Expense': '0.0',\n",
       "   'Operating Expenses': '1948414000.0',\n",
       "   'Operating Income': '522274000.0',\n",
       "   'Interest Expense': '39653000.0',\n",
       "   'Earnings before Tax': '500286000.0',\n",
       "   'Income Tax Expense': '190108000.0',\n",
       "   'Net Income - Non-Controlling int': '',\n",
       "   'Net Income - Discontinued ops': '',\n",
       "   'Net Income': '310178000.0',\n",
       "   'Preferred Dividends': '',\n",
       "   'Net Income Com': '310178000.0',\n",
       "   'EPS': '0.023304',\n",
       "   'EPS Diluted': '0.023304',\n",
       "   'Weighted Average Shs Out': '13298320000.0',\n",
       "   'Weighted Average Shs Out (Dil)': '13306720000.0',\n",
       "   'Dividend per Share': '',\n",
       "   'Gross Margin': '0.255076426081116',\n",
       "   'EBITDA Margin': '0.0770395488046903',\n",
       "   'EBIT Margin': '',\n",
       "   'Profit Margin': '0.0337562854047146',\n",
       "   'Free Cash Flow margin': '',\n",
       "   'EBITDA': '707897000.0',\n",
       "   'EBIT': '',\n",
       "   'Consolidated Income': '',\n",
       "   'Earnings Before Tax Margin': '0.0544455022599379',\n",
       "   'Net Profit Margin': '0.0337562854047146'},\n",
       "  {'date': '1993-09-30',\n",
       "   'Revenue': '7977000000.0',\n",
       "   'Revenue Growth': '0.12566146899',\n",
       "   'Cost of Revenue': '5082700000.0',\n",
       "   'Gross Profit': '2894300000.0',\n",
       "   'R&D Expenses': '0.0',\n",
       "   'SG&A Expense': '0.0',\n",
       "   'Operating Expenses': '2783900000.0',\n",
       "   'Operating Income': '110400000.0',\n",
       "   'Interest Expense': '0.0',\n",
       "   'Earnings before Tax': '139700000.0',\n",
       "   'Income Tax Expense': '53100000.0',\n",
       "   'Net Income - Non-Controlling int': '',\n",
       "   'Net Income - Discontinued ops': '',\n",
       "   'Net Income': '86600000.0',\n",
       "   'Preferred Dividends': '',\n",
       "   'Net Income Com': '86600000.0',\n",
       "   'EPS': '0.006607',\n",
       "   'EPS Diluted': '0.006607',\n",
       "   'Weighted Average Shs Out': '13107027027.0',\n",
       "   'Weighted Average Shs Out (Dil)': '13107027027.0',\n",
       "   'Dividend per Share': '',\n",
       "   'Gross Margin': '0.362830638084493',\n",
       "   'EBITDA Margin': '0.0383352137395011',\n",
       "   'EBIT Margin': '',\n",
       "   'Profit Margin': '0.0108562116083741',\n",
       "   'Free Cash Flow margin': '',\n",
       "   'EBITDA': '305800000.0',\n",
       "   'EBIT': '',\n",
       "   'Consolidated Income': '',\n",
       "   'Earnings Before Tax Margin': '0.0175128494421462',\n",
       "   'Net Profit Margin': '0.0108562116083741'},\n",
       "  {'date': '1992-09-30',\n",
       "   'Revenue': '7086500000.0',\n",
       "   'Revenue Growth': '0.123272254628',\n",
       "   'Cost of Revenue': '3774200000.0',\n",
       "   'Gross Profit': '3312300000.0',\n",
       "   'R&D Expenses': '0.0',\n",
       "   'SG&A Expense': '0.0',\n",
       "   'Operating Expenses': '2506600000.0',\n",
       "   'Operating Income': '805700000.0',\n",
       "   'Interest Expense': '0.0',\n",
       "   'Earnings before Tax': '855500000.0',\n",
       "   'Income Tax Expense': '325100000.0',\n",
       "   'Net Income - Non-Controlling int': '',\n",
       "   'Net Income - Discontinued ops': '',\n",
       "   'Net Income': '530400000.0',\n",
       "   'Preferred Dividends': '',\n",
       "   'Net Income Com': '530400000.0',\n",
       "   'EPS': '0.03875',\n",
       "   'EPS Diluted': '0.03875',\n",
       "   'Weighted Average Shs Out': '13687741935.0',\n",
       "   'Weighted Average Shs Out (Dil)': '13687741935.0',\n",
       "   'Dividend per Share': '',\n",
       "   'Gross Margin': '0.467409863825584',\n",
       "   'EBITDA Margin': '0.151372327665279',\n",
       "   'EBIT Margin': '',\n",
       "   'Profit Margin': '0.0748465391942426',\n",
       "   'Free Cash Flow margin': '',\n",
       "   'EBITDA': '1072700000.0',\n",
       "   'EBIT': '',\n",
       "   'Consolidated Income': '',\n",
       "   'Earnings Before Tax Margin': '0.120722500529175',\n",
       "   'Net Profit Margin': '0.0748465391942426'},\n",
       "  {'date': '1991-09-30',\n",
       "   'Revenue': '6308800000.0',\n",
       "   'Revenue Growth': '0.135002878526',\n",
       "   'Cost of Revenue': '3109700000.0',\n",
       "   'Gross Profit': '3199100000.0',\n",
       "   'R&D Expenses': '0.0',\n",
       "   'SG&A Expense': '0.0',\n",
       "   'Operating Expenses': '2751800000.0',\n",
       "   'Operating Income': '447300000.0',\n",
       "   'Interest Expense': '0.0',\n",
       "   'Earnings before Tax': '499700000.0',\n",
       "   'Income Tax Expense': '189900000.0',\n",
       "   'Net Income - Non-Controlling int': '',\n",
       "   'Net Income - Discontinued ops': '',\n",
       "   'Net Income': '309800000.0',\n",
       "   'Preferred Dividends': '',\n",
       "   'Net Income Com': '309800000.0',\n",
       "   'EPS': '0.023036',\n",
       "   'EPS Diluted': '0.023036',\n",
       "   'Weighted Average Shs Out': '13448682171.0',\n",
       "   'Weighted Average Shs Out (Dil)': '13448682171.0',\n",
       "   'Dividend per Share': '',\n",
       "   'Gross Margin': '0.507085341110829',\n",
       "   'EBITDA Margin': '0.111606010651788',\n",
       "   'EBIT Margin': '',\n",
       "   'Profit Margin': '0.049106010651788',\n",
       "   'Free Cash Flow margin': '',\n",
       "   'EBITDA': '704100000.0',\n",
       "   'EBIT': '',\n",
       "   'Consolidated Income': '',\n",
       "   'Earnings Before Tax Margin': '0.0792068222165864',\n",
       "   'Net Profit Margin': '0.049106010651788'},\n",
       "  {'date': '1990-09-30',\n",
       "   'Revenue': '5558400000.0',\n",
       "   'Revenue Growth': '0.0519303557911',\n",
       "   'Cost of Revenue': '2403500000.0',\n",
       "   'Gross Profit': '3154900000.0',\n",
       "   'R&D Expenses': '0.0',\n",
       "   'SG&A Expense': '0.0',\n",
       "   'Operating Expenses': '2442900000.0',\n",
       "   'Operating Income': '712000000.0',\n",
       "   'Interest Expense': '0.0',\n",
       "   'Earnings before Tax': '778500000.0',\n",
       "   'Income Tax Expense': '303600000.0',\n",
       "   'Net Income - Non-Controlling int': '',\n",
       "   'Net Income - Discontinued ops': '',\n",
       "   'Net Income': '474900000.0',\n",
       "   'Preferred Dividends': '',\n",
       "   'Net Income Com': '474900000.0',\n",
       "   'EPS': '0.03375',\n",
       "   'EPS Diluted': '0.03375',\n",
       "   'Weighted Average Shs Out': '14071111111.0',\n",
       "   'Weighted Average Shs Out (Dil)': '14071111111.0',\n",
       "   'Dividend per Share': '',\n",
       "   'Gross Margin': '0.567591393206678',\n",
       "   'EBITDA Margin': '0.176525618883132',\n",
       "   'EBIT Margin': '',\n",
       "   'Profit Margin': '0.0854382556131261',\n",
       "   'Free Cash Flow margin': '',\n",
       "   'EBITDA': '981200000.0',\n",
       "   'EBIT': '',\n",
       "   'Consolidated Income': '',\n",
       "   'Earnings Before Tax Margin': '0.14005829015544',\n",
       "   'Net Profit Margin': '0.0854382556131261'},\n",
       "  {'date': '1989-09-30',\n",
       "   'Revenue': '5284000000.0',\n",
       "   'Revenue Growth': '0.297833669008',\n",
       "   'Cost of Revenue': '2570000000.0',\n",
       "   'Gross Profit': '2714000000.0',\n",
       "   'R&D Expenses': '0.0',\n",
       "   'SG&A Expense': '0.0',\n",
       "   'Operating Expenses': '2079700000.0',\n",
       "   'Operating Income': '634300000.0',\n",
       "   'Interest Expense': '0.0',\n",
       "   'Earnings before Tax': '744300000.0',\n",
       "   'Income Tax Expense': '290300000.0',\n",
       "   'Net Income - Non-Controlling int': '',\n",
       "   'Net Income - Discontinued ops': '',\n",
       "   'Net Income': '454000000.0',\n",
       "   'Preferred Dividends': '',\n",
       "   'Net Income Com': '454000000.0',\n",
       "   'EPS': '0.031607',\n",
       "   'EPS Diluted': '0.031607',\n",
       "   'Weighted Average Shs Out': '14363841808.0',\n",
       "   'Weighted Average Shs Out (Dil)': '14363841808.0',\n",
       "   'Dividend per Share': '',\n",
       "   'Gross Margin': '0.513626040878123',\n",
       "   'EBITDA Margin': '0.164477668433005',\n",
       "   'EBIT Margin': '',\n",
       "   'Profit Margin': '0.0859197577592733',\n",
       "   'Free Cash Flow margin': '',\n",
       "   'EBITDA': '869100000.0',\n",
       "   'EBIT': '',\n",
       "   'Consolidated Income': '',\n",
       "   'Earnings Before Tax Margin': '0.140859197577593',\n",
       "   'Net Profit Margin': '0.0859197577592733'},\n",
       "  {'date': '1988-09-30',\n",
       "   'Revenue': '4071400000.0',\n",
       "   'Revenue Growth': '0.529968809891',\n",
       "   'Cost of Revenue': '1913200000.0',\n",
       "   'Gross Profit': '2158200000.0',\n",
       "   'R&D Expenses': '0.0',\n",
       "   'SG&A Expense': '0.0',\n",
       "   'Operating Expenses': '1537900000.0',\n",
       "   'Operating Income': '620300000.0',\n",
       "   'Interest Expense': '0.0',\n",
       "   'Earnings before Tax': '656200000.0',\n",
       "   'Income Tax Expense': '255900000.0',\n",
       "   'Net Income - Non-Controlling int': '',\n",
       "   'Net Income - Discontinued ops': '',\n",
       "   'Net Income': '400300000.0',\n",
       "   'Preferred Dividends': '',\n",
       "   'Net Income Com': '400300000.0',\n",
       "   'EPS': '0.0275',\n",
       "   'EPS Diluted': '0.0275',\n",
       "   'Weighted Average Shs Out': '14556363636.0',\n",
       "   'Weighted Average Shs Out (Dil)': '14556363636.0',\n",
       "   'Dividend per Share': '',\n",
       "   'Gross Margin': '0.530087930441617',\n",
       "   'EBITDA Margin': '0.180257405315125',\n",
       "   'EBIT Margin': '',\n",
       "   'Profit Margin': '0.0983199882104436',\n",
       "   'Free Cash Flow margin': '',\n",
       "   'EBITDA': '733900000.0',\n",
       "   'EBIT': '',\n",
       "   'Consolidated Income': '',\n",
       "   'Earnings Before Tax Margin': '0.161173060863585',\n",
       "   'Net Profit Margin': '0.0983199882104436'},\n",
       "  {'date': '1987-09-30',\n",
       "   'Revenue': '2661100000.0',\n",
       "   'Revenue Growth': '0.399179767601',\n",
       "   'Cost of Revenue': '1225700000.0',\n",
       "   'Gross Profit': '1435400000.0',\n",
       "   'R&D Expenses': '0.0',\n",
       "   'SG&A Expense': '0.0',\n",
       "   'Operating Expenses': '1063900000.0',\n",
       "   'Operating Income': '371500000.0',\n",
       "   'Interest Expense': '0.0',\n",
       "   'Earnings before Tax': '410400000.0',\n",
       "   'Income Tax Expense': '192900000.0',\n",
       "   'Net Income - Non-Controlling int': '',\n",
       "   'Net Income - Discontinued ops': '',\n",
       "   'Net Income': '217500000.0',\n",
       "   'Preferred Dividends': '',\n",
       "   'Net Income Com': '217500000.0',\n",
       "   'EPS': '0.014821',\n",
       "   'EPS Diluted': '0.014821',\n",
       "   'Weighted Average Shs Out': '14674698795.0',\n",
       "   'Weighted Average Shs Out (Dil)': '14674698795.0',\n",
       "   'Dividend per Share': '',\n",
       "   'Gross Margin': '0.539400999586637',\n",
       "   'EBITDA Margin': '0.180714742023975',\n",
       "   'EBIT Margin': '',\n",
       "   'Profit Margin': '0.081733117883582',\n",
       "   'Free Cash Flow margin': '',\n",
       "   'EBITDA': '480900000.0',\n",
       "   'EBIT': '',\n",
       "   'Consolidated Income': '',\n",
       "   'Earnings Before Tax Margin': '0.154221938296193',\n",
       "   'Net Profit Margin': '0.081733117883582'},\n",
       "  {'date': '1986-09-30',\n",
       "   'Revenue': '1901900000.0',\n",
       "   'Revenue Growth': '-0.00854923630298',\n",
       "   'Cost of Revenue': '840000000.0',\n",
       "   'Gross Profit': '1061900000.0',\n",
       "   'R&D Expenses': '0.0',\n",
       "   'SG&A Expense': '0.0',\n",
       "   'Operating Expenses': '788400000.0',\n",
       "   'Operating Income': '273500000.0',\n",
       "   'Interest Expense': '0.0',\n",
       "   'Earnings before Tax': '309800000.0',\n",
       "   'Income Tax Expense': '155800000.0',\n",
       "   'Net Income - Non-Controlling int': '',\n",
       "   'Net Income - Discontinued ops': '',\n",
       "   'Net Income': '154000000.0',\n",
       "   'Preferred Dividends': '',\n",
       "   'Net Income Com': '154000000.0',\n",
       "   'EPS': '0.010714',\n",
       "   'EPS Diluted': '0.010714',\n",
       "   'Weighted Average Shs Out': '14373333333.0',\n",
       "   'Weighted Average Shs Out (Dil)': '14373333333.0',\n",
       "   'Dividend per Share': '',\n",
       "   'Gross Margin': '0.558336400441664',\n",
       "   'EBITDA Margin': '0.189757610810242',\n",
       "   'EBIT Margin': '',\n",
       "   'Profit Margin': '0.0809716599190283',\n",
       "   'Free Cash Flow margin': '',\n",
       "   'EBITDA': '360900000.0',\n",
       "   'EBIT': '',\n",
       "   'Consolidated Income': '',\n",
       "   'Earnings Before Tax Margin': '0.16288974183711',\n",
       "   'Net Profit Margin': '0.0809716599190283'},\n",
       "  {'date': '1985-09-30',\n",
       "   'Revenue': '1918300000.0',\n",
       "   'Revenue Growth': '',\n",
       "   'Cost of Revenue': '1076000000.0',\n",
       "   'Gross Profit': '842300000.0',\n",
       "   'R&D Expenses': '0.0',\n",
       "   'SG&A Expense': '0.0',\n",
       "   'Operating Expenses': '695000000.0',\n",
       "   'Operating Income': '147300000.0',\n",
       "   'Interest Expense': '0.0',\n",
       "   'Earnings before Tax': '120000000.0',\n",
       "   'Income Tax Expense': '58800000.0',\n",
       "   'Net Income - Non-Controlling int': '',\n",
       "   'Net Income - Discontinued ops': '',\n",
       "   'Net Income': '61200000.0',\n",
       "   'Preferred Dividends': '',\n",
       "   'Net Income Com': '61200000.0',\n",
       "   'EPS': '0.004464',\n",
       "   'EPS Diluted': '0.004464',\n",
       "   'Weighted Average Shs Out': '13708800000.0',\n",
       "   'Weighted Average Shs Out (Dil)': '13708800000.0',\n",
       "   'Dividend per Share': '',\n",
       "   'Gross Margin': '0.439086691341292',\n",
       "   'EBITDA Margin': '0.0843455142574154',\n",
       "   'EBIT Margin': '',\n",
       "   'Profit Margin': '0.0319032476672053',\n",
       "   'Free Cash Flow margin': '',\n",
       "   'EBITDA': '161800000.0',\n",
       "   'EBIT': '',\n",
       "   'Consolidated Income': '',\n",
       "   'Earnings Before Tax Margin': '0.0625553875827556',\n",
       "   'Net Profit Margin': '0.0319032476672053'}]}"
      ]
     },
     "execution_count": 6,
     "metadata": {},
     "output_type": "execute_result"
    }
   ],
   "source": [
    "income_statement"
   ]
  },
  {
   "cell_type": "code",
   "execution_count": 7,
   "metadata": {},
   "outputs": [
    {
     "name": "stdout",
     "output_type": "stream",
     "text": [
      "JSON data saved to file: data\\income_statement_AAPL.json\n"
     ]
    }
   ],
   "source": [
    "import json\n",
    "import os\n",
    "\n",
    "data_path = \"data\"\n",
    "\n",
    "# Ensure that the data_path directory exists\n",
    "os.makedirs(data_path, exist_ok=True)\n",
    "\n",
    "# Define the file name based on the symbol in the JSON structure\n",
    "file_name = os.path.join(data_path, f\"income_statement_{income_statement['symbol']}.json\")\n",
    "\n",
    "# Save the JSON data to the file\n",
    "with open(file_name, 'w') as file:\n",
    "    json.dump(income_statement, file, indent=4)\n",
    "    print(f\"JSON data saved to file: {file_name}\")\n"
   ]
  },
  {
   "cell_type": "code",
   "execution_count": 8,
   "metadata": {},
   "outputs": [
    {
     "data": {
      "text/html": [
       "<div>\n",
       "<style scoped>\n",
       "    .dataframe tbody tr th:only-of-type {\n",
       "        vertical-align: middle;\n",
       "    }\n",
       "\n",
       "    .dataframe tbody tr th {\n",
       "        vertical-align: top;\n",
       "    }\n",
       "\n",
       "    .dataframe thead th {\n",
       "        text-align: right;\n",
       "    }\n",
       "</style>\n",
       "<table border=\"1\" class=\"dataframe\">\n",
       "  <thead>\n",
       "    <tr style=\"text-align: right;\">\n",
       "      <th></th>\n",
       "      <th>symbol</th>\n",
       "      <th>Revenue</th>\n",
       "      <th>Revenue Growth</th>\n",
       "      <th>Cost of Revenue</th>\n",
       "      <th>Gross Profit</th>\n",
       "      <th>R&amp;D Expenses</th>\n",
       "      <th>SG&amp;A Expense</th>\n",
       "      <th>Operating Expenses</th>\n",
       "      <th>Operating Income</th>\n",
       "      <th>Interest Expense</th>\n",
       "      <th>...</th>\n",
       "      <th>Gross Margin</th>\n",
       "      <th>EBITDA Margin</th>\n",
       "      <th>EBIT Margin</th>\n",
       "      <th>Profit Margin</th>\n",
       "      <th>Free Cash Flow margin</th>\n",
       "      <th>EBITDA</th>\n",
       "      <th>EBIT</th>\n",
       "      <th>Consolidated Income</th>\n",
       "      <th>Earnings Before Tax Margin</th>\n",
       "      <th>Net Profit Margin</th>\n",
       "    </tr>\n",
       "    <tr>\n",
       "      <th>date</th>\n",
       "      <th></th>\n",
       "      <th></th>\n",
       "      <th></th>\n",
       "      <th></th>\n",
       "      <th></th>\n",
       "      <th></th>\n",
       "      <th></th>\n",
       "      <th></th>\n",
       "      <th></th>\n",
       "      <th></th>\n",
       "      <th></th>\n",
       "      <th></th>\n",
       "      <th></th>\n",
       "      <th></th>\n",
       "      <th></th>\n",
       "      <th></th>\n",
       "      <th></th>\n",
       "      <th></th>\n",
       "      <th></th>\n",
       "      <th></th>\n",
       "      <th></th>\n",
       "    </tr>\n",
       "  </thead>\n",
       "  <tbody>\n",
       "    <tr>\n",
       "      <th>2021-09-25</th>\n",
       "      <td>AAPL</td>\n",
       "      <td>365817000000.0</td>\n",
       "      <td></td>\n",
       "      <td>212981000000.0</td>\n",
       "      <td>152836000000.0</td>\n",
       "      <td>21914000000.0</td>\n",
       "      <td>0.0</td>\n",
       "      <td>43887000000.0</td>\n",
       "      <td>108949000000.0</td>\n",
       "      <td>2645000000.0</td>\n",
       "      <td>...</td>\n",
       "      <td>0.417793596251678</td>\n",
       "      <td>0.336605461200546</td>\n",
       "      <td></td>\n",
       "      <td>0.258817933556942</td>\n",
       "      <td></td>\n",
       "      <td>123136000000.0</td>\n",
       "      <td></td>\n",
       "      <td></td>\n",
       "      <td>0.298529045943737</td>\n",
       "      <td>0.258817933556942</td>\n",
       "    </tr>\n",
       "    <tr>\n",
       "      <th>2020-09-26</th>\n",
       "      <td>AAPL</td>\n",
       "      <td>274515000000.0</td>\n",
       "      <td>0.0551208037698</td>\n",
       "      <td>169559000000.0</td>\n",
       "      <td>104956000000.0</td>\n",
       "      <td>18752000000.0</td>\n",
       "      <td>0.0</td>\n",
       "      <td>38668000000.0</td>\n",
       "      <td>66288000000.0</td>\n",
       "      <td>2873000000.0</td>\n",
       "      <td>...</td>\n",
       "      <td>0.382332477278109</td>\n",
       "      <td>0.295138699160337</td>\n",
       "      <td>0.300289471658</td>\n",
       "      <td>0.209136112780722</td>\n",
       "      <td>0.332348797492</td>\n",
       "      <td>81020000000.0</td>\n",
       "      <td>66288000000.0</td>\n",
       "      <td>57411000000.0</td>\n",
       "      <td>0.244398302460703</td>\n",
       "      <td>0.209136112780722</td>\n",
       "    </tr>\n",
       "    <tr>\n",
       "      <th>2019-09-28</th>\n",
       "      <td>AAPL</td>\n",
       "      <td>260174000000.0</td>\n",
       "      <td>-0.0204107758053</td>\n",
       "      <td>161782000000.0</td>\n",
       "      <td>98392000000.0</td>\n",
       "      <td>16217000000.0</td>\n",
       "      <td>0.0</td>\n",
       "      <td>34462000000.0</td>\n",
       "      <td>63930000000.0</td>\n",
       "      <td>3576000000.0</td>\n",
       "      <td>...</td>\n",
       "      <td>0.378177681090347</td>\n",
       "      <td>0.314635590028212</td>\n",
       "      <td>0.245720171885</td>\n",
       "      <td>0.212380945059845</td>\n",
       "      <td>0.226371582095</td>\n",
       "      <td>81860000000.0</td>\n",
       "      <td>63930000000.0</td>\n",
       "      <td>55256000000.0</td>\n",
       "      <td>0.252665523841737</td>\n",
       "      <td>0.212380945059845</td>\n",
       "    </tr>\n",
       "    <tr>\n",
       "      <th>2018-09-29</th>\n",
       "      <td>AAPL</td>\n",
       "      <td>265595000000.0</td>\n",
       "      <td>0.158619576503</td>\n",
       "      <td>163756000000.0</td>\n",
       "      <td>101839000000.0</td>\n",
       "      <td>14236000000.0</td>\n",
       "      <td>0.0</td>\n",
       "      <td>30941000000.0</td>\n",
       "      <td>70898000000.0</td>\n",
       "      <td>3240000000.0</td>\n",
       "      <td>...</td>\n",
       "      <td>0.383437188200079</td>\n",
       "      <td>0.327739603531693</td>\n",
       "      <td>0.266940266195</td>\n",
       "      <td>0.224142020745872</td>\n",
       "      <td>0.24142397259</td>\n",
       "      <td>87046000000.0</td>\n",
       "      <td>70898000000.0</td>\n",
       "      <td>59531000000.0</td>\n",
       "      <td>0.274489354091756</td>\n",
       "      <td>0.224142020745872</td>\n",
       "    </tr>\n",
       "    <tr>\n",
       "      <th>2017-09-30</th>\n",
       "      <td>AAPL</td>\n",
       "      <td>229234000000.0</td>\n",
       "      <td>0.063045181994</td>\n",
       "      <td>141048000000.0</td>\n",
       "      <td>88186000000.0</td>\n",
       "      <td>11581000000.0</td>\n",
       "      <td>0.0</td>\n",
       "      <td>26842000000.0</td>\n",
       "      <td>61344000000.0</td>\n",
       "      <td>2323000000.0</td>\n",
       "      <td>...</td>\n",
       "      <td>0.384698604918991</td>\n",
       "      <td>0.334021131245801</td>\n",
       "      <td>0.267604282087</td>\n",
       "      <td>0.210924208450753</td>\n",
       "      <td>0.223121351981</td>\n",
       "      <td>76569000000.0</td>\n",
       "      <td>61344000000.0</td>\n",
       "      <td>48351000000.0</td>\n",
       "      <td>0.27957894553164</td>\n",
       "      <td>0.210924208450753</td>\n",
       "    </tr>\n",
       "  </tbody>\n",
       "</table>\n",
       "<p>5 rows × 32 columns</p>\n",
       "</div>"
      ],
      "text/plain": [
       "           symbol         Revenue    Revenue Growth Cost of Revenue  \\\n",
       "date                                                                  \n",
       "2021-09-25   AAPL  365817000000.0                    212981000000.0   \n",
       "2020-09-26   AAPL  274515000000.0   0.0551208037698  169559000000.0   \n",
       "2019-09-28   AAPL  260174000000.0  -0.0204107758053  161782000000.0   \n",
       "2018-09-29   AAPL  265595000000.0    0.158619576503  163756000000.0   \n",
       "2017-09-30   AAPL  229234000000.0    0.063045181994  141048000000.0   \n",
       "\n",
       "              Gross Profit   R&D Expenses SG&A Expense Operating Expenses  \\\n",
       "date                                                                        \n",
       "2021-09-25  152836000000.0  21914000000.0          0.0      43887000000.0   \n",
       "2020-09-26  104956000000.0  18752000000.0          0.0      38668000000.0   \n",
       "2019-09-28   98392000000.0  16217000000.0          0.0      34462000000.0   \n",
       "2018-09-29  101839000000.0  14236000000.0          0.0      30941000000.0   \n",
       "2017-09-30   88186000000.0  11581000000.0          0.0      26842000000.0   \n",
       "\n",
       "           Operating Income Interest Expense  ...       Gross Margin  \\\n",
       "date                                          ...                      \n",
       "2021-09-25   108949000000.0     2645000000.0  ...  0.417793596251678   \n",
       "2020-09-26    66288000000.0     2873000000.0  ...  0.382332477278109   \n",
       "2019-09-28    63930000000.0     3576000000.0  ...  0.378177681090347   \n",
       "2018-09-29    70898000000.0     3240000000.0  ...  0.383437188200079   \n",
       "2017-09-30    61344000000.0     2323000000.0  ...  0.384698604918991   \n",
       "\n",
       "                EBITDA Margin     EBIT Margin      Profit Margin  \\\n",
       "date                                                               \n",
       "2021-09-25  0.336605461200546                  0.258817933556942   \n",
       "2020-09-26  0.295138699160337  0.300289471658  0.209136112780722   \n",
       "2019-09-28  0.314635590028212  0.245720171885  0.212380945059845   \n",
       "2018-09-29  0.327739603531693  0.266940266195  0.224142020745872   \n",
       "2017-09-30  0.334021131245801  0.267604282087  0.210924208450753   \n",
       "\n",
       "           Free Cash Flow margin          EBITDA           EBIT  \\\n",
       "date                                                              \n",
       "2021-09-25                        123136000000.0                  \n",
       "2020-09-26        0.332348797492   81020000000.0  66288000000.0   \n",
       "2019-09-28        0.226371582095   81860000000.0  63930000000.0   \n",
       "2018-09-29         0.24142397259   87046000000.0  70898000000.0   \n",
       "2017-09-30        0.223121351981   76569000000.0  61344000000.0   \n",
       "\n",
       "           Consolidated Income Earnings Before Tax Margin  Net Profit Margin  \n",
       "date                                                                          \n",
       "2021-09-25                              0.298529045943737  0.258817933556942  \n",
       "2020-09-26       57411000000.0          0.244398302460703  0.209136112780722  \n",
       "2019-09-28       55256000000.0          0.252665523841737  0.212380945059845  \n",
       "2018-09-29       59531000000.0          0.274489354091756  0.224142020745872  \n",
       "2017-09-30       48351000000.0           0.27957894553164  0.210924208450753  \n",
       "\n",
       "[5 rows x 32 columns]"
      ]
     },
     "execution_count": 8,
     "metadata": {},
     "output_type": "execute_result"
    }
   ],
   "source": [
    "\n",
    "rows = []\n",
    "for datapoint in income_statement['financials']:\n",
    "    row = {\n",
    "        'symbol': income_statement['symbol']\n",
    "    }\n",
    "    row.update(datapoint)\n",
    "    rows.append(row)\n",
    "income_statement_df = pd.DataFrame(rows)\n",
    "income_statement_df.set_index(['date'], inplace=True)\n",
    "income_statement_df.sort_index(inplace=True, ascending=False)\n",
    "income_statement_df.head()\n"
   ]
  },
  {
   "cell_type": "code",
   "execution_count": 9,
   "metadata": {},
   "outputs": [
    {
     "name": "stdout",
     "output_type": "stream",
     "text": [
      "JSON data saved to file: data\\balance_statement_AAPL.json\n"
     ]
    }
   ],
   "source": [
    "# Ensure that the data_path directory exists\n",
    "os.makedirs(data_path, exist_ok=True)\n",
    "\n",
    "# Define the file name based on the symbol in the JSON structure\n",
    "file_name = os.path.join(data_path, f\"balance_statement_{balance_statement['symbol']}.json\")\n",
    "\n",
    "# Save the JSON data to the file\n",
    "with open(file_name, 'w') as file:\n",
    "    json.dump(balance_statement, file, indent=4)\n",
    "    print(f\"JSON data saved to file: {file_name}\")\n"
   ]
  },
  {
   "cell_type": "code",
   "execution_count": 10,
   "metadata": {},
   "outputs": [
    {
     "data": {
      "text/html": [
       "<div>\n",
       "<style scoped>\n",
       "    .dataframe tbody tr th:only-of-type {\n",
       "        vertical-align: middle;\n",
       "    }\n",
       "\n",
       "    .dataframe tbody tr th {\n",
       "        vertical-align: top;\n",
       "    }\n",
       "\n",
       "    .dataframe thead th {\n",
       "        text-align: right;\n",
       "    }\n",
       "</style>\n",
       "<table border=\"1\" class=\"dataframe\">\n",
       "  <thead>\n",
       "    <tr style=\"text-align: right;\">\n",
       "      <th></th>\n",
       "      <th>symbol</th>\n",
       "      <th>Cash and cash equivalents</th>\n",
       "      <th>Short-term investments</th>\n",
       "      <th>Cash and short-term investments</th>\n",
       "      <th>Receivables</th>\n",
       "      <th>Inventories</th>\n",
       "      <th>Total current assets</th>\n",
       "      <th>Property, Plant &amp; Equipment Net</th>\n",
       "      <th>Goodwill and Intangible Assets</th>\n",
       "      <th>Long-term investments</th>\n",
       "      <th>...</th>\n",
       "      <th>Deposit Liabilities</th>\n",
       "      <th>Total non-current liabilities</th>\n",
       "      <th>Total liabilities</th>\n",
       "      <th>Other comprehensive income</th>\n",
       "      <th>Retained earnings (deficit)</th>\n",
       "      <th>Total shareholders equity</th>\n",
       "      <th>Investments</th>\n",
       "      <th>Net Debt</th>\n",
       "      <th>Other Assets</th>\n",
       "      <th>Other Liabilities</th>\n",
       "    </tr>\n",
       "    <tr>\n",
       "      <th>date</th>\n",
       "      <th></th>\n",
       "      <th></th>\n",
       "      <th></th>\n",
       "      <th></th>\n",
       "      <th></th>\n",
       "      <th></th>\n",
       "      <th></th>\n",
       "      <th></th>\n",
       "      <th></th>\n",
       "      <th></th>\n",
       "      <th></th>\n",
       "      <th></th>\n",
       "      <th></th>\n",
       "      <th></th>\n",
       "      <th></th>\n",
       "      <th></th>\n",
       "      <th></th>\n",
       "      <th></th>\n",
       "      <th></th>\n",
       "      <th></th>\n",
       "      <th></th>\n",
       "    </tr>\n",
       "  </thead>\n",
       "  <tbody>\n",
       "    <tr>\n",
       "      <th>2021-09-25</th>\n",
       "      <td>AAPL</td>\n",
       "      <td>34940000000.0</td>\n",
       "      <td>27699000000.0</td>\n",
       "      <td>62639000000.0</td>\n",
       "      <td>51506000000.0</td>\n",
       "      <td>6580000000.0</td>\n",
       "      <td>134836000000.0</td>\n",
       "      <td>39440000000.0</td>\n",
       "      <td>0.0</td>\n",
       "      <td>127877000000.0</td>\n",
       "      <td>...</td>\n",
       "      <td></td>\n",
       "      <td>162431000000.0</td>\n",
       "      <td>287912000000.0</td>\n",
       "      <td>163000000.0</td>\n",
       "      <td>5562000000.0</td>\n",
       "      <td>63090000000.0</td>\n",
       "      <td>155576000000.0</td>\n",
       "      <td>89779000000.0</td>\n",
       "      <td>0.0</td>\n",
       "      <td>0.0</td>\n",
       "    </tr>\n",
       "    <tr>\n",
       "      <th>2020-09-26</th>\n",
       "      <td>AAPL</td>\n",
       "      <td>38016000000.0</td>\n",
       "      <td>52927000000.0</td>\n",
       "      <td>90943000000.0</td>\n",
       "      <td>37445000000.0</td>\n",
       "      <td>4061000000.0</td>\n",
       "      <td>143713000000.0</td>\n",
       "      <td>36766000000.0</td>\n",
       "      <td>0.0</td>\n",
       "      <td>100887000000.0</td>\n",
       "      <td>...</td>\n",
       "      <td>0.0</td>\n",
       "      <td>153157000000.0</td>\n",
       "      <td>258549000000.0</td>\n",
       "      <td>-406000000.0</td>\n",
       "      <td>14966000000.0</td>\n",
       "      <td>65339000000.0</td>\n",
       "      <td>153814000000.0</td>\n",
       "      <td>74420000000.0</td>\n",
       "      <td>0.0</td>\n",
       "      <td>0.0</td>\n",
       "    </tr>\n",
       "    <tr>\n",
       "      <th>2019-09-28</th>\n",
       "      <td>AAPL</td>\n",
       "      <td>48844000000.0</td>\n",
       "      <td>51713000000.0</td>\n",
       "      <td>100557000000.0</td>\n",
       "      <td>45804000000.0</td>\n",
       "      <td>4106000000.0</td>\n",
       "      <td>162819000000.0</td>\n",
       "      <td>37378000000.0</td>\n",
       "      <td>0.0</td>\n",
       "      <td>105341000000.0</td>\n",
       "      <td>...</td>\n",
       "      <td>0.0</td>\n",
       "      <td>142310000000.0</td>\n",
       "      <td>248028000000.0</td>\n",
       "      <td>-584000000.0</td>\n",
       "      <td>45898000000.0</td>\n",
       "      <td>90488000000.0</td>\n",
       "      <td>157054000000.0</td>\n",
       "      <td>59203000000.0</td>\n",
       "      <td>0.0</td>\n",
       "      <td>0.0</td>\n",
       "    </tr>\n",
       "    <tr>\n",
       "      <th>2018-09-29</th>\n",
       "      <td>AAPL</td>\n",
       "      <td>25913000000.0</td>\n",
       "      <td>40388000000.0</td>\n",
       "      <td>66301000000.0</td>\n",
       "      <td>48995000000.0</td>\n",
       "      <td>3956000000.0</td>\n",
       "      <td>131339000000.0</td>\n",
       "      <td>41304000000.0</td>\n",
       "      <td>0.0</td>\n",
       "      <td>170799000000.0</td>\n",
       "      <td>...</td>\n",
       "      <td>0.0</td>\n",
       "      <td>141712000000.0</td>\n",
       "      <td>258578000000.0</td>\n",
       "      <td>-3454000000.0</td>\n",
       "      <td>70400000000.0</td>\n",
       "      <td>107147000000.0</td>\n",
       "      <td>211187000000.0</td>\n",
       "      <td>88570000000.0</td>\n",
       "      <td>0.0</td>\n",
       "      <td>0.0</td>\n",
       "    </tr>\n",
       "    <tr>\n",
       "      <th>2017-09-30</th>\n",
       "      <td>AAPL</td>\n",
       "      <td>20289000000.0</td>\n",
       "      <td>53892000000.0</td>\n",
       "      <td>74181000000.0</td>\n",
       "      <td>35673000000.0</td>\n",
       "      <td>4855000000.0</td>\n",
       "      <td>128645000000.0</td>\n",
       "      <td>33783000000.0</td>\n",
       "      <td>8015000000.0</td>\n",
       "      <td>194714000000.0</td>\n",
       "      <td>...</td>\n",
       "      <td>0.0</td>\n",
       "      <td>140458000000.0</td>\n",
       "      <td>241272000000.0</td>\n",
       "      <td>-150000000.0</td>\n",
       "      <td>98330000000.0</td>\n",
       "      <td>134047000000.0</td>\n",
       "      <td>248606000000.0</td>\n",
       "      <td>95391000000.0</td>\n",
       "      <td>0.0</td>\n",
       "      <td>0.0</td>\n",
       "    </tr>\n",
       "  </tbody>\n",
       "</table>\n",
       "<p>5 rows × 30 columns</p>\n",
       "</div>"
      ],
      "text/plain": [
       "           symbol Cash and cash equivalents Short-term investments  \\\n",
       "date                                                                 \n",
       "2021-09-25   AAPL             34940000000.0          27699000000.0   \n",
       "2020-09-26   AAPL             38016000000.0          52927000000.0   \n",
       "2019-09-28   AAPL             48844000000.0          51713000000.0   \n",
       "2018-09-29   AAPL             25913000000.0          40388000000.0   \n",
       "2017-09-30   AAPL             20289000000.0          53892000000.0   \n",
       "\n",
       "           Cash and short-term investments    Receivables   Inventories  \\\n",
       "date                                                                      \n",
       "2021-09-25                   62639000000.0  51506000000.0  6580000000.0   \n",
       "2020-09-26                   90943000000.0  37445000000.0  4061000000.0   \n",
       "2019-09-28                  100557000000.0  45804000000.0  4106000000.0   \n",
       "2018-09-29                   66301000000.0  48995000000.0  3956000000.0   \n",
       "2017-09-30                   74181000000.0  35673000000.0  4855000000.0   \n",
       "\n",
       "           Total current assets Property, Plant & Equipment Net  \\\n",
       "date                                                              \n",
       "2021-09-25       134836000000.0                   39440000000.0   \n",
       "2020-09-26       143713000000.0                   36766000000.0   \n",
       "2019-09-28       162819000000.0                   37378000000.0   \n",
       "2018-09-29       131339000000.0                   41304000000.0   \n",
       "2017-09-30       128645000000.0                   33783000000.0   \n",
       "\n",
       "           Goodwill and Intangible Assets Long-term investments  ...  \\\n",
       "date                                                             ...   \n",
       "2021-09-25                            0.0        127877000000.0  ...   \n",
       "2020-09-26                            0.0        100887000000.0  ...   \n",
       "2019-09-28                            0.0        105341000000.0  ...   \n",
       "2018-09-29                            0.0        170799000000.0  ...   \n",
       "2017-09-30                   8015000000.0        194714000000.0  ...   \n",
       "\n",
       "           Deposit Liabilities Total non-current liabilities  \\\n",
       "date                                                           \n",
       "2021-09-25                                    162431000000.0   \n",
       "2020-09-26                 0.0                153157000000.0   \n",
       "2019-09-28                 0.0                142310000000.0   \n",
       "2018-09-29                 0.0                141712000000.0   \n",
       "2017-09-30                 0.0                140458000000.0   \n",
       "\n",
       "           Total liabilities Other comprehensive income  \\\n",
       "date                                                      \n",
       "2021-09-25    287912000000.0                163000000.0   \n",
       "2020-09-26    258549000000.0               -406000000.0   \n",
       "2019-09-28    248028000000.0               -584000000.0   \n",
       "2018-09-29    258578000000.0              -3454000000.0   \n",
       "2017-09-30    241272000000.0               -150000000.0   \n",
       "\n",
       "           Retained earnings (deficit) Total shareholders equity  \\\n",
       "date                                                               \n",
       "2021-09-25                5562000000.0             63090000000.0   \n",
       "2020-09-26               14966000000.0             65339000000.0   \n",
       "2019-09-28               45898000000.0             90488000000.0   \n",
       "2018-09-29               70400000000.0            107147000000.0   \n",
       "2017-09-30               98330000000.0            134047000000.0   \n",
       "\n",
       "               Investments       Net Debt Other Assets Other Liabilities  \n",
       "date                                                                      \n",
       "2021-09-25  155576000000.0  89779000000.0          0.0               0.0  \n",
       "2020-09-26  153814000000.0  74420000000.0          0.0               0.0  \n",
       "2019-09-28  157054000000.0  59203000000.0          0.0               0.0  \n",
       "2018-09-29  211187000000.0  88570000000.0          0.0               0.0  \n",
       "2017-09-30  248606000000.0  95391000000.0          0.0               0.0  \n",
       "\n",
       "[5 rows x 30 columns]"
      ]
     },
     "execution_count": 10,
     "metadata": {},
     "output_type": "execute_result"
    }
   ],
   "source": [
    "\n",
    "rows = []\n",
    "for datapoint in balance_statement['financials']:\n",
    "    row = {\n",
    "        'symbol': balance_statement['symbol']\n",
    "    }\n",
    "    row.update(datapoint)\n",
    "    rows.append(row)\n",
    "balance_statement_df = pd.DataFrame(rows)\n",
    "balance_statement_df.set_index(['date'], inplace=True)\n",
    "balance_statement_df.sort_index(inplace=True, ascending=False)\n",
    "balance_statement_df.head()"
   ]
  },
  {
   "cell_type": "code",
   "execution_count": 11,
   "metadata": {},
   "outputs": [
    {
     "data": {
      "text/plain": [
       "0.9605502772183812"
      ]
     },
     "execution_count": 11,
     "metadata": {},
     "output_type": "execute_result"
    }
   ],
   "source": [
    "net_inc_common1 = float(income_statement_df[income_statement_df['symbol'] == 'AAPL']['Net Income Com'].iloc[0])\n",
    "tot_equity_now = float(balance_statement_df[balance_statement_df['symbol'] == 'AAPL']['Total shareholders equity'].iloc[0])\n",
    "\n",
    "tot_equity_previous = float(balance_statement_df[balance_statement_df['symbol'] == 'AAPL']['Total shareholders equity'].iloc[4])\n",
    "\n",
    "Average_equity = (tot_equity_now + tot_equity_previous)/2\n",
    "\n",
    "ROE = net_inc_common1/Average_equity\n",
    "ROE\n",
    "\n"
   ]
  },
  {
   "cell_type": "code",
   "execution_count": 12,
   "metadata": {},
   "outputs": [
    {
     "ename": "TypeError",
     "evalue": "unsupported operand type(s) for /: 'str' and 'str'",
     "output_type": "error",
     "traceback": [
      "\u001b[1;31m---------------------------------------------------------------------------\u001b[0m",
      "\u001b[1;31mTypeError\u001b[0m                                 Traceback (most recent call last)",
      "File \u001b[1;32m~\\AppData\\Roaming\\Python\\Python311\\site-packages\\pandas\\core\\ops\\array_ops.py:220\u001b[0m, in \u001b[0;36m_na_arithmetic_op\u001b[1;34m(left, right, op, is_cmp)\u001b[0m\n\u001b[0;32m    219\u001b[0m \u001b[38;5;28;01mtry\u001b[39;00m:\n\u001b[1;32m--> 220\u001b[0m     result \u001b[38;5;241m=\u001b[39m func(left, right)\n\u001b[0;32m    221\u001b[0m \u001b[38;5;28;01mexcept\u001b[39;00m \u001b[38;5;167;01mTypeError\u001b[39;00m:\n",
      "File \u001b[1;32m~\\AppData\\Roaming\\Python\\Python311\\site-packages\\pandas\\core\\computation\\expressions.py:242\u001b[0m, in \u001b[0;36mevaluate\u001b[1;34m(op, a, b, use_numexpr)\u001b[0m\n\u001b[0;32m    240\u001b[0m     \u001b[38;5;28;01mif\u001b[39;00m use_numexpr:\n\u001b[0;32m    241\u001b[0m         \u001b[38;5;66;03m# error: \"None\" not callable\u001b[39;00m\n\u001b[1;32m--> 242\u001b[0m         \u001b[38;5;28;01mreturn\u001b[39;00m _evaluate(op, op_str, a, b)  \u001b[38;5;66;03m# type: ignore[misc]\u001b[39;00m\n\u001b[0;32m    243\u001b[0m \u001b[38;5;28;01mreturn\u001b[39;00m _evaluate_standard(op, op_str, a, b)\n",
      "File \u001b[1;32m~\\AppData\\Roaming\\Python\\Python311\\site-packages\\pandas\\core\\computation\\expressions.py:73\u001b[0m, in \u001b[0;36m_evaluate_standard\u001b[1;34m(op, op_str, a, b)\u001b[0m\n\u001b[0;32m     72\u001b[0m     _store_test_result(\u001b[38;5;28;01mFalse\u001b[39;00m)\n\u001b[1;32m---> 73\u001b[0m \u001b[38;5;28;01mreturn\u001b[39;00m op(a, b)\n",
      "\u001b[1;31mTypeError\u001b[0m: unsupported operand type(s) for /: 'str' and 'float'",
      "\nDuring handling of the above exception, another exception occurred:\n",
      "\u001b[1;31mTypeError\u001b[0m                                 Traceback (most recent call last)",
      "Cell \u001b[1;32mIn[12], line 15\u001b[0m\n\u001b[0;32m     12\u001b[0m \u001b[38;5;66;03m# df_combined['net_inc_common1'] = income_statement_df[income_statement_df['symbol'] == 'AAPL']['Net Income Com']\u001b[39;00m\n\u001b[0;32m     14\u001b[0m df_combined \u001b[38;5;241m=\u001b[39m pd\u001b[38;5;241m.\u001b[39mmerge(income_statement_df, balance_statement_df, on\u001b[38;5;241m=\u001b[39m[\u001b[38;5;124m'\u001b[39m\u001b[38;5;124msymbol\u001b[39m\u001b[38;5;124m'\u001b[39m, \u001b[38;5;124m'\u001b[39m\u001b[38;5;124mdate\u001b[39m\u001b[38;5;124m'\u001b[39m])\n\u001b[1;32m---> 15\u001b[0m df_combined[\u001b[38;5;124m'\u001b[39m\u001b[38;5;124mROE\u001b[39m\u001b[38;5;124m'\u001b[39m] \u001b[38;5;241m=\u001b[39m df_combined[\u001b[38;5;124m'\u001b[39m\u001b[38;5;124mNet Income Com\u001b[39m\u001b[38;5;124m'\u001b[39m]\u001b[38;5;241m/\u001b[39m(df_combined[\u001b[38;5;124m'\u001b[39m\u001b[38;5;124mTotal shareholders equity\u001b[39m\u001b[38;5;124m'\u001b[39m]\u001b[38;5;241m+\u001b[39mdf_combined[\u001b[38;5;124m'\u001b[39m\u001b[38;5;124mTotal shareholders equity\u001b[39m\u001b[38;5;124m'\u001b[39m]\u001b[38;5;241m.\u001b[39mshift(\u001b[38;5;241m4\u001b[39m))\u001b[38;5;241m/\u001b[39m\u001b[38;5;241m2\u001b[39m\n\u001b[0;32m     16\u001b[0m df_combined[\u001b[38;5;124m'\u001b[39m\u001b[38;5;124mROE\u001b[39m\u001b[38;5;124m'\u001b[39m]\n",
      "File \u001b[1;32m~\\AppData\\Roaming\\Python\\Python311\\site-packages\\pandas\\core\\ops\\common.py:76\u001b[0m, in \u001b[0;36m_unpack_zerodim_and_defer.<locals>.new_method\u001b[1;34m(self, other)\u001b[0m\n\u001b[0;32m     72\u001b[0m             \u001b[38;5;28;01mreturn\u001b[39;00m \u001b[38;5;28mNotImplemented\u001b[39m\n\u001b[0;32m     74\u001b[0m other \u001b[38;5;241m=\u001b[39m item_from_zerodim(other)\n\u001b[1;32m---> 76\u001b[0m \u001b[38;5;28;01mreturn\u001b[39;00m method(\u001b[38;5;28mself\u001b[39m, other)\n",
      "File \u001b[1;32m~\\AppData\\Roaming\\Python\\Python311\\site-packages\\pandas\\core\\arraylike.py:210\u001b[0m, in \u001b[0;36mOpsMixin.__truediv__\u001b[1;34m(self, other)\u001b[0m\n\u001b[0;32m    208\u001b[0m \u001b[38;5;129m@unpack_zerodim_and_defer\u001b[39m(\u001b[38;5;124m\"\u001b[39m\u001b[38;5;124m__truediv__\u001b[39m\u001b[38;5;124m\"\u001b[39m)\n\u001b[0;32m    209\u001b[0m \u001b[38;5;28;01mdef\u001b[39;00m \u001b[38;5;21m__truediv__\u001b[39m(\u001b[38;5;28mself\u001b[39m, other):\n\u001b[1;32m--> 210\u001b[0m     \u001b[38;5;28;01mreturn\u001b[39;00m \u001b[38;5;28mself\u001b[39m\u001b[38;5;241m.\u001b[39m_arith_method(other, operator\u001b[38;5;241m.\u001b[39mtruediv)\n",
      "File \u001b[1;32m~\\AppData\\Roaming\\Python\\Python311\\site-packages\\pandas\\core\\series.py:5819\u001b[0m, in \u001b[0;36mSeries._arith_method\u001b[1;34m(self, other, op)\u001b[0m\n\u001b[0;32m   5817\u001b[0m \u001b[38;5;28;01mdef\u001b[39;00m \u001b[38;5;21m_arith_method\u001b[39m(\u001b[38;5;28mself\u001b[39m, other, op):\n\u001b[0;32m   5818\u001b[0m     \u001b[38;5;28mself\u001b[39m, other \u001b[38;5;241m=\u001b[39m \u001b[38;5;28mself\u001b[39m\u001b[38;5;241m.\u001b[39m_align_for_op(other)\n\u001b[1;32m-> 5819\u001b[0m     \u001b[38;5;28;01mreturn\u001b[39;00m base\u001b[38;5;241m.\u001b[39mIndexOpsMixin\u001b[38;5;241m.\u001b[39m_arith_method(\u001b[38;5;28mself\u001b[39m, other, op)\n",
      "File \u001b[1;32m~\\AppData\\Roaming\\Python\\Python311\\site-packages\\pandas\\core\\base.py:1381\u001b[0m, in \u001b[0;36mIndexOpsMixin._arith_method\u001b[1;34m(self, other, op)\u001b[0m\n\u001b[0;32m   1378\u001b[0m     rvalues \u001b[38;5;241m=\u001b[39m np\u001b[38;5;241m.\u001b[39marange(rvalues\u001b[38;5;241m.\u001b[39mstart, rvalues\u001b[38;5;241m.\u001b[39mstop, rvalues\u001b[38;5;241m.\u001b[39mstep)\n\u001b[0;32m   1380\u001b[0m \u001b[38;5;28;01mwith\u001b[39;00m np\u001b[38;5;241m.\u001b[39merrstate(\u001b[38;5;28mall\u001b[39m\u001b[38;5;241m=\u001b[39m\u001b[38;5;124m\"\u001b[39m\u001b[38;5;124mignore\u001b[39m\u001b[38;5;124m\"\u001b[39m):\n\u001b[1;32m-> 1381\u001b[0m     result \u001b[38;5;241m=\u001b[39m ops\u001b[38;5;241m.\u001b[39marithmetic_op(lvalues, rvalues, op)\n\u001b[0;32m   1383\u001b[0m \u001b[38;5;28;01mreturn\u001b[39;00m \u001b[38;5;28mself\u001b[39m\u001b[38;5;241m.\u001b[39m_construct_result(result, name\u001b[38;5;241m=\u001b[39mres_name)\n",
      "File \u001b[1;32m~\\AppData\\Roaming\\Python\\Python311\\site-packages\\pandas\\core\\ops\\array_ops.py:285\u001b[0m, in \u001b[0;36marithmetic_op\u001b[1;34m(left, right, op)\u001b[0m\n\u001b[0;32m    281\u001b[0m     _bool_arith_check(op, left, right)  \u001b[38;5;66;03m# type: ignore[arg-type]\u001b[39;00m\n\u001b[0;32m    283\u001b[0m     \u001b[38;5;66;03m# error: Argument 1 to \"_na_arithmetic_op\" has incompatible type\u001b[39;00m\n\u001b[0;32m    284\u001b[0m     \u001b[38;5;66;03m# \"Union[ExtensionArray, ndarray[Any, Any]]\"; expected \"ndarray[Any, Any]\"\u001b[39;00m\n\u001b[1;32m--> 285\u001b[0m     res_values \u001b[38;5;241m=\u001b[39m _na_arithmetic_op(left, right, op)  \u001b[38;5;66;03m# type: ignore[arg-type]\u001b[39;00m\n\u001b[0;32m    287\u001b[0m \u001b[38;5;28;01mreturn\u001b[39;00m res_values\n",
      "File \u001b[1;32m~\\AppData\\Roaming\\Python\\Python311\\site-packages\\pandas\\core\\ops\\array_ops.py:229\u001b[0m, in \u001b[0;36m_na_arithmetic_op\u001b[1;34m(left, right, op, is_cmp)\u001b[0m\n\u001b[0;32m    221\u001b[0m \u001b[38;5;28;01mexcept\u001b[39;00m \u001b[38;5;167;01mTypeError\u001b[39;00m:\n\u001b[0;32m    222\u001b[0m     \u001b[38;5;28;01mif\u001b[39;00m \u001b[38;5;129;01mnot\u001b[39;00m is_cmp \u001b[38;5;129;01mand\u001b[39;00m (\n\u001b[0;32m    223\u001b[0m         left\u001b[38;5;241m.\u001b[39mdtype \u001b[38;5;241m==\u001b[39m \u001b[38;5;28mobject\u001b[39m \u001b[38;5;129;01mor\u001b[39;00m \u001b[38;5;28mgetattr\u001b[39m(right, \u001b[38;5;124m\"\u001b[39m\u001b[38;5;124mdtype\u001b[39m\u001b[38;5;124m\"\u001b[39m, \u001b[38;5;28;01mNone\u001b[39;00m) \u001b[38;5;241m==\u001b[39m \u001b[38;5;28mobject\u001b[39m\n\u001b[0;32m    224\u001b[0m     ):\n\u001b[1;32m   (...)\u001b[0m\n\u001b[0;32m    227\u001b[0m         \u001b[38;5;66;03m# Don't do this for comparisons, as that will handle complex numbers\u001b[39;00m\n\u001b[0;32m    228\u001b[0m         \u001b[38;5;66;03m#  incorrectly, see GH#32047\u001b[39;00m\n\u001b[1;32m--> 229\u001b[0m         result \u001b[38;5;241m=\u001b[39m _masked_arith_op(left, right, op)\n\u001b[0;32m    230\u001b[0m     \u001b[38;5;28;01melse\u001b[39;00m:\n\u001b[0;32m    231\u001b[0m         \u001b[38;5;28;01mraise\u001b[39;00m\n",
      "File \u001b[1;32m~\\AppData\\Roaming\\Python\\Python311\\site-packages\\pandas\\core\\ops\\array_ops.py:165\u001b[0m, in \u001b[0;36m_masked_arith_op\u001b[1;34m(x, y, op)\u001b[0m\n\u001b[0;32m    163\u001b[0m     \u001b[38;5;66;03m# See GH#5284, GH#5035, GH#19448 for historical reference\u001b[39;00m\n\u001b[0;32m    164\u001b[0m     \u001b[38;5;28;01mif\u001b[39;00m mask\u001b[38;5;241m.\u001b[39many():\n\u001b[1;32m--> 165\u001b[0m         result[mask] \u001b[38;5;241m=\u001b[39m op(xrav[mask], yrav[mask])\n\u001b[0;32m    167\u001b[0m \u001b[38;5;28;01melse\u001b[39;00m:\n\u001b[0;32m    168\u001b[0m     \u001b[38;5;28;01mif\u001b[39;00m \u001b[38;5;129;01mnot\u001b[39;00m is_scalar(y):\n",
      "\u001b[1;31mTypeError\u001b[0m: unsupported operand type(s) for /: 'str' and 'str'"
     ]
    }
   ],
   "source": [
    "\n",
    "# net_inc_common1 = float(income_statement_df[income_statement_df['symbol'] == 'AAPL']['Net Income Com'].iloc[0])\n",
    "# tot_equity_now = float(balance_statement_df[balance_statement_df['symbol'] == 'AAPL']['Total shareholders equity'].iloc[0])\n",
    "\n",
    "# tot_equity_previous = float(balance_statement_df[balance_statement_df['symbol'] == 'AAPL']['Total shareholders equity'].iloc[4])\n",
    "\n",
    "# Average_equity = (tot_equity_now + tot_equity_previous)/2\n",
    "\n",
    "# ROE = net_inc_common1/Average_equity\n",
    "\n",
    "\n",
    "df_combined = pd.DataFrame()\n",
    "# df_combined['net_inc_common1'] = income_statement_df[income_statement_df['symbol'] == 'AAPL']['Net Income Com']\n",
    "\n",
    "df_combined = pd.merge(income_statement_df, balance_statement_df, on=['symbol', 'date'])\n",
    "df_combined['ROE'] = df_combined['Net Income Com']/(df_combined['Total shareholders equity']+df_combined['Total shareholders equity'].shift(4))/2\n",
    "df_combined['ROE']\n"
   ]
  },
  {
   "cell_type": "code",
   "execution_count": null,
   "metadata": {},
   "outputs": [
    {
     "data": {
      "text/plain": [
       "date\n",
       "2021-09-25     63090000000.0\n",
       "2020-09-26     65339000000.0\n",
       "2019-09-28     90488000000.0\n",
       "2018-09-29    107147000000.0\n",
       "2017-09-30    134047000000.0\n",
       "2016-09-24    128249000000.0\n",
       "2015-09-26    119355000000.0\n",
       "2014-09-27    111547000000.0\n",
       "2013-09-28    123549000000.0\n",
       "2012-09-29    118210000000.0\n",
       "2011-09-24     76615000000.0\n",
       "2010-09-25     47791000000.0\n",
       "2009-09-26     27832000000.0\n",
       "2008-09-27     21030000000.0\n",
       "2007-09-29     14532000000.0\n",
       "2006-09-30      9984000000.0\n",
       "2005-09-24      7466000000.0\n",
       "2004-09-25      5076000000.0\n",
       "2003-09-27      4223000000.0\n",
       "2002-09-28      4095000000.0\n",
       "2001-09-29      3920000000.0\n",
       "2000-09-30      4107000000.0\n",
       "1999-09-25      3104000000.0\n",
       "1998-09-25      1642000000.0\n",
       "1997-09-26      1200000000.0\n",
       "1996-09-27      2058000000.0\n",
       "1995-09-29      2901000000.0\n",
       "1994-09-30      2383301000.0\n",
       "1993-09-30      2026400000.0\n",
       "1992-09-30      2187400000.0\n",
       "1991-09-30      1766700000.0\n",
       "1990-09-30      1446800000.0\n",
       "1989-09-30      1485700000.0\n",
       "1988-09-30      1003400000.0\n",
       "1987-09-30       836500000.0\n",
       "1986-09-30       694100000.0\n",
       "1985-09-30       550500000.0\n",
       "Name: Total shareholders equity, dtype: object"
      ]
     },
     "execution_count": 56,
     "metadata": {},
     "output_type": "execute_result"
    }
   ],
   "source": [
    "color_codes = {}\n",
    "def stringToColorCode(str) :\n",
    "    if str in color_codes:\n",
    "        return color_codes[str] \n",
    "    else:\n",
    "        color_codes[str] = '#' + ('000000' + format(math.floor(random.random() * 16777215), '06x'))[-6:], len(str)\n",
    "    return color_codes\n",
    "\n",
    "# income_statement_df.columns\n",
    "balance_statement_df['Total shareholders equity']"
   ]
  },
  {
   "cell_type": "code",
   "execution_count": null,
   "metadata": {},
   "outputs": [
    {
     "data": {
      "application/vnd.plotly.v1+json": {
       "config": {
        "plotlyServerURL": "https://plot.ly"
       },
       "data": [
        {
         "name": "Net Income Com",
         "type": "scatter",
         "x": [
          "1985-09-30",
          "1986-09-30",
          "1987-09-30",
          "1988-09-30",
          "1989-09-30",
          "1990-09-30",
          "1991-09-30",
          "1992-09-30",
          "1993-09-30",
          "1994-09-30",
          "1995-09-29",
          "1996-09-27",
          "1997-09-26",
          "1998-09-25",
          "1999-09-25",
          "2000-09-30",
          "2001-09-29",
          "2002-09-28",
          "2003-09-27",
          "2004-09-25",
          "2005-09-24",
          "2006-09-30",
          "2007-09-29",
          "2008-09-27",
          "2009-09-26",
          "2010-09-25",
          "2011-09-24",
          "2012-09-29",
          "2013-09-28",
          "2014-09-27",
          "2015-09-26",
          "2016-09-24",
          "2017-09-30",
          "2018-09-29",
          "2019-09-28",
          "2020-09-26",
          "2021-09-25"
         ],
         "y": [
          "61200000.0",
          "154000000.0",
          "217500000.0",
          "400300000.0",
          "454000000.0",
          "474900000.0",
          "309800000.0",
          "530400000.0",
          "86600000.0",
          "310178000.0",
          "424000000.0",
          "-816000000.0",
          "-1045000000.0",
          "309000000.0",
          "601000000.0",
          "786000000.0",
          "-25000000.0",
          "65000000.0",
          "69000000.0",
          "276000000.0",
          "1335000000.0",
          "1989000000.0",
          "3496000000.0",
          "4834000000.0",
          "5704000000.0",
          "14013000000.0",
          "25922000000.0",
          "41733000000.0",
          "37037000000.0",
          "39510000000.0",
          "53394000000.0",
          "45687000000.0",
          "48351000000.0",
          "59531000000.0",
          "55256000000.0",
          "57411000000.0",
          "94680000000.0"
         ]
        },
        {
         "name": "Total shareholders equity",
         "type": "scatter",
         "x": [
          "1985-09-30",
          "1986-09-30",
          "1987-09-30",
          "1988-09-30",
          "1989-09-30",
          "1990-09-30",
          "1991-09-30",
          "1992-09-30",
          "1993-09-30",
          "1994-09-30",
          "1995-09-29",
          "1996-09-27",
          "1997-09-26",
          "1998-09-25",
          "1999-09-25",
          "2000-09-30",
          "2001-09-29",
          "2002-09-28",
          "2003-09-27",
          "2004-09-25",
          "2005-09-24",
          "2006-09-30",
          "2007-09-29",
          "2008-09-27",
          "2009-09-26",
          "2010-09-25",
          "2011-09-24",
          "2012-09-29",
          "2013-09-28",
          "2014-09-27",
          "2015-09-26",
          "2016-09-24",
          "2017-09-30",
          "2018-09-29",
          "2019-09-28",
          "2020-09-26",
          "2021-09-25"
         ],
         "y": [
          "550500000.0",
          "694100000.0",
          "836500000.0",
          "1003400000.0",
          "1485700000.0",
          "1446800000.0",
          "1766700000.0",
          "2187400000.0",
          "2026400000.0",
          "2383301000.0",
          "2901000000.0",
          "2058000000.0",
          "1200000000.0",
          "1642000000.0",
          "3104000000.0",
          "4107000000.0",
          "3920000000.0",
          "4095000000.0",
          "4223000000.0",
          "5076000000.0",
          "7466000000.0",
          "9984000000.0",
          "14532000000.0",
          "21030000000.0",
          "27832000000.0",
          "47791000000.0",
          "76615000000.0",
          "118210000000.0",
          "123549000000.0",
          "111547000000.0",
          "119355000000.0",
          "128249000000.0",
          "134047000000.0",
          "107147000000.0",
          "90488000000.0",
          "65339000000.0",
          "63090000000.0"
         ]
        }
       ],
       "layout": {
        "autotypenumbers": "convert types",
        "height": 1200,
        "showlegend": true,
        "template": {
         "data": {
          "bar": [
           {
            "error_x": {
             "color": "#2a3f5f"
            },
            "error_y": {
             "color": "#2a3f5f"
            },
            "marker": {
             "line": {
              "color": "#E5ECF6",
              "width": 0.5
             },
             "pattern": {
              "fillmode": "overlay",
              "size": 10,
              "solidity": 0.2
             }
            },
            "type": "bar"
           }
          ],
          "barpolar": [
           {
            "marker": {
             "line": {
              "color": "#E5ECF6",
              "width": 0.5
             },
             "pattern": {
              "fillmode": "overlay",
              "size": 10,
              "solidity": 0.2
             }
            },
            "type": "barpolar"
           }
          ],
          "carpet": [
           {
            "aaxis": {
             "endlinecolor": "#2a3f5f",
             "gridcolor": "white",
             "linecolor": "white",
             "minorgridcolor": "white",
             "startlinecolor": "#2a3f5f"
            },
            "baxis": {
             "endlinecolor": "#2a3f5f",
             "gridcolor": "white",
             "linecolor": "white",
             "minorgridcolor": "white",
             "startlinecolor": "#2a3f5f"
            },
            "type": "carpet"
           }
          ],
          "choropleth": [
           {
            "colorbar": {
             "outlinewidth": 0,
             "ticks": ""
            },
            "type": "choropleth"
           }
          ],
          "contour": [
           {
            "colorbar": {
             "outlinewidth": 0,
             "ticks": ""
            },
            "colorscale": [
             [
              0,
              "#0d0887"
             ],
             [
              0.1111111111111111,
              "#46039f"
             ],
             [
              0.2222222222222222,
              "#7201a8"
             ],
             [
              0.3333333333333333,
              "#9c179e"
             ],
             [
              0.4444444444444444,
              "#bd3786"
             ],
             [
              0.5555555555555556,
              "#d8576b"
             ],
             [
              0.6666666666666666,
              "#ed7953"
             ],
             [
              0.7777777777777778,
              "#fb9f3a"
             ],
             [
              0.8888888888888888,
              "#fdca26"
             ],
             [
              1,
              "#f0f921"
             ]
            ],
            "type": "contour"
           }
          ],
          "contourcarpet": [
           {
            "colorbar": {
             "outlinewidth": 0,
             "ticks": ""
            },
            "type": "contourcarpet"
           }
          ],
          "heatmap": [
           {
            "colorbar": {
             "outlinewidth": 0,
             "ticks": ""
            },
            "colorscale": [
             [
              0,
              "#0d0887"
             ],
             [
              0.1111111111111111,
              "#46039f"
             ],
             [
              0.2222222222222222,
              "#7201a8"
             ],
             [
              0.3333333333333333,
              "#9c179e"
             ],
             [
              0.4444444444444444,
              "#bd3786"
             ],
             [
              0.5555555555555556,
              "#d8576b"
             ],
             [
              0.6666666666666666,
              "#ed7953"
             ],
             [
              0.7777777777777778,
              "#fb9f3a"
             ],
             [
              0.8888888888888888,
              "#fdca26"
             ],
             [
              1,
              "#f0f921"
             ]
            ],
            "type": "heatmap"
           }
          ],
          "heatmapgl": [
           {
            "colorbar": {
             "outlinewidth": 0,
             "ticks": ""
            },
            "colorscale": [
             [
              0,
              "#0d0887"
             ],
             [
              0.1111111111111111,
              "#46039f"
             ],
             [
              0.2222222222222222,
              "#7201a8"
             ],
             [
              0.3333333333333333,
              "#9c179e"
             ],
             [
              0.4444444444444444,
              "#bd3786"
             ],
             [
              0.5555555555555556,
              "#d8576b"
             ],
             [
              0.6666666666666666,
              "#ed7953"
             ],
             [
              0.7777777777777778,
              "#fb9f3a"
             ],
             [
              0.8888888888888888,
              "#fdca26"
             ],
             [
              1,
              "#f0f921"
             ]
            ],
            "type": "heatmapgl"
           }
          ],
          "histogram": [
           {
            "marker": {
             "pattern": {
              "fillmode": "overlay",
              "size": 10,
              "solidity": 0.2
             }
            },
            "type": "histogram"
           }
          ],
          "histogram2d": [
           {
            "colorbar": {
             "outlinewidth": 0,
             "ticks": ""
            },
            "colorscale": [
             [
              0,
              "#0d0887"
             ],
             [
              0.1111111111111111,
              "#46039f"
             ],
             [
              0.2222222222222222,
              "#7201a8"
             ],
             [
              0.3333333333333333,
              "#9c179e"
             ],
             [
              0.4444444444444444,
              "#bd3786"
             ],
             [
              0.5555555555555556,
              "#d8576b"
             ],
             [
              0.6666666666666666,
              "#ed7953"
             ],
             [
              0.7777777777777778,
              "#fb9f3a"
             ],
             [
              0.8888888888888888,
              "#fdca26"
             ],
             [
              1,
              "#f0f921"
             ]
            ],
            "type": "histogram2d"
           }
          ],
          "histogram2dcontour": [
           {
            "colorbar": {
             "outlinewidth": 0,
             "ticks": ""
            },
            "colorscale": [
             [
              0,
              "#0d0887"
             ],
             [
              0.1111111111111111,
              "#46039f"
             ],
             [
              0.2222222222222222,
              "#7201a8"
             ],
             [
              0.3333333333333333,
              "#9c179e"
             ],
             [
              0.4444444444444444,
              "#bd3786"
             ],
             [
              0.5555555555555556,
              "#d8576b"
             ],
             [
              0.6666666666666666,
              "#ed7953"
             ],
             [
              0.7777777777777778,
              "#fb9f3a"
             ],
             [
              0.8888888888888888,
              "#fdca26"
             ],
             [
              1,
              "#f0f921"
             ]
            ],
            "type": "histogram2dcontour"
           }
          ],
          "mesh3d": [
           {
            "colorbar": {
             "outlinewidth": 0,
             "ticks": ""
            },
            "type": "mesh3d"
           }
          ],
          "parcoords": [
           {
            "line": {
             "colorbar": {
              "outlinewidth": 0,
              "ticks": ""
             }
            },
            "type": "parcoords"
           }
          ],
          "pie": [
           {
            "automargin": true,
            "type": "pie"
           }
          ],
          "scatter": [
           {
            "fillpattern": {
             "fillmode": "overlay",
             "size": 10,
             "solidity": 0.2
            },
            "type": "scatter"
           }
          ],
          "scatter3d": [
           {
            "line": {
             "colorbar": {
              "outlinewidth": 0,
              "ticks": ""
             }
            },
            "marker": {
             "colorbar": {
              "outlinewidth": 0,
              "ticks": ""
             }
            },
            "type": "scatter3d"
           }
          ],
          "scattercarpet": [
           {
            "marker": {
             "colorbar": {
              "outlinewidth": 0,
              "ticks": ""
             }
            },
            "type": "scattercarpet"
           }
          ],
          "scattergeo": [
           {
            "marker": {
             "colorbar": {
              "outlinewidth": 0,
              "ticks": ""
             }
            },
            "type": "scattergeo"
           }
          ],
          "scattergl": [
           {
            "marker": {
             "colorbar": {
              "outlinewidth": 0,
              "ticks": ""
             }
            },
            "type": "scattergl"
           }
          ],
          "scattermapbox": [
           {
            "marker": {
             "colorbar": {
              "outlinewidth": 0,
              "ticks": ""
             }
            },
            "type": "scattermapbox"
           }
          ],
          "scatterpolar": [
           {
            "marker": {
             "colorbar": {
              "outlinewidth": 0,
              "ticks": ""
             }
            },
            "type": "scatterpolar"
           }
          ],
          "scatterpolargl": [
           {
            "marker": {
             "colorbar": {
              "outlinewidth": 0,
              "ticks": ""
             }
            },
            "type": "scatterpolargl"
           }
          ],
          "scatterternary": [
           {
            "marker": {
             "colorbar": {
              "outlinewidth": 0,
              "ticks": ""
             }
            },
            "type": "scatterternary"
           }
          ],
          "surface": [
           {
            "colorbar": {
             "outlinewidth": 0,
             "ticks": ""
            },
            "colorscale": [
             [
              0,
              "#0d0887"
             ],
             [
              0.1111111111111111,
              "#46039f"
             ],
             [
              0.2222222222222222,
              "#7201a8"
             ],
             [
              0.3333333333333333,
              "#9c179e"
             ],
             [
              0.4444444444444444,
              "#bd3786"
             ],
             [
              0.5555555555555556,
              "#d8576b"
             ],
             [
              0.6666666666666666,
              "#ed7953"
             ],
             [
              0.7777777777777778,
              "#fb9f3a"
             ],
             [
              0.8888888888888888,
              "#fdca26"
             ],
             [
              1,
              "#f0f921"
             ]
            ],
            "type": "surface"
           }
          ],
          "table": [
           {
            "cells": {
             "fill": {
              "color": "#EBF0F8"
             },
             "line": {
              "color": "white"
             }
            },
            "header": {
             "fill": {
              "color": "#C8D4E3"
             },
             "line": {
              "color": "white"
             }
            },
            "type": "table"
           }
          ]
         },
         "layout": {
          "annotationdefaults": {
           "arrowcolor": "#2a3f5f",
           "arrowhead": 0,
           "arrowwidth": 1
          },
          "autotypenumbers": "strict",
          "coloraxis": {
           "colorbar": {
            "outlinewidth": 0,
            "ticks": ""
           }
          },
          "colorscale": {
           "diverging": [
            [
             0,
             "#8e0152"
            ],
            [
             0.1,
             "#c51b7d"
            ],
            [
             0.2,
             "#de77ae"
            ],
            [
             0.3,
             "#f1b6da"
            ],
            [
             0.4,
             "#fde0ef"
            ],
            [
             0.5,
             "#f7f7f7"
            ],
            [
             0.6,
             "#e6f5d0"
            ],
            [
             0.7,
             "#b8e186"
            ],
            [
             0.8,
             "#7fbc41"
            ],
            [
             0.9,
             "#4d9221"
            ],
            [
             1,
             "#276419"
            ]
           ],
           "sequential": [
            [
             0,
             "#0d0887"
            ],
            [
             0.1111111111111111,
             "#46039f"
            ],
            [
             0.2222222222222222,
             "#7201a8"
            ],
            [
             0.3333333333333333,
             "#9c179e"
            ],
            [
             0.4444444444444444,
             "#bd3786"
            ],
            [
             0.5555555555555556,
             "#d8576b"
            ],
            [
             0.6666666666666666,
             "#ed7953"
            ],
            [
             0.7777777777777778,
             "#fb9f3a"
            ],
            [
             0.8888888888888888,
             "#fdca26"
            ],
            [
             1,
             "#f0f921"
            ]
           ],
           "sequentialminus": [
            [
             0,
             "#0d0887"
            ],
            [
             0.1111111111111111,
             "#46039f"
            ],
            [
             0.2222222222222222,
             "#7201a8"
            ],
            [
             0.3333333333333333,
             "#9c179e"
            ],
            [
             0.4444444444444444,
             "#bd3786"
            ],
            [
             0.5555555555555556,
             "#d8576b"
            ],
            [
             0.6666666666666666,
             "#ed7953"
            ],
            [
             0.7777777777777778,
             "#fb9f3a"
            ],
            [
             0.8888888888888888,
             "#fdca26"
            ],
            [
             1,
             "#f0f921"
            ]
           ]
          },
          "colorway": [
           "#636efa",
           "#EF553B",
           "#00cc96",
           "#ab63fa",
           "#FFA15A",
           "#19d3f3",
           "#FF6692",
           "#B6E880",
           "#FF97FF",
           "#FECB52"
          ],
          "font": {
           "color": "#2a3f5f"
          },
          "geo": {
           "bgcolor": "white",
           "lakecolor": "white",
           "landcolor": "#E5ECF6",
           "showlakes": true,
           "showland": true,
           "subunitcolor": "white"
          },
          "hoverlabel": {
           "align": "left"
          },
          "hovermode": "closest",
          "mapbox": {
           "style": "light"
          },
          "paper_bgcolor": "white",
          "plot_bgcolor": "#E5ECF6",
          "polar": {
           "angularaxis": {
            "gridcolor": "white",
            "linecolor": "white",
            "ticks": ""
           },
           "bgcolor": "#E5ECF6",
           "radialaxis": {
            "gridcolor": "white",
            "linecolor": "white",
            "ticks": ""
           }
          },
          "scene": {
           "xaxis": {
            "backgroundcolor": "#E5ECF6",
            "gridcolor": "white",
            "gridwidth": 2,
            "linecolor": "white",
            "showbackground": true,
            "ticks": "",
            "zerolinecolor": "white"
           },
           "yaxis": {
            "backgroundcolor": "#E5ECF6",
            "gridcolor": "white",
            "gridwidth": 2,
            "linecolor": "white",
            "showbackground": true,
            "ticks": "",
            "zerolinecolor": "white"
           },
           "zaxis": {
            "backgroundcolor": "#E5ECF6",
            "gridcolor": "white",
            "gridwidth": 2,
            "linecolor": "white",
            "showbackground": true,
            "ticks": "",
            "zerolinecolor": "white"
           }
          },
          "shapedefaults": {
           "line": {
            "color": "#2a3f5f"
           }
          },
          "ternary": {
           "aaxis": {
            "gridcolor": "white",
            "linecolor": "white",
            "ticks": ""
           },
           "baxis": {
            "gridcolor": "white",
            "linecolor": "white",
            "ticks": ""
           },
           "bgcolor": "#E5ECF6",
           "caxis": {
            "gridcolor": "white",
            "linecolor": "white",
            "ticks": ""
           }
          },
          "title": {
           "x": 0.05
          },
          "xaxis": {
           "automargin": true,
           "gridcolor": "white",
           "linecolor": "white",
           "ticks": "",
           "title": {
            "standoff": 15
           },
           "zerolinecolor": "white",
           "zerolinewidth": 2
          },
          "yaxis": {
           "automargin": true,
           "gridcolor": "white",
           "linecolor": "white",
           "ticks": "",
           "title": {
            "standoff": 15
           },
           "zerolinecolor": "white",
           "zerolinewidth": 2
          }
         }
        },
        "title": {
         "text": "AAPL"
        },
        "width": 1800,
        "xaxis": {
         "rangeslider": {
          "visible": true
         },
         "title": {
          "text": "Date"
         }
        },
        "yaxis": {
         "title": {
          "text": "Values"
         }
        }
       }
      }
     },
     "metadata": {},
     "output_type": "display_data"
    }
   ],
   "source": [
    "\n",
    "def plot_ticker(df_income, df_balance):\n",
    "    \n",
    "    fig = go.Figure()\n",
    "\n",
    "    df = df_income.copy(deep=True)\n",
    "    df.sort_index(inplace=True, ascending=True)\n",
    "\n",
    "    for col in df.columns:\n",
    "        if col not in ['Net Income Com']:\n",
    "             continue\n",
    "        column_plot = go.Scatter(\n",
    "            x=df.index, \n",
    "            y=df[col], \n",
    "            name=str(col))\n",
    "        fig.add_trace(column_plot)\n",
    "\n",
    "    df = df_balance.copy(deep=True)\n",
    "    df.sort_index(inplace=True, ascending=True)\n",
    "\n",
    "    for col in df.columns:\n",
    "        if col not in ['Total shareholders equity']:\n",
    "             continue\n",
    "        column_plot = go.Scatter(\n",
    "            x=df.index, \n",
    "            y=df[col], \n",
    "            name=str(col))\n",
    "        fig.add_trace(column_plot)\n",
    "\n",
    "\n",
    "    fig.update_xaxes(title=\"Date\", rangeslider_visible=True)\n",
    "    fig.update_yaxes(title='Values')\n",
    "\n",
    "    # USED FOR NON-DAILY DATA : Get rid of empty dates and market closed\n",
    "    # fig.update_layout(title=ticker + \" Bollinger Bands\",\n",
    "    # height=1200, width=1800, \n",
    "    #               showlegend=True, \n",
    "    #               xaxis_rangebreaks=[\n",
    "    #         dict(bounds=[\"sat\", \"mon\"]),\n",
    "    #         dict(bounds=[16, 9.5], pattern=\"hour\"), \n",
    "    #         dict(values=[\"2021-12-25\", \"2022-01-01\"])\n",
    "    #     ])\n",
    "        \n",
    "    fig.update_layout(title='AAPL', height=1200, width=1800, showlegend=True, autotypenumbers='convert types')\n",
    "    fig.show()\n",
    "\n",
    "plot_ticker(income_statement_df, balance_statement_df)"
   ]
  },
  {
   "cell_type": "code",
   "execution_count": null,
   "metadata": {},
   "outputs": [
    {
     "name": "stderr",
     "output_type": "stream",
     "text": [
      "INFO:modelling_prep:Creating financials dataframe for QRTEA...\n"
     ]
    },
    {
     "name": "stdout",
     "output_type": "stream",
     "text": [
      "JSON data saved to file: data\\income_statement_QRTEA.json\n",
      "JSON data saved to file: data\\balance_statement_QRTEA.json\n"
     ]
    },
    {
     "data": {
      "application/vnd.plotly.v1+json": {
       "config": {
        "plotlyServerURL": "https://plot.ly"
       },
       "data": [
        {
         "name": "Net Income Com",
         "type": "scatter",
         "x": [
          "2005-12-31",
          "2006-12-31",
          "2007-12-31",
          "2008-12-31",
          "2009-12-31",
          "2010-12-31",
          "2011-12-31",
          "2012-12-31",
          "2013-12-31",
          "2014-12-31",
          "2015-12-31",
          "2016-12-31",
          "2017-12-31",
          "2018-12-31",
          "2019-12-31",
          "2020-12-31",
          "2021-12-31"
         ],
         "y": [
          298000000,
          511000000,
          441000000,
          -781000000,
          258000000,
          871000000,
          912000000,
          466000000,
          438000000,
          520000000,
          640000000,
          473000000,
          1208000000,
          916000000,
          -456000000,
          1204000000,
          340000000
         ]
        },
        {
         "name": "Cash and cash equivalents",
         "type": "scatter",
         "x": [
          "2005-12-31",
          "2006-12-31",
          "2007-12-31",
          "2008-12-31",
          "2009-12-31",
          "2010-12-31",
          "2011-12-31",
          "2012-12-31",
          "2013-12-31",
          "2014-12-31",
          "2015-12-31",
          "2016-12-31",
          "2017-12-31",
          "2018-12-31",
          "2019-12-31",
          "2020-12-31",
          "2021-12-31"
         ],
         "y": [
          945000000,
          946000000,
          557000000,
          832000000,
          884000000,
          1089000000,
          847000000,
          699000000,
          598000000,
          422000000,
          426000000,
          338000000,
          330000000,
          653000000,
          673000000,
          806000000,
          587000000
         ]
        },
        {
         "name": "Short-term investments",
         "type": "scatter",
         "x": [
          "2005-12-31",
          "2006-12-31",
          "2007-12-31",
          "2008-12-31",
          "2009-12-31",
          "2010-12-31",
          "2011-12-31",
          "2012-12-31",
          "2013-12-31",
          "2014-12-31",
          "2015-12-31",
          "2016-12-31",
          "2017-12-31",
          "2018-12-31",
          "2019-12-31",
          "2020-12-31",
          "2021-12-31"
         ],
         "y": [
          0,
          0,
          0,
          0,
          0,
          0,
          0,
          0,
          0,
          21000000,
          12000000,
          0,
          0,
          0,
          0,
          0,
          0
         ]
        },
        {
         "name": "Receivables",
         "type": "scatter",
         "x": [
          "2005-12-31",
          "2006-12-31",
          "2007-12-31",
          "2008-12-31",
          "2009-12-31",
          "2010-12-31",
          "2011-12-31",
          "2012-12-31",
          "2013-12-31",
          "2014-12-31",
          "2015-12-31",
          "2016-12-31",
          "2017-12-31",
          "2018-12-31",
          "2019-12-31",
          "2020-12-31",
          "2021-12-31"
         ],
         "y": [
          837000000,
          977000000,
          1179000000,
          1171000000,
          1250000000,
          885000000,
          1054000000,
          1095000000,
          1150000000,
          1196000000,
          1379000000,
          1270000000,
          1719000000,
          1835000000,
          1854000000,
          1985000000,
          2003000000
         ]
        },
        {
         "name": "Long-term investments",
         "type": "scatter",
         "x": [
          "2005-12-31",
          "2006-12-31",
          "2007-12-31",
          "2008-12-31",
          "2009-12-31",
          "2010-12-31",
          "2011-12-31",
          "2012-12-31",
          "2013-12-31",
          "2014-12-31",
          "2015-12-31",
          "2016-12-31",
          "2017-12-31",
          "2018-12-31",
          "2019-12-31",
          "2020-12-31",
          "2021-12-31"
         ],
         "y": [
          0,
          3930000000,
          3369000000,
          1640000000,
          1629000000,
          950000000,
          2303000000,
          308000000,
          347000000,
          379000000,
          212000000,
          228000000,
          43000000,
          96000000,
          76000000,
          0,
          0
         ]
        },
        {
         "name": "Total current liabilities",
         "type": "scatter",
         "x": [
          "2005-12-31",
          "2006-12-31",
          "2007-12-31",
          "2008-12-31",
          "2009-12-31",
          "2010-12-31",
          "2011-12-31",
          "2012-12-31",
          "2013-12-31",
          "2014-12-31",
          "2015-12-31",
          "2016-12-31",
          "2017-12-31",
          "2018-12-31",
          "2019-12-31",
          "2020-12-31",
          "2021-12-31"
         ],
         "y": [
          2654000000,
          1457000000,
          1505000000,
          1710000000,
          2743000000,
          2343000000,
          3568000000,
          2126000000,
          1916000000,
          1590000000,
          2103000000,
          1760000000,
          2482000000,
          3951000000,
          4001000000,
          4704000000,
          4224000000
         ]
        },
        {
         "name": "Total debt",
         "type": "scatter",
         "x": [
          "2005-12-31",
          "2006-12-31",
          "2007-12-31",
          "2008-12-31",
          "2009-12-31",
          "2010-12-31",
          "2011-12-31",
          "2012-12-31",
          "2013-12-31",
          "2014-12-31",
          "2015-12-31",
          "2016-12-31",
          "2017-12-31",
          "2018-12-31",
          "2019-12-31",
          "2020-12-31",
          "2021-12-31"
         ],
         "y": [
          5327000000,
          6383000000,
          7177000000,
          7131000000,
          6203000000,
          5180000000,
          6039000000,
          4542000000,
          5083000000,
          5860000000,
          6535000000,
          6375000000,
          6703000000,
          7373000000,
          7412000000,
          6936000000,
          6989000000
         ]
        },
        {
         "name": "Total shareholders equity",
         "type": "scatter",
         "x": [
          "2005-12-31",
          "2006-12-31",
          "2007-12-31",
          "2008-12-31",
          "2009-12-31",
          "2010-12-31",
          "2011-12-31",
          "2012-12-31",
          "2013-12-31",
          "2014-12-31",
          "2015-12-31",
          "2016-12-31",
          "2017-12-31",
          "2018-12-31",
          "2019-12-31",
          "2020-12-31",
          "2021-12-31"
         ],
         "y": [
          8231000000,
          8561000000,
          7530000000,
          6303000000,
          6794000000,
          6287000000,
          6493000000,
          7011000000,
          6378000000,
          4280000000,
          5195000000,
          4860000000,
          6819000000,
          5624000000,
          4840000000,
          3598000000,
          2894000000
         ]
        },
        {
         "name": "ROE",
         "type": "scatter",
         "x": [
          "2005-12-31",
          "2006-12-31",
          "2007-12-31",
          "2008-12-31",
          "2009-12-31",
          "2010-12-31",
          "2011-12-31",
          "2012-12-31",
          "2013-12-31",
          "2014-12-31",
          "2015-12-31",
          "2016-12-31",
          "2017-12-31",
          "2018-12-31",
          "2019-12-31",
          "2020-12-31",
          "2021-12-31"
         ],
         "xaxis": "x",
         "y": [
          null,
          0.06086231538828013,
          0.05481324964265739,
          -0.11291838357550785,
          0.03939833549667863,
          0.13317024692301813,
          0.14272300469483568,
          0.06901658767772512,
          0.06542684293076406,
          0.09757928316757365,
          0.13509234828496042,
          0.0940825459970164,
          0.20686702628649714,
          0.14723137507032066,
          -0.0871559633027523,
          0.28537568144109976,
          0.10474430067775724
         ],
         "yaxis": "y2"
        }
       ],
       "layout": {
        "autotypenumbers": "convert types",
        "height": 1200,
        "showlegend": true,
        "template": {
         "data": {
          "bar": [
           {
            "error_x": {
             "color": "#2a3f5f"
            },
            "error_y": {
             "color": "#2a3f5f"
            },
            "marker": {
             "line": {
              "color": "#E5ECF6",
              "width": 0.5
             },
             "pattern": {
              "fillmode": "overlay",
              "size": 10,
              "solidity": 0.2
             }
            },
            "type": "bar"
           }
          ],
          "barpolar": [
           {
            "marker": {
             "line": {
              "color": "#E5ECF6",
              "width": 0.5
             },
             "pattern": {
              "fillmode": "overlay",
              "size": 10,
              "solidity": 0.2
             }
            },
            "type": "barpolar"
           }
          ],
          "carpet": [
           {
            "aaxis": {
             "endlinecolor": "#2a3f5f",
             "gridcolor": "white",
             "linecolor": "white",
             "minorgridcolor": "white",
             "startlinecolor": "#2a3f5f"
            },
            "baxis": {
             "endlinecolor": "#2a3f5f",
             "gridcolor": "white",
             "linecolor": "white",
             "minorgridcolor": "white",
             "startlinecolor": "#2a3f5f"
            },
            "type": "carpet"
           }
          ],
          "choropleth": [
           {
            "colorbar": {
             "outlinewidth": 0,
             "ticks": ""
            },
            "type": "choropleth"
           }
          ],
          "contour": [
           {
            "colorbar": {
             "outlinewidth": 0,
             "ticks": ""
            },
            "colorscale": [
             [
              0,
              "#0d0887"
             ],
             [
              0.1111111111111111,
              "#46039f"
             ],
             [
              0.2222222222222222,
              "#7201a8"
             ],
             [
              0.3333333333333333,
              "#9c179e"
             ],
             [
              0.4444444444444444,
              "#bd3786"
             ],
             [
              0.5555555555555556,
              "#d8576b"
             ],
             [
              0.6666666666666666,
              "#ed7953"
             ],
             [
              0.7777777777777778,
              "#fb9f3a"
             ],
             [
              0.8888888888888888,
              "#fdca26"
             ],
             [
              1,
              "#f0f921"
             ]
            ],
            "type": "contour"
           }
          ],
          "contourcarpet": [
           {
            "colorbar": {
             "outlinewidth": 0,
             "ticks": ""
            },
            "type": "contourcarpet"
           }
          ],
          "heatmap": [
           {
            "colorbar": {
             "outlinewidth": 0,
             "ticks": ""
            },
            "colorscale": [
             [
              0,
              "#0d0887"
             ],
             [
              0.1111111111111111,
              "#46039f"
             ],
             [
              0.2222222222222222,
              "#7201a8"
             ],
             [
              0.3333333333333333,
              "#9c179e"
             ],
             [
              0.4444444444444444,
              "#bd3786"
             ],
             [
              0.5555555555555556,
              "#d8576b"
             ],
             [
              0.6666666666666666,
              "#ed7953"
             ],
             [
              0.7777777777777778,
              "#fb9f3a"
             ],
             [
              0.8888888888888888,
              "#fdca26"
             ],
             [
              1,
              "#f0f921"
             ]
            ],
            "type": "heatmap"
           }
          ],
          "heatmapgl": [
           {
            "colorbar": {
             "outlinewidth": 0,
             "ticks": ""
            },
            "colorscale": [
             [
              0,
              "#0d0887"
             ],
             [
              0.1111111111111111,
              "#46039f"
             ],
             [
              0.2222222222222222,
              "#7201a8"
             ],
             [
              0.3333333333333333,
              "#9c179e"
             ],
             [
              0.4444444444444444,
              "#bd3786"
             ],
             [
              0.5555555555555556,
              "#d8576b"
             ],
             [
              0.6666666666666666,
              "#ed7953"
             ],
             [
              0.7777777777777778,
              "#fb9f3a"
             ],
             [
              0.8888888888888888,
              "#fdca26"
             ],
             [
              1,
              "#f0f921"
             ]
            ],
            "type": "heatmapgl"
           }
          ],
          "histogram": [
           {
            "marker": {
             "pattern": {
              "fillmode": "overlay",
              "size": 10,
              "solidity": 0.2
             }
            },
            "type": "histogram"
           }
          ],
          "histogram2d": [
           {
            "colorbar": {
             "outlinewidth": 0,
             "ticks": ""
            },
            "colorscale": [
             [
              0,
              "#0d0887"
             ],
             [
              0.1111111111111111,
              "#46039f"
             ],
             [
              0.2222222222222222,
              "#7201a8"
             ],
             [
              0.3333333333333333,
              "#9c179e"
             ],
             [
              0.4444444444444444,
              "#bd3786"
             ],
             [
              0.5555555555555556,
              "#d8576b"
             ],
             [
              0.6666666666666666,
              "#ed7953"
             ],
             [
              0.7777777777777778,
              "#fb9f3a"
             ],
             [
              0.8888888888888888,
              "#fdca26"
             ],
             [
              1,
              "#f0f921"
             ]
            ],
            "type": "histogram2d"
           }
          ],
          "histogram2dcontour": [
           {
            "colorbar": {
             "outlinewidth": 0,
             "ticks": ""
            },
            "colorscale": [
             [
              0,
              "#0d0887"
             ],
             [
              0.1111111111111111,
              "#46039f"
             ],
             [
              0.2222222222222222,
              "#7201a8"
             ],
             [
              0.3333333333333333,
              "#9c179e"
             ],
             [
              0.4444444444444444,
              "#bd3786"
             ],
             [
              0.5555555555555556,
              "#d8576b"
             ],
             [
              0.6666666666666666,
              "#ed7953"
             ],
             [
              0.7777777777777778,
              "#fb9f3a"
             ],
             [
              0.8888888888888888,
              "#fdca26"
             ],
             [
              1,
              "#f0f921"
             ]
            ],
            "type": "histogram2dcontour"
           }
          ],
          "mesh3d": [
           {
            "colorbar": {
             "outlinewidth": 0,
             "ticks": ""
            },
            "type": "mesh3d"
           }
          ],
          "parcoords": [
           {
            "line": {
             "colorbar": {
              "outlinewidth": 0,
              "ticks": ""
             }
            },
            "type": "parcoords"
           }
          ],
          "pie": [
           {
            "automargin": true,
            "type": "pie"
           }
          ],
          "scatter": [
           {
            "fillpattern": {
             "fillmode": "overlay",
             "size": 10,
             "solidity": 0.2
            },
            "type": "scatter"
           }
          ],
          "scatter3d": [
           {
            "line": {
             "colorbar": {
              "outlinewidth": 0,
              "ticks": ""
             }
            },
            "marker": {
             "colorbar": {
              "outlinewidth": 0,
              "ticks": ""
             }
            },
            "type": "scatter3d"
           }
          ],
          "scattercarpet": [
           {
            "marker": {
             "colorbar": {
              "outlinewidth": 0,
              "ticks": ""
             }
            },
            "type": "scattercarpet"
           }
          ],
          "scattergeo": [
           {
            "marker": {
             "colorbar": {
              "outlinewidth": 0,
              "ticks": ""
             }
            },
            "type": "scattergeo"
           }
          ],
          "scattergl": [
           {
            "marker": {
             "colorbar": {
              "outlinewidth": 0,
              "ticks": ""
             }
            },
            "type": "scattergl"
           }
          ],
          "scattermapbox": [
           {
            "marker": {
             "colorbar": {
              "outlinewidth": 0,
              "ticks": ""
             }
            },
            "type": "scattermapbox"
           }
          ],
          "scatterpolar": [
           {
            "marker": {
             "colorbar": {
              "outlinewidth": 0,
              "ticks": ""
             }
            },
            "type": "scatterpolar"
           }
          ],
          "scatterpolargl": [
           {
            "marker": {
             "colorbar": {
              "outlinewidth": 0,
              "ticks": ""
             }
            },
            "type": "scatterpolargl"
           }
          ],
          "scatterternary": [
           {
            "marker": {
             "colorbar": {
              "outlinewidth": 0,
              "ticks": ""
             }
            },
            "type": "scatterternary"
           }
          ],
          "surface": [
           {
            "colorbar": {
             "outlinewidth": 0,
             "ticks": ""
            },
            "colorscale": [
             [
              0,
              "#0d0887"
             ],
             [
              0.1111111111111111,
              "#46039f"
             ],
             [
              0.2222222222222222,
              "#7201a8"
             ],
             [
              0.3333333333333333,
              "#9c179e"
             ],
             [
              0.4444444444444444,
              "#bd3786"
             ],
             [
              0.5555555555555556,
              "#d8576b"
             ],
             [
              0.6666666666666666,
              "#ed7953"
             ],
             [
              0.7777777777777778,
              "#fb9f3a"
             ],
             [
              0.8888888888888888,
              "#fdca26"
             ],
             [
              1,
              "#f0f921"
             ]
            ],
            "type": "surface"
           }
          ],
          "table": [
           {
            "cells": {
             "fill": {
              "color": "#EBF0F8"
             },
             "line": {
              "color": "white"
             }
            },
            "header": {
             "fill": {
              "color": "#C8D4E3"
             },
             "line": {
              "color": "white"
             }
            },
            "type": "table"
           }
          ]
         },
         "layout": {
          "annotationdefaults": {
           "arrowcolor": "#2a3f5f",
           "arrowhead": 0,
           "arrowwidth": 1
          },
          "autotypenumbers": "strict",
          "coloraxis": {
           "colorbar": {
            "outlinewidth": 0,
            "ticks": ""
           }
          },
          "colorscale": {
           "diverging": [
            [
             0,
             "#8e0152"
            ],
            [
             0.1,
             "#c51b7d"
            ],
            [
             0.2,
             "#de77ae"
            ],
            [
             0.3,
             "#f1b6da"
            ],
            [
             0.4,
             "#fde0ef"
            ],
            [
             0.5,
             "#f7f7f7"
            ],
            [
             0.6,
             "#e6f5d0"
            ],
            [
             0.7,
             "#b8e186"
            ],
            [
             0.8,
             "#7fbc41"
            ],
            [
             0.9,
             "#4d9221"
            ],
            [
             1,
             "#276419"
            ]
           ],
           "sequential": [
            [
             0,
             "#0d0887"
            ],
            [
             0.1111111111111111,
             "#46039f"
            ],
            [
             0.2222222222222222,
             "#7201a8"
            ],
            [
             0.3333333333333333,
             "#9c179e"
            ],
            [
             0.4444444444444444,
             "#bd3786"
            ],
            [
             0.5555555555555556,
             "#d8576b"
            ],
            [
             0.6666666666666666,
             "#ed7953"
            ],
            [
             0.7777777777777778,
             "#fb9f3a"
            ],
            [
             0.8888888888888888,
             "#fdca26"
            ],
            [
             1,
             "#f0f921"
            ]
           ],
           "sequentialminus": [
            [
             0,
             "#0d0887"
            ],
            [
             0.1111111111111111,
             "#46039f"
            ],
            [
             0.2222222222222222,
             "#7201a8"
            ],
            [
             0.3333333333333333,
             "#9c179e"
            ],
            [
             0.4444444444444444,
             "#bd3786"
            ],
            [
             0.5555555555555556,
             "#d8576b"
            ],
            [
             0.6666666666666666,
             "#ed7953"
            ],
            [
             0.7777777777777778,
             "#fb9f3a"
            ],
            [
             0.8888888888888888,
             "#fdca26"
            ],
            [
             1,
             "#f0f921"
            ]
           ]
          },
          "colorway": [
           "#636efa",
           "#EF553B",
           "#00cc96",
           "#ab63fa",
           "#FFA15A",
           "#19d3f3",
           "#FF6692",
           "#B6E880",
           "#FF97FF",
           "#FECB52"
          ],
          "font": {
           "color": "#2a3f5f"
          },
          "geo": {
           "bgcolor": "white",
           "lakecolor": "white",
           "landcolor": "#E5ECF6",
           "showlakes": true,
           "showland": true,
           "subunitcolor": "white"
          },
          "hoverlabel": {
           "align": "left"
          },
          "hovermode": "closest",
          "mapbox": {
           "style": "light"
          },
          "paper_bgcolor": "white",
          "plot_bgcolor": "#E5ECF6",
          "polar": {
           "angularaxis": {
            "gridcolor": "white",
            "linecolor": "white",
            "ticks": ""
           },
           "bgcolor": "#E5ECF6",
           "radialaxis": {
            "gridcolor": "white",
            "linecolor": "white",
            "ticks": ""
           }
          },
          "scene": {
           "xaxis": {
            "backgroundcolor": "#E5ECF6",
            "gridcolor": "white",
            "gridwidth": 2,
            "linecolor": "white",
            "showbackground": true,
            "ticks": "",
            "zerolinecolor": "white"
           },
           "yaxis": {
            "backgroundcolor": "#E5ECF6",
            "gridcolor": "white",
            "gridwidth": 2,
            "linecolor": "white",
            "showbackground": true,
            "ticks": "",
            "zerolinecolor": "white"
           },
           "zaxis": {
            "backgroundcolor": "#E5ECF6",
            "gridcolor": "white",
            "gridwidth": 2,
            "linecolor": "white",
            "showbackground": true,
            "ticks": "",
            "zerolinecolor": "white"
           }
          },
          "shapedefaults": {
           "line": {
            "color": "#2a3f5f"
           }
          },
          "ternary": {
           "aaxis": {
            "gridcolor": "white",
            "linecolor": "white",
            "ticks": ""
           },
           "baxis": {
            "gridcolor": "white",
            "linecolor": "white",
            "ticks": ""
           },
           "bgcolor": "#E5ECF6",
           "caxis": {
            "gridcolor": "white",
            "linecolor": "white",
            "ticks": ""
           }
          },
          "title": {
           "x": 0.05
          },
          "xaxis": {
           "automargin": true,
           "gridcolor": "white",
           "linecolor": "white",
           "ticks": "",
           "title": {
            "standoff": 15
           },
           "zerolinecolor": "white",
           "zerolinewidth": 2
          },
          "yaxis": {
           "automargin": true,
           "gridcolor": "white",
           "linecolor": "white",
           "ticks": "",
           "title": {
            "standoff": 15
           },
           "zerolinecolor": "white",
           "zerolinewidth": 2
          }
         }
        },
        "title": {
         "text": "QRTEA"
        },
        "width": 1500,
        "xaxis": {
         "anchor": "y",
         "domain": [
          0,
          0.94
         ],
         "rangeslider": {
          "visible": true
         },
         "title": {
          "text": "Date"
         }
        },
        "yaxis": {
         "anchor": "x",
         "domain": [
          0,
          1
         ],
         "title": {
          "text": "Values"
         }
        },
        "yaxis2": {
         "anchor": "x",
         "overlaying": "y",
         "side": "right",
         "title": {
          "text": "Values"
         }
        }
       }
      }
     },
     "metadata": {},
     "output_type": "display_data"
    },
    {
     "data": {
      "application/vnd.plotly.v1+json": {
       "config": {
        "plotlyServerURL": "https://plot.ly"
       },
       "data": [
        {
         "name": "Net Income Com",
         "type": "scatter",
         "x": [
          "2005-12-31",
          "2006-12-31",
          "2007-12-31",
          "2008-12-31",
          "2009-12-31",
          "2010-12-31",
          "2011-12-31",
          "2012-12-31",
          "2013-12-31",
          "2014-12-31",
          "2015-12-31",
          "2016-12-31",
          "2017-12-31",
          "2018-12-31",
          "2019-12-31",
          "2020-12-31",
          "2021-12-31"
         ],
         "y": [
          298000000,
          511000000,
          441000000,
          -781000000,
          258000000,
          871000000,
          912000000,
          466000000,
          438000000,
          520000000,
          640000000,
          473000000,
          1208000000,
          916000000,
          -456000000,
          1204000000,
          340000000
         ]
        },
        {
         "name": "Cash and cash equivalents",
         "type": "scatter",
         "x": [
          "2005-12-31",
          "2006-12-31",
          "2007-12-31",
          "2008-12-31",
          "2009-12-31",
          "2010-12-31",
          "2011-12-31",
          "2012-12-31",
          "2013-12-31",
          "2014-12-31",
          "2015-12-31",
          "2016-12-31",
          "2017-12-31",
          "2018-12-31",
          "2019-12-31",
          "2020-12-31",
          "2021-12-31"
         ],
         "y": [
          945000000,
          946000000,
          557000000,
          832000000,
          884000000,
          1089000000,
          847000000,
          699000000,
          598000000,
          422000000,
          426000000,
          338000000,
          330000000,
          653000000,
          673000000,
          806000000,
          587000000
         ]
        },
        {
         "name": "Short-term investments",
         "type": "scatter",
         "x": [
          "2005-12-31",
          "2006-12-31",
          "2007-12-31",
          "2008-12-31",
          "2009-12-31",
          "2010-12-31",
          "2011-12-31",
          "2012-12-31",
          "2013-12-31",
          "2014-12-31",
          "2015-12-31",
          "2016-12-31",
          "2017-12-31",
          "2018-12-31",
          "2019-12-31",
          "2020-12-31",
          "2021-12-31"
         ],
         "y": [
          0,
          0,
          0,
          0,
          0,
          0,
          0,
          0,
          0,
          21000000,
          12000000,
          0,
          0,
          0,
          0,
          0,
          0
         ]
        },
        {
         "name": "Receivables",
         "type": "scatter",
         "x": [
          "2005-12-31",
          "2006-12-31",
          "2007-12-31",
          "2008-12-31",
          "2009-12-31",
          "2010-12-31",
          "2011-12-31",
          "2012-12-31",
          "2013-12-31",
          "2014-12-31",
          "2015-12-31",
          "2016-12-31",
          "2017-12-31",
          "2018-12-31",
          "2019-12-31",
          "2020-12-31",
          "2021-12-31"
         ],
         "y": [
          837000000,
          977000000,
          1179000000,
          1171000000,
          1250000000,
          885000000,
          1054000000,
          1095000000,
          1150000000,
          1196000000,
          1379000000,
          1270000000,
          1719000000,
          1835000000,
          1854000000,
          1985000000,
          2003000000
         ]
        },
        {
         "name": "Long-term investments",
         "type": "scatter",
         "x": [
          "2005-12-31",
          "2006-12-31",
          "2007-12-31",
          "2008-12-31",
          "2009-12-31",
          "2010-12-31",
          "2011-12-31",
          "2012-12-31",
          "2013-12-31",
          "2014-12-31",
          "2015-12-31",
          "2016-12-31",
          "2017-12-31",
          "2018-12-31",
          "2019-12-31",
          "2020-12-31",
          "2021-12-31"
         ],
         "y": [
          0,
          3930000000,
          3369000000,
          1640000000,
          1629000000,
          950000000,
          2303000000,
          308000000,
          347000000,
          379000000,
          212000000,
          228000000,
          43000000,
          96000000,
          76000000,
          0,
          0
         ]
        },
        {
         "name": "Total current liabilities",
         "type": "scatter",
         "x": [
          "2005-12-31",
          "2006-12-31",
          "2007-12-31",
          "2008-12-31",
          "2009-12-31",
          "2010-12-31",
          "2011-12-31",
          "2012-12-31",
          "2013-12-31",
          "2014-12-31",
          "2015-12-31",
          "2016-12-31",
          "2017-12-31",
          "2018-12-31",
          "2019-12-31",
          "2020-12-31",
          "2021-12-31"
         ],
         "y": [
          2654000000,
          1457000000,
          1505000000,
          1710000000,
          2743000000,
          2343000000,
          3568000000,
          2126000000,
          1916000000,
          1590000000,
          2103000000,
          1760000000,
          2482000000,
          3951000000,
          4001000000,
          4704000000,
          4224000000
         ]
        },
        {
         "name": "Total debt",
         "type": "scatter",
         "x": [
          "2005-12-31",
          "2006-12-31",
          "2007-12-31",
          "2008-12-31",
          "2009-12-31",
          "2010-12-31",
          "2011-12-31",
          "2012-12-31",
          "2013-12-31",
          "2014-12-31",
          "2015-12-31",
          "2016-12-31",
          "2017-12-31",
          "2018-12-31",
          "2019-12-31",
          "2020-12-31",
          "2021-12-31"
         ],
         "y": [
          5327000000,
          6383000000,
          7177000000,
          7131000000,
          6203000000,
          5180000000,
          6039000000,
          4542000000,
          5083000000,
          5860000000,
          6535000000,
          6375000000,
          6703000000,
          7373000000,
          7412000000,
          6936000000,
          6989000000
         ]
        },
        {
         "name": "Total shareholders equity",
         "type": "scatter",
         "x": [
          "2005-12-31",
          "2006-12-31",
          "2007-12-31",
          "2008-12-31",
          "2009-12-31",
          "2010-12-31",
          "2011-12-31",
          "2012-12-31",
          "2013-12-31",
          "2014-12-31",
          "2015-12-31",
          "2016-12-31",
          "2017-12-31",
          "2018-12-31",
          "2019-12-31",
          "2020-12-31",
          "2021-12-31"
         ],
         "y": [
          8231000000,
          8561000000,
          7530000000,
          6303000000,
          6794000000,
          6287000000,
          6493000000,
          7011000000,
          6378000000,
          4280000000,
          5195000000,
          4860000000,
          6819000000,
          5624000000,
          4840000000,
          3598000000,
          2894000000
         ]
        },
        {
         "name": "ROE",
         "type": "scatter",
         "x": [
          "2005-12-31",
          "2006-12-31",
          "2007-12-31",
          "2008-12-31",
          "2009-12-31",
          "2010-12-31",
          "2011-12-31",
          "2012-12-31",
          "2013-12-31",
          "2014-12-31",
          "2015-12-31",
          "2016-12-31",
          "2017-12-31",
          "2018-12-31",
          "2019-12-31",
          "2020-12-31",
          "2021-12-31"
         ],
         "xaxis": "x",
         "y": [
          null,
          0.06086231538828013,
          0.05481324964265739,
          -0.11291838357550785,
          0.03939833549667863,
          0.13317024692301813,
          0.14272300469483568,
          0.06901658767772512,
          0.06542684293076406,
          0.09757928316757365,
          0.13509234828496042,
          0.0940825459970164,
          0.20686702628649714,
          0.14723137507032066,
          -0.0871559633027523,
          0.28537568144109976,
          0.10474430067775724
         ],
         "yaxis": "y2"
        }
       ],
       "layout": {
        "autotypenumbers": "convert types",
        "height": 1200,
        "showlegend": true,
        "template": {
         "data": {
          "bar": [
           {
            "error_x": {
             "color": "#2a3f5f"
            },
            "error_y": {
             "color": "#2a3f5f"
            },
            "marker": {
             "line": {
              "color": "#E5ECF6",
              "width": 0.5
             },
             "pattern": {
              "fillmode": "overlay",
              "size": 10,
              "solidity": 0.2
             }
            },
            "type": "bar"
           }
          ],
          "barpolar": [
           {
            "marker": {
             "line": {
              "color": "#E5ECF6",
              "width": 0.5
             },
             "pattern": {
              "fillmode": "overlay",
              "size": 10,
              "solidity": 0.2
             }
            },
            "type": "barpolar"
           }
          ],
          "carpet": [
           {
            "aaxis": {
             "endlinecolor": "#2a3f5f",
             "gridcolor": "white",
             "linecolor": "white",
             "minorgridcolor": "white",
             "startlinecolor": "#2a3f5f"
            },
            "baxis": {
             "endlinecolor": "#2a3f5f",
             "gridcolor": "white",
             "linecolor": "white",
             "minorgridcolor": "white",
             "startlinecolor": "#2a3f5f"
            },
            "type": "carpet"
           }
          ],
          "choropleth": [
           {
            "colorbar": {
             "outlinewidth": 0,
             "ticks": ""
            },
            "type": "choropleth"
           }
          ],
          "contour": [
           {
            "colorbar": {
             "outlinewidth": 0,
             "ticks": ""
            },
            "colorscale": [
             [
              0,
              "#0d0887"
             ],
             [
              0.1111111111111111,
              "#46039f"
             ],
             [
              0.2222222222222222,
              "#7201a8"
             ],
             [
              0.3333333333333333,
              "#9c179e"
             ],
             [
              0.4444444444444444,
              "#bd3786"
             ],
             [
              0.5555555555555556,
              "#d8576b"
             ],
             [
              0.6666666666666666,
              "#ed7953"
             ],
             [
              0.7777777777777778,
              "#fb9f3a"
             ],
             [
              0.8888888888888888,
              "#fdca26"
             ],
             [
              1,
              "#f0f921"
             ]
            ],
            "type": "contour"
           }
          ],
          "contourcarpet": [
           {
            "colorbar": {
             "outlinewidth": 0,
             "ticks": ""
            },
            "type": "contourcarpet"
           }
          ],
          "heatmap": [
           {
            "colorbar": {
             "outlinewidth": 0,
             "ticks": ""
            },
            "colorscale": [
             [
              0,
              "#0d0887"
             ],
             [
              0.1111111111111111,
              "#46039f"
             ],
             [
              0.2222222222222222,
              "#7201a8"
             ],
             [
              0.3333333333333333,
              "#9c179e"
             ],
             [
              0.4444444444444444,
              "#bd3786"
             ],
             [
              0.5555555555555556,
              "#d8576b"
             ],
             [
              0.6666666666666666,
              "#ed7953"
             ],
             [
              0.7777777777777778,
              "#fb9f3a"
             ],
             [
              0.8888888888888888,
              "#fdca26"
             ],
             [
              1,
              "#f0f921"
             ]
            ],
            "type": "heatmap"
           }
          ],
          "heatmapgl": [
           {
            "colorbar": {
             "outlinewidth": 0,
             "ticks": ""
            },
            "colorscale": [
             [
              0,
              "#0d0887"
             ],
             [
              0.1111111111111111,
              "#46039f"
             ],
             [
              0.2222222222222222,
              "#7201a8"
             ],
             [
              0.3333333333333333,
              "#9c179e"
             ],
             [
              0.4444444444444444,
              "#bd3786"
             ],
             [
              0.5555555555555556,
              "#d8576b"
             ],
             [
              0.6666666666666666,
              "#ed7953"
             ],
             [
              0.7777777777777778,
              "#fb9f3a"
             ],
             [
              0.8888888888888888,
              "#fdca26"
             ],
             [
              1,
              "#f0f921"
             ]
            ],
            "type": "heatmapgl"
           }
          ],
          "histogram": [
           {
            "marker": {
             "pattern": {
              "fillmode": "overlay",
              "size": 10,
              "solidity": 0.2
             }
            },
            "type": "histogram"
           }
          ],
          "histogram2d": [
           {
            "colorbar": {
             "outlinewidth": 0,
             "ticks": ""
            },
            "colorscale": [
             [
              0,
              "#0d0887"
             ],
             [
              0.1111111111111111,
              "#46039f"
             ],
             [
              0.2222222222222222,
              "#7201a8"
             ],
             [
              0.3333333333333333,
              "#9c179e"
             ],
             [
              0.4444444444444444,
              "#bd3786"
             ],
             [
              0.5555555555555556,
              "#d8576b"
             ],
             [
              0.6666666666666666,
              "#ed7953"
             ],
             [
              0.7777777777777778,
              "#fb9f3a"
             ],
             [
              0.8888888888888888,
              "#fdca26"
             ],
             [
              1,
              "#f0f921"
             ]
            ],
            "type": "histogram2d"
           }
          ],
          "histogram2dcontour": [
           {
            "colorbar": {
             "outlinewidth": 0,
             "ticks": ""
            },
            "colorscale": [
             [
              0,
              "#0d0887"
             ],
             [
              0.1111111111111111,
              "#46039f"
             ],
             [
              0.2222222222222222,
              "#7201a8"
             ],
             [
              0.3333333333333333,
              "#9c179e"
             ],
             [
              0.4444444444444444,
              "#bd3786"
             ],
             [
              0.5555555555555556,
              "#d8576b"
             ],
             [
              0.6666666666666666,
              "#ed7953"
             ],
             [
              0.7777777777777778,
              "#fb9f3a"
             ],
             [
              0.8888888888888888,
              "#fdca26"
             ],
             [
              1,
              "#f0f921"
             ]
            ],
            "type": "histogram2dcontour"
           }
          ],
          "mesh3d": [
           {
            "colorbar": {
             "outlinewidth": 0,
             "ticks": ""
            },
            "type": "mesh3d"
           }
          ],
          "parcoords": [
           {
            "line": {
             "colorbar": {
              "outlinewidth": 0,
              "ticks": ""
             }
            },
            "type": "parcoords"
           }
          ],
          "pie": [
           {
            "automargin": true,
            "type": "pie"
           }
          ],
          "scatter": [
           {
            "fillpattern": {
             "fillmode": "overlay",
             "size": 10,
             "solidity": 0.2
            },
            "type": "scatter"
           }
          ],
          "scatter3d": [
           {
            "line": {
             "colorbar": {
              "outlinewidth": 0,
              "ticks": ""
             }
            },
            "marker": {
             "colorbar": {
              "outlinewidth": 0,
              "ticks": ""
             }
            },
            "type": "scatter3d"
           }
          ],
          "scattercarpet": [
           {
            "marker": {
             "colorbar": {
              "outlinewidth": 0,
              "ticks": ""
             }
            },
            "type": "scattercarpet"
           }
          ],
          "scattergeo": [
           {
            "marker": {
             "colorbar": {
              "outlinewidth": 0,
              "ticks": ""
             }
            },
            "type": "scattergeo"
           }
          ],
          "scattergl": [
           {
            "marker": {
             "colorbar": {
              "outlinewidth": 0,
              "ticks": ""
             }
            },
            "type": "scattergl"
           }
          ],
          "scattermapbox": [
           {
            "marker": {
             "colorbar": {
              "outlinewidth": 0,
              "ticks": ""
             }
            },
            "type": "scattermapbox"
           }
          ],
          "scatterpolar": [
           {
            "marker": {
             "colorbar": {
              "outlinewidth": 0,
              "ticks": ""
             }
            },
            "type": "scatterpolar"
           }
          ],
          "scatterpolargl": [
           {
            "marker": {
             "colorbar": {
              "outlinewidth": 0,
              "ticks": ""
             }
            },
            "type": "scatterpolargl"
           }
          ],
          "scatterternary": [
           {
            "marker": {
             "colorbar": {
              "outlinewidth": 0,
              "ticks": ""
             }
            },
            "type": "scatterternary"
           }
          ],
          "surface": [
           {
            "colorbar": {
             "outlinewidth": 0,
             "ticks": ""
            },
            "colorscale": [
             [
              0,
              "#0d0887"
             ],
             [
              0.1111111111111111,
              "#46039f"
             ],
             [
              0.2222222222222222,
              "#7201a8"
             ],
             [
              0.3333333333333333,
              "#9c179e"
             ],
             [
              0.4444444444444444,
              "#bd3786"
             ],
             [
              0.5555555555555556,
              "#d8576b"
             ],
             [
              0.6666666666666666,
              "#ed7953"
             ],
             [
              0.7777777777777778,
              "#fb9f3a"
             ],
             [
              0.8888888888888888,
              "#fdca26"
             ],
             [
              1,
              "#f0f921"
             ]
            ],
            "type": "surface"
           }
          ],
          "table": [
           {
            "cells": {
             "fill": {
              "color": "#EBF0F8"
             },
             "line": {
              "color": "white"
             }
            },
            "header": {
             "fill": {
              "color": "#C8D4E3"
             },
             "line": {
              "color": "white"
             }
            },
            "type": "table"
           }
          ]
         },
         "layout": {
          "annotationdefaults": {
           "arrowcolor": "#2a3f5f",
           "arrowhead": 0,
           "arrowwidth": 1
          },
          "autotypenumbers": "strict",
          "coloraxis": {
           "colorbar": {
            "outlinewidth": 0,
            "ticks": ""
           }
          },
          "colorscale": {
           "diverging": [
            [
             0,
             "#8e0152"
            ],
            [
             0.1,
             "#c51b7d"
            ],
            [
             0.2,
             "#de77ae"
            ],
            [
             0.3,
             "#f1b6da"
            ],
            [
             0.4,
             "#fde0ef"
            ],
            [
             0.5,
             "#f7f7f7"
            ],
            [
             0.6,
             "#e6f5d0"
            ],
            [
             0.7,
             "#b8e186"
            ],
            [
             0.8,
             "#7fbc41"
            ],
            [
             0.9,
             "#4d9221"
            ],
            [
             1,
             "#276419"
            ]
           ],
           "sequential": [
            [
             0,
             "#0d0887"
            ],
            [
             0.1111111111111111,
             "#46039f"
            ],
            [
             0.2222222222222222,
             "#7201a8"
            ],
            [
             0.3333333333333333,
             "#9c179e"
            ],
            [
             0.4444444444444444,
             "#bd3786"
            ],
            [
             0.5555555555555556,
             "#d8576b"
            ],
            [
             0.6666666666666666,
             "#ed7953"
            ],
            [
             0.7777777777777778,
             "#fb9f3a"
            ],
            [
             0.8888888888888888,
             "#fdca26"
            ],
            [
             1,
             "#f0f921"
            ]
           ],
           "sequentialminus": [
            [
             0,
             "#0d0887"
            ],
            [
             0.1111111111111111,
             "#46039f"
            ],
            [
             0.2222222222222222,
             "#7201a8"
            ],
            [
             0.3333333333333333,
             "#9c179e"
            ],
            [
             0.4444444444444444,
             "#bd3786"
            ],
            [
             0.5555555555555556,
             "#d8576b"
            ],
            [
             0.6666666666666666,
             "#ed7953"
            ],
            [
             0.7777777777777778,
             "#fb9f3a"
            ],
            [
             0.8888888888888888,
             "#fdca26"
            ],
            [
             1,
             "#f0f921"
            ]
           ]
          },
          "colorway": [
           "#636efa",
           "#EF553B",
           "#00cc96",
           "#ab63fa",
           "#FFA15A",
           "#19d3f3",
           "#FF6692",
           "#B6E880",
           "#FF97FF",
           "#FECB52"
          ],
          "font": {
           "color": "#2a3f5f"
          },
          "geo": {
           "bgcolor": "white",
           "lakecolor": "white",
           "landcolor": "#E5ECF6",
           "showlakes": true,
           "showland": true,
           "subunitcolor": "white"
          },
          "hoverlabel": {
           "align": "left"
          },
          "hovermode": "closest",
          "mapbox": {
           "style": "light"
          },
          "paper_bgcolor": "white",
          "plot_bgcolor": "#E5ECF6",
          "polar": {
           "angularaxis": {
            "gridcolor": "white",
            "linecolor": "white",
            "ticks": ""
           },
           "bgcolor": "#E5ECF6",
           "radialaxis": {
            "gridcolor": "white",
            "linecolor": "white",
            "ticks": ""
           }
          },
          "scene": {
           "xaxis": {
            "backgroundcolor": "#E5ECF6",
            "gridcolor": "white",
            "gridwidth": 2,
            "linecolor": "white",
            "showbackground": true,
            "ticks": "",
            "zerolinecolor": "white"
           },
           "yaxis": {
            "backgroundcolor": "#E5ECF6",
            "gridcolor": "white",
            "gridwidth": 2,
            "linecolor": "white",
            "showbackground": true,
            "ticks": "",
            "zerolinecolor": "white"
           },
           "zaxis": {
            "backgroundcolor": "#E5ECF6",
            "gridcolor": "white",
            "gridwidth": 2,
            "linecolor": "white",
            "showbackground": true,
            "ticks": "",
            "zerolinecolor": "white"
           }
          },
          "shapedefaults": {
           "line": {
            "color": "#2a3f5f"
           }
          },
          "ternary": {
           "aaxis": {
            "gridcolor": "white",
            "linecolor": "white",
            "ticks": ""
           },
           "baxis": {
            "gridcolor": "white",
            "linecolor": "white",
            "ticks": ""
           },
           "bgcolor": "#E5ECF6",
           "caxis": {
            "gridcolor": "white",
            "linecolor": "white",
            "ticks": ""
           }
          },
          "title": {
           "x": 0.05
          },
          "xaxis": {
           "automargin": true,
           "gridcolor": "white",
           "linecolor": "white",
           "ticks": "",
           "title": {
            "standoff": 15
           },
           "zerolinecolor": "white",
           "zerolinewidth": 2
          },
          "yaxis": {
           "automargin": true,
           "gridcolor": "white",
           "linecolor": "white",
           "ticks": "",
           "title": {
            "standoff": 15
           },
           "zerolinecolor": "white",
           "zerolinewidth": 2
          }
         }
        },
        "title": {
         "text": "QRTEA"
        },
        "width": 1500,
        "xaxis": {
         "anchor": "y",
         "domain": [
          0,
          0.94
         ],
         "rangeslider": {
          "visible": true
         },
         "title": {
          "text": "Date"
         }
        },
        "yaxis": {
         "anchor": "x",
         "domain": [
          0,
          1
         ],
         "title": {
          "text": "Values"
         }
        },
        "yaxis2": {
         "anchor": "x",
         "overlaying": "y",
         "side": "right",
         "title": {
          "text": "Values"
         }
        }
       }
      }
     },
     "metadata": {},
     "output_type": "display_data"
    },
    {
     "name": "stderr",
     "output_type": "stream",
     "text": [
      "INFO:modelling_prep:Creating financials dataframe for AAPL...\n"
     ]
    },
    {
     "name": "stdout",
     "output_type": "stream",
     "text": [
      "JSON data saved to file: data\\income_statement_AAPL.json\n",
      "JSON data saved to file: data\\balance_statement_AAPL.json\n"
     ]
    },
    {
     "data": {
      "application/vnd.plotly.v1+json": {
       "config": {
        "plotlyServerURL": "https://plot.ly"
       },
       "data": [
        {
         "name": "Net Income Com",
         "type": "scatter",
         "x": [
          "1985-09-30",
          "1986-09-30",
          "1987-09-30",
          "1988-09-30",
          "1989-09-30",
          "1990-09-30",
          "1991-09-30",
          "1992-09-30",
          "1993-09-30",
          "1994-09-30",
          "1995-09-29",
          "1996-09-27",
          "1997-09-26",
          "1998-09-25",
          "1999-09-25",
          "2000-09-30",
          "2001-09-29",
          "2002-09-28",
          "2003-09-27",
          "2004-09-25",
          "2005-09-24",
          "2006-09-30",
          "2007-09-29",
          "2008-09-27",
          "2009-09-26",
          "2010-09-25",
          "2011-09-24",
          "2012-09-29",
          "2013-09-28",
          "2014-09-27",
          "2015-09-26",
          "2016-09-24",
          "2017-09-30",
          "2018-09-29",
          "2019-09-28",
          "2020-09-26",
          "2021-09-25"
         ],
         "y": [
          61200000,
          154000000,
          217500000,
          400300000,
          454000000,
          474900000,
          309800000,
          530400000,
          86600000,
          310178000,
          424000000,
          -816000000,
          -1045000000,
          309000000,
          601000000,
          786000000,
          -25000000,
          65000000,
          69000000,
          276000000,
          1335000000,
          1989000000,
          3496000000,
          4834000000,
          5704000000,
          14013000000,
          25922000000,
          41733000000,
          37037000000,
          39510000000,
          53394000000,
          45687000000,
          48351000000,
          59531000000,
          55256000000,
          57411000000,
          94680000000
         ]
        },
        {
         "name": "Cash and cash equivalents",
         "type": "scatter",
         "x": [
          "1985-09-30",
          "1986-09-30",
          "1987-09-30",
          "1988-09-30",
          "1989-09-30",
          "1990-09-30",
          "1991-09-30",
          "1992-09-30",
          "1993-09-30",
          "1994-09-30",
          "1995-09-29",
          "1996-09-27",
          "1997-09-26",
          "1998-09-25",
          "1999-09-25",
          "2000-09-30",
          "2001-09-29",
          "2002-09-28",
          "2003-09-27",
          "2004-09-25",
          "2005-09-24",
          "2006-09-30",
          "2007-09-29",
          "2008-09-27",
          "2009-09-26",
          "2010-09-25",
          "2011-09-24",
          "2012-09-29",
          "2013-09-28",
          "2014-09-27",
          "2015-09-26",
          "2016-09-24",
          "2017-09-30",
          "2018-09-29",
          "2019-09-28",
          "2020-09-26",
          "2021-09-25"
         ],
         "y": [
          337000000,
          576200000,
          565100000,
          545700000,
          438300000,
          374700000,
          604100000,
          498600000,
          676400000,
          1203488000,
          756000000,
          1552000000,
          1230000000,
          1481000000,
          1326000000,
          1191000000,
          2310000000,
          2252000000,
          3396000000,
          2969000000,
          3491000000,
          6392000000,
          9352000000,
          11875000000,
          5263000000,
          11261000000,
          9815000000,
          10746000000,
          14259000000,
          13844000000,
          21120000000,
          20484000000,
          20289000000,
          25913000000,
          48844000000,
          38016000000,
          34940000000
         ]
        },
        {
         "name": "Short-term investments",
         "type": "scatter",
         "x": [
          "1985-09-30",
          "1986-09-30",
          "1987-09-30",
          "1988-09-30",
          "1989-09-30",
          "1990-09-30",
          "1991-09-30",
          "1992-09-30",
          "1993-09-30",
          "1994-09-30",
          "1995-09-29",
          "1996-09-27",
          "1997-09-26",
          "1998-09-25",
          "1999-09-25",
          "2000-09-30",
          "2001-09-29",
          "2002-09-28",
          "2003-09-27",
          "2004-09-25",
          "2005-09-24",
          "2006-09-30",
          "2007-09-29",
          "2008-09-27",
          "2009-09-26",
          "2010-09-25",
          "2011-09-24",
          "2012-09-29",
          "2013-09-28",
          "2014-09-27",
          "2015-09-26",
          "2016-09-24",
          "2017-09-30",
          "2018-09-29",
          "2019-09-28",
          "2020-09-26",
          "2021-09-25"
         ],
         "y": [
          0,
          0,
          0,
          0,
          0,
          0,
          0,
          0,
          0,
          54368000,
          196000000,
          193000000,
          229000000,
          819000000,
          1900000000,
          2836000000,
          2026000000,
          2085000000,
          1170000000,
          2495000000,
          4770000000,
          3718000000,
          6034000000,
          12615000000,
          18201000000,
          14359000000,
          16137000000,
          18383000000,
          26287000000,
          11233000000,
          20481000000,
          46671000000,
          53892000000,
          40388000000,
          51713000000,
          52927000000,
          27699000000
         ]
        },
        {
         "name": "Receivables",
         "type": "scatter",
         "x": [
          "1985-09-30",
          "1986-09-30",
          "1987-09-30",
          "1988-09-30",
          "1989-09-30",
          "1990-09-30",
          "1991-09-30",
          "1992-09-30",
          "1993-09-30",
          "1994-09-30",
          "1995-09-29",
          "1996-09-27",
          "1997-09-26",
          "1998-09-25",
          "1999-09-25",
          "2000-09-30",
          "2001-09-29",
          "2002-09-28",
          "2003-09-27",
          "2004-09-25",
          "2005-09-24",
          "2006-09-30",
          "2007-09-29",
          "2008-09-27",
          "2009-09-26",
          "2010-09-25",
          "2011-09-24",
          "2012-09-29",
          "2013-09-28",
          "2014-09-27",
          "2015-09-26",
          "2016-09-24",
          "2017-09-30",
          "2018-09-29",
          "2019-09-28",
          "2020-09-26",
          "2021-09-25"
         ],
         "y": [
          220200000,
          263100000,
          405600000,
          638800000,
          792800000,
          761900000,
          907200000,
          1087200000,
          1381900000,
          1581347000,
          1931000000,
          1496000000,
          1035000000,
          955000000,
          681000000,
          953000000,
          466000000,
          565000000,
          950000000,
          1050000000,
          1312000000,
          2845000000,
          4029000000,
          4704000000,
          5057000000,
          9924000000,
          11717000000,
          18692000000,
          20641000000,
          27219000000,
          30343000000,
          29299000000,
          35673000000,
          48995000000,
          45804000000,
          37445000000,
          51506000000
         ]
        },
        {
         "name": "Long-term investments",
         "type": "scatter",
         "x": [
          "1985-09-30",
          "1986-09-30",
          "1987-09-30",
          "1988-09-30",
          "1989-09-30",
          "1990-09-30",
          "1991-09-30",
          "1992-09-30",
          "1993-09-30",
          "1994-09-30",
          "1995-09-29",
          "1996-09-27",
          "1997-09-26",
          "1998-09-25",
          "1999-09-25",
          "2000-09-30",
          "2001-09-29",
          "2002-09-28",
          "2003-09-27",
          "2004-09-25",
          "2005-09-24",
          "2006-09-30",
          "2007-09-29",
          "2008-09-27",
          "2009-09-26",
          "2010-09-25",
          "2011-09-24",
          "2012-09-29",
          "2013-09-28",
          "2014-09-27",
          "2015-09-26",
          "2016-09-24",
          "2017-09-30",
          "2018-09-29",
          "2019-09-28",
          "2020-09-26",
          "2021-09-25"
         ],
         "y": [
          0,
          0,
          0,
          0,
          0,
          0,
          0,
          0,
          0,
          0,
          0,
          0,
          0,
          0,
          339000000,
          0,
          128000000,
          39000000,
          5000000,
          0,
          0,
          0,
          0,
          0,
          10528000000,
          25391000000,
          55618000000,
          92122000000,
          106215000000,
          130162000000,
          164065000000,
          170430000000,
          194714000000,
          170799000000,
          105341000000,
          100887000000,
          127877000000
         ]
        },
        {
         "name": "Total current liabilities",
         "type": "scatter",
         "x": [
          "1985-09-30",
          "1986-09-30",
          "1987-09-30",
          "1988-09-30",
          "1989-09-30",
          "1990-09-30",
          "1991-09-30",
          "1992-09-30",
          "1993-09-30",
          "1994-09-30",
          "1995-09-29",
          "1996-09-27",
          "1997-09-26",
          "1998-09-25",
          "1999-09-25",
          "2000-09-30",
          "2001-09-29",
          "2002-09-28",
          "2003-09-27",
          "2004-09-25",
          "2005-09-24",
          "2006-09-30",
          "2007-09-29",
          "2008-09-27",
          "2009-09-26",
          "2010-09-25",
          "2011-09-24",
          "2012-09-29",
          "2013-09-28",
          "2014-09-27",
          "2015-09-26",
          "2016-09-24",
          "2017-09-30",
          "2018-09-29",
          "2019-09-28",
          "2020-09-26",
          "2021-09-25"
         ],
         "y": [
          295400000,
          328500000,
          478700000,
          827100000,
          895300000,
          1027000000,
          1217100000,
          1425500000,
          2515200000,
          1944305000,
          2325000000,
          2003000000,
          1818000000,
          1520000000,
          1549000000,
          1933000000,
          1518000000,
          1658000000,
          2357000000,
          2680000000,
          3484000000,
          6471000000,
          9299000000,
          14092000000,
          19282000000,
          20722000000,
          27970000000,
          38542000000,
          43658000000,
          63448000000,
          80610000000,
          79006000000,
          100814000000,
          116866000000,
          105718000000,
          105392000000,
          125481000000
         ]
        },
        {
         "name": "Total debt",
         "type": "scatter",
         "x": [
          "1985-09-30",
          "1986-09-30",
          "1987-09-30",
          "1988-09-30",
          "1989-09-30",
          "1990-09-30",
          "1991-09-30",
          "1992-09-30",
          "1993-09-30",
          "1994-09-30",
          "1995-09-29",
          "1996-09-27",
          "1997-09-26",
          "1998-09-25",
          "1999-09-25",
          "2000-09-30",
          "2001-09-29",
          "2002-09-28",
          "2003-09-27",
          "2004-09-25",
          "2005-09-24",
          "2006-09-30",
          "2007-09-29",
          "2008-09-27",
          "2009-09-26",
          "2010-09-25",
          "2011-09-24",
          "2012-09-29",
          "2013-09-28",
          "2014-09-27",
          "2015-09-26",
          "2016-09-24",
          "2017-09-30",
          "2018-09-29",
          "2019-09-28",
          "2020-09-26",
          "2021-09-25"
         ],
         "y": [
          0,
          0,
          0,
          315000000,
          56800000,
          122600000,
          148600000,
          184500000,
          823200000,
          596200000,
          764000000,
          1135000000,
          976000000,
          954000000,
          300000000,
          300000000,
          317000000,
          316000000,
          304000000,
          0,
          0,
          0,
          0,
          0,
          0,
          0,
          0,
          0,
          16960000000,
          35295000000,
          64462000000,
          87032000000,
          115680000000,
          114483000000,
          108047000000,
          112436000000,
          124719000000
         ]
        },
        {
         "name": "Total shareholders equity",
         "type": "scatter",
         "x": [
          "1985-09-30",
          "1986-09-30",
          "1987-09-30",
          "1988-09-30",
          "1989-09-30",
          "1990-09-30",
          "1991-09-30",
          "1992-09-30",
          "1993-09-30",
          "1994-09-30",
          "1995-09-29",
          "1996-09-27",
          "1997-09-26",
          "1998-09-25",
          "1999-09-25",
          "2000-09-30",
          "2001-09-29",
          "2002-09-28",
          "2003-09-27",
          "2004-09-25",
          "2005-09-24",
          "2006-09-30",
          "2007-09-29",
          "2008-09-27",
          "2009-09-26",
          "2010-09-25",
          "2011-09-24",
          "2012-09-29",
          "2013-09-28",
          "2014-09-27",
          "2015-09-26",
          "2016-09-24",
          "2017-09-30",
          "2018-09-29",
          "2019-09-28",
          "2020-09-26",
          "2021-09-25"
         ],
         "y": [
          550500000,
          694100000,
          836500000,
          1003400000,
          1485700000,
          1446800000,
          1766700000,
          2187400000,
          2026400000,
          2383301000,
          2901000000,
          2058000000,
          1200000000,
          1642000000,
          3104000000,
          4107000000,
          3920000000,
          4095000000,
          4223000000,
          5076000000,
          7466000000,
          9984000000,
          14532000000,
          21030000000,
          27832000000,
          47791000000,
          76615000000,
          118210000000,
          123549000000,
          111547000000,
          119355000000,
          128249000000,
          134047000000,
          107147000000,
          90488000000,
          65339000000,
          63090000000
         ]
        },
        {
         "name": "ROE",
         "type": "scatter",
         "x": [
          "1985-09-30",
          "1986-09-30",
          "1987-09-30",
          "1988-09-30",
          "1989-09-30",
          "1990-09-30",
          "1991-09-30",
          "1992-09-30",
          "1993-09-30",
          "1994-09-30",
          "1995-09-29",
          "1996-09-27",
          "1997-09-26",
          "1998-09-25",
          "1999-09-25",
          "2000-09-30",
          "2001-09-29",
          "2002-09-28",
          "2003-09-27",
          "2004-09-25",
          "2005-09-24",
          "2006-09-30",
          "2007-09-29",
          "2008-09-27",
          "2009-09-26",
          "2010-09-25",
          "2011-09-24",
          "2012-09-29",
          "2013-09-28",
          "2014-09-27",
          "2015-09-26",
          "2016-09-24",
          "2017-09-30",
          "2018-09-29",
          "2019-09-28",
          "2020-09-26",
          "2021-09-25"
         ],
         "xaxis": "x",
         "y": [
          null,
          0.24746906636670415,
          0.28420227361818895,
          0.43513234414913854,
          0.3647904865212326,
          0.3238874680306905,
          0.19281157616306208,
          0.26827849573860046,
          0.04110304238454601,
          0.14067983294105427,
          0.1604753400686297,
          -0.3290986085904416,
          -0.6414978514426029,
          0.21745249824067558,
          0.2532659081331648,
          0.21800027735404243,
          -0.006228977201943441,
          0.016219588271990017,
          0.01659052656888675,
          0.059361221636735136,
          0.21288470738319248,
          0.22796561604584528,
          0.2852015010605319,
          0.27186322479050673,
          0.23347386517129876,
          0.3706015365695622,
          0.41673231194636917,
          0.42841524445014756,
          0.30639603903060486,
          0.3361180113655698,
          0.4624819187360872,
          0.3690328104554046,
          0.3686750846372038,
          0.4936358284202758,
          0.5591722113998027,
          0.7368556155223421,
          1.4744333444938449
         ],
         "yaxis": "y2"
        }
       ],
       "layout": {
        "autotypenumbers": "convert types",
        "height": 1200,
        "showlegend": true,
        "template": {
         "data": {
          "bar": [
           {
            "error_x": {
             "color": "#2a3f5f"
            },
            "error_y": {
             "color": "#2a3f5f"
            },
            "marker": {
             "line": {
              "color": "#E5ECF6",
              "width": 0.5
             },
             "pattern": {
              "fillmode": "overlay",
              "size": 10,
              "solidity": 0.2
             }
            },
            "type": "bar"
           }
          ],
          "barpolar": [
           {
            "marker": {
             "line": {
              "color": "#E5ECF6",
              "width": 0.5
             },
             "pattern": {
              "fillmode": "overlay",
              "size": 10,
              "solidity": 0.2
             }
            },
            "type": "barpolar"
           }
          ],
          "carpet": [
           {
            "aaxis": {
             "endlinecolor": "#2a3f5f",
             "gridcolor": "white",
             "linecolor": "white",
             "minorgridcolor": "white",
             "startlinecolor": "#2a3f5f"
            },
            "baxis": {
             "endlinecolor": "#2a3f5f",
             "gridcolor": "white",
             "linecolor": "white",
             "minorgridcolor": "white",
             "startlinecolor": "#2a3f5f"
            },
            "type": "carpet"
           }
          ],
          "choropleth": [
           {
            "colorbar": {
             "outlinewidth": 0,
             "ticks": ""
            },
            "type": "choropleth"
           }
          ],
          "contour": [
           {
            "colorbar": {
             "outlinewidth": 0,
             "ticks": ""
            },
            "colorscale": [
             [
              0,
              "#0d0887"
             ],
             [
              0.1111111111111111,
              "#46039f"
             ],
             [
              0.2222222222222222,
              "#7201a8"
             ],
             [
              0.3333333333333333,
              "#9c179e"
             ],
             [
              0.4444444444444444,
              "#bd3786"
             ],
             [
              0.5555555555555556,
              "#d8576b"
             ],
             [
              0.6666666666666666,
              "#ed7953"
             ],
             [
              0.7777777777777778,
              "#fb9f3a"
             ],
             [
              0.8888888888888888,
              "#fdca26"
             ],
             [
              1,
              "#f0f921"
             ]
            ],
            "type": "contour"
           }
          ],
          "contourcarpet": [
           {
            "colorbar": {
             "outlinewidth": 0,
             "ticks": ""
            },
            "type": "contourcarpet"
           }
          ],
          "heatmap": [
           {
            "colorbar": {
             "outlinewidth": 0,
             "ticks": ""
            },
            "colorscale": [
             [
              0,
              "#0d0887"
             ],
             [
              0.1111111111111111,
              "#46039f"
             ],
             [
              0.2222222222222222,
              "#7201a8"
             ],
             [
              0.3333333333333333,
              "#9c179e"
             ],
             [
              0.4444444444444444,
              "#bd3786"
             ],
             [
              0.5555555555555556,
              "#d8576b"
             ],
             [
              0.6666666666666666,
              "#ed7953"
             ],
             [
              0.7777777777777778,
              "#fb9f3a"
             ],
             [
              0.8888888888888888,
              "#fdca26"
             ],
             [
              1,
              "#f0f921"
             ]
            ],
            "type": "heatmap"
           }
          ],
          "heatmapgl": [
           {
            "colorbar": {
             "outlinewidth": 0,
             "ticks": ""
            },
            "colorscale": [
             [
              0,
              "#0d0887"
             ],
             [
              0.1111111111111111,
              "#46039f"
             ],
             [
              0.2222222222222222,
              "#7201a8"
             ],
             [
              0.3333333333333333,
              "#9c179e"
             ],
             [
              0.4444444444444444,
              "#bd3786"
             ],
             [
              0.5555555555555556,
              "#d8576b"
             ],
             [
              0.6666666666666666,
              "#ed7953"
             ],
             [
              0.7777777777777778,
              "#fb9f3a"
             ],
             [
              0.8888888888888888,
              "#fdca26"
             ],
             [
              1,
              "#f0f921"
             ]
            ],
            "type": "heatmapgl"
           }
          ],
          "histogram": [
           {
            "marker": {
             "pattern": {
              "fillmode": "overlay",
              "size": 10,
              "solidity": 0.2
             }
            },
            "type": "histogram"
           }
          ],
          "histogram2d": [
           {
            "colorbar": {
             "outlinewidth": 0,
             "ticks": ""
            },
            "colorscale": [
             [
              0,
              "#0d0887"
             ],
             [
              0.1111111111111111,
              "#46039f"
             ],
             [
              0.2222222222222222,
              "#7201a8"
             ],
             [
              0.3333333333333333,
              "#9c179e"
             ],
             [
              0.4444444444444444,
              "#bd3786"
             ],
             [
              0.5555555555555556,
              "#d8576b"
             ],
             [
              0.6666666666666666,
              "#ed7953"
             ],
             [
              0.7777777777777778,
              "#fb9f3a"
             ],
             [
              0.8888888888888888,
              "#fdca26"
             ],
             [
              1,
              "#f0f921"
             ]
            ],
            "type": "histogram2d"
           }
          ],
          "histogram2dcontour": [
           {
            "colorbar": {
             "outlinewidth": 0,
             "ticks": ""
            },
            "colorscale": [
             [
              0,
              "#0d0887"
             ],
             [
              0.1111111111111111,
              "#46039f"
             ],
             [
              0.2222222222222222,
              "#7201a8"
             ],
             [
              0.3333333333333333,
              "#9c179e"
             ],
             [
              0.4444444444444444,
              "#bd3786"
             ],
             [
              0.5555555555555556,
              "#d8576b"
             ],
             [
              0.6666666666666666,
              "#ed7953"
             ],
             [
              0.7777777777777778,
              "#fb9f3a"
             ],
             [
              0.8888888888888888,
              "#fdca26"
             ],
             [
              1,
              "#f0f921"
             ]
            ],
            "type": "histogram2dcontour"
           }
          ],
          "mesh3d": [
           {
            "colorbar": {
             "outlinewidth": 0,
             "ticks": ""
            },
            "type": "mesh3d"
           }
          ],
          "parcoords": [
           {
            "line": {
             "colorbar": {
              "outlinewidth": 0,
              "ticks": ""
             }
            },
            "type": "parcoords"
           }
          ],
          "pie": [
           {
            "automargin": true,
            "type": "pie"
           }
          ],
          "scatter": [
           {
            "fillpattern": {
             "fillmode": "overlay",
             "size": 10,
             "solidity": 0.2
            },
            "type": "scatter"
           }
          ],
          "scatter3d": [
           {
            "line": {
             "colorbar": {
              "outlinewidth": 0,
              "ticks": ""
             }
            },
            "marker": {
             "colorbar": {
              "outlinewidth": 0,
              "ticks": ""
             }
            },
            "type": "scatter3d"
           }
          ],
          "scattercarpet": [
           {
            "marker": {
             "colorbar": {
              "outlinewidth": 0,
              "ticks": ""
             }
            },
            "type": "scattercarpet"
           }
          ],
          "scattergeo": [
           {
            "marker": {
             "colorbar": {
              "outlinewidth": 0,
              "ticks": ""
             }
            },
            "type": "scattergeo"
           }
          ],
          "scattergl": [
           {
            "marker": {
             "colorbar": {
              "outlinewidth": 0,
              "ticks": ""
             }
            },
            "type": "scattergl"
           }
          ],
          "scattermapbox": [
           {
            "marker": {
             "colorbar": {
              "outlinewidth": 0,
              "ticks": ""
             }
            },
            "type": "scattermapbox"
           }
          ],
          "scatterpolar": [
           {
            "marker": {
             "colorbar": {
              "outlinewidth": 0,
              "ticks": ""
             }
            },
            "type": "scatterpolar"
           }
          ],
          "scatterpolargl": [
           {
            "marker": {
             "colorbar": {
              "outlinewidth": 0,
              "ticks": ""
             }
            },
            "type": "scatterpolargl"
           }
          ],
          "scatterternary": [
           {
            "marker": {
             "colorbar": {
              "outlinewidth": 0,
              "ticks": ""
             }
            },
            "type": "scatterternary"
           }
          ],
          "surface": [
           {
            "colorbar": {
             "outlinewidth": 0,
             "ticks": ""
            },
            "colorscale": [
             [
              0,
              "#0d0887"
             ],
             [
              0.1111111111111111,
              "#46039f"
             ],
             [
              0.2222222222222222,
              "#7201a8"
             ],
             [
              0.3333333333333333,
              "#9c179e"
             ],
             [
              0.4444444444444444,
              "#bd3786"
             ],
             [
              0.5555555555555556,
              "#d8576b"
             ],
             [
              0.6666666666666666,
              "#ed7953"
             ],
             [
              0.7777777777777778,
              "#fb9f3a"
             ],
             [
              0.8888888888888888,
              "#fdca26"
             ],
             [
              1,
              "#f0f921"
             ]
            ],
            "type": "surface"
           }
          ],
          "table": [
           {
            "cells": {
             "fill": {
              "color": "#EBF0F8"
             },
             "line": {
              "color": "white"
             }
            },
            "header": {
             "fill": {
              "color": "#C8D4E3"
             },
             "line": {
              "color": "white"
             }
            },
            "type": "table"
           }
          ]
         },
         "layout": {
          "annotationdefaults": {
           "arrowcolor": "#2a3f5f",
           "arrowhead": 0,
           "arrowwidth": 1
          },
          "autotypenumbers": "strict",
          "coloraxis": {
           "colorbar": {
            "outlinewidth": 0,
            "ticks": ""
           }
          },
          "colorscale": {
           "diverging": [
            [
             0,
             "#8e0152"
            ],
            [
             0.1,
             "#c51b7d"
            ],
            [
             0.2,
             "#de77ae"
            ],
            [
             0.3,
             "#f1b6da"
            ],
            [
             0.4,
             "#fde0ef"
            ],
            [
             0.5,
             "#f7f7f7"
            ],
            [
             0.6,
             "#e6f5d0"
            ],
            [
             0.7,
             "#b8e186"
            ],
            [
             0.8,
             "#7fbc41"
            ],
            [
             0.9,
             "#4d9221"
            ],
            [
             1,
             "#276419"
            ]
           ],
           "sequential": [
            [
             0,
             "#0d0887"
            ],
            [
             0.1111111111111111,
             "#46039f"
            ],
            [
             0.2222222222222222,
             "#7201a8"
            ],
            [
             0.3333333333333333,
             "#9c179e"
            ],
            [
             0.4444444444444444,
             "#bd3786"
            ],
            [
             0.5555555555555556,
             "#d8576b"
            ],
            [
             0.6666666666666666,
             "#ed7953"
            ],
            [
             0.7777777777777778,
             "#fb9f3a"
            ],
            [
             0.8888888888888888,
             "#fdca26"
            ],
            [
             1,
             "#f0f921"
            ]
           ],
           "sequentialminus": [
            [
             0,
             "#0d0887"
            ],
            [
             0.1111111111111111,
             "#46039f"
            ],
            [
             0.2222222222222222,
             "#7201a8"
            ],
            [
             0.3333333333333333,
             "#9c179e"
            ],
            [
             0.4444444444444444,
             "#bd3786"
            ],
            [
             0.5555555555555556,
             "#d8576b"
            ],
            [
             0.6666666666666666,
             "#ed7953"
            ],
            [
             0.7777777777777778,
             "#fb9f3a"
            ],
            [
             0.8888888888888888,
             "#fdca26"
            ],
            [
             1,
             "#f0f921"
            ]
           ]
          },
          "colorway": [
           "#636efa",
           "#EF553B",
           "#00cc96",
           "#ab63fa",
           "#FFA15A",
           "#19d3f3",
           "#FF6692",
           "#B6E880",
           "#FF97FF",
           "#FECB52"
          ],
          "font": {
           "color": "#2a3f5f"
          },
          "geo": {
           "bgcolor": "white",
           "lakecolor": "white",
           "landcolor": "#E5ECF6",
           "showlakes": true,
           "showland": true,
           "subunitcolor": "white"
          },
          "hoverlabel": {
           "align": "left"
          },
          "hovermode": "closest",
          "mapbox": {
           "style": "light"
          },
          "paper_bgcolor": "white",
          "plot_bgcolor": "#E5ECF6",
          "polar": {
           "angularaxis": {
            "gridcolor": "white",
            "linecolor": "white",
            "ticks": ""
           },
           "bgcolor": "#E5ECF6",
           "radialaxis": {
            "gridcolor": "white",
            "linecolor": "white",
            "ticks": ""
           }
          },
          "scene": {
           "xaxis": {
            "backgroundcolor": "#E5ECF6",
            "gridcolor": "white",
            "gridwidth": 2,
            "linecolor": "white",
            "showbackground": true,
            "ticks": "",
            "zerolinecolor": "white"
           },
           "yaxis": {
            "backgroundcolor": "#E5ECF6",
            "gridcolor": "white",
            "gridwidth": 2,
            "linecolor": "white",
            "showbackground": true,
            "ticks": "",
            "zerolinecolor": "white"
           },
           "zaxis": {
            "backgroundcolor": "#E5ECF6",
            "gridcolor": "white",
            "gridwidth": 2,
            "linecolor": "white",
            "showbackground": true,
            "ticks": "",
            "zerolinecolor": "white"
           }
          },
          "shapedefaults": {
           "line": {
            "color": "#2a3f5f"
           }
          },
          "ternary": {
           "aaxis": {
            "gridcolor": "white",
            "linecolor": "white",
            "ticks": ""
           },
           "baxis": {
            "gridcolor": "white",
            "linecolor": "white",
            "ticks": ""
           },
           "bgcolor": "#E5ECF6",
           "caxis": {
            "gridcolor": "white",
            "linecolor": "white",
            "ticks": ""
           }
          },
          "title": {
           "x": 0.05
          },
          "xaxis": {
           "automargin": true,
           "gridcolor": "white",
           "linecolor": "white",
           "ticks": "",
           "title": {
            "standoff": 15
           },
           "zerolinecolor": "white",
           "zerolinewidth": 2
          },
          "yaxis": {
           "automargin": true,
           "gridcolor": "white",
           "linecolor": "white",
           "ticks": "",
           "title": {
            "standoff": 15
           },
           "zerolinecolor": "white",
           "zerolinewidth": 2
          }
         }
        },
        "title": {
         "text": "AAPL"
        },
        "width": 1500,
        "xaxis": {
         "anchor": "y",
         "domain": [
          0,
          0.94
         ],
         "rangeslider": {
          "visible": true
         },
         "title": {
          "text": "Date"
         }
        },
        "yaxis": {
         "anchor": "x",
         "domain": [
          0,
          1
         ],
         "title": {
          "text": "Values"
         }
        },
        "yaxis2": {
         "anchor": "x",
         "overlaying": "y",
         "side": "right",
         "title": {
          "text": "Values"
         }
        }
       }
      }
     },
     "metadata": {},
     "output_type": "display_data"
    },
    {
     "data": {
      "application/vnd.plotly.v1+json": {
       "config": {
        "plotlyServerURL": "https://plot.ly"
       },
       "data": [
        {
         "name": "Net Income Com",
         "type": "scatter",
         "x": [
          "1985-09-30",
          "1986-09-30",
          "1987-09-30",
          "1988-09-30",
          "1989-09-30",
          "1990-09-30",
          "1991-09-30",
          "1992-09-30",
          "1993-09-30",
          "1994-09-30",
          "1995-09-29",
          "1996-09-27",
          "1997-09-26",
          "1998-09-25",
          "1999-09-25",
          "2000-09-30",
          "2001-09-29",
          "2002-09-28",
          "2003-09-27",
          "2004-09-25",
          "2005-09-24",
          "2006-09-30",
          "2007-09-29",
          "2008-09-27",
          "2009-09-26",
          "2010-09-25",
          "2011-09-24",
          "2012-09-29",
          "2013-09-28",
          "2014-09-27",
          "2015-09-26",
          "2016-09-24",
          "2017-09-30",
          "2018-09-29",
          "2019-09-28",
          "2020-09-26",
          "2021-09-25"
         ],
         "y": [
          61200000,
          154000000,
          217500000,
          400300000,
          454000000,
          474900000,
          309800000,
          530400000,
          86600000,
          310178000,
          424000000,
          -816000000,
          -1045000000,
          309000000,
          601000000,
          786000000,
          -25000000,
          65000000,
          69000000,
          276000000,
          1335000000,
          1989000000,
          3496000000,
          4834000000,
          5704000000,
          14013000000,
          25922000000,
          41733000000,
          37037000000,
          39510000000,
          53394000000,
          45687000000,
          48351000000,
          59531000000,
          55256000000,
          57411000000,
          94680000000
         ]
        },
        {
         "name": "Cash and cash equivalents",
         "type": "scatter",
         "x": [
          "1985-09-30",
          "1986-09-30",
          "1987-09-30",
          "1988-09-30",
          "1989-09-30",
          "1990-09-30",
          "1991-09-30",
          "1992-09-30",
          "1993-09-30",
          "1994-09-30",
          "1995-09-29",
          "1996-09-27",
          "1997-09-26",
          "1998-09-25",
          "1999-09-25",
          "2000-09-30",
          "2001-09-29",
          "2002-09-28",
          "2003-09-27",
          "2004-09-25",
          "2005-09-24",
          "2006-09-30",
          "2007-09-29",
          "2008-09-27",
          "2009-09-26",
          "2010-09-25",
          "2011-09-24",
          "2012-09-29",
          "2013-09-28",
          "2014-09-27",
          "2015-09-26",
          "2016-09-24",
          "2017-09-30",
          "2018-09-29",
          "2019-09-28",
          "2020-09-26",
          "2021-09-25"
         ],
         "y": [
          337000000,
          576200000,
          565100000,
          545700000,
          438300000,
          374700000,
          604100000,
          498600000,
          676400000,
          1203488000,
          756000000,
          1552000000,
          1230000000,
          1481000000,
          1326000000,
          1191000000,
          2310000000,
          2252000000,
          3396000000,
          2969000000,
          3491000000,
          6392000000,
          9352000000,
          11875000000,
          5263000000,
          11261000000,
          9815000000,
          10746000000,
          14259000000,
          13844000000,
          21120000000,
          20484000000,
          20289000000,
          25913000000,
          48844000000,
          38016000000,
          34940000000
         ]
        },
        {
         "name": "Short-term investments",
         "type": "scatter",
         "x": [
          "1985-09-30",
          "1986-09-30",
          "1987-09-30",
          "1988-09-30",
          "1989-09-30",
          "1990-09-30",
          "1991-09-30",
          "1992-09-30",
          "1993-09-30",
          "1994-09-30",
          "1995-09-29",
          "1996-09-27",
          "1997-09-26",
          "1998-09-25",
          "1999-09-25",
          "2000-09-30",
          "2001-09-29",
          "2002-09-28",
          "2003-09-27",
          "2004-09-25",
          "2005-09-24",
          "2006-09-30",
          "2007-09-29",
          "2008-09-27",
          "2009-09-26",
          "2010-09-25",
          "2011-09-24",
          "2012-09-29",
          "2013-09-28",
          "2014-09-27",
          "2015-09-26",
          "2016-09-24",
          "2017-09-30",
          "2018-09-29",
          "2019-09-28",
          "2020-09-26",
          "2021-09-25"
         ],
         "y": [
          0,
          0,
          0,
          0,
          0,
          0,
          0,
          0,
          0,
          54368000,
          196000000,
          193000000,
          229000000,
          819000000,
          1900000000,
          2836000000,
          2026000000,
          2085000000,
          1170000000,
          2495000000,
          4770000000,
          3718000000,
          6034000000,
          12615000000,
          18201000000,
          14359000000,
          16137000000,
          18383000000,
          26287000000,
          11233000000,
          20481000000,
          46671000000,
          53892000000,
          40388000000,
          51713000000,
          52927000000,
          27699000000
         ]
        },
        {
         "name": "Receivables",
         "type": "scatter",
         "x": [
          "1985-09-30",
          "1986-09-30",
          "1987-09-30",
          "1988-09-30",
          "1989-09-30",
          "1990-09-30",
          "1991-09-30",
          "1992-09-30",
          "1993-09-30",
          "1994-09-30",
          "1995-09-29",
          "1996-09-27",
          "1997-09-26",
          "1998-09-25",
          "1999-09-25",
          "2000-09-30",
          "2001-09-29",
          "2002-09-28",
          "2003-09-27",
          "2004-09-25",
          "2005-09-24",
          "2006-09-30",
          "2007-09-29",
          "2008-09-27",
          "2009-09-26",
          "2010-09-25",
          "2011-09-24",
          "2012-09-29",
          "2013-09-28",
          "2014-09-27",
          "2015-09-26",
          "2016-09-24",
          "2017-09-30",
          "2018-09-29",
          "2019-09-28",
          "2020-09-26",
          "2021-09-25"
         ],
         "y": [
          220200000,
          263100000,
          405600000,
          638800000,
          792800000,
          761900000,
          907200000,
          1087200000,
          1381900000,
          1581347000,
          1931000000,
          1496000000,
          1035000000,
          955000000,
          681000000,
          953000000,
          466000000,
          565000000,
          950000000,
          1050000000,
          1312000000,
          2845000000,
          4029000000,
          4704000000,
          5057000000,
          9924000000,
          11717000000,
          18692000000,
          20641000000,
          27219000000,
          30343000000,
          29299000000,
          35673000000,
          48995000000,
          45804000000,
          37445000000,
          51506000000
         ]
        },
        {
         "name": "Long-term investments",
         "type": "scatter",
         "x": [
          "1985-09-30",
          "1986-09-30",
          "1987-09-30",
          "1988-09-30",
          "1989-09-30",
          "1990-09-30",
          "1991-09-30",
          "1992-09-30",
          "1993-09-30",
          "1994-09-30",
          "1995-09-29",
          "1996-09-27",
          "1997-09-26",
          "1998-09-25",
          "1999-09-25",
          "2000-09-30",
          "2001-09-29",
          "2002-09-28",
          "2003-09-27",
          "2004-09-25",
          "2005-09-24",
          "2006-09-30",
          "2007-09-29",
          "2008-09-27",
          "2009-09-26",
          "2010-09-25",
          "2011-09-24",
          "2012-09-29",
          "2013-09-28",
          "2014-09-27",
          "2015-09-26",
          "2016-09-24",
          "2017-09-30",
          "2018-09-29",
          "2019-09-28",
          "2020-09-26",
          "2021-09-25"
         ],
         "y": [
          0,
          0,
          0,
          0,
          0,
          0,
          0,
          0,
          0,
          0,
          0,
          0,
          0,
          0,
          339000000,
          0,
          128000000,
          39000000,
          5000000,
          0,
          0,
          0,
          0,
          0,
          10528000000,
          25391000000,
          55618000000,
          92122000000,
          106215000000,
          130162000000,
          164065000000,
          170430000000,
          194714000000,
          170799000000,
          105341000000,
          100887000000,
          127877000000
         ]
        },
        {
         "name": "Total current liabilities",
         "type": "scatter",
         "x": [
          "1985-09-30",
          "1986-09-30",
          "1987-09-30",
          "1988-09-30",
          "1989-09-30",
          "1990-09-30",
          "1991-09-30",
          "1992-09-30",
          "1993-09-30",
          "1994-09-30",
          "1995-09-29",
          "1996-09-27",
          "1997-09-26",
          "1998-09-25",
          "1999-09-25",
          "2000-09-30",
          "2001-09-29",
          "2002-09-28",
          "2003-09-27",
          "2004-09-25",
          "2005-09-24",
          "2006-09-30",
          "2007-09-29",
          "2008-09-27",
          "2009-09-26",
          "2010-09-25",
          "2011-09-24",
          "2012-09-29",
          "2013-09-28",
          "2014-09-27",
          "2015-09-26",
          "2016-09-24",
          "2017-09-30",
          "2018-09-29",
          "2019-09-28",
          "2020-09-26",
          "2021-09-25"
         ],
         "y": [
          295400000,
          328500000,
          478700000,
          827100000,
          895300000,
          1027000000,
          1217100000,
          1425500000,
          2515200000,
          1944305000,
          2325000000,
          2003000000,
          1818000000,
          1520000000,
          1549000000,
          1933000000,
          1518000000,
          1658000000,
          2357000000,
          2680000000,
          3484000000,
          6471000000,
          9299000000,
          14092000000,
          19282000000,
          20722000000,
          27970000000,
          38542000000,
          43658000000,
          63448000000,
          80610000000,
          79006000000,
          100814000000,
          116866000000,
          105718000000,
          105392000000,
          125481000000
         ]
        },
        {
         "name": "Total debt",
         "type": "scatter",
         "x": [
          "1985-09-30",
          "1986-09-30",
          "1987-09-30",
          "1988-09-30",
          "1989-09-30",
          "1990-09-30",
          "1991-09-30",
          "1992-09-30",
          "1993-09-30",
          "1994-09-30",
          "1995-09-29",
          "1996-09-27",
          "1997-09-26",
          "1998-09-25",
          "1999-09-25",
          "2000-09-30",
          "2001-09-29",
          "2002-09-28",
          "2003-09-27",
          "2004-09-25",
          "2005-09-24",
          "2006-09-30",
          "2007-09-29",
          "2008-09-27",
          "2009-09-26",
          "2010-09-25",
          "2011-09-24",
          "2012-09-29",
          "2013-09-28",
          "2014-09-27",
          "2015-09-26",
          "2016-09-24",
          "2017-09-30",
          "2018-09-29",
          "2019-09-28",
          "2020-09-26",
          "2021-09-25"
         ],
         "y": [
          0,
          0,
          0,
          315000000,
          56800000,
          122600000,
          148600000,
          184500000,
          823200000,
          596200000,
          764000000,
          1135000000,
          976000000,
          954000000,
          300000000,
          300000000,
          317000000,
          316000000,
          304000000,
          0,
          0,
          0,
          0,
          0,
          0,
          0,
          0,
          0,
          16960000000,
          35295000000,
          64462000000,
          87032000000,
          115680000000,
          114483000000,
          108047000000,
          112436000000,
          124719000000
         ]
        },
        {
         "name": "Total shareholders equity",
         "type": "scatter",
         "x": [
          "1985-09-30",
          "1986-09-30",
          "1987-09-30",
          "1988-09-30",
          "1989-09-30",
          "1990-09-30",
          "1991-09-30",
          "1992-09-30",
          "1993-09-30",
          "1994-09-30",
          "1995-09-29",
          "1996-09-27",
          "1997-09-26",
          "1998-09-25",
          "1999-09-25",
          "2000-09-30",
          "2001-09-29",
          "2002-09-28",
          "2003-09-27",
          "2004-09-25",
          "2005-09-24",
          "2006-09-30",
          "2007-09-29",
          "2008-09-27",
          "2009-09-26",
          "2010-09-25",
          "2011-09-24",
          "2012-09-29",
          "2013-09-28",
          "2014-09-27",
          "2015-09-26",
          "2016-09-24",
          "2017-09-30",
          "2018-09-29",
          "2019-09-28",
          "2020-09-26",
          "2021-09-25"
         ],
         "y": [
          550500000,
          694100000,
          836500000,
          1003400000,
          1485700000,
          1446800000,
          1766700000,
          2187400000,
          2026400000,
          2383301000,
          2901000000,
          2058000000,
          1200000000,
          1642000000,
          3104000000,
          4107000000,
          3920000000,
          4095000000,
          4223000000,
          5076000000,
          7466000000,
          9984000000,
          14532000000,
          21030000000,
          27832000000,
          47791000000,
          76615000000,
          118210000000,
          123549000000,
          111547000000,
          119355000000,
          128249000000,
          134047000000,
          107147000000,
          90488000000,
          65339000000,
          63090000000
         ]
        },
        {
         "name": "ROE",
         "type": "scatter",
         "x": [
          "1985-09-30",
          "1986-09-30",
          "1987-09-30",
          "1988-09-30",
          "1989-09-30",
          "1990-09-30",
          "1991-09-30",
          "1992-09-30",
          "1993-09-30",
          "1994-09-30",
          "1995-09-29",
          "1996-09-27",
          "1997-09-26",
          "1998-09-25",
          "1999-09-25",
          "2000-09-30",
          "2001-09-29",
          "2002-09-28",
          "2003-09-27",
          "2004-09-25",
          "2005-09-24",
          "2006-09-30",
          "2007-09-29",
          "2008-09-27",
          "2009-09-26",
          "2010-09-25",
          "2011-09-24",
          "2012-09-29",
          "2013-09-28",
          "2014-09-27",
          "2015-09-26",
          "2016-09-24",
          "2017-09-30",
          "2018-09-29",
          "2019-09-28",
          "2020-09-26",
          "2021-09-25"
         ],
         "xaxis": "x",
         "y": [
          null,
          0.24746906636670415,
          0.28420227361818895,
          0.43513234414913854,
          0.3647904865212326,
          0.3238874680306905,
          0.19281157616306208,
          0.26827849573860046,
          0.04110304238454601,
          0.14067983294105427,
          0.1604753400686297,
          -0.3290986085904416,
          -0.6414978514426029,
          0.21745249824067558,
          0.2532659081331648,
          0.21800027735404243,
          -0.006228977201943441,
          0.016219588271990017,
          0.01659052656888675,
          0.059361221636735136,
          0.21288470738319248,
          0.22796561604584528,
          0.2852015010605319,
          0.27186322479050673,
          0.23347386517129876,
          0.3706015365695622,
          0.41673231194636917,
          0.42841524445014756,
          0.30639603903060486,
          0.3361180113655698,
          0.4624819187360872,
          0.3690328104554046,
          0.3686750846372038,
          0.4936358284202758,
          0.5591722113998027,
          0.7368556155223421,
          1.4744333444938449
         ],
         "yaxis": "y2"
        }
       ],
       "layout": {
        "autotypenumbers": "convert types",
        "height": 1200,
        "showlegend": true,
        "template": {
         "data": {
          "bar": [
           {
            "error_x": {
             "color": "#2a3f5f"
            },
            "error_y": {
             "color": "#2a3f5f"
            },
            "marker": {
             "line": {
              "color": "#E5ECF6",
              "width": 0.5
             },
             "pattern": {
              "fillmode": "overlay",
              "size": 10,
              "solidity": 0.2
             }
            },
            "type": "bar"
           }
          ],
          "barpolar": [
           {
            "marker": {
             "line": {
              "color": "#E5ECF6",
              "width": 0.5
             },
             "pattern": {
              "fillmode": "overlay",
              "size": 10,
              "solidity": 0.2
             }
            },
            "type": "barpolar"
           }
          ],
          "carpet": [
           {
            "aaxis": {
             "endlinecolor": "#2a3f5f",
             "gridcolor": "white",
             "linecolor": "white",
             "minorgridcolor": "white",
             "startlinecolor": "#2a3f5f"
            },
            "baxis": {
             "endlinecolor": "#2a3f5f",
             "gridcolor": "white",
             "linecolor": "white",
             "minorgridcolor": "white",
             "startlinecolor": "#2a3f5f"
            },
            "type": "carpet"
           }
          ],
          "choropleth": [
           {
            "colorbar": {
             "outlinewidth": 0,
             "ticks": ""
            },
            "type": "choropleth"
           }
          ],
          "contour": [
           {
            "colorbar": {
             "outlinewidth": 0,
             "ticks": ""
            },
            "colorscale": [
             [
              0,
              "#0d0887"
             ],
             [
              0.1111111111111111,
              "#46039f"
             ],
             [
              0.2222222222222222,
              "#7201a8"
             ],
             [
              0.3333333333333333,
              "#9c179e"
             ],
             [
              0.4444444444444444,
              "#bd3786"
             ],
             [
              0.5555555555555556,
              "#d8576b"
             ],
             [
              0.6666666666666666,
              "#ed7953"
             ],
             [
              0.7777777777777778,
              "#fb9f3a"
             ],
             [
              0.8888888888888888,
              "#fdca26"
             ],
             [
              1,
              "#f0f921"
             ]
            ],
            "type": "contour"
           }
          ],
          "contourcarpet": [
           {
            "colorbar": {
             "outlinewidth": 0,
             "ticks": ""
            },
            "type": "contourcarpet"
           }
          ],
          "heatmap": [
           {
            "colorbar": {
             "outlinewidth": 0,
             "ticks": ""
            },
            "colorscale": [
             [
              0,
              "#0d0887"
             ],
             [
              0.1111111111111111,
              "#46039f"
             ],
             [
              0.2222222222222222,
              "#7201a8"
             ],
             [
              0.3333333333333333,
              "#9c179e"
             ],
             [
              0.4444444444444444,
              "#bd3786"
             ],
             [
              0.5555555555555556,
              "#d8576b"
             ],
             [
              0.6666666666666666,
              "#ed7953"
             ],
             [
              0.7777777777777778,
              "#fb9f3a"
             ],
             [
              0.8888888888888888,
              "#fdca26"
             ],
             [
              1,
              "#f0f921"
             ]
            ],
            "type": "heatmap"
           }
          ],
          "heatmapgl": [
           {
            "colorbar": {
             "outlinewidth": 0,
             "ticks": ""
            },
            "colorscale": [
             [
              0,
              "#0d0887"
             ],
             [
              0.1111111111111111,
              "#46039f"
             ],
             [
              0.2222222222222222,
              "#7201a8"
             ],
             [
              0.3333333333333333,
              "#9c179e"
             ],
             [
              0.4444444444444444,
              "#bd3786"
             ],
             [
              0.5555555555555556,
              "#d8576b"
             ],
             [
              0.6666666666666666,
              "#ed7953"
             ],
             [
              0.7777777777777778,
              "#fb9f3a"
             ],
             [
              0.8888888888888888,
              "#fdca26"
             ],
             [
              1,
              "#f0f921"
             ]
            ],
            "type": "heatmapgl"
           }
          ],
          "histogram": [
           {
            "marker": {
             "pattern": {
              "fillmode": "overlay",
              "size": 10,
              "solidity": 0.2
             }
            },
            "type": "histogram"
           }
          ],
          "histogram2d": [
           {
            "colorbar": {
             "outlinewidth": 0,
             "ticks": ""
            },
            "colorscale": [
             [
              0,
              "#0d0887"
             ],
             [
              0.1111111111111111,
              "#46039f"
             ],
             [
              0.2222222222222222,
              "#7201a8"
             ],
             [
              0.3333333333333333,
              "#9c179e"
             ],
             [
              0.4444444444444444,
              "#bd3786"
             ],
             [
              0.5555555555555556,
              "#d8576b"
             ],
             [
              0.6666666666666666,
              "#ed7953"
             ],
             [
              0.7777777777777778,
              "#fb9f3a"
             ],
             [
              0.8888888888888888,
              "#fdca26"
             ],
             [
              1,
              "#f0f921"
             ]
            ],
            "type": "histogram2d"
           }
          ],
          "histogram2dcontour": [
           {
            "colorbar": {
             "outlinewidth": 0,
             "ticks": ""
            },
            "colorscale": [
             [
              0,
              "#0d0887"
             ],
             [
              0.1111111111111111,
              "#46039f"
             ],
             [
              0.2222222222222222,
              "#7201a8"
             ],
             [
              0.3333333333333333,
              "#9c179e"
             ],
             [
              0.4444444444444444,
              "#bd3786"
             ],
             [
              0.5555555555555556,
              "#d8576b"
             ],
             [
              0.6666666666666666,
              "#ed7953"
             ],
             [
              0.7777777777777778,
              "#fb9f3a"
             ],
             [
              0.8888888888888888,
              "#fdca26"
             ],
             [
              1,
              "#f0f921"
             ]
            ],
            "type": "histogram2dcontour"
           }
          ],
          "mesh3d": [
           {
            "colorbar": {
             "outlinewidth": 0,
             "ticks": ""
            },
            "type": "mesh3d"
           }
          ],
          "parcoords": [
           {
            "line": {
             "colorbar": {
              "outlinewidth": 0,
              "ticks": ""
             }
            },
            "type": "parcoords"
           }
          ],
          "pie": [
           {
            "automargin": true,
            "type": "pie"
           }
          ],
          "scatter": [
           {
            "fillpattern": {
             "fillmode": "overlay",
             "size": 10,
             "solidity": 0.2
            },
            "type": "scatter"
           }
          ],
          "scatter3d": [
           {
            "line": {
             "colorbar": {
              "outlinewidth": 0,
              "ticks": ""
             }
            },
            "marker": {
             "colorbar": {
              "outlinewidth": 0,
              "ticks": ""
             }
            },
            "type": "scatter3d"
           }
          ],
          "scattercarpet": [
           {
            "marker": {
             "colorbar": {
              "outlinewidth": 0,
              "ticks": ""
             }
            },
            "type": "scattercarpet"
           }
          ],
          "scattergeo": [
           {
            "marker": {
             "colorbar": {
              "outlinewidth": 0,
              "ticks": ""
             }
            },
            "type": "scattergeo"
           }
          ],
          "scattergl": [
           {
            "marker": {
             "colorbar": {
              "outlinewidth": 0,
              "ticks": ""
             }
            },
            "type": "scattergl"
           }
          ],
          "scattermapbox": [
           {
            "marker": {
             "colorbar": {
              "outlinewidth": 0,
              "ticks": ""
             }
            },
            "type": "scattermapbox"
           }
          ],
          "scatterpolar": [
           {
            "marker": {
             "colorbar": {
              "outlinewidth": 0,
              "ticks": ""
             }
            },
            "type": "scatterpolar"
           }
          ],
          "scatterpolargl": [
           {
            "marker": {
             "colorbar": {
              "outlinewidth": 0,
              "ticks": ""
             }
            },
            "type": "scatterpolargl"
           }
          ],
          "scatterternary": [
           {
            "marker": {
             "colorbar": {
              "outlinewidth": 0,
              "ticks": ""
             }
            },
            "type": "scatterternary"
           }
          ],
          "surface": [
           {
            "colorbar": {
             "outlinewidth": 0,
             "ticks": ""
            },
            "colorscale": [
             [
              0,
              "#0d0887"
             ],
             [
              0.1111111111111111,
              "#46039f"
             ],
             [
              0.2222222222222222,
              "#7201a8"
             ],
             [
              0.3333333333333333,
              "#9c179e"
             ],
             [
              0.4444444444444444,
              "#bd3786"
             ],
             [
              0.5555555555555556,
              "#d8576b"
             ],
             [
              0.6666666666666666,
              "#ed7953"
             ],
             [
              0.7777777777777778,
              "#fb9f3a"
             ],
             [
              0.8888888888888888,
              "#fdca26"
             ],
             [
              1,
              "#f0f921"
             ]
            ],
            "type": "surface"
           }
          ],
          "table": [
           {
            "cells": {
             "fill": {
              "color": "#EBF0F8"
             },
             "line": {
              "color": "white"
             }
            },
            "header": {
             "fill": {
              "color": "#C8D4E3"
             },
             "line": {
              "color": "white"
             }
            },
            "type": "table"
           }
          ]
         },
         "layout": {
          "annotationdefaults": {
           "arrowcolor": "#2a3f5f",
           "arrowhead": 0,
           "arrowwidth": 1
          },
          "autotypenumbers": "strict",
          "coloraxis": {
           "colorbar": {
            "outlinewidth": 0,
            "ticks": ""
           }
          },
          "colorscale": {
           "diverging": [
            [
             0,
             "#8e0152"
            ],
            [
             0.1,
             "#c51b7d"
            ],
            [
             0.2,
             "#de77ae"
            ],
            [
             0.3,
             "#f1b6da"
            ],
            [
             0.4,
             "#fde0ef"
            ],
            [
             0.5,
             "#f7f7f7"
            ],
            [
             0.6,
             "#e6f5d0"
            ],
            [
             0.7,
             "#b8e186"
            ],
            [
             0.8,
             "#7fbc41"
            ],
            [
             0.9,
             "#4d9221"
            ],
            [
             1,
             "#276419"
            ]
           ],
           "sequential": [
            [
             0,
             "#0d0887"
            ],
            [
             0.1111111111111111,
             "#46039f"
            ],
            [
             0.2222222222222222,
             "#7201a8"
            ],
            [
             0.3333333333333333,
             "#9c179e"
            ],
            [
             0.4444444444444444,
             "#bd3786"
            ],
            [
             0.5555555555555556,
             "#d8576b"
            ],
            [
             0.6666666666666666,
             "#ed7953"
            ],
            [
             0.7777777777777778,
             "#fb9f3a"
            ],
            [
             0.8888888888888888,
             "#fdca26"
            ],
            [
             1,
             "#f0f921"
            ]
           ],
           "sequentialminus": [
            [
             0,
             "#0d0887"
            ],
            [
             0.1111111111111111,
             "#46039f"
            ],
            [
             0.2222222222222222,
             "#7201a8"
            ],
            [
             0.3333333333333333,
             "#9c179e"
            ],
            [
             0.4444444444444444,
             "#bd3786"
            ],
            [
             0.5555555555555556,
             "#d8576b"
            ],
            [
             0.6666666666666666,
             "#ed7953"
            ],
            [
             0.7777777777777778,
             "#fb9f3a"
            ],
            [
             0.8888888888888888,
             "#fdca26"
            ],
            [
             1,
             "#f0f921"
            ]
           ]
          },
          "colorway": [
           "#636efa",
           "#EF553B",
           "#00cc96",
           "#ab63fa",
           "#FFA15A",
           "#19d3f3",
           "#FF6692",
           "#B6E880",
           "#FF97FF",
           "#FECB52"
          ],
          "font": {
           "color": "#2a3f5f"
          },
          "geo": {
           "bgcolor": "white",
           "lakecolor": "white",
           "landcolor": "#E5ECF6",
           "showlakes": true,
           "showland": true,
           "subunitcolor": "white"
          },
          "hoverlabel": {
           "align": "left"
          },
          "hovermode": "closest",
          "mapbox": {
           "style": "light"
          },
          "paper_bgcolor": "white",
          "plot_bgcolor": "#E5ECF6",
          "polar": {
           "angularaxis": {
            "gridcolor": "white",
            "linecolor": "white",
            "ticks": ""
           },
           "bgcolor": "#E5ECF6",
           "radialaxis": {
            "gridcolor": "white",
            "linecolor": "white",
            "ticks": ""
           }
          },
          "scene": {
           "xaxis": {
            "backgroundcolor": "#E5ECF6",
            "gridcolor": "white",
            "gridwidth": 2,
            "linecolor": "white",
            "showbackground": true,
            "ticks": "",
            "zerolinecolor": "white"
           },
           "yaxis": {
            "backgroundcolor": "#E5ECF6",
            "gridcolor": "white",
            "gridwidth": 2,
            "linecolor": "white",
            "showbackground": true,
            "ticks": "",
            "zerolinecolor": "white"
           },
           "zaxis": {
            "backgroundcolor": "#E5ECF6",
            "gridcolor": "white",
            "gridwidth": 2,
            "linecolor": "white",
            "showbackground": true,
            "ticks": "",
            "zerolinecolor": "white"
           }
          },
          "shapedefaults": {
           "line": {
            "color": "#2a3f5f"
           }
          },
          "ternary": {
           "aaxis": {
            "gridcolor": "white",
            "linecolor": "white",
            "ticks": ""
           },
           "baxis": {
            "gridcolor": "white",
            "linecolor": "white",
            "ticks": ""
           },
           "bgcolor": "#E5ECF6",
           "caxis": {
            "gridcolor": "white",
            "linecolor": "white",
            "ticks": ""
           }
          },
          "title": {
           "x": 0.05
          },
          "xaxis": {
           "automargin": true,
           "gridcolor": "white",
           "linecolor": "white",
           "ticks": "",
           "title": {
            "standoff": 15
           },
           "zerolinecolor": "white",
           "zerolinewidth": 2
          },
          "yaxis": {
           "automargin": true,
           "gridcolor": "white",
           "linecolor": "white",
           "ticks": "",
           "title": {
            "standoff": 15
           },
           "zerolinecolor": "white",
           "zerolinewidth": 2
          }
         }
        },
        "title": {
         "text": "AAPL"
        },
        "width": 1500,
        "xaxis": {
         "anchor": "y",
         "domain": [
          0,
          0.94
         ],
         "rangeslider": {
          "visible": true
         },
         "title": {
          "text": "Date"
         }
        },
        "yaxis": {
         "anchor": "x",
         "domain": [
          0,
          1
         ],
         "title": {
          "text": "Values"
         }
        },
        "yaxis2": {
         "anchor": "x",
         "overlaying": "y",
         "side": "right",
         "title": {
          "text": "Values"
         }
        }
       }
      }
     },
     "metadata": {},
     "output_type": "display_data"
    },
    {
     "name": "stderr",
     "output_type": "stream",
     "text": [
      "INFO:modelling_prep:Creating financials dataframe for MSFT...\n"
     ]
    },
    {
     "name": "stdout",
     "output_type": "stream",
     "text": [
      "JSON data saved to file: data\\income_statement_MSFT.json\n",
      "JSON data saved to file: data\\balance_statement_MSFT.json\n"
     ]
    },
    {
     "data": {
      "application/vnd.plotly.v1+json": {
       "config": {
        "plotlyServerURL": "https://plot.ly"
       },
       "data": [
        {
         "name": "Net Income Com",
         "type": "scatter",
         "x": [
          "1986-06-30",
          "1987-06-30",
          "1988-06-30",
          "1989-06-30",
          "1990-06-30",
          "1991-06-30",
          "1992-06-30",
          "1993-06-30",
          "1994-06-30",
          "1995-06-30",
          "1996-06-30",
          "1997-06-30",
          "1998-06-30",
          "1999-06-30",
          "2000-06-30",
          "2001-06-30",
          "2002-06-30",
          "2003-06-30",
          "2004-06-30",
          "2005-06-30",
          "2006-06-30",
          "2007-06-30",
          "2008-06-30",
          "2009-06-30",
          "2010-06-30",
          "2011-06-30",
          "2012-06-30",
          "2013-06-30",
          "2014-06-30",
          "2015-06-30",
          "2016-06-30",
          "2017-06-30",
          "2018-06-30",
          "2019-06-30",
          "2020-06-30",
          "2021-06-30"
         ],
         "y": [
          39300000,
          71900000,
          123900000,
          170500000,
          279200000,
          462700000,
          708100000,
          953000000,
          1146000000,
          1453000000,
          2195000000,
          3454000000,
          4490000000,
          7785000000,
          9421000000,
          7346000000,
          7829000000,
          9993000000,
          8168000000,
          12254000000,
          12599000000,
          14065000000,
          17681000000,
          14569000000,
          18760000000,
          23150000000,
          16978000000,
          21863000000,
          22074000000,
          12193000000,
          16798000000,
          21204000000,
          16571000000,
          39240000000,
          44281000000,
          61271000000
         ]
        },
        {
         "name": "Cash and cash equivalents",
         "type": "scatter",
         "x": [
          "1986-06-30",
          "1987-06-30",
          "1988-06-30",
          "1989-06-30",
          "1990-06-30",
          "1991-06-30",
          "1992-06-30",
          "1993-06-30",
          "1994-06-30",
          "1995-06-30",
          "1996-06-30",
          "1997-06-30",
          "1998-06-30",
          "1999-06-30",
          "2000-06-30",
          "2001-06-30",
          "2002-06-30",
          "2003-06-30",
          "2004-06-30",
          "2005-06-30",
          "2006-06-30",
          "2007-06-30",
          "2008-06-30",
          "2009-06-30",
          "2010-06-30",
          "2011-06-30",
          "2012-06-30",
          "2013-06-30",
          "2014-06-30",
          "2015-06-30",
          "2016-06-30",
          "2017-06-30",
          "2018-06-30",
          "2019-06-30",
          "2020-06-30",
          "2021-06-30"
         ],
         "y": [
          102700000,
          132500000,
          183200000,
          192400000,
          246300000,
          417200000,
          791400000,
          1013000000,
          1477000000,
          1962000000,
          2601000000,
          3706000000,
          3839000000,
          4975000000,
          4846000000,
          3922000000,
          3016000000,
          6438000000,
          15982000000,
          4851000000,
          6714000000,
          6111000000,
          10339000000,
          6076000000,
          5505000000,
          9610000000,
          6938000000,
          3804000000,
          8669000000,
          5595000000,
          6510000000,
          7663000000,
          11946000000,
          11356000000,
          13576000000,
          11748000000
         ]
        },
        {
         "name": "Short-term investments",
         "type": "scatter",
         "x": [
          "1986-06-30",
          "1987-06-30",
          "1988-06-30",
          "1989-06-30",
          "1990-06-30",
          "1991-06-30",
          "1992-06-30",
          "1993-06-30",
          "1994-06-30",
          "1995-06-30",
          "1996-06-30",
          "1997-06-30",
          "1998-06-30",
          "1999-06-30",
          "2000-06-30",
          "2001-06-30",
          "2002-06-30",
          "2003-06-30",
          "2004-06-30",
          "2005-06-30",
          "2006-06-30",
          "2007-06-30",
          "2008-06-30",
          "2009-06-30",
          "2010-06-30",
          "2011-06-30",
          "2012-06-30",
          "2013-06-30",
          "2014-06-30",
          "2015-06-30",
          "2016-06-30",
          "2017-06-30",
          "2018-06-30",
          "2019-06-30",
          "2020-06-30",
          "2021-06-30"
         ],
         "y": [
          0,
          0,
          0,
          0,
          0,
          0,
          0,
          0,
          0,
          0,
          0,
          0,
          0,
          12261000000,
          18952000000,
          27678000000,
          35636000000,
          42610000000,
          44610000000,
          32900000000,
          27447000000,
          17300000000,
          13323000000,
          25371000000,
          31283000000,
          43162000000,
          56102000000,
          73218000000,
          77040000000,
          90931000000,
          106730000000,
          125318000000,
          121822000000,
          122463000000,
          122951000000,
          118586000000
         ]
        },
        {
         "name": "Receivables",
         "type": "scatter",
         "x": [
          "1986-06-30",
          "1987-06-30",
          "1988-06-30",
          "1989-06-30",
          "1990-06-30",
          "1991-06-30",
          "1992-06-30",
          "1993-06-30",
          "1994-06-30",
          "1995-06-30",
          "1996-06-30",
          "1997-06-30",
          "1998-06-30",
          "1999-06-30",
          "2000-06-30",
          "2001-06-30",
          "2002-06-30",
          "2003-06-30",
          "2004-06-30",
          "2005-06-30",
          "2006-06-30",
          "2007-06-30",
          "2008-06-30",
          "2009-06-30",
          "2010-06-30",
          "2011-06-30",
          "2012-06-30",
          "2013-06-30",
          "2014-06-30",
          "2015-06-30",
          "2016-06-30",
          "2017-06-30",
          "2018-06-30",
          "2019-06-30",
          "2020-06-30",
          "2021-06-30"
         ],
         "y": [
          34500000,
          55100000,
          93600000,
          111200000,
          181000000,
          243300000,
          823700000,
          338000000,
          475000000,
          581000000,
          639000000,
          980000000,
          1460000000,
          2245000000,
          3250000000,
          3671000000,
          5129000000,
          5196000000,
          5890000000,
          7180000000,
          9316000000,
          11338000000,
          13589000000,
          11192000000,
          13014000000,
          14987000000,
          15780000000,
          17486000000,
          19544000000,
          17908000000,
          18277000000,
          19792000000,
          26481000000,
          29524000000,
          32011000000,
          38043000000
         ]
        },
        {
         "name": "Long-term investments",
         "type": "scatter",
         "x": [
          "1986-06-30",
          "1987-06-30",
          "1988-06-30",
          "1989-06-30",
          "1990-06-30",
          "1991-06-30",
          "1992-06-30",
          "1993-06-30",
          "1994-06-30",
          "1995-06-30",
          "1996-06-30",
          "1997-06-30",
          "1998-06-30",
          "1999-06-30",
          "2000-06-30",
          "2001-06-30",
          "2002-06-30",
          "2003-06-30",
          "2004-06-30",
          "2005-06-30",
          "2006-06-30",
          "2007-06-30",
          "2008-06-30",
          "2009-06-30",
          "2010-06-30",
          "2011-06-30",
          "2012-06-30",
          "2013-06-30",
          "2014-06-30",
          "2015-06-30",
          "2016-06-30",
          "2017-06-30",
          "2018-06-30",
          "2019-06-30",
          "2020-06-30",
          "2021-06-30"
         ],
         "y": [
          0,
          0,
          0,
          0,
          0,
          0,
          0,
          0,
          0,
          0,
          0,
          0,
          0,
          0,
          0,
          0,
          0,
          0,
          0,
          0,
          0,
          0,
          6588000000,
          4933000000,
          7754000000,
          10865000000,
          9776000000,
          10844000000,
          14597000000,
          12053000000,
          10431000000,
          6023000000,
          1862000000,
          2649000000,
          2965000000,
          5984000000
         ]
        },
        {
         "name": "Total current liabilities",
         "type": "scatter",
         "x": [
          "1986-06-30",
          "1987-06-30",
          "1988-06-30",
          "1989-06-30",
          "1990-06-30",
          "1991-06-30",
          "1992-06-30",
          "1993-06-30",
          "1994-06-30",
          "1995-06-30",
          "1996-06-30",
          "1997-06-30",
          "1998-06-30",
          "1999-06-30",
          "2000-06-30",
          "2001-06-30",
          "2002-06-30",
          "2003-06-30",
          "2004-06-30",
          "2005-06-30",
          "2006-06-30",
          "2007-06-30",
          "2008-06-30",
          "2009-06-30",
          "2010-06-30",
          "2011-06-30",
          "2012-06-30",
          "2013-06-30",
          "2014-06-30",
          "2015-06-30",
          "2016-06-30",
          "2017-06-30",
          "2018-06-30",
          "2019-06-30",
          "2020-06-30",
          "2021-06-30"
         ],
         "y": [
          29500000,
          46600000,
          117600000,
          158800000,
          186800000,
          293400000,
          446900000,
          563000000,
          913000000,
          1347000000,
          2425000000,
          3610000000,
          5730000000,
          8718000000,
          9755000000,
          11132000000,
          12744000000,
          13974000000,
          14969000000,
          16877000000,
          22442000000,
          23754000000,
          29886000000,
          27034000000,
          26147000000,
          28774000000,
          32688000000,
          37417000000,
          45625000000,
          49858000000,
          59357000000,
          64527000000,
          58488000000,
          69420000000,
          72310000000,
          88657000000
         ]
        },
        {
         "name": "Total debt",
         "type": "scatter",
         "x": [
          "1986-06-30",
          "1987-06-30",
          "1988-06-30",
          "1989-06-30",
          "1990-06-30",
          "1991-06-30",
          "1992-06-30",
          "1993-06-30",
          "1994-06-30",
          "1995-06-30",
          "1996-06-30",
          "1997-06-30",
          "1998-06-30",
          "1999-06-30",
          "2000-06-30",
          "2001-06-30",
          "2002-06-30",
          "2003-06-30",
          "2004-06-30",
          "2005-06-30",
          "2006-06-30",
          "2007-06-30",
          "2008-06-30",
          "2009-06-30",
          "2010-06-30",
          "2011-06-30",
          "2012-06-30",
          "2013-06-30",
          "2014-06-30",
          "2015-06-30",
          "2016-06-30",
          "2017-06-30",
          "2018-06-30",
          "2019-06-30",
          "2020-06-30",
          "2021-06-30"
         ],
         "y": [
          1900000,
          7100000,
          20300000,
          25400000,
          6500000,
          19500000,
          8300000,
          0,
          0,
          0,
          0,
          0,
          0,
          0,
          0,
          0,
          0,
          0,
          0,
          0,
          0,
          0,
          0,
          5746000000,
          5939000000,
          11921000000,
          11944000000,
          15600000000,
          22645000000,
          35292000000,
          53687000000,
          86194000000,
          81808000000,
          78366000000,
          70998000000,
          67775000000
         ]
        },
        {
         "name": "Total shareholders equity",
         "type": "scatter",
         "x": [
          "1986-06-30",
          "1987-06-30",
          "1988-06-30",
          "1989-06-30",
          "1990-06-30",
          "1991-06-30",
          "1992-06-30",
          "1993-06-30",
          "1994-06-30",
          "1995-06-30",
          "1996-06-30",
          "1997-06-30",
          "1998-06-30",
          "1999-06-30",
          "2000-06-30",
          "2001-06-30",
          "2002-06-30",
          "2003-06-30",
          "2004-06-30",
          "2005-06-30",
          "2006-06-30",
          "2007-06-30",
          "2008-06-30",
          "2009-06-30",
          "2010-06-30",
          "2011-06-30",
          "2012-06-30",
          "2013-06-30",
          "2014-06-30",
          "2015-06-30",
          "2016-06-30",
          "2017-06-30",
          "2018-06-30",
          "2019-06-30",
          "2020-06-30",
          "2021-06-30"
         ],
         "y": [
          139300000,
          239100000,
          375500000,
          561800000,
          918600000,
          1350800000,
          2193000000,
          3242000000,
          4450000000,
          5333000000,
          6908000000,
          10777000000,
          16627000000,
          28438000000,
          41368000000,
          47289000000,
          52180000000,
          61020000000,
          74825000000,
          48115000000,
          40104000000,
          31097000000,
          36286000000,
          39558000000,
          46175000000,
          57083000000,
          66363000000,
          78944000000,
          89784000000,
          80083000000,
          71997000000,
          72394000000,
          82718000000,
          102330000000,
          118304000000,
          141988000000
         ]
        },
        {
         "name": "ROE",
         "type": "scatter",
         "x": [
          "1986-06-30",
          "1987-06-30",
          "1988-06-30",
          "1989-06-30",
          "1990-06-30",
          "1991-06-30",
          "1992-06-30",
          "1993-06-30",
          "1994-06-30",
          "1995-06-30",
          "1996-06-30",
          "1997-06-30",
          "1998-06-30",
          "1999-06-30",
          "2000-06-30",
          "2001-06-30",
          "2002-06-30",
          "2003-06-30",
          "2004-06-30",
          "2005-06-30",
          "2006-06-30",
          "2007-06-30",
          "2008-06-30",
          "2009-06-30",
          "2010-06-30",
          "2011-06-30",
          "2012-06-30",
          "2013-06-30",
          "2014-06-30",
          "2015-06-30",
          "2016-06-30",
          "2017-06-30",
          "2018-06-30",
          "2019-06-30",
          "2020-06-30",
          "2021-06-30"
         ],
         "xaxis": "x",
         "y": [
          null,
          0.3800211416490486,
          0.4031890660592255,
          0.36381094633521815,
          0.3771953526074034,
          0.40777297964219616,
          0.3996275184829844,
          0.35068997240110394,
          0.29797191887675506,
          0.2970458959419401,
          0.35863083081447594,
          0.3906135142776364,
          0.32768938841045103,
          0.3455009430822146,
          0.2699194911612182,
          0.16571731504562529,
          0.1574158783138465,
          0.1765547703180212,
          0.12025470205013067,
          0.19934927606962746,
          0.28563007968804904,
          0.3950787208044831,
          0.5247911194218127,
          0.3841833236643637,
          0.4376377824175055,
          0.44839140792965193,
          0.2750676409118157,
          0.30092149724376666,
          0.2616518894315111,
          0.14355937292116774,
          0.22091004734350342,
          0.2937025160847975,
          0.21366496467068957,
          0.42410617785655613,
          0.40139779000516695,
          0.47078665498747563
         ],
         "yaxis": "y2"
        }
       ],
       "layout": {
        "autotypenumbers": "convert types",
        "height": 1200,
        "showlegend": true,
        "template": {
         "data": {
          "bar": [
           {
            "error_x": {
             "color": "#2a3f5f"
            },
            "error_y": {
             "color": "#2a3f5f"
            },
            "marker": {
             "line": {
              "color": "#E5ECF6",
              "width": 0.5
             },
             "pattern": {
              "fillmode": "overlay",
              "size": 10,
              "solidity": 0.2
             }
            },
            "type": "bar"
           }
          ],
          "barpolar": [
           {
            "marker": {
             "line": {
              "color": "#E5ECF6",
              "width": 0.5
             },
             "pattern": {
              "fillmode": "overlay",
              "size": 10,
              "solidity": 0.2
             }
            },
            "type": "barpolar"
           }
          ],
          "carpet": [
           {
            "aaxis": {
             "endlinecolor": "#2a3f5f",
             "gridcolor": "white",
             "linecolor": "white",
             "minorgridcolor": "white",
             "startlinecolor": "#2a3f5f"
            },
            "baxis": {
             "endlinecolor": "#2a3f5f",
             "gridcolor": "white",
             "linecolor": "white",
             "minorgridcolor": "white",
             "startlinecolor": "#2a3f5f"
            },
            "type": "carpet"
           }
          ],
          "choropleth": [
           {
            "colorbar": {
             "outlinewidth": 0,
             "ticks": ""
            },
            "type": "choropleth"
           }
          ],
          "contour": [
           {
            "colorbar": {
             "outlinewidth": 0,
             "ticks": ""
            },
            "colorscale": [
             [
              0,
              "#0d0887"
             ],
             [
              0.1111111111111111,
              "#46039f"
             ],
             [
              0.2222222222222222,
              "#7201a8"
             ],
             [
              0.3333333333333333,
              "#9c179e"
             ],
             [
              0.4444444444444444,
              "#bd3786"
             ],
             [
              0.5555555555555556,
              "#d8576b"
             ],
             [
              0.6666666666666666,
              "#ed7953"
             ],
             [
              0.7777777777777778,
              "#fb9f3a"
             ],
             [
              0.8888888888888888,
              "#fdca26"
             ],
             [
              1,
              "#f0f921"
             ]
            ],
            "type": "contour"
           }
          ],
          "contourcarpet": [
           {
            "colorbar": {
             "outlinewidth": 0,
             "ticks": ""
            },
            "type": "contourcarpet"
           }
          ],
          "heatmap": [
           {
            "colorbar": {
             "outlinewidth": 0,
             "ticks": ""
            },
            "colorscale": [
             [
              0,
              "#0d0887"
             ],
             [
              0.1111111111111111,
              "#46039f"
             ],
             [
              0.2222222222222222,
              "#7201a8"
             ],
             [
              0.3333333333333333,
              "#9c179e"
             ],
             [
              0.4444444444444444,
              "#bd3786"
             ],
             [
              0.5555555555555556,
              "#d8576b"
             ],
             [
              0.6666666666666666,
              "#ed7953"
             ],
             [
              0.7777777777777778,
              "#fb9f3a"
             ],
             [
              0.8888888888888888,
              "#fdca26"
             ],
             [
              1,
              "#f0f921"
             ]
            ],
            "type": "heatmap"
           }
          ],
          "heatmapgl": [
           {
            "colorbar": {
             "outlinewidth": 0,
             "ticks": ""
            },
            "colorscale": [
             [
              0,
              "#0d0887"
             ],
             [
              0.1111111111111111,
              "#46039f"
             ],
             [
              0.2222222222222222,
              "#7201a8"
             ],
             [
              0.3333333333333333,
              "#9c179e"
             ],
             [
              0.4444444444444444,
              "#bd3786"
             ],
             [
              0.5555555555555556,
              "#d8576b"
             ],
             [
              0.6666666666666666,
              "#ed7953"
             ],
             [
              0.7777777777777778,
              "#fb9f3a"
             ],
             [
              0.8888888888888888,
              "#fdca26"
             ],
             [
              1,
              "#f0f921"
             ]
            ],
            "type": "heatmapgl"
           }
          ],
          "histogram": [
           {
            "marker": {
             "pattern": {
              "fillmode": "overlay",
              "size": 10,
              "solidity": 0.2
             }
            },
            "type": "histogram"
           }
          ],
          "histogram2d": [
           {
            "colorbar": {
             "outlinewidth": 0,
             "ticks": ""
            },
            "colorscale": [
             [
              0,
              "#0d0887"
             ],
             [
              0.1111111111111111,
              "#46039f"
             ],
             [
              0.2222222222222222,
              "#7201a8"
             ],
             [
              0.3333333333333333,
              "#9c179e"
             ],
             [
              0.4444444444444444,
              "#bd3786"
             ],
             [
              0.5555555555555556,
              "#d8576b"
             ],
             [
              0.6666666666666666,
              "#ed7953"
             ],
             [
              0.7777777777777778,
              "#fb9f3a"
             ],
             [
              0.8888888888888888,
              "#fdca26"
             ],
             [
              1,
              "#f0f921"
             ]
            ],
            "type": "histogram2d"
           }
          ],
          "histogram2dcontour": [
           {
            "colorbar": {
             "outlinewidth": 0,
             "ticks": ""
            },
            "colorscale": [
             [
              0,
              "#0d0887"
             ],
             [
              0.1111111111111111,
              "#46039f"
             ],
             [
              0.2222222222222222,
              "#7201a8"
             ],
             [
              0.3333333333333333,
              "#9c179e"
             ],
             [
              0.4444444444444444,
              "#bd3786"
             ],
             [
              0.5555555555555556,
              "#d8576b"
             ],
             [
              0.6666666666666666,
              "#ed7953"
             ],
             [
              0.7777777777777778,
              "#fb9f3a"
             ],
             [
              0.8888888888888888,
              "#fdca26"
             ],
             [
              1,
              "#f0f921"
             ]
            ],
            "type": "histogram2dcontour"
           }
          ],
          "mesh3d": [
           {
            "colorbar": {
             "outlinewidth": 0,
             "ticks": ""
            },
            "type": "mesh3d"
           }
          ],
          "parcoords": [
           {
            "line": {
             "colorbar": {
              "outlinewidth": 0,
              "ticks": ""
             }
            },
            "type": "parcoords"
           }
          ],
          "pie": [
           {
            "automargin": true,
            "type": "pie"
           }
          ],
          "scatter": [
           {
            "fillpattern": {
             "fillmode": "overlay",
             "size": 10,
             "solidity": 0.2
            },
            "type": "scatter"
           }
          ],
          "scatter3d": [
           {
            "line": {
             "colorbar": {
              "outlinewidth": 0,
              "ticks": ""
             }
            },
            "marker": {
             "colorbar": {
              "outlinewidth": 0,
              "ticks": ""
             }
            },
            "type": "scatter3d"
           }
          ],
          "scattercarpet": [
           {
            "marker": {
             "colorbar": {
              "outlinewidth": 0,
              "ticks": ""
             }
            },
            "type": "scattercarpet"
           }
          ],
          "scattergeo": [
           {
            "marker": {
             "colorbar": {
              "outlinewidth": 0,
              "ticks": ""
             }
            },
            "type": "scattergeo"
           }
          ],
          "scattergl": [
           {
            "marker": {
             "colorbar": {
              "outlinewidth": 0,
              "ticks": ""
             }
            },
            "type": "scattergl"
           }
          ],
          "scattermapbox": [
           {
            "marker": {
             "colorbar": {
              "outlinewidth": 0,
              "ticks": ""
             }
            },
            "type": "scattermapbox"
           }
          ],
          "scatterpolar": [
           {
            "marker": {
             "colorbar": {
              "outlinewidth": 0,
              "ticks": ""
             }
            },
            "type": "scatterpolar"
           }
          ],
          "scatterpolargl": [
           {
            "marker": {
             "colorbar": {
              "outlinewidth": 0,
              "ticks": ""
             }
            },
            "type": "scatterpolargl"
           }
          ],
          "scatterternary": [
           {
            "marker": {
             "colorbar": {
              "outlinewidth": 0,
              "ticks": ""
             }
            },
            "type": "scatterternary"
           }
          ],
          "surface": [
           {
            "colorbar": {
             "outlinewidth": 0,
             "ticks": ""
            },
            "colorscale": [
             [
              0,
              "#0d0887"
             ],
             [
              0.1111111111111111,
              "#46039f"
             ],
             [
              0.2222222222222222,
              "#7201a8"
             ],
             [
              0.3333333333333333,
              "#9c179e"
             ],
             [
              0.4444444444444444,
              "#bd3786"
             ],
             [
              0.5555555555555556,
              "#d8576b"
             ],
             [
              0.6666666666666666,
              "#ed7953"
             ],
             [
              0.7777777777777778,
              "#fb9f3a"
             ],
             [
              0.8888888888888888,
              "#fdca26"
             ],
             [
              1,
              "#f0f921"
             ]
            ],
            "type": "surface"
           }
          ],
          "table": [
           {
            "cells": {
             "fill": {
              "color": "#EBF0F8"
             },
             "line": {
              "color": "white"
             }
            },
            "header": {
             "fill": {
              "color": "#C8D4E3"
             },
             "line": {
              "color": "white"
             }
            },
            "type": "table"
           }
          ]
         },
         "layout": {
          "annotationdefaults": {
           "arrowcolor": "#2a3f5f",
           "arrowhead": 0,
           "arrowwidth": 1
          },
          "autotypenumbers": "strict",
          "coloraxis": {
           "colorbar": {
            "outlinewidth": 0,
            "ticks": ""
           }
          },
          "colorscale": {
           "diverging": [
            [
             0,
             "#8e0152"
            ],
            [
             0.1,
             "#c51b7d"
            ],
            [
             0.2,
             "#de77ae"
            ],
            [
             0.3,
             "#f1b6da"
            ],
            [
             0.4,
             "#fde0ef"
            ],
            [
             0.5,
             "#f7f7f7"
            ],
            [
             0.6,
             "#e6f5d0"
            ],
            [
             0.7,
             "#b8e186"
            ],
            [
             0.8,
             "#7fbc41"
            ],
            [
             0.9,
             "#4d9221"
            ],
            [
             1,
             "#276419"
            ]
           ],
           "sequential": [
            [
             0,
             "#0d0887"
            ],
            [
             0.1111111111111111,
             "#46039f"
            ],
            [
             0.2222222222222222,
             "#7201a8"
            ],
            [
             0.3333333333333333,
             "#9c179e"
            ],
            [
             0.4444444444444444,
             "#bd3786"
            ],
            [
             0.5555555555555556,
             "#d8576b"
            ],
            [
             0.6666666666666666,
             "#ed7953"
            ],
            [
             0.7777777777777778,
             "#fb9f3a"
            ],
            [
             0.8888888888888888,
             "#fdca26"
            ],
            [
             1,
             "#f0f921"
            ]
           ],
           "sequentialminus": [
            [
             0,
             "#0d0887"
            ],
            [
             0.1111111111111111,
             "#46039f"
            ],
            [
             0.2222222222222222,
             "#7201a8"
            ],
            [
             0.3333333333333333,
             "#9c179e"
            ],
            [
             0.4444444444444444,
             "#bd3786"
            ],
            [
             0.5555555555555556,
             "#d8576b"
            ],
            [
             0.6666666666666666,
             "#ed7953"
            ],
            [
             0.7777777777777778,
             "#fb9f3a"
            ],
            [
             0.8888888888888888,
             "#fdca26"
            ],
            [
             1,
             "#f0f921"
            ]
           ]
          },
          "colorway": [
           "#636efa",
           "#EF553B",
           "#00cc96",
           "#ab63fa",
           "#FFA15A",
           "#19d3f3",
           "#FF6692",
           "#B6E880",
           "#FF97FF",
           "#FECB52"
          ],
          "font": {
           "color": "#2a3f5f"
          },
          "geo": {
           "bgcolor": "white",
           "lakecolor": "white",
           "landcolor": "#E5ECF6",
           "showlakes": true,
           "showland": true,
           "subunitcolor": "white"
          },
          "hoverlabel": {
           "align": "left"
          },
          "hovermode": "closest",
          "mapbox": {
           "style": "light"
          },
          "paper_bgcolor": "white",
          "plot_bgcolor": "#E5ECF6",
          "polar": {
           "angularaxis": {
            "gridcolor": "white",
            "linecolor": "white",
            "ticks": ""
           },
           "bgcolor": "#E5ECF6",
           "radialaxis": {
            "gridcolor": "white",
            "linecolor": "white",
            "ticks": ""
           }
          },
          "scene": {
           "xaxis": {
            "backgroundcolor": "#E5ECF6",
            "gridcolor": "white",
            "gridwidth": 2,
            "linecolor": "white",
            "showbackground": true,
            "ticks": "",
            "zerolinecolor": "white"
           },
           "yaxis": {
            "backgroundcolor": "#E5ECF6",
            "gridcolor": "white",
            "gridwidth": 2,
            "linecolor": "white",
            "showbackground": true,
            "ticks": "",
            "zerolinecolor": "white"
           },
           "zaxis": {
            "backgroundcolor": "#E5ECF6",
            "gridcolor": "white",
            "gridwidth": 2,
            "linecolor": "white",
            "showbackground": true,
            "ticks": "",
            "zerolinecolor": "white"
           }
          },
          "shapedefaults": {
           "line": {
            "color": "#2a3f5f"
           }
          },
          "ternary": {
           "aaxis": {
            "gridcolor": "white",
            "linecolor": "white",
            "ticks": ""
           },
           "baxis": {
            "gridcolor": "white",
            "linecolor": "white",
            "ticks": ""
           },
           "bgcolor": "#E5ECF6",
           "caxis": {
            "gridcolor": "white",
            "linecolor": "white",
            "ticks": ""
           }
          },
          "title": {
           "x": 0.05
          },
          "xaxis": {
           "automargin": true,
           "gridcolor": "white",
           "linecolor": "white",
           "ticks": "",
           "title": {
            "standoff": 15
           },
           "zerolinecolor": "white",
           "zerolinewidth": 2
          },
          "yaxis": {
           "automargin": true,
           "gridcolor": "white",
           "linecolor": "white",
           "ticks": "",
           "title": {
            "standoff": 15
           },
           "zerolinecolor": "white",
           "zerolinewidth": 2
          }
         }
        },
        "title": {
         "text": "MSFT"
        },
        "width": 1500,
        "xaxis": {
         "anchor": "y",
         "domain": [
          0,
          0.94
         ],
         "rangeslider": {
          "visible": true
         },
         "title": {
          "text": "Date"
         }
        },
        "yaxis": {
         "anchor": "x",
         "domain": [
          0,
          1
         ],
         "title": {
          "text": "Values"
         }
        },
        "yaxis2": {
         "anchor": "x",
         "overlaying": "y",
         "side": "right",
         "title": {
          "text": "Values"
         }
        }
       }
      }
     },
     "metadata": {},
     "output_type": "display_data"
    },
    {
     "data": {
      "application/vnd.plotly.v1+json": {
       "config": {
        "plotlyServerURL": "https://plot.ly"
       },
       "data": [
        {
         "name": "Net Income Com",
         "type": "scatter",
         "x": [
          "1986-06-30",
          "1987-06-30",
          "1988-06-30",
          "1989-06-30",
          "1990-06-30",
          "1991-06-30",
          "1992-06-30",
          "1993-06-30",
          "1994-06-30",
          "1995-06-30",
          "1996-06-30",
          "1997-06-30",
          "1998-06-30",
          "1999-06-30",
          "2000-06-30",
          "2001-06-30",
          "2002-06-30",
          "2003-06-30",
          "2004-06-30",
          "2005-06-30",
          "2006-06-30",
          "2007-06-30",
          "2008-06-30",
          "2009-06-30",
          "2010-06-30",
          "2011-06-30",
          "2012-06-30",
          "2013-06-30",
          "2014-06-30",
          "2015-06-30",
          "2016-06-30",
          "2017-06-30",
          "2018-06-30",
          "2019-06-30",
          "2020-06-30",
          "2021-06-30"
         ],
         "y": [
          39300000,
          71900000,
          123900000,
          170500000,
          279200000,
          462700000,
          708100000,
          953000000,
          1146000000,
          1453000000,
          2195000000,
          3454000000,
          4490000000,
          7785000000,
          9421000000,
          7346000000,
          7829000000,
          9993000000,
          8168000000,
          12254000000,
          12599000000,
          14065000000,
          17681000000,
          14569000000,
          18760000000,
          23150000000,
          16978000000,
          21863000000,
          22074000000,
          12193000000,
          16798000000,
          21204000000,
          16571000000,
          39240000000,
          44281000000,
          61271000000
         ]
        },
        {
         "name": "Cash and cash equivalents",
         "type": "scatter",
         "x": [
          "1986-06-30",
          "1987-06-30",
          "1988-06-30",
          "1989-06-30",
          "1990-06-30",
          "1991-06-30",
          "1992-06-30",
          "1993-06-30",
          "1994-06-30",
          "1995-06-30",
          "1996-06-30",
          "1997-06-30",
          "1998-06-30",
          "1999-06-30",
          "2000-06-30",
          "2001-06-30",
          "2002-06-30",
          "2003-06-30",
          "2004-06-30",
          "2005-06-30",
          "2006-06-30",
          "2007-06-30",
          "2008-06-30",
          "2009-06-30",
          "2010-06-30",
          "2011-06-30",
          "2012-06-30",
          "2013-06-30",
          "2014-06-30",
          "2015-06-30",
          "2016-06-30",
          "2017-06-30",
          "2018-06-30",
          "2019-06-30",
          "2020-06-30",
          "2021-06-30"
         ],
         "y": [
          102700000,
          132500000,
          183200000,
          192400000,
          246300000,
          417200000,
          791400000,
          1013000000,
          1477000000,
          1962000000,
          2601000000,
          3706000000,
          3839000000,
          4975000000,
          4846000000,
          3922000000,
          3016000000,
          6438000000,
          15982000000,
          4851000000,
          6714000000,
          6111000000,
          10339000000,
          6076000000,
          5505000000,
          9610000000,
          6938000000,
          3804000000,
          8669000000,
          5595000000,
          6510000000,
          7663000000,
          11946000000,
          11356000000,
          13576000000,
          11748000000
         ]
        },
        {
         "name": "Short-term investments",
         "type": "scatter",
         "x": [
          "1986-06-30",
          "1987-06-30",
          "1988-06-30",
          "1989-06-30",
          "1990-06-30",
          "1991-06-30",
          "1992-06-30",
          "1993-06-30",
          "1994-06-30",
          "1995-06-30",
          "1996-06-30",
          "1997-06-30",
          "1998-06-30",
          "1999-06-30",
          "2000-06-30",
          "2001-06-30",
          "2002-06-30",
          "2003-06-30",
          "2004-06-30",
          "2005-06-30",
          "2006-06-30",
          "2007-06-30",
          "2008-06-30",
          "2009-06-30",
          "2010-06-30",
          "2011-06-30",
          "2012-06-30",
          "2013-06-30",
          "2014-06-30",
          "2015-06-30",
          "2016-06-30",
          "2017-06-30",
          "2018-06-30",
          "2019-06-30",
          "2020-06-30",
          "2021-06-30"
         ],
         "y": [
          0,
          0,
          0,
          0,
          0,
          0,
          0,
          0,
          0,
          0,
          0,
          0,
          0,
          12261000000,
          18952000000,
          27678000000,
          35636000000,
          42610000000,
          44610000000,
          32900000000,
          27447000000,
          17300000000,
          13323000000,
          25371000000,
          31283000000,
          43162000000,
          56102000000,
          73218000000,
          77040000000,
          90931000000,
          106730000000,
          125318000000,
          121822000000,
          122463000000,
          122951000000,
          118586000000
         ]
        },
        {
         "name": "Receivables",
         "type": "scatter",
         "x": [
          "1986-06-30",
          "1987-06-30",
          "1988-06-30",
          "1989-06-30",
          "1990-06-30",
          "1991-06-30",
          "1992-06-30",
          "1993-06-30",
          "1994-06-30",
          "1995-06-30",
          "1996-06-30",
          "1997-06-30",
          "1998-06-30",
          "1999-06-30",
          "2000-06-30",
          "2001-06-30",
          "2002-06-30",
          "2003-06-30",
          "2004-06-30",
          "2005-06-30",
          "2006-06-30",
          "2007-06-30",
          "2008-06-30",
          "2009-06-30",
          "2010-06-30",
          "2011-06-30",
          "2012-06-30",
          "2013-06-30",
          "2014-06-30",
          "2015-06-30",
          "2016-06-30",
          "2017-06-30",
          "2018-06-30",
          "2019-06-30",
          "2020-06-30",
          "2021-06-30"
         ],
         "y": [
          34500000,
          55100000,
          93600000,
          111200000,
          181000000,
          243300000,
          823700000,
          338000000,
          475000000,
          581000000,
          639000000,
          980000000,
          1460000000,
          2245000000,
          3250000000,
          3671000000,
          5129000000,
          5196000000,
          5890000000,
          7180000000,
          9316000000,
          11338000000,
          13589000000,
          11192000000,
          13014000000,
          14987000000,
          15780000000,
          17486000000,
          19544000000,
          17908000000,
          18277000000,
          19792000000,
          26481000000,
          29524000000,
          32011000000,
          38043000000
         ]
        },
        {
         "name": "Long-term investments",
         "type": "scatter",
         "x": [
          "1986-06-30",
          "1987-06-30",
          "1988-06-30",
          "1989-06-30",
          "1990-06-30",
          "1991-06-30",
          "1992-06-30",
          "1993-06-30",
          "1994-06-30",
          "1995-06-30",
          "1996-06-30",
          "1997-06-30",
          "1998-06-30",
          "1999-06-30",
          "2000-06-30",
          "2001-06-30",
          "2002-06-30",
          "2003-06-30",
          "2004-06-30",
          "2005-06-30",
          "2006-06-30",
          "2007-06-30",
          "2008-06-30",
          "2009-06-30",
          "2010-06-30",
          "2011-06-30",
          "2012-06-30",
          "2013-06-30",
          "2014-06-30",
          "2015-06-30",
          "2016-06-30",
          "2017-06-30",
          "2018-06-30",
          "2019-06-30",
          "2020-06-30",
          "2021-06-30"
         ],
         "y": [
          0,
          0,
          0,
          0,
          0,
          0,
          0,
          0,
          0,
          0,
          0,
          0,
          0,
          0,
          0,
          0,
          0,
          0,
          0,
          0,
          0,
          0,
          6588000000,
          4933000000,
          7754000000,
          10865000000,
          9776000000,
          10844000000,
          14597000000,
          12053000000,
          10431000000,
          6023000000,
          1862000000,
          2649000000,
          2965000000,
          5984000000
         ]
        },
        {
         "name": "Total current liabilities",
         "type": "scatter",
         "x": [
          "1986-06-30",
          "1987-06-30",
          "1988-06-30",
          "1989-06-30",
          "1990-06-30",
          "1991-06-30",
          "1992-06-30",
          "1993-06-30",
          "1994-06-30",
          "1995-06-30",
          "1996-06-30",
          "1997-06-30",
          "1998-06-30",
          "1999-06-30",
          "2000-06-30",
          "2001-06-30",
          "2002-06-30",
          "2003-06-30",
          "2004-06-30",
          "2005-06-30",
          "2006-06-30",
          "2007-06-30",
          "2008-06-30",
          "2009-06-30",
          "2010-06-30",
          "2011-06-30",
          "2012-06-30",
          "2013-06-30",
          "2014-06-30",
          "2015-06-30",
          "2016-06-30",
          "2017-06-30",
          "2018-06-30",
          "2019-06-30",
          "2020-06-30",
          "2021-06-30"
         ],
         "y": [
          29500000,
          46600000,
          117600000,
          158800000,
          186800000,
          293400000,
          446900000,
          563000000,
          913000000,
          1347000000,
          2425000000,
          3610000000,
          5730000000,
          8718000000,
          9755000000,
          11132000000,
          12744000000,
          13974000000,
          14969000000,
          16877000000,
          22442000000,
          23754000000,
          29886000000,
          27034000000,
          26147000000,
          28774000000,
          32688000000,
          37417000000,
          45625000000,
          49858000000,
          59357000000,
          64527000000,
          58488000000,
          69420000000,
          72310000000,
          88657000000
         ]
        },
        {
         "name": "Total debt",
         "type": "scatter",
         "x": [
          "1986-06-30",
          "1987-06-30",
          "1988-06-30",
          "1989-06-30",
          "1990-06-30",
          "1991-06-30",
          "1992-06-30",
          "1993-06-30",
          "1994-06-30",
          "1995-06-30",
          "1996-06-30",
          "1997-06-30",
          "1998-06-30",
          "1999-06-30",
          "2000-06-30",
          "2001-06-30",
          "2002-06-30",
          "2003-06-30",
          "2004-06-30",
          "2005-06-30",
          "2006-06-30",
          "2007-06-30",
          "2008-06-30",
          "2009-06-30",
          "2010-06-30",
          "2011-06-30",
          "2012-06-30",
          "2013-06-30",
          "2014-06-30",
          "2015-06-30",
          "2016-06-30",
          "2017-06-30",
          "2018-06-30",
          "2019-06-30",
          "2020-06-30",
          "2021-06-30"
         ],
         "y": [
          1900000,
          7100000,
          20300000,
          25400000,
          6500000,
          19500000,
          8300000,
          0,
          0,
          0,
          0,
          0,
          0,
          0,
          0,
          0,
          0,
          0,
          0,
          0,
          0,
          0,
          0,
          5746000000,
          5939000000,
          11921000000,
          11944000000,
          15600000000,
          22645000000,
          35292000000,
          53687000000,
          86194000000,
          81808000000,
          78366000000,
          70998000000,
          67775000000
         ]
        },
        {
         "name": "Total shareholders equity",
         "type": "scatter",
         "x": [
          "1986-06-30",
          "1987-06-30",
          "1988-06-30",
          "1989-06-30",
          "1990-06-30",
          "1991-06-30",
          "1992-06-30",
          "1993-06-30",
          "1994-06-30",
          "1995-06-30",
          "1996-06-30",
          "1997-06-30",
          "1998-06-30",
          "1999-06-30",
          "2000-06-30",
          "2001-06-30",
          "2002-06-30",
          "2003-06-30",
          "2004-06-30",
          "2005-06-30",
          "2006-06-30",
          "2007-06-30",
          "2008-06-30",
          "2009-06-30",
          "2010-06-30",
          "2011-06-30",
          "2012-06-30",
          "2013-06-30",
          "2014-06-30",
          "2015-06-30",
          "2016-06-30",
          "2017-06-30",
          "2018-06-30",
          "2019-06-30",
          "2020-06-30",
          "2021-06-30"
         ],
         "y": [
          139300000,
          239100000,
          375500000,
          561800000,
          918600000,
          1350800000,
          2193000000,
          3242000000,
          4450000000,
          5333000000,
          6908000000,
          10777000000,
          16627000000,
          28438000000,
          41368000000,
          47289000000,
          52180000000,
          61020000000,
          74825000000,
          48115000000,
          40104000000,
          31097000000,
          36286000000,
          39558000000,
          46175000000,
          57083000000,
          66363000000,
          78944000000,
          89784000000,
          80083000000,
          71997000000,
          72394000000,
          82718000000,
          102330000000,
          118304000000,
          141988000000
         ]
        },
        {
         "name": "ROE",
         "type": "scatter",
         "x": [
          "1986-06-30",
          "1987-06-30",
          "1988-06-30",
          "1989-06-30",
          "1990-06-30",
          "1991-06-30",
          "1992-06-30",
          "1993-06-30",
          "1994-06-30",
          "1995-06-30",
          "1996-06-30",
          "1997-06-30",
          "1998-06-30",
          "1999-06-30",
          "2000-06-30",
          "2001-06-30",
          "2002-06-30",
          "2003-06-30",
          "2004-06-30",
          "2005-06-30",
          "2006-06-30",
          "2007-06-30",
          "2008-06-30",
          "2009-06-30",
          "2010-06-30",
          "2011-06-30",
          "2012-06-30",
          "2013-06-30",
          "2014-06-30",
          "2015-06-30",
          "2016-06-30",
          "2017-06-30",
          "2018-06-30",
          "2019-06-30",
          "2020-06-30",
          "2021-06-30"
         ],
         "xaxis": "x",
         "y": [
          null,
          0.3800211416490486,
          0.4031890660592255,
          0.36381094633521815,
          0.3771953526074034,
          0.40777297964219616,
          0.3996275184829844,
          0.35068997240110394,
          0.29797191887675506,
          0.2970458959419401,
          0.35863083081447594,
          0.3906135142776364,
          0.32768938841045103,
          0.3455009430822146,
          0.2699194911612182,
          0.16571731504562529,
          0.1574158783138465,
          0.1765547703180212,
          0.12025470205013067,
          0.19934927606962746,
          0.28563007968804904,
          0.3950787208044831,
          0.5247911194218127,
          0.3841833236643637,
          0.4376377824175055,
          0.44839140792965193,
          0.2750676409118157,
          0.30092149724376666,
          0.2616518894315111,
          0.14355937292116774,
          0.22091004734350342,
          0.2937025160847975,
          0.21366496467068957,
          0.42410617785655613,
          0.40139779000516695,
          0.47078665498747563
         ],
         "yaxis": "y2"
        }
       ],
       "layout": {
        "autotypenumbers": "convert types",
        "height": 1200,
        "showlegend": true,
        "template": {
         "data": {
          "bar": [
           {
            "error_x": {
             "color": "#2a3f5f"
            },
            "error_y": {
             "color": "#2a3f5f"
            },
            "marker": {
             "line": {
              "color": "#E5ECF6",
              "width": 0.5
             },
             "pattern": {
              "fillmode": "overlay",
              "size": 10,
              "solidity": 0.2
             }
            },
            "type": "bar"
           }
          ],
          "barpolar": [
           {
            "marker": {
             "line": {
              "color": "#E5ECF6",
              "width": 0.5
             },
             "pattern": {
              "fillmode": "overlay",
              "size": 10,
              "solidity": 0.2
             }
            },
            "type": "barpolar"
           }
          ],
          "carpet": [
           {
            "aaxis": {
             "endlinecolor": "#2a3f5f",
             "gridcolor": "white",
             "linecolor": "white",
             "minorgridcolor": "white",
             "startlinecolor": "#2a3f5f"
            },
            "baxis": {
             "endlinecolor": "#2a3f5f",
             "gridcolor": "white",
             "linecolor": "white",
             "minorgridcolor": "white",
             "startlinecolor": "#2a3f5f"
            },
            "type": "carpet"
           }
          ],
          "choropleth": [
           {
            "colorbar": {
             "outlinewidth": 0,
             "ticks": ""
            },
            "type": "choropleth"
           }
          ],
          "contour": [
           {
            "colorbar": {
             "outlinewidth": 0,
             "ticks": ""
            },
            "colorscale": [
             [
              0,
              "#0d0887"
             ],
             [
              0.1111111111111111,
              "#46039f"
             ],
             [
              0.2222222222222222,
              "#7201a8"
             ],
             [
              0.3333333333333333,
              "#9c179e"
             ],
             [
              0.4444444444444444,
              "#bd3786"
             ],
             [
              0.5555555555555556,
              "#d8576b"
             ],
             [
              0.6666666666666666,
              "#ed7953"
             ],
             [
              0.7777777777777778,
              "#fb9f3a"
             ],
             [
              0.8888888888888888,
              "#fdca26"
             ],
             [
              1,
              "#f0f921"
             ]
            ],
            "type": "contour"
           }
          ],
          "contourcarpet": [
           {
            "colorbar": {
             "outlinewidth": 0,
             "ticks": ""
            },
            "type": "contourcarpet"
           }
          ],
          "heatmap": [
           {
            "colorbar": {
             "outlinewidth": 0,
             "ticks": ""
            },
            "colorscale": [
             [
              0,
              "#0d0887"
             ],
             [
              0.1111111111111111,
              "#46039f"
             ],
             [
              0.2222222222222222,
              "#7201a8"
             ],
             [
              0.3333333333333333,
              "#9c179e"
             ],
             [
              0.4444444444444444,
              "#bd3786"
             ],
             [
              0.5555555555555556,
              "#d8576b"
             ],
             [
              0.6666666666666666,
              "#ed7953"
             ],
             [
              0.7777777777777778,
              "#fb9f3a"
             ],
             [
              0.8888888888888888,
              "#fdca26"
             ],
             [
              1,
              "#f0f921"
             ]
            ],
            "type": "heatmap"
           }
          ],
          "heatmapgl": [
           {
            "colorbar": {
             "outlinewidth": 0,
             "ticks": ""
            },
            "colorscale": [
             [
              0,
              "#0d0887"
             ],
             [
              0.1111111111111111,
              "#46039f"
             ],
             [
              0.2222222222222222,
              "#7201a8"
             ],
             [
              0.3333333333333333,
              "#9c179e"
             ],
             [
              0.4444444444444444,
              "#bd3786"
             ],
             [
              0.5555555555555556,
              "#d8576b"
             ],
             [
              0.6666666666666666,
              "#ed7953"
             ],
             [
              0.7777777777777778,
              "#fb9f3a"
             ],
             [
              0.8888888888888888,
              "#fdca26"
             ],
             [
              1,
              "#f0f921"
             ]
            ],
            "type": "heatmapgl"
           }
          ],
          "histogram": [
           {
            "marker": {
             "pattern": {
              "fillmode": "overlay",
              "size": 10,
              "solidity": 0.2
             }
            },
            "type": "histogram"
           }
          ],
          "histogram2d": [
           {
            "colorbar": {
             "outlinewidth": 0,
             "ticks": ""
            },
            "colorscale": [
             [
              0,
              "#0d0887"
             ],
             [
              0.1111111111111111,
              "#46039f"
             ],
             [
              0.2222222222222222,
              "#7201a8"
             ],
             [
              0.3333333333333333,
              "#9c179e"
             ],
             [
              0.4444444444444444,
              "#bd3786"
             ],
             [
              0.5555555555555556,
              "#d8576b"
             ],
             [
              0.6666666666666666,
              "#ed7953"
             ],
             [
              0.7777777777777778,
              "#fb9f3a"
             ],
             [
              0.8888888888888888,
              "#fdca26"
             ],
             [
              1,
              "#f0f921"
             ]
            ],
            "type": "histogram2d"
           }
          ],
          "histogram2dcontour": [
           {
            "colorbar": {
             "outlinewidth": 0,
             "ticks": ""
            },
            "colorscale": [
             [
              0,
              "#0d0887"
             ],
             [
              0.1111111111111111,
              "#46039f"
             ],
             [
              0.2222222222222222,
              "#7201a8"
             ],
             [
              0.3333333333333333,
              "#9c179e"
             ],
             [
              0.4444444444444444,
              "#bd3786"
             ],
             [
              0.5555555555555556,
              "#d8576b"
             ],
             [
              0.6666666666666666,
              "#ed7953"
             ],
             [
              0.7777777777777778,
              "#fb9f3a"
             ],
             [
              0.8888888888888888,
              "#fdca26"
             ],
             [
              1,
              "#f0f921"
             ]
            ],
            "type": "histogram2dcontour"
           }
          ],
          "mesh3d": [
           {
            "colorbar": {
             "outlinewidth": 0,
             "ticks": ""
            },
            "type": "mesh3d"
           }
          ],
          "parcoords": [
           {
            "line": {
             "colorbar": {
              "outlinewidth": 0,
              "ticks": ""
             }
            },
            "type": "parcoords"
           }
          ],
          "pie": [
           {
            "automargin": true,
            "type": "pie"
           }
          ],
          "scatter": [
           {
            "fillpattern": {
             "fillmode": "overlay",
             "size": 10,
             "solidity": 0.2
            },
            "type": "scatter"
           }
          ],
          "scatter3d": [
           {
            "line": {
             "colorbar": {
              "outlinewidth": 0,
              "ticks": ""
             }
            },
            "marker": {
             "colorbar": {
              "outlinewidth": 0,
              "ticks": ""
             }
            },
            "type": "scatter3d"
           }
          ],
          "scattercarpet": [
           {
            "marker": {
             "colorbar": {
              "outlinewidth": 0,
              "ticks": ""
             }
            },
            "type": "scattercarpet"
           }
          ],
          "scattergeo": [
           {
            "marker": {
             "colorbar": {
              "outlinewidth": 0,
              "ticks": ""
             }
            },
            "type": "scattergeo"
           }
          ],
          "scattergl": [
           {
            "marker": {
             "colorbar": {
              "outlinewidth": 0,
              "ticks": ""
             }
            },
            "type": "scattergl"
           }
          ],
          "scattermapbox": [
           {
            "marker": {
             "colorbar": {
              "outlinewidth": 0,
              "ticks": ""
             }
            },
            "type": "scattermapbox"
           }
          ],
          "scatterpolar": [
           {
            "marker": {
             "colorbar": {
              "outlinewidth": 0,
              "ticks": ""
             }
            },
            "type": "scatterpolar"
           }
          ],
          "scatterpolargl": [
           {
            "marker": {
             "colorbar": {
              "outlinewidth": 0,
              "ticks": ""
             }
            },
            "type": "scatterpolargl"
           }
          ],
          "scatterternary": [
           {
            "marker": {
             "colorbar": {
              "outlinewidth": 0,
              "ticks": ""
             }
            },
            "type": "scatterternary"
           }
          ],
          "surface": [
           {
            "colorbar": {
             "outlinewidth": 0,
             "ticks": ""
            },
            "colorscale": [
             [
              0,
              "#0d0887"
             ],
             [
              0.1111111111111111,
              "#46039f"
             ],
             [
              0.2222222222222222,
              "#7201a8"
             ],
             [
              0.3333333333333333,
              "#9c179e"
             ],
             [
              0.4444444444444444,
              "#bd3786"
             ],
             [
              0.5555555555555556,
              "#d8576b"
             ],
             [
              0.6666666666666666,
              "#ed7953"
             ],
             [
              0.7777777777777778,
              "#fb9f3a"
             ],
             [
              0.8888888888888888,
              "#fdca26"
             ],
             [
              1,
              "#f0f921"
             ]
            ],
            "type": "surface"
           }
          ],
          "table": [
           {
            "cells": {
             "fill": {
              "color": "#EBF0F8"
             },
             "line": {
              "color": "white"
             }
            },
            "header": {
             "fill": {
              "color": "#C8D4E3"
             },
             "line": {
              "color": "white"
             }
            },
            "type": "table"
           }
          ]
         },
         "layout": {
          "annotationdefaults": {
           "arrowcolor": "#2a3f5f",
           "arrowhead": 0,
           "arrowwidth": 1
          },
          "autotypenumbers": "strict",
          "coloraxis": {
           "colorbar": {
            "outlinewidth": 0,
            "ticks": ""
           }
          },
          "colorscale": {
           "diverging": [
            [
             0,
             "#8e0152"
            ],
            [
             0.1,
             "#c51b7d"
            ],
            [
             0.2,
             "#de77ae"
            ],
            [
             0.3,
             "#f1b6da"
            ],
            [
             0.4,
             "#fde0ef"
            ],
            [
             0.5,
             "#f7f7f7"
            ],
            [
             0.6,
             "#e6f5d0"
            ],
            [
             0.7,
             "#b8e186"
            ],
            [
             0.8,
             "#7fbc41"
            ],
            [
             0.9,
             "#4d9221"
            ],
            [
             1,
             "#276419"
            ]
           ],
           "sequential": [
            [
             0,
             "#0d0887"
            ],
            [
             0.1111111111111111,
             "#46039f"
            ],
            [
             0.2222222222222222,
             "#7201a8"
            ],
            [
             0.3333333333333333,
             "#9c179e"
            ],
            [
             0.4444444444444444,
             "#bd3786"
            ],
            [
             0.5555555555555556,
             "#d8576b"
            ],
            [
             0.6666666666666666,
             "#ed7953"
            ],
            [
             0.7777777777777778,
             "#fb9f3a"
            ],
            [
             0.8888888888888888,
             "#fdca26"
            ],
            [
             1,
             "#f0f921"
            ]
           ],
           "sequentialminus": [
            [
             0,
             "#0d0887"
            ],
            [
             0.1111111111111111,
             "#46039f"
            ],
            [
             0.2222222222222222,
             "#7201a8"
            ],
            [
             0.3333333333333333,
             "#9c179e"
            ],
            [
             0.4444444444444444,
             "#bd3786"
            ],
            [
             0.5555555555555556,
             "#d8576b"
            ],
            [
             0.6666666666666666,
             "#ed7953"
            ],
            [
             0.7777777777777778,
             "#fb9f3a"
            ],
            [
             0.8888888888888888,
             "#fdca26"
            ],
            [
             1,
             "#f0f921"
            ]
           ]
          },
          "colorway": [
           "#636efa",
           "#EF553B",
           "#00cc96",
           "#ab63fa",
           "#FFA15A",
           "#19d3f3",
           "#FF6692",
           "#B6E880",
           "#FF97FF",
           "#FECB52"
          ],
          "font": {
           "color": "#2a3f5f"
          },
          "geo": {
           "bgcolor": "white",
           "lakecolor": "white",
           "landcolor": "#E5ECF6",
           "showlakes": true,
           "showland": true,
           "subunitcolor": "white"
          },
          "hoverlabel": {
           "align": "left"
          },
          "hovermode": "closest",
          "mapbox": {
           "style": "light"
          },
          "paper_bgcolor": "white",
          "plot_bgcolor": "#E5ECF6",
          "polar": {
           "angularaxis": {
            "gridcolor": "white",
            "linecolor": "white",
            "ticks": ""
           },
           "bgcolor": "#E5ECF6",
           "radialaxis": {
            "gridcolor": "white",
            "linecolor": "white",
            "ticks": ""
           }
          },
          "scene": {
           "xaxis": {
            "backgroundcolor": "#E5ECF6",
            "gridcolor": "white",
            "gridwidth": 2,
            "linecolor": "white",
            "showbackground": true,
            "ticks": "",
            "zerolinecolor": "white"
           },
           "yaxis": {
            "backgroundcolor": "#E5ECF6",
            "gridcolor": "white",
            "gridwidth": 2,
            "linecolor": "white",
            "showbackground": true,
            "ticks": "",
            "zerolinecolor": "white"
           },
           "zaxis": {
            "backgroundcolor": "#E5ECF6",
            "gridcolor": "white",
            "gridwidth": 2,
            "linecolor": "white",
            "showbackground": true,
            "ticks": "",
            "zerolinecolor": "white"
           }
          },
          "shapedefaults": {
           "line": {
            "color": "#2a3f5f"
           }
          },
          "ternary": {
           "aaxis": {
            "gridcolor": "white",
            "linecolor": "white",
            "ticks": ""
           },
           "baxis": {
            "gridcolor": "white",
            "linecolor": "white",
            "ticks": ""
           },
           "bgcolor": "#E5ECF6",
           "caxis": {
            "gridcolor": "white",
            "linecolor": "white",
            "ticks": ""
           }
          },
          "title": {
           "x": 0.05
          },
          "xaxis": {
           "automargin": true,
           "gridcolor": "white",
           "linecolor": "white",
           "ticks": "",
           "title": {
            "standoff": 15
           },
           "zerolinecolor": "white",
           "zerolinewidth": 2
          },
          "yaxis": {
           "automargin": true,
           "gridcolor": "white",
           "linecolor": "white",
           "ticks": "",
           "title": {
            "standoff": 15
           },
           "zerolinecolor": "white",
           "zerolinewidth": 2
          }
         }
        },
        "title": {
         "text": "MSFT"
        },
        "width": 1500,
        "xaxis": {
         "anchor": "y",
         "domain": [
          0,
          0.94
         ],
         "rangeslider": {
          "visible": true
         },
         "title": {
          "text": "Date"
         }
        },
        "yaxis": {
         "anchor": "x",
         "domain": [
          0,
          1
         ],
         "title": {
          "text": "Values"
         }
        },
        "yaxis2": {
         "anchor": "x",
         "overlaying": "y",
         "side": "right",
         "title": {
          "text": "Values"
         }
        }
       }
      }
     },
     "metadata": {},
     "output_type": "display_data"
    },
    {
     "name": "stderr",
     "output_type": "stream",
     "text": [
      "INFO:modelling_prep:Creating financials dataframe for AMZN...\n"
     ]
    },
    {
     "name": "stdout",
     "output_type": "stream",
     "text": [
      "JSON data saved to file: data\\income_statement_AMZN.json\n",
      "JSON data saved to file: data\\balance_statement_AMZN.json\n"
     ]
    },
    {
     "data": {
      "application/vnd.plotly.v1+json": {
       "config": {
        "plotlyServerURL": "https://plot.ly"
       },
       "data": [
        {
         "name": "Net Income Com",
         "type": "scatter",
         "x": [
          "1996-12-31",
          "1997-12-31",
          "1998-12-31",
          "1999-12-31",
          "2000-12-31",
          "2001-12-31",
          "2002-12-31",
          "2003-12-31",
          "2004-12-31",
          "2005-12-31",
          "2006-12-31",
          "2007-12-31",
          "2008-12-31",
          "2009-12-31",
          "2010-12-31",
          "2011-12-31",
          "2012-12-31",
          "2013-12-31",
          "2014-12-31",
          "2015-12-31",
          "2016-12-31",
          "2017-12-31",
          "2018-12-31",
          "2019-12-31",
          "2020-12-31",
          "2021-12-31"
         ],
         "y": [
          -5800000,
          -27600000,
          -124546000,
          -719968000,
          -1411273000,
          -567277000,
          -149132000,
          35282000,
          588451000,
          359000000,
          190000000,
          476000000,
          645000000,
          902000000,
          1152000000,
          631000000,
          -39000000,
          274000000,
          -241000000,
          596000000,
          2371000000,
          3033000000,
          10073000000,
          11588000000,
          21331000000,
          33364000000
         ]
        },
        {
         "name": "Cash and cash equivalents",
         "type": "scatter",
         "x": [
          "1996-12-31",
          "1997-12-31",
          "1998-12-31",
          "1999-12-31",
          "2000-12-31",
          "2001-12-31",
          "2002-12-31",
          "2003-12-31",
          "2004-12-31",
          "2005-12-31",
          "2006-12-31",
          "2007-12-31",
          "2008-12-31",
          "2009-12-31",
          "2010-12-31",
          "2011-12-31",
          "2012-12-31",
          "2013-12-31",
          "2014-12-31",
          "2015-12-31",
          "2016-12-31",
          "2017-12-31",
          "2018-12-31",
          "2019-12-31",
          "2020-12-31",
          "2021-12-31"
         ],
         "y": [
          6200000,
          109800000,
          25561000,
          116962000,
          822435000,
          540282000,
          738254000,
          1102273000,
          1302600000,
          1013000000,
          1022000000,
          2539000000,
          2769000000,
          3444000000,
          3777000000,
          5269000000,
          8084000000,
          8658000000,
          14557000000,
          15890000000,
          19334000000,
          20522000000,
          31750000000,
          36092000000,
          42122000000,
          36220000000
         ]
        },
        {
         "name": "Short-term investments",
         "type": "scatter",
         "x": [
          "1996-12-31",
          "1997-12-31",
          "1998-12-31",
          "1999-12-31",
          "2000-12-31",
          "2001-12-31",
          "2002-12-31",
          "2003-12-31",
          "2004-12-31",
          "2005-12-31",
          "2006-12-31",
          "2007-12-31",
          "2008-12-31",
          "2009-12-31",
          "2010-12-31",
          "2011-12-31",
          "2012-12-31",
          "2013-12-31",
          "2014-12-31",
          "2015-12-31",
          "2016-12-31",
          "2017-12-31",
          "2018-12-31",
          "2019-12-31",
          "2020-12-31",
          "2021-12-31"
         ],
         "y": [
          0,
          0,
          347884000,
          589226000,
          278087000,
          456303000,
          562715000,
          292550000,
          476599000,
          987000000,
          997000000,
          573000000,
          958000000,
          2922000000,
          4985000000,
          4307000000,
          3364000000,
          3789000000,
          2859000000,
          3918000000,
          6647000000,
          10464000000,
          9500000000,
          18929000000,
          42274000000,
          59829000000
         ]
        },
        {
         "name": "Receivables",
         "type": "scatter",
         "x": [
          "1996-12-31",
          "1997-12-31",
          "1998-12-31",
          "1999-12-31",
          "2000-12-31",
          "2001-12-31",
          "2002-12-31",
          "2003-12-31",
          "2004-12-31",
          "2005-12-31",
          "2006-12-31",
          "2007-12-31",
          "2008-12-31",
          "2009-12-31",
          "2010-12-31",
          "2011-12-31",
          "2012-12-31",
          "2013-12-31",
          "2014-12-31",
          "2015-12-31",
          "2016-12-31",
          "2017-12-31",
          "2018-12-31",
          "2019-12-31",
          "2020-12-31",
          "2021-12-31"
         ],
         "y": [
          0,
          0,
          0,
          0,
          0,
          0,
          112282000,
          132069000,
          199100000,
          274000000,
          399000000,
          705000000,
          827000000,
          988000000,
          1587000000,
          2571000000,
          3364000000,
          4767000000,
          5612000000,
          6423000000,
          8339000000,
          13164000000,
          16677000000,
          20816000000,
          24542000000,
          32891000000
         ]
        },
        {
         "name": "Long-term investments",
         "type": "scatter",
         "x": [
          "1996-12-31",
          "1997-12-31",
          "1998-12-31",
          "1999-12-31",
          "2000-12-31",
          "2001-12-31",
          "2002-12-31",
          "2003-12-31",
          "2004-12-31",
          "2005-12-31",
          "2006-12-31",
          "2007-12-31",
          "2008-12-31",
          "2009-12-31",
          "2010-12-31",
          "2011-12-31",
          "2012-12-31",
          "2013-12-31",
          "2014-12-31",
          "2015-12-31",
          "2016-12-31",
          "2017-12-31",
          "2018-12-31",
          "2019-12-31",
          "2020-12-31",
          "2021-12-31"
         ],
         "y": [
          0,
          0,
          0,
          0,
          0,
          0,
          0,
          0,
          0,
          0,
          0,
          0,
          0,
          0,
          0,
          0,
          0,
          0,
          0,
          0,
          0,
          0,
          0,
          0,
          0,
          0
         ]
        },
        {
         "name": "Total current liabilities",
         "type": "scatter",
         "x": [
          "1996-12-31",
          "1997-12-31",
          "1998-12-31",
          "1999-12-31",
          "2000-12-31",
          "2001-12-31",
          "2002-12-31",
          "2003-12-31",
          "2004-12-31",
          "2005-12-31",
          "2006-12-31",
          "2007-12-31",
          "2008-12-31",
          "2009-12-31",
          "2010-12-31",
          "2011-12-31",
          "2012-12-31",
          "2013-12-31",
          "2014-12-31",
          "2015-12-31",
          "2016-12-31",
          "2017-12-31",
          "2018-12-31",
          "2019-12-31",
          "2020-12-31",
          "2021-12-31"
         ],
         "y": [
          4900000,
          43800000,
          161575000,
          738935000,
          974956000,
          921414000,
          1065958000,
          1252701000,
          1620400000,
          1929000000,
          2532000000,
          3714000000,
          4746000000,
          7364000000,
          10372000000,
          14896000000,
          19002000000,
          22980000000,
          28089000000,
          33899000000,
          43816000000,
          57883000000,
          68391000000,
          87812000000,
          126385000000,
          142266000000
         ]
        },
        {
         "name": "Total debt",
         "type": "scatter",
         "x": [
          "1996-12-31",
          "1997-12-31",
          "1998-12-31",
          "1999-12-31",
          "2000-12-31",
          "2001-12-31",
          "2002-12-31",
          "2003-12-31",
          "2004-12-31",
          "2005-12-31",
          "2006-12-31",
          "2007-12-31",
          "2008-12-31",
          "2009-12-31",
          "2010-12-31",
          "2011-12-31",
          "2012-12-31",
          "2013-12-31",
          "2014-12-31",
          "2015-12-31",
          "2016-12-31",
          "2017-12-31",
          "2018-12-31",
          "2019-12-31",
          "2020-12-31",
          "2021-12-31"
         ],
         "y": [
          0,
          78200000,
          348824000,
          1480660000,
          2144041000,
          2171125000,
          2290623000,
          1949655000,
          1857700000,
          1521000000,
          1267000000,
          1344000000,
          468000000,
          252000000,
          641000000,
          1415000000,
          3830000000,
          5181000000,
          12489000000,
          14183000000,
          15213000000,
          37926000000,
          39787000000,
          63205000000,
          84389000000,
          116395000000
         ]
        },
        {
         "name": "Total shareholders equity",
         "type": "scatter",
         "x": [
          "1996-12-31",
          "1997-12-31",
          "1998-12-31",
          "1999-12-31",
          "2000-12-31",
          "2001-12-31",
          "2002-12-31",
          "2003-12-31",
          "2004-12-31",
          "2005-12-31",
          "2006-12-31",
          "2007-12-31",
          "2008-12-31",
          "2009-12-31",
          "2010-12-31",
          "2011-12-31",
          "2012-12-31",
          "2013-12-31",
          "2014-12-31",
          "2015-12-31",
          "2016-12-31",
          "2017-12-31",
          "2018-12-31",
          "2019-12-31",
          "2020-12-31",
          "2021-12-31"
         ],
         "y": [
          3400000,
          28500000,
          138745000,
          266278000,
          -967251000,
          -1440000000,
          -1352814000,
          -1036107000,
          -227211000,
          246000000,
          431000000,
          1197000000,
          2672000000,
          5257000000,
          6864000000,
          7757000000,
          8192000000,
          9746000000,
          10741000000,
          13384000000,
          19285000000,
          27709000000,
          43549000000,
          62060000000,
          93404000000,
          138245000000
         ]
        },
        {
         "name": "ROE",
         "type": "scatter",
         "x": [
          "1996-12-31",
          "1997-12-31",
          "1998-12-31",
          "1999-12-31",
          "2000-12-31",
          "2001-12-31",
          "2002-12-31",
          "2003-12-31",
          "2004-12-31",
          "2005-12-31",
          "2006-12-31",
          "2007-12-31",
          "2008-12-31",
          "2009-12-31",
          "2010-12-31",
          "2011-12-31",
          "2012-12-31",
          "2013-12-31",
          "2014-12-31",
          "2015-12-31",
          "2016-12-31",
          "2017-12-31",
          "2018-12-31",
          "2019-12-31",
          "2020-12-31",
          "2021-12-31"
         ],
         "xaxis": "x",
         "y": [
          null,
          -1.7304075235109717,
          -1.489383838081856,
          -3.555195630865408,
          4.026611581330522,
          0.47130689736965525,
          0.1067969438709488,
          -0.029538021558686955,
          -0.9315960035398847,
          38.21384852839427,
          0.5612998522895125,
          0.5847665847665847,
          0.33341948823985523,
          0.2275192331946021,
          0.19008332645821302,
          0.08631420559469256,
          -0.004890588751645871,
          0.030549671089307614,
          -0.023527114755698735,
          0.04940932642487047,
          0.14515289724203373,
          0.1290803081244414,
          0.28271913329029724,
          0.21945099376000152,
          0.2744172284258735,
          0.2880564992726064
         ],
         "yaxis": "y2"
        }
       ],
       "layout": {
        "autotypenumbers": "convert types",
        "height": 1200,
        "showlegend": true,
        "template": {
         "data": {
          "bar": [
           {
            "error_x": {
             "color": "#2a3f5f"
            },
            "error_y": {
             "color": "#2a3f5f"
            },
            "marker": {
             "line": {
              "color": "#E5ECF6",
              "width": 0.5
             },
             "pattern": {
              "fillmode": "overlay",
              "size": 10,
              "solidity": 0.2
             }
            },
            "type": "bar"
           }
          ],
          "barpolar": [
           {
            "marker": {
             "line": {
              "color": "#E5ECF6",
              "width": 0.5
             },
             "pattern": {
              "fillmode": "overlay",
              "size": 10,
              "solidity": 0.2
             }
            },
            "type": "barpolar"
           }
          ],
          "carpet": [
           {
            "aaxis": {
             "endlinecolor": "#2a3f5f",
             "gridcolor": "white",
             "linecolor": "white",
             "minorgridcolor": "white",
             "startlinecolor": "#2a3f5f"
            },
            "baxis": {
             "endlinecolor": "#2a3f5f",
             "gridcolor": "white",
             "linecolor": "white",
             "minorgridcolor": "white",
             "startlinecolor": "#2a3f5f"
            },
            "type": "carpet"
           }
          ],
          "choropleth": [
           {
            "colorbar": {
             "outlinewidth": 0,
             "ticks": ""
            },
            "type": "choropleth"
           }
          ],
          "contour": [
           {
            "colorbar": {
             "outlinewidth": 0,
             "ticks": ""
            },
            "colorscale": [
             [
              0,
              "#0d0887"
             ],
             [
              0.1111111111111111,
              "#46039f"
             ],
             [
              0.2222222222222222,
              "#7201a8"
             ],
             [
              0.3333333333333333,
              "#9c179e"
             ],
             [
              0.4444444444444444,
              "#bd3786"
             ],
             [
              0.5555555555555556,
              "#d8576b"
             ],
             [
              0.6666666666666666,
              "#ed7953"
             ],
             [
              0.7777777777777778,
              "#fb9f3a"
             ],
             [
              0.8888888888888888,
              "#fdca26"
             ],
             [
              1,
              "#f0f921"
             ]
            ],
            "type": "contour"
           }
          ],
          "contourcarpet": [
           {
            "colorbar": {
             "outlinewidth": 0,
             "ticks": ""
            },
            "type": "contourcarpet"
           }
          ],
          "heatmap": [
           {
            "colorbar": {
             "outlinewidth": 0,
             "ticks": ""
            },
            "colorscale": [
             [
              0,
              "#0d0887"
             ],
             [
              0.1111111111111111,
              "#46039f"
             ],
             [
              0.2222222222222222,
              "#7201a8"
             ],
             [
              0.3333333333333333,
              "#9c179e"
             ],
             [
              0.4444444444444444,
              "#bd3786"
             ],
             [
              0.5555555555555556,
              "#d8576b"
             ],
             [
              0.6666666666666666,
              "#ed7953"
             ],
             [
              0.7777777777777778,
              "#fb9f3a"
             ],
             [
              0.8888888888888888,
              "#fdca26"
             ],
             [
              1,
              "#f0f921"
             ]
            ],
            "type": "heatmap"
           }
          ],
          "heatmapgl": [
           {
            "colorbar": {
             "outlinewidth": 0,
             "ticks": ""
            },
            "colorscale": [
             [
              0,
              "#0d0887"
             ],
             [
              0.1111111111111111,
              "#46039f"
             ],
             [
              0.2222222222222222,
              "#7201a8"
             ],
             [
              0.3333333333333333,
              "#9c179e"
             ],
             [
              0.4444444444444444,
              "#bd3786"
             ],
             [
              0.5555555555555556,
              "#d8576b"
             ],
             [
              0.6666666666666666,
              "#ed7953"
             ],
             [
              0.7777777777777778,
              "#fb9f3a"
             ],
             [
              0.8888888888888888,
              "#fdca26"
             ],
             [
              1,
              "#f0f921"
             ]
            ],
            "type": "heatmapgl"
           }
          ],
          "histogram": [
           {
            "marker": {
             "pattern": {
              "fillmode": "overlay",
              "size": 10,
              "solidity": 0.2
             }
            },
            "type": "histogram"
           }
          ],
          "histogram2d": [
           {
            "colorbar": {
             "outlinewidth": 0,
             "ticks": ""
            },
            "colorscale": [
             [
              0,
              "#0d0887"
             ],
             [
              0.1111111111111111,
              "#46039f"
             ],
             [
              0.2222222222222222,
              "#7201a8"
             ],
             [
              0.3333333333333333,
              "#9c179e"
             ],
             [
              0.4444444444444444,
              "#bd3786"
             ],
             [
              0.5555555555555556,
              "#d8576b"
             ],
             [
              0.6666666666666666,
              "#ed7953"
             ],
             [
              0.7777777777777778,
              "#fb9f3a"
             ],
             [
              0.8888888888888888,
              "#fdca26"
             ],
             [
              1,
              "#f0f921"
             ]
            ],
            "type": "histogram2d"
           }
          ],
          "histogram2dcontour": [
           {
            "colorbar": {
             "outlinewidth": 0,
             "ticks": ""
            },
            "colorscale": [
             [
              0,
              "#0d0887"
             ],
             [
              0.1111111111111111,
              "#46039f"
             ],
             [
              0.2222222222222222,
              "#7201a8"
             ],
             [
              0.3333333333333333,
              "#9c179e"
             ],
             [
              0.4444444444444444,
              "#bd3786"
             ],
             [
              0.5555555555555556,
              "#d8576b"
             ],
             [
              0.6666666666666666,
              "#ed7953"
             ],
             [
              0.7777777777777778,
              "#fb9f3a"
             ],
             [
              0.8888888888888888,
              "#fdca26"
             ],
             [
              1,
              "#f0f921"
             ]
            ],
            "type": "histogram2dcontour"
           }
          ],
          "mesh3d": [
           {
            "colorbar": {
             "outlinewidth": 0,
             "ticks": ""
            },
            "type": "mesh3d"
           }
          ],
          "parcoords": [
           {
            "line": {
             "colorbar": {
              "outlinewidth": 0,
              "ticks": ""
             }
            },
            "type": "parcoords"
           }
          ],
          "pie": [
           {
            "automargin": true,
            "type": "pie"
           }
          ],
          "scatter": [
           {
            "fillpattern": {
             "fillmode": "overlay",
             "size": 10,
             "solidity": 0.2
            },
            "type": "scatter"
           }
          ],
          "scatter3d": [
           {
            "line": {
             "colorbar": {
              "outlinewidth": 0,
              "ticks": ""
             }
            },
            "marker": {
             "colorbar": {
              "outlinewidth": 0,
              "ticks": ""
             }
            },
            "type": "scatter3d"
           }
          ],
          "scattercarpet": [
           {
            "marker": {
             "colorbar": {
              "outlinewidth": 0,
              "ticks": ""
             }
            },
            "type": "scattercarpet"
           }
          ],
          "scattergeo": [
           {
            "marker": {
             "colorbar": {
              "outlinewidth": 0,
              "ticks": ""
             }
            },
            "type": "scattergeo"
           }
          ],
          "scattergl": [
           {
            "marker": {
             "colorbar": {
              "outlinewidth": 0,
              "ticks": ""
             }
            },
            "type": "scattergl"
           }
          ],
          "scattermapbox": [
           {
            "marker": {
             "colorbar": {
              "outlinewidth": 0,
              "ticks": ""
             }
            },
            "type": "scattermapbox"
           }
          ],
          "scatterpolar": [
           {
            "marker": {
             "colorbar": {
              "outlinewidth": 0,
              "ticks": ""
             }
            },
            "type": "scatterpolar"
           }
          ],
          "scatterpolargl": [
           {
            "marker": {
             "colorbar": {
              "outlinewidth": 0,
              "ticks": ""
             }
            },
            "type": "scatterpolargl"
           }
          ],
          "scatterternary": [
           {
            "marker": {
             "colorbar": {
              "outlinewidth": 0,
              "ticks": ""
             }
            },
            "type": "scatterternary"
           }
          ],
          "surface": [
           {
            "colorbar": {
             "outlinewidth": 0,
             "ticks": ""
            },
            "colorscale": [
             [
              0,
              "#0d0887"
             ],
             [
              0.1111111111111111,
              "#46039f"
             ],
             [
              0.2222222222222222,
              "#7201a8"
             ],
             [
              0.3333333333333333,
              "#9c179e"
             ],
             [
              0.4444444444444444,
              "#bd3786"
             ],
             [
              0.5555555555555556,
              "#d8576b"
             ],
             [
              0.6666666666666666,
              "#ed7953"
             ],
             [
              0.7777777777777778,
              "#fb9f3a"
             ],
             [
              0.8888888888888888,
              "#fdca26"
             ],
             [
              1,
              "#f0f921"
             ]
            ],
            "type": "surface"
           }
          ],
          "table": [
           {
            "cells": {
             "fill": {
              "color": "#EBF0F8"
             },
             "line": {
              "color": "white"
             }
            },
            "header": {
             "fill": {
              "color": "#C8D4E3"
             },
             "line": {
              "color": "white"
             }
            },
            "type": "table"
           }
          ]
         },
         "layout": {
          "annotationdefaults": {
           "arrowcolor": "#2a3f5f",
           "arrowhead": 0,
           "arrowwidth": 1
          },
          "autotypenumbers": "strict",
          "coloraxis": {
           "colorbar": {
            "outlinewidth": 0,
            "ticks": ""
           }
          },
          "colorscale": {
           "diverging": [
            [
             0,
             "#8e0152"
            ],
            [
             0.1,
             "#c51b7d"
            ],
            [
             0.2,
             "#de77ae"
            ],
            [
             0.3,
             "#f1b6da"
            ],
            [
             0.4,
             "#fde0ef"
            ],
            [
             0.5,
             "#f7f7f7"
            ],
            [
             0.6,
             "#e6f5d0"
            ],
            [
             0.7,
             "#b8e186"
            ],
            [
             0.8,
             "#7fbc41"
            ],
            [
             0.9,
             "#4d9221"
            ],
            [
             1,
             "#276419"
            ]
           ],
           "sequential": [
            [
             0,
             "#0d0887"
            ],
            [
             0.1111111111111111,
             "#46039f"
            ],
            [
             0.2222222222222222,
             "#7201a8"
            ],
            [
             0.3333333333333333,
             "#9c179e"
            ],
            [
             0.4444444444444444,
             "#bd3786"
            ],
            [
             0.5555555555555556,
             "#d8576b"
            ],
            [
             0.6666666666666666,
             "#ed7953"
            ],
            [
             0.7777777777777778,
             "#fb9f3a"
            ],
            [
             0.8888888888888888,
             "#fdca26"
            ],
            [
             1,
             "#f0f921"
            ]
           ],
           "sequentialminus": [
            [
             0,
             "#0d0887"
            ],
            [
             0.1111111111111111,
             "#46039f"
            ],
            [
             0.2222222222222222,
             "#7201a8"
            ],
            [
             0.3333333333333333,
             "#9c179e"
            ],
            [
             0.4444444444444444,
             "#bd3786"
            ],
            [
             0.5555555555555556,
             "#d8576b"
            ],
            [
             0.6666666666666666,
             "#ed7953"
            ],
            [
             0.7777777777777778,
             "#fb9f3a"
            ],
            [
             0.8888888888888888,
             "#fdca26"
            ],
            [
             1,
             "#f0f921"
            ]
           ]
          },
          "colorway": [
           "#636efa",
           "#EF553B",
           "#00cc96",
           "#ab63fa",
           "#FFA15A",
           "#19d3f3",
           "#FF6692",
           "#B6E880",
           "#FF97FF",
           "#FECB52"
          ],
          "font": {
           "color": "#2a3f5f"
          },
          "geo": {
           "bgcolor": "white",
           "lakecolor": "white",
           "landcolor": "#E5ECF6",
           "showlakes": true,
           "showland": true,
           "subunitcolor": "white"
          },
          "hoverlabel": {
           "align": "left"
          },
          "hovermode": "closest",
          "mapbox": {
           "style": "light"
          },
          "paper_bgcolor": "white",
          "plot_bgcolor": "#E5ECF6",
          "polar": {
           "angularaxis": {
            "gridcolor": "white",
            "linecolor": "white",
            "ticks": ""
           },
           "bgcolor": "#E5ECF6",
           "radialaxis": {
            "gridcolor": "white",
            "linecolor": "white",
            "ticks": ""
           }
          },
          "scene": {
           "xaxis": {
            "backgroundcolor": "#E5ECF6",
            "gridcolor": "white",
            "gridwidth": 2,
            "linecolor": "white",
            "showbackground": true,
            "ticks": "",
            "zerolinecolor": "white"
           },
           "yaxis": {
            "backgroundcolor": "#E5ECF6",
            "gridcolor": "white",
            "gridwidth": 2,
            "linecolor": "white",
            "showbackground": true,
            "ticks": "",
            "zerolinecolor": "white"
           },
           "zaxis": {
            "backgroundcolor": "#E5ECF6",
            "gridcolor": "white",
            "gridwidth": 2,
            "linecolor": "white",
            "showbackground": true,
            "ticks": "",
            "zerolinecolor": "white"
           }
          },
          "shapedefaults": {
           "line": {
            "color": "#2a3f5f"
           }
          },
          "ternary": {
           "aaxis": {
            "gridcolor": "white",
            "linecolor": "white",
            "ticks": ""
           },
           "baxis": {
            "gridcolor": "white",
            "linecolor": "white",
            "ticks": ""
           },
           "bgcolor": "#E5ECF6",
           "caxis": {
            "gridcolor": "white",
            "linecolor": "white",
            "ticks": ""
           }
          },
          "title": {
           "x": 0.05
          },
          "xaxis": {
           "automargin": true,
           "gridcolor": "white",
           "linecolor": "white",
           "ticks": "",
           "title": {
            "standoff": 15
           },
           "zerolinecolor": "white",
           "zerolinewidth": 2
          },
          "yaxis": {
           "automargin": true,
           "gridcolor": "white",
           "linecolor": "white",
           "ticks": "",
           "title": {
            "standoff": 15
           },
           "zerolinecolor": "white",
           "zerolinewidth": 2
          }
         }
        },
        "title": {
         "text": "AMZN"
        },
        "width": 1500,
        "xaxis": {
         "anchor": "y",
         "domain": [
          0,
          0.94
         ],
         "rangeslider": {
          "visible": true
         },
         "title": {
          "text": "Date"
         }
        },
        "yaxis": {
         "anchor": "x",
         "domain": [
          0,
          1
         ],
         "title": {
          "text": "Values"
         }
        },
        "yaxis2": {
         "anchor": "x",
         "overlaying": "y",
         "side": "right",
         "title": {
          "text": "Values"
         }
        }
       }
      }
     },
     "metadata": {},
     "output_type": "display_data"
    },
    {
     "data": {
      "application/vnd.plotly.v1+json": {
       "config": {
        "plotlyServerURL": "https://plot.ly"
       },
       "data": [
        {
         "name": "Net Income Com",
         "type": "scatter",
         "x": [
          "1996-12-31",
          "1997-12-31",
          "1998-12-31",
          "1999-12-31",
          "2000-12-31",
          "2001-12-31",
          "2002-12-31",
          "2003-12-31",
          "2004-12-31",
          "2005-12-31",
          "2006-12-31",
          "2007-12-31",
          "2008-12-31",
          "2009-12-31",
          "2010-12-31",
          "2011-12-31",
          "2012-12-31",
          "2013-12-31",
          "2014-12-31",
          "2015-12-31",
          "2016-12-31",
          "2017-12-31",
          "2018-12-31",
          "2019-12-31",
          "2020-12-31",
          "2021-12-31"
         ],
         "y": [
          -5800000,
          -27600000,
          -124546000,
          -719968000,
          -1411273000,
          -567277000,
          -149132000,
          35282000,
          588451000,
          359000000,
          190000000,
          476000000,
          645000000,
          902000000,
          1152000000,
          631000000,
          -39000000,
          274000000,
          -241000000,
          596000000,
          2371000000,
          3033000000,
          10073000000,
          11588000000,
          21331000000,
          33364000000
         ]
        },
        {
         "name": "Cash and cash equivalents",
         "type": "scatter",
         "x": [
          "1996-12-31",
          "1997-12-31",
          "1998-12-31",
          "1999-12-31",
          "2000-12-31",
          "2001-12-31",
          "2002-12-31",
          "2003-12-31",
          "2004-12-31",
          "2005-12-31",
          "2006-12-31",
          "2007-12-31",
          "2008-12-31",
          "2009-12-31",
          "2010-12-31",
          "2011-12-31",
          "2012-12-31",
          "2013-12-31",
          "2014-12-31",
          "2015-12-31",
          "2016-12-31",
          "2017-12-31",
          "2018-12-31",
          "2019-12-31",
          "2020-12-31",
          "2021-12-31"
         ],
         "y": [
          6200000,
          109800000,
          25561000,
          116962000,
          822435000,
          540282000,
          738254000,
          1102273000,
          1302600000,
          1013000000,
          1022000000,
          2539000000,
          2769000000,
          3444000000,
          3777000000,
          5269000000,
          8084000000,
          8658000000,
          14557000000,
          15890000000,
          19334000000,
          20522000000,
          31750000000,
          36092000000,
          42122000000,
          36220000000
         ]
        },
        {
         "name": "Short-term investments",
         "type": "scatter",
         "x": [
          "1996-12-31",
          "1997-12-31",
          "1998-12-31",
          "1999-12-31",
          "2000-12-31",
          "2001-12-31",
          "2002-12-31",
          "2003-12-31",
          "2004-12-31",
          "2005-12-31",
          "2006-12-31",
          "2007-12-31",
          "2008-12-31",
          "2009-12-31",
          "2010-12-31",
          "2011-12-31",
          "2012-12-31",
          "2013-12-31",
          "2014-12-31",
          "2015-12-31",
          "2016-12-31",
          "2017-12-31",
          "2018-12-31",
          "2019-12-31",
          "2020-12-31",
          "2021-12-31"
         ],
         "y": [
          0,
          0,
          347884000,
          589226000,
          278087000,
          456303000,
          562715000,
          292550000,
          476599000,
          987000000,
          997000000,
          573000000,
          958000000,
          2922000000,
          4985000000,
          4307000000,
          3364000000,
          3789000000,
          2859000000,
          3918000000,
          6647000000,
          10464000000,
          9500000000,
          18929000000,
          42274000000,
          59829000000
         ]
        },
        {
         "name": "Receivables",
         "type": "scatter",
         "x": [
          "1996-12-31",
          "1997-12-31",
          "1998-12-31",
          "1999-12-31",
          "2000-12-31",
          "2001-12-31",
          "2002-12-31",
          "2003-12-31",
          "2004-12-31",
          "2005-12-31",
          "2006-12-31",
          "2007-12-31",
          "2008-12-31",
          "2009-12-31",
          "2010-12-31",
          "2011-12-31",
          "2012-12-31",
          "2013-12-31",
          "2014-12-31",
          "2015-12-31",
          "2016-12-31",
          "2017-12-31",
          "2018-12-31",
          "2019-12-31",
          "2020-12-31",
          "2021-12-31"
         ],
         "y": [
          0,
          0,
          0,
          0,
          0,
          0,
          112282000,
          132069000,
          199100000,
          274000000,
          399000000,
          705000000,
          827000000,
          988000000,
          1587000000,
          2571000000,
          3364000000,
          4767000000,
          5612000000,
          6423000000,
          8339000000,
          13164000000,
          16677000000,
          20816000000,
          24542000000,
          32891000000
         ]
        },
        {
         "name": "Long-term investments",
         "type": "scatter",
         "x": [
          "1996-12-31",
          "1997-12-31",
          "1998-12-31",
          "1999-12-31",
          "2000-12-31",
          "2001-12-31",
          "2002-12-31",
          "2003-12-31",
          "2004-12-31",
          "2005-12-31",
          "2006-12-31",
          "2007-12-31",
          "2008-12-31",
          "2009-12-31",
          "2010-12-31",
          "2011-12-31",
          "2012-12-31",
          "2013-12-31",
          "2014-12-31",
          "2015-12-31",
          "2016-12-31",
          "2017-12-31",
          "2018-12-31",
          "2019-12-31",
          "2020-12-31",
          "2021-12-31"
         ],
         "y": [
          0,
          0,
          0,
          0,
          0,
          0,
          0,
          0,
          0,
          0,
          0,
          0,
          0,
          0,
          0,
          0,
          0,
          0,
          0,
          0,
          0,
          0,
          0,
          0,
          0,
          0
         ]
        },
        {
         "name": "Total current liabilities",
         "type": "scatter",
         "x": [
          "1996-12-31",
          "1997-12-31",
          "1998-12-31",
          "1999-12-31",
          "2000-12-31",
          "2001-12-31",
          "2002-12-31",
          "2003-12-31",
          "2004-12-31",
          "2005-12-31",
          "2006-12-31",
          "2007-12-31",
          "2008-12-31",
          "2009-12-31",
          "2010-12-31",
          "2011-12-31",
          "2012-12-31",
          "2013-12-31",
          "2014-12-31",
          "2015-12-31",
          "2016-12-31",
          "2017-12-31",
          "2018-12-31",
          "2019-12-31",
          "2020-12-31",
          "2021-12-31"
         ],
         "y": [
          4900000,
          43800000,
          161575000,
          738935000,
          974956000,
          921414000,
          1065958000,
          1252701000,
          1620400000,
          1929000000,
          2532000000,
          3714000000,
          4746000000,
          7364000000,
          10372000000,
          14896000000,
          19002000000,
          22980000000,
          28089000000,
          33899000000,
          43816000000,
          57883000000,
          68391000000,
          87812000000,
          126385000000,
          142266000000
         ]
        },
        {
         "name": "Total debt",
         "type": "scatter",
         "x": [
          "1996-12-31",
          "1997-12-31",
          "1998-12-31",
          "1999-12-31",
          "2000-12-31",
          "2001-12-31",
          "2002-12-31",
          "2003-12-31",
          "2004-12-31",
          "2005-12-31",
          "2006-12-31",
          "2007-12-31",
          "2008-12-31",
          "2009-12-31",
          "2010-12-31",
          "2011-12-31",
          "2012-12-31",
          "2013-12-31",
          "2014-12-31",
          "2015-12-31",
          "2016-12-31",
          "2017-12-31",
          "2018-12-31",
          "2019-12-31",
          "2020-12-31",
          "2021-12-31"
         ],
         "y": [
          0,
          78200000,
          348824000,
          1480660000,
          2144041000,
          2171125000,
          2290623000,
          1949655000,
          1857700000,
          1521000000,
          1267000000,
          1344000000,
          468000000,
          252000000,
          641000000,
          1415000000,
          3830000000,
          5181000000,
          12489000000,
          14183000000,
          15213000000,
          37926000000,
          39787000000,
          63205000000,
          84389000000,
          116395000000
         ]
        },
        {
         "name": "Total shareholders equity",
         "type": "scatter",
         "x": [
          "1996-12-31",
          "1997-12-31",
          "1998-12-31",
          "1999-12-31",
          "2000-12-31",
          "2001-12-31",
          "2002-12-31",
          "2003-12-31",
          "2004-12-31",
          "2005-12-31",
          "2006-12-31",
          "2007-12-31",
          "2008-12-31",
          "2009-12-31",
          "2010-12-31",
          "2011-12-31",
          "2012-12-31",
          "2013-12-31",
          "2014-12-31",
          "2015-12-31",
          "2016-12-31",
          "2017-12-31",
          "2018-12-31",
          "2019-12-31",
          "2020-12-31",
          "2021-12-31"
         ],
         "y": [
          3400000,
          28500000,
          138745000,
          266278000,
          -967251000,
          -1440000000,
          -1352814000,
          -1036107000,
          -227211000,
          246000000,
          431000000,
          1197000000,
          2672000000,
          5257000000,
          6864000000,
          7757000000,
          8192000000,
          9746000000,
          10741000000,
          13384000000,
          19285000000,
          27709000000,
          43549000000,
          62060000000,
          93404000000,
          138245000000
         ]
        },
        {
         "name": "ROE",
         "type": "scatter",
         "x": [
          "1996-12-31",
          "1997-12-31",
          "1998-12-31",
          "1999-12-31",
          "2000-12-31",
          "2001-12-31",
          "2002-12-31",
          "2003-12-31",
          "2004-12-31",
          "2005-12-31",
          "2006-12-31",
          "2007-12-31",
          "2008-12-31",
          "2009-12-31",
          "2010-12-31",
          "2011-12-31",
          "2012-12-31",
          "2013-12-31",
          "2014-12-31",
          "2015-12-31",
          "2016-12-31",
          "2017-12-31",
          "2018-12-31",
          "2019-12-31",
          "2020-12-31",
          "2021-12-31"
         ],
         "xaxis": "x",
         "y": [
          null,
          -1.7304075235109717,
          -1.489383838081856,
          -3.555195630865408,
          4.026611581330522,
          0.47130689736965525,
          0.1067969438709488,
          -0.029538021558686955,
          -0.9315960035398847,
          38.21384852839427,
          0.5612998522895125,
          0.5847665847665847,
          0.33341948823985523,
          0.2275192331946021,
          0.19008332645821302,
          0.08631420559469256,
          -0.004890588751645871,
          0.030549671089307614,
          -0.023527114755698735,
          0.04940932642487047,
          0.14515289724203373,
          0.1290803081244414,
          0.28271913329029724,
          0.21945099376000152,
          0.2744172284258735,
          0.2880564992726064
         ],
         "yaxis": "y2"
        }
       ],
       "layout": {
        "autotypenumbers": "convert types",
        "height": 1200,
        "showlegend": true,
        "template": {
         "data": {
          "bar": [
           {
            "error_x": {
             "color": "#2a3f5f"
            },
            "error_y": {
             "color": "#2a3f5f"
            },
            "marker": {
             "line": {
              "color": "#E5ECF6",
              "width": 0.5
             },
             "pattern": {
              "fillmode": "overlay",
              "size": 10,
              "solidity": 0.2
             }
            },
            "type": "bar"
           }
          ],
          "barpolar": [
           {
            "marker": {
             "line": {
              "color": "#E5ECF6",
              "width": 0.5
             },
             "pattern": {
              "fillmode": "overlay",
              "size": 10,
              "solidity": 0.2
             }
            },
            "type": "barpolar"
           }
          ],
          "carpet": [
           {
            "aaxis": {
             "endlinecolor": "#2a3f5f",
             "gridcolor": "white",
             "linecolor": "white",
             "minorgridcolor": "white",
             "startlinecolor": "#2a3f5f"
            },
            "baxis": {
             "endlinecolor": "#2a3f5f",
             "gridcolor": "white",
             "linecolor": "white",
             "minorgridcolor": "white",
             "startlinecolor": "#2a3f5f"
            },
            "type": "carpet"
           }
          ],
          "choropleth": [
           {
            "colorbar": {
             "outlinewidth": 0,
             "ticks": ""
            },
            "type": "choropleth"
           }
          ],
          "contour": [
           {
            "colorbar": {
             "outlinewidth": 0,
             "ticks": ""
            },
            "colorscale": [
             [
              0,
              "#0d0887"
             ],
             [
              0.1111111111111111,
              "#46039f"
             ],
             [
              0.2222222222222222,
              "#7201a8"
             ],
             [
              0.3333333333333333,
              "#9c179e"
             ],
             [
              0.4444444444444444,
              "#bd3786"
             ],
             [
              0.5555555555555556,
              "#d8576b"
             ],
             [
              0.6666666666666666,
              "#ed7953"
             ],
             [
              0.7777777777777778,
              "#fb9f3a"
             ],
             [
              0.8888888888888888,
              "#fdca26"
             ],
             [
              1,
              "#f0f921"
             ]
            ],
            "type": "contour"
           }
          ],
          "contourcarpet": [
           {
            "colorbar": {
             "outlinewidth": 0,
             "ticks": ""
            },
            "type": "contourcarpet"
           }
          ],
          "heatmap": [
           {
            "colorbar": {
             "outlinewidth": 0,
             "ticks": ""
            },
            "colorscale": [
             [
              0,
              "#0d0887"
             ],
             [
              0.1111111111111111,
              "#46039f"
             ],
             [
              0.2222222222222222,
              "#7201a8"
             ],
             [
              0.3333333333333333,
              "#9c179e"
             ],
             [
              0.4444444444444444,
              "#bd3786"
             ],
             [
              0.5555555555555556,
              "#d8576b"
             ],
             [
              0.6666666666666666,
              "#ed7953"
             ],
             [
              0.7777777777777778,
              "#fb9f3a"
             ],
             [
              0.8888888888888888,
              "#fdca26"
             ],
             [
              1,
              "#f0f921"
             ]
            ],
            "type": "heatmap"
           }
          ],
          "heatmapgl": [
           {
            "colorbar": {
             "outlinewidth": 0,
             "ticks": ""
            },
            "colorscale": [
             [
              0,
              "#0d0887"
             ],
             [
              0.1111111111111111,
              "#46039f"
             ],
             [
              0.2222222222222222,
              "#7201a8"
             ],
             [
              0.3333333333333333,
              "#9c179e"
             ],
             [
              0.4444444444444444,
              "#bd3786"
             ],
             [
              0.5555555555555556,
              "#d8576b"
             ],
             [
              0.6666666666666666,
              "#ed7953"
             ],
             [
              0.7777777777777778,
              "#fb9f3a"
             ],
             [
              0.8888888888888888,
              "#fdca26"
             ],
             [
              1,
              "#f0f921"
             ]
            ],
            "type": "heatmapgl"
           }
          ],
          "histogram": [
           {
            "marker": {
             "pattern": {
              "fillmode": "overlay",
              "size": 10,
              "solidity": 0.2
             }
            },
            "type": "histogram"
           }
          ],
          "histogram2d": [
           {
            "colorbar": {
             "outlinewidth": 0,
             "ticks": ""
            },
            "colorscale": [
             [
              0,
              "#0d0887"
             ],
             [
              0.1111111111111111,
              "#46039f"
             ],
             [
              0.2222222222222222,
              "#7201a8"
             ],
             [
              0.3333333333333333,
              "#9c179e"
             ],
             [
              0.4444444444444444,
              "#bd3786"
             ],
             [
              0.5555555555555556,
              "#d8576b"
             ],
             [
              0.6666666666666666,
              "#ed7953"
             ],
             [
              0.7777777777777778,
              "#fb9f3a"
             ],
             [
              0.8888888888888888,
              "#fdca26"
             ],
             [
              1,
              "#f0f921"
             ]
            ],
            "type": "histogram2d"
           }
          ],
          "histogram2dcontour": [
           {
            "colorbar": {
             "outlinewidth": 0,
             "ticks": ""
            },
            "colorscale": [
             [
              0,
              "#0d0887"
             ],
             [
              0.1111111111111111,
              "#46039f"
             ],
             [
              0.2222222222222222,
              "#7201a8"
             ],
             [
              0.3333333333333333,
              "#9c179e"
             ],
             [
              0.4444444444444444,
              "#bd3786"
             ],
             [
              0.5555555555555556,
              "#d8576b"
             ],
             [
              0.6666666666666666,
              "#ed7953"
             ],
             [
              0.7777777777777778,
              "#fb9f3a"
             ],
             [
              0.8888888888888888,
              "#fdca26"
             ],
             [
              1,
              "#f0f921"
             ]
            ],
            "type": "histogram2dcontour"
           }
          ],
          "mesh3d": [
           {
            "colorbar": {
             "outlinewidth": 0,
             "ticks": ""
            },
            "type": "mesh3d"
           }
          ],
          "parcoords": [
           {
            "line": {
             "colorbar": {
              "outlinewidth": 0,
              "ticks": ""
             }
            },
            "type": "parcoords"
           }
          ],
          "pie": [
           {
            "automargin": true,
            "type": "pie"
           }
          ],
          "scatter": [
           {
            "fillpattern": {
             "fillmode": "overlay",
             "size": 10,
             "solidity": 0.2
            },
            "type": "scatter"
           }
          ],
          "scatter3d": [
           {
            "line": {
             "colorbar": {
              "outlinewidth": 0,
              "ticks": ""
             }
            },
            "marker": {
             "colorbar": {
              "outlinewidth": 0,
              "ticks": ""
             }
            },
            "type": "scatter3d"
           }
          ],
          "scattercarpet": [
           {
            "marker": {
             "colorbar": {
              "outlinewidth": 0,
              "ticks": ""
             }
            },
            "type": "scattercarpet"
           }
          ],
          "scattergeo": [
           {
            "marker": {
             "colorbar": {
              "outlinewidth": 0,
              "ticks": ""
             }
            },
            "type": "scattergeo"
           }
          ],
          "scattergl": [
           {
            "marker": {
             "colorbar": {
              "outlinewidth": 0,
              "ticks": ""
             }
            },
            "type": "scattergl"
           }
          ],
          "scattermapbox": [
           {
            "marker": {
             "colorbar": {
              "outlinewidth": 0,
              "ticks": ""
             }
            },
            "type": "scattermapbox"
           }
          ],
          "scatterpolar": [
           {
            "marker": {
             "colorbar": {
              "outlinewidth": 0,
              "ticks": ""
             }
            },
            "type": "scatterpolar"
           }
          ],
          "scatterpolargl": [
           {
            "marker": {
             "colorbar": {
              "outlinewidth": 0,
              "ticks": ""
             }
            },
            "type": "scatterpolargl"
           }
          ],
          "scatterternary": [
           {
            "marker": {
             "colorbar": {
              "outlinewidth": 0,
              "ticks": ""
             }
            },
            "type": "scatterternary"
           }
          ],
          "surface": [
           {
            "colorbar": {
             "outlinewidth": 0,
             "ticks": ""
            },
            "colorscale": [
             [
              0,
              "#0d0887"
             ],
             [
              0.1111111111111111,
              "#46039f"
             ],
             [
              0.2222222222222222,
              "#7201a8"
             ],
             [
              0.3333333333333333,
              "#9c179e"
             ],
             [
              0.4444444444444444,
              "#bd3786"
             ],
             [
              0.5555555555555556,
              "#d8576b"
             ],
             [
              0.6666666666666666,
              "#ed7953"
             ],
             [
              0.7777777777777778,
              "#fb9f3a"
             ],
             [
              0.8888888888888888,
              "#fdca26"
             ],
             [
              1,
              "#f0f921"
             ]
            ],
            "type": "surface"
           }
          ],
          "table": [
           {
            "cells": {
             "fill": {
              "color": "#EBF0F8"
             },
             "line": {
              "color": "white"
             }
            },
            "header": {
             "fill": {
              "color": "#C8D4E3"
             },
             "line": {
              "color": "white"
             }
            },
            "type": "table"
           }
          ]
         },
         "layout": {
          "annotationdefaults": {
           "arrowcolor": "#2a3f5f",
           "arrowhead": 0,
           "arrowwidth": 1
          },
          "autotypenumbers": "strict",
          "coloraxis": {
           "colorbar": {
            "outlinewidth": 0,
            "ticks": ""
           }
          },
          "colorscale": {
           "diverging": [
            [
             0,
             "#8e0152"
            ],
            [
             0.1,
             "#c51b7d"
            ],
            [
             0.2,
             "#de77ae"
            ],
            [
             0.3,
             "#f1b6da"
            ],
            [
             0.4,
             "#fde0ef"
            ],
            [
             0.5,
             "#f7f7f7"
            ],
            [
             0.6,
             "#e6f5d0"
            ],
            [
             0.7,
             "#b8e186"
            ],
            [
             0.8,
             "#7fbc41"
            ],
            [
             0.9,
             "#4d9221"
            ],
            [
             1,
             "#276419"
            ]
           ],
           "sequential": [
            [
             0,
             "#0d0887"
            ],
            [
             0.1111111111111111,
             "#46039f"
            ],
            [
             0.2222222222222222,
             "#7201a8"
            ],
            [
             0.3333333333333333,
             "#9c179e"
            ],
            [
             0.4444444444444444,
             "#bd3786"
            ],
            [
             0.5555555555555556,
             "#d8576b"
            ],
            [
             0.6666666666666666,
             "#ed7953"
            ],
            [
             0.7777777777777778,
             "#fb9f3a"
            ],
            [
             0.8888888888888888,
             "#fdca26"
            ],
            [
             1,
             "#f0f921"
            ]
           ],
           "sequentialminus": [
            [
             0,
             "#0d0887"
            ],
            [
             0.1111111111111111,
             "#46039f"
            ],
            [
             0.2222222222222222,
             "#7201a8"
            ],
            [
             0.3333333333333333,
             "#9c179e"
            ],
            [
             0.4444444444444444,
             "#bd3786"
            ],
            [
             0.5555555555555556,
             "#d8576b"
            ],
            [
             0.6666666666666666,
             "#ed7953"
            ],
            [
             0.7777777777777778,
             "#fb9f3a"
            ],
            [
             0.8888888888888888,
             "#fdca26"
            ],
            [
             1,
             "#f0f921"
            ]
           ]
          },
          "colorway": [
           "#636efa",
           "#EF553B",
           "#00cc96",
           "#ab63fa",
           "#FFA15A",
           "#19d3f3",
           "#FF6692",
           "#B6E880",
           "#FF97FF",
           "#FECB52"
          ],
          "font": {
           "color": "#2a3f5f"
          },
          "geo": {
           "bgcolor": "white",
           "lakecolor": "white",
           "landcolor": "#E5ECF6",
           "showlakes": true,
           "showland": true,
           "subunitcolor": "white"
          },
          "hoverlabel": {
           "align": "left"
          },
          "hovermode": "closest",
          "mapbox": {
           "style": "light"
          },
          "paper_bgcolor": "white",
          "plot_bgcolor": "#E5ECF6",
          "polar": {
           "angularaxis": {
            "gridcolor": "white",
            "linecolor": "white",
            "ticks": ""
           },
           "bgcolor": "#E5ECF6",
           "radialaxis": {
            "gridcolor": "white",
            "linecolor": "white",
            "ticks": ""
           }
          },
          "scene": {
           "xaxis": {
            "backgroundcolor": "#E5ECF6",
            "gridcolor": "white",
            "gridwidth": 2,
            "linecolor": "white",
            "showbackground": true,
            "ticks": "",
            "zerolinecolor": "white"
           },
           "yaxis": {
            "backgroundcolor": "#E5ECF6",
            "gridcolor": "white",
            "gridwidth": 2,
            "linecolor": "white",
            "showbackground": true,
            "ticks": "",
            "zerolinecolor": "white"
           },
           "zaxis": {
            "backgroundcolor": "#E5ECF6",
            "gridcolor": "white",
            "gridwidth": 2,
            "linecolor": "white",
            "showbackground": true,
            "ticks": "",
            "zerolinecolor": "white"
           }
          },
          "shapedefaults": {
           "line": {
            "color": "#2a3f5f"
           }
          },
          "ternary": {
           "aaxis": {
            "gridcolor": "white",
            "linecolor": "white",
            "ticks": ""
           },
           "baxis": {
            "gridcolor": "white",
            "linecolor": "white",
            "ticks": ""
           },
           "bgcolor": "#E5ECF6",
           "caxis": {
            "gridcolor": "white",
            "linecolor": "white",
            "ticks": ""
           }
          },
          "title": {
           "x": 0.05
          },
          "xaxis": {
           "automargin": true,
           "gridcolor": "white",
           "linecolor": "white",
           "ticks": "",
           "title": {
            "standoff": 15
           },
           "zerolinecolor": "white",
           "zerolinewidth": 2
          },
          "yaxis": {
           "automargin": true,
           "gridcolor": "white",
           "linecolor": "white",
           "ticks": "",
           "title": {
            "standoff": 15
           },
           "zerolinecolor": "white",
           "zerolinewidth": 2
          }
         }
        },
        "title": {
         "text": "AMZN"
        },
        "width": 1500,
        "xaxis": {
         "anchor": "y",
         "domain": [
          0,
          0.94
         ],
         "rangeslider": {
          "visible": true
         },
         "title": {
          "text": "Date"
         }
        },
        "yaxis": {
         "anchor": "x",
         "domain": [
          0,
          1
         ],
         "title": {
          "text": "Values"
         }
        },
        "yaxis2": {
         "anchor": "x",
         "overlaying": "y",
         "side": "right",
         "title": {
          "text": "Values"
         }
        }
       }
      }
     },
     "metadata": {},
     "output_type": "display_data"
    },
    {
     "name": "stderr",
     "output_type": "stream",
     "text": [
      "INFO:modelling_prep:Creating financials dataframe for GOOG...\n"
     ]
    },
    {
     "name": "stdout",
     "output_type": "stream",
     "text": [
      "JSON data saved to file: data\\income_statement_GOOG.json\n",
      "JSON data saved to file: data\\balance_statement_GOOG.json\n"
     ]
    },
    {
     "data": {
      "application/vnd.plotly.v1+json": {
       "config": {
        "plotlyServerURL": "https://plot.ly"
       },
       "data": [
        {
         "name": "Net Income Com",
         "type": "scatter",
         "x": [
          "2000-12-31",
          "2002-12-31",
          "2003-12-31",
          "2004-12-31",
          "2005-12-31",
          "2006-12-31",
          "2007-12-31",
          "2008-12-31",
          "2009-12-31",
          "2010-12-31",
          "2011-12-31",
          "2012-12-31",
          "2013-12-31",
          "2014-12",
          "2015-12",
          "2015-12-31",
          "2016-12",
          "2016-12-31",
          "2017-12",
          "2017-12-31",
          "2018-12",
          "2018-12-31",
          "2019-12-31",
          "2020-12-31",
          "2021-12-31"
         ],
         "y": [
          -14690000,
          99656000,
          105648000,
          399119000,
          1465397000,
          3077446000,
          4203720000,
          4226858000,
          6520448000,
          8505000000,
          9737000000,
          10737000000,
          12920000000,
          14444000000,
          16348000000,
          16348000000,
          19478000000,
          19478000000,
          12662000000,
          12662000000,
          30736000000,
          30736000000,
          34343000000,
          40269000000,
          76033000000
         ]
        },
        {
         "name": "Cash and cash equivalents",
         "type": "scatter",
         "x": [
          "2000-12-31",
          "2002-12-31",
          "2003-12-31",
          "2004-12-31",
          "2005-12-31",
          "2006-12-31",
          "2007-12-31",
          "2008-12-31",
          "2009-12-31",
          "2010-12-31",
          "2011-12-31",
          "2012-12-31",
          "2013-12-31",
          "2014-12",
          "2015-12",
          "2015-12-31",
          "2016-12",
          "2016-12-31",
          "2017-12",
          "2017-12-31",
          "2018-12",
          "2018-12-31",
          "2019-12-31",
          "2020-12-31",
          "2021-12-31"
         ],
         "y": [
          0,
          57752000,
          148995000,
          426873000,
          3877174000,
          3544671000,
          6081593000,
          8656672000,
          10197588000,
          13630000000,
          9983000000,
          14778000000,
          18898000000,
          18347000000,
          16549000000,
          16549000000,
          12918000000,
          12918000000,
          10715000000,
          10715000000,
          16701000000,
          16701000000,
          18498000000,
          26465000000,
          20945000000
         ]
        },
        {
         "name": "Short-term investments",
         "type": "scatter",
         "x": [
          "2000-12-31",
          "2002-12-31",
          "2003-12-31",
          "2004-12-31",
          "2005-12-31",
          "2006-12-31",
          "2007-12-31",
          "2008-12-31",
          "2009-12-31",
          "2010-12-31",
          "2011-12-31",
          "2012-12-31",
          "2013-12-31",
          "2014-12",
          "2015-12",
          "2015-12-31",
          "2016-12",
          "2016-12-31",
          "2017-12",
          "2017-12-31",
          "2018-12",
          "2018-12-31",
          "2019-12-31",
          "2020-12-31",
          "2021-12-31"
         ],
         "y": [
          0,
          88579000,
          185723000,
          1705424000,
          4157073000,
          7699243000,
          8137020000,
          7189099000,
          14287187000,
          21345000000,
          34643000000,
          33310000000,
          39819000000,
          46048000000,
          56517000000,
          56517000000,
          73415000000,
          73415000000,
          91156000000,
          91156000000,
          92439000000,
          92439000000,
          101177000000,
          110229000000,
          118704000000
         ]
        },
        {
         "name": "Receivables",
         "type": "scatter",
         "x": [
          "2000-12-31",
          "2002-12-31",
          "2003-12-31",
          "2004-12-31",
          "2005-12-31",
          "2006-12-31",
          "2007-12-31",
          "2008-12-31",
          "2009-12-31",
          "2010-12-31",
          "2011-12-31",
          "2012-12-31",
          "2013-12-31",
          "2014-12",
          "2015-12",
          "2015-12-31",
          "2016-12",
          "2016-12-31",
          "2017-12",
          "2017-12-31",
          "2018-12",
          "2018-12-31",
          "2019-12-31",
          "2020-12-31",
          "2021-12-31"
         ],
         "y": [
          0,
          61994000,
          154690000,
          382345000,
          687976000,
          1322340000,
          2307774000,
          2642192000,
          3201715000,
          5002000000,
          6172000000,
          8585000000,
          9390000000,
          9383000000,
          11556000000,
          13909000000,
          14137000000,
          14232000000,
          18336000000,
          18705000000,
          20838000000,
          21193000000,
          27492000000,
          31384000000,
          40270000000
         ]
        },
        {
         "name": "Long-term investments",
         "type": "scatter",
         "x": [
          "2000-12-31",
          "2002-12-31",
          "2003-12-31",
          "2004-12-31",
          "2005-12-31",
          "2006-12-31",
          "2007-12-31",
          "2008-12-31",
          "2009-12-31",
          "2010-12-31",
          "2011-12-31",
          "2012-12-31",
          "2013-12-31",
          "2014-12",
          "2015-12",
          "2015-12-31",
          "2016-12",
          "2016-12-31",
          "2017-12",
          "2017-12-31",
          "2018-12",
          "2018-12-31",
          "2019-12-31",
          "2020-12-31",
          "2021-12-31"
         ],
         "y": [
          0,
          0,
          0,
          0,
          14000000,
          1032000000,
          1059694000,
          85160000,
          128977000,
          523000000,
          790000000,
          1469000000,
          1976000000,
          3079000000,
          5183000000,
          5183000000,
          5878000000,
          5878000000,
          7813000000,
          7813000000,
          13859000000,
          13859000000,
          13078000000,
          20703000000,
          29549000000
         ]
        },
        {
         "name": "Total current liabilities",
         "type": "scatter",
         "x": [
          "2000-12-31",
          "2002-12-31",
          "2003-12-31",
          "2004-12-31",
          "2005-12-31",
          "2006-12-31",
          "2007-12-31",
          "2008-12-31",
          "2009-12-31",
          "2010-12-31",
          "2011-12-31",
          "2012-12-31",
          "2013-12-31",
          "2014-12",
          "2015-12",
          "2015-12-31",
          "2016-12",
          "2016-12-31",
          "2017-12",
          "2017-12-31",
          "2018-12",
          "2018-12-31",
          "2019-12-31",
          "2020-12-31",
          "2021-12-31"
         ],
         "y": [
          0,
          89508000,
          235452000,
          340368000,
          745384000,
          1304587000,
          2035602000,
          2302090000,
          2747467000,
          9996000000,
          8913000000,
          14337000000,
          15908000000,
          16805000000,
          19310000000,
          19310000000,
          16756000000,
          16756000000,
          24183000000,
          24183000000,
          34620000000,
          34620000000,
          45221000000,
          56834000000,
          64254000000
         ]
        },
        {
         "name": "Total debt",
         "type": "scatter",
         "x": [
          "2000-12-31",
          "2002-12-31",
          "2003-12-31",
          "2004-12-31",
          "2005-12-31",
          "2006-12-31",
          "2007-12-31",
          "2008-12-31",
          "2009-12-31",
          "2010-12-31",
          "2011-12-31",
          "2012-12-31",
          "2013-12-31",
          "2014-12",
          "2015-12",
          "2015-12-31",
          "2016-12",
          "2016-12-31",
          "2017-12",
          "2017-12-31",
          "2018-12",
          "2018-12-31",
          "2019-12-31",
          "2020-12-31",
          "2021-12-31"
         ],
         "y": [
          0,
          10862000,
          6609000,
          1902000,
          0,
          0,
          0,
          0,
          0,
          3465000000,
          4204000000,
          5537000000,
          4999000000,
          2992000000,
          1995000000,
          5220000000,
          3935000000,
          3935000000,
          3943000000,
          3969000000,
          3950000000,
          4012000000,
          5753000000,
          26772000000,
          28395000000
         ]
        },
        {
         "name": "Total shareholders equity",
         "type": "scatter",
         "x": [
          "2000-12-31",
          "2002-12-31",
          "2003-12-31",
          "2004-12-31",
          "2005-12-31",
          "2006-12-31",
          "2007-12-31",
          "2008-12-31",
          "2009-12-31",
          "2010-12-31",
          "2011-12-31",
          "2012-12-31",
          "2013-12-31",
          "2014-12",
          "2015-12",
          "2015-12-31",
          "2016-12",
          "2016-12-31",
          "2017-12",
          "2017-12-31",
          "2018-12",
          "2018-12-31",
          "2019-12-31",
          "2020-12-31",
          "2021-12-31"
         ],
         "y": [
          27234000,
          173953000,
          588770000,
          2929056000,
          9418957000,
          17039840000,
          22689679000,
          28238862000,
          36004224000,
          46241000000,
          58145000000,
          71715000000,
          87309000000,
          104500000000,
          120331000000,
          120331000000,
          139036000000,
          139036000000,
          152502000000,
          152502000000,
          177628000000,
          177628000000,
          201442000000,
          222544000000,
          251635000000
         ]
        },
        {
         "name": "ROE",
         "type": "scatter",
         "x": [
          "2000-12-31",
          "2002-12-31",
          "2003-12-31",
          "2004-12-31",
          "2005-12-31",
          "2006-12-31",
          "2007-12-31",
          "2008-12-31",
          "2009-12-31",
          "2010-12-31",
          "2011-12-31",
          "2012-12-31",
          "2013-12-31",
          "2014-12",
          "2015-12",
          "2015-12-31",
          "2016-12",
          "2016-12-31",
          "2017-12",
          "2017-12-31",
          "2018-12",
          "2018-12-31",
          "2019-12-31",
          "2020-12-31",
          "2021-12-31"
         ],
         "xaxis": "x",
         "y": [
          null,
          0.9906803123462251,
          0.27702848871739805,
          0.2269123032236387,
          0.23734944237587052,
          0.23262176281106053,
          0.21161695916832016,
          0.16599171768930118,
          0.20299298822600148,
          0.20682052005840484,
          0.18655758435039183,
          0.16536269829046665,
          0.16249119629741424,
          0.1506081570729215,
          0.14542478572794676,
          0.13585859005576287,
          0.15019643979380568,
          0.140093213268506,
          0.08686346205297422,
          0.08302841929941902,
          0.18620543422288188,
          0.17303578264688,
          0.18119608515577598,
          0.18995438528630662,
          0.3206932403164206
         ],
         "yaxis": "y2"
        }
       ],
       "layout": {
        "autotypenumbers": "convert types",
        "height": 1200,
        "showlegend": true,
        "template": {
         "data": {
          "bar": [
           {
            "error_x": {
             "color": "#2a3f5f"
            },
            "error_y": {
             "color": "#2a3f5f"
            },
            "marker": {
             "line": {
              "color": "#E5ECF6",
              "width": 0.5
             },
             "pattern": {
              "fillmode": "overlay",
              "size": 10,
              "solidity": 0.2
             }
            },
            "type": "bar"
           }
          ],
          "barpolar": [
           {
            "marker": {
             "line": {
              "color": "#E5ECF6",
              "width": 0.5
             },
             "pattern": {
              "fillmode": "overlay",
              "size": 10,
              "solidity": 0.2
             }
            },
            "type": "barpolar"
           }
          ],
          "carpet": [
           {
            "aaxis": {
             "endlinecolor": "#2a3f5f",
             "gridcolor": "white",
             "linecolor": "white",
             "minorgridcolor": "white",
             "startlinecolor": "#2a3f5f"
            },
            "baxis": {
             "endlinecolor": "#2a3f5f",
             "gridcolor": "white",
             "linecolor": "white",
             "minorgridcolor": "white",
             "startlinecolor": "#2a3f5f"
            },
            "type": "carpet"
           }
          ],
          "choropleth": [
           {
            "colorbar": {
             "outlinewidth": 0,
             "ticks": ""
            },
            "type": "choropleth"
           }
          ],
          "contour": [
           {
            "colorbar": {
             "outlinewidth": 0,
             "ticks": ""
            },
            "colorscale": [
             [
              0,
              "#0d0887"
             ],
             [
              0.1111111111111111,
              "#46039f"
             ],
             [
              0.2222222222222222,
              "#7201a8"
             ],
             [
              0.3333333333333333,
              "#9c179e"
             ],
             [
              0.4444444444444444,
              "#bd3786"
             ],
             [
              0.5555555555555556,
              "#d8576b"
             ],
             [
              0.6666666666666666,
              "#ed7953"
             ],
             [
              0.7777777777777778,
              "#fb9f3a"
             ],
             [
              0.8888888888888888,
              "#fdca26"
             ],
             [
              1,
              "#f0f921"
             ]
            ],
            "type": "contour"
           }
          ],
          "contourcarpet": [
           {
            "colorbar": {
             "outlinewidth": 0,
             "ticks": ""
            },
            "type": "contourcarpet"
           }
          ],
          "heatmap": [
           {
            "colorbar": {
             "outlinewidth": 0,
             "ticks": ""
            },
            "colorscale": [
             [
              0,
              "#0d0887"
             ],
             [
              0.1111111111111111,
              "#46039f"
             ],
             [
              0.2222222222222222,
              "#7201a8"
             ],
             [
              0.3333333333333333,
              "#9c179e"
             ],
             [
              0.4444444444444444,
              "#bd3786"
             ],
             [
              0.5555555555555556,
              "#d8576b"
             ],
             [
              0.6666666666666666,
              "#ed7953"
             ],
             [
              0.7777777777777778,
              "#fb9f3a"
             ],
             [
              0.8888888888888888,
              "#fdca26"
             ],
             [
              1,
              "#f0f921"
             ]
            ],
            "type": "heatmap"
           }
          ],
          "heatmapgl": [
           {
            "colorbar": {
             "outlinewidth": 0,
             "ticks": ""
            },
            "colorscale": [
             [
              0,
              "#0d0887"
             ],
             [
              0.1111111111111111,
              "#46039f"
             ],
             [
              0.2222222222222222,
              "#7201a8"
             ],
             [
              0.3333333333333333,
              "#9c179e"
             ],
             [
              0.4444444444444444,
              "#bd3786"
             ],
             [
              0.5555555555555556,
              "#d8576b"
             ],
             [
              0.6666666666666666,
              "#ed7953"
             ],
             [
              0.7777777777777778,
              "#fb9f3a"
             ],
             [
              0.8888888888888888,
              "#fdca26"
             ],
             [
              1,
              "#f0f921"
             ]
            ],
            "type": "heatmapgl"
           }
          ],
          "histogram": [
           {
            "marker": {
             "pattern": {
              "fillmode": "overlay",
              "size": 10,
              "solidity": 0.2
             }
            },
            "type": "histogram"
           }
          ],
          "histogram2d": [
           {
            "colorbar": {
             "outlinewidth": 0,
             "ticks": ""
            },
            "colorscale": [
             [
              0,
              "#0d0887"
             ],
             [
              0.1111111111111111,
              "#46039f"
             ],
             [
              0.2222222222222222,
              "#7201a8"
             ],
             [
              0.3333333333333333,
              "#9c179e"
             ],
             [
              0.4444444444444444,
              "#bd3786"
             ],
             [
              0.5555555555555556,
              "#d8576b"
             ],
             [
              0.6666666666666666,
              "#ed7953"
             ],
             [
              0.7777777777777778,
              "#fb9f3a"
             ],
             [
              0.8888888888888888,
              "#fdca26"
             ],
             [
              1,
              "#f0f921"
             ]
            ],
            "type": "histogram2d"
           }
          ],
          "histogram2dcontour": [
           {
            "colorbar": {
             "outlinewidth": 0,
             "ticks": ""
            },
            "colorscale": [
             [
              0,
              "#0d0887"
             ],
             [
              0.1111111111111111,
              "#46039f"
             ],
             [
              0.2222222222222222,
              "#7201a8"
             ],
             [
              0.3333333333333333,
              "#9c179e"
             ],
             [
              0.4444444444444444,
              "#bd3786"
             ],
             [
              0.5555555555555556,
              "#d8576b"
             ],
             [
              0.6666666666666666,
              "#ed7953"
             ],
             [
              0.7777777777777778,
              "#fb9f3a"
             ],
             [
              0.8888888888888888,
              "#fdca26"
             ],
             [
              1,
              "#f0f921"
             ]
            ],
            "type": "histogram2dcontour"
           }
          ],
          "mesh3d": [
           {
            "colorbar": {
             "outlinewidth": 0,
             "ticks": ""
            },
            "type": "mesh3d"
           }
          ],
          "parcoords": [
           {
            "line": {
             "colorbar": {
              "outlinewidth": 0,
              "ticks": ""
             }
            },
            "type": "parcoords"
           }
          ],
          "pie": [
           {
            "automargin": true,
            "type": "pie"
           }
          ],
          "scatter": [
           {
            "fillpattern": {
             "fillmode": "overlay",
             "size": 10,
             "solidity": 0.2
            },
            "type": "scatter"
           }
          ],
          "scatter3d": [
           {
            "line": {
             "colorbar": {
              "outlinewidth": 0,
              "ticks": ""
             }
            },
            "marker": {
             "colorbar": {
              "outlinewidth": 0,
              "ticks": ""
             }
            },
            "type": "scatter3d"
           }
          ],
          "scattercarpet": [
           {
            "marker": {
             "colorbar": {
              "outlinewidth": 0,
              "ticks": ""
             }
            },
            "type": "scattercarpet"
           }
          ],
          "scattergeo": [
           {
            "marker": {
             "colorbar": {
              "outlinewidth": 0,
              "ticks": ""
             }
            },
            "type": "scattergeo"
           }
          ],
          "scattergl": [
           {
            "marker": {
             "colorbar": {
              "outlinewidth": 0,
              "ticks": ""
             }
            },
            "type": "scattergl"
           }
          ],
          "scattermapbox": [
           {
            "marker": {
             "colorbar": {
              "outlinewidth": 0,
              "ticks": ""
             }
            },
            "type": "scattermapbox"
           }
          ],
          "scatterpolar": [
           {
            "marker": {
             "colorbar": {
              "outlinewidth": 0,
              "ticks": ""
             }
            },
            "type": "scatterpolar"
           }
          ],
          "scatterpolargl": [
           {
            "marker": {
             "colorbar": {
              "outlinewidth": 0,
              "ticks": ""
             }
            },
            "type": "scatterpolargl"
           }
          ],
          "scatterternary": [
           {
            "marker": {
             "colorbar": {
              "outlinewidth": 0,
              "ticks": ""
             }
            },
            "type": "scatterternary"
           }
          ],
          "surface": [
           {
            "colorbar": {
             "outlinewidth": 0,
             "ticks": ""
            },
            "colorscale": [
             [
              0,
              "#0d0887"
             ],
             [
              0.1111111111111111,
              "#46039f"
             ],
             [
              0.2222222222222222,
              "#7201a8"
             ],
             [
              0.3333333333333333,
              "#9c179e"
             ],
             [
              0.4444444444444444,
              "#bd3786"
             ],
             [
              0.5555555555555556,
              "#d8576b"
             ],
             [
              0.6666666666666666,
              "#ed7953"
             ],
             [
              0.7777777777777778,
              "#fb9f3a"
             ],
             [
              0.8888888888888888,
              "#fdca26"
             ],
             [
              1,
              "#f0f921"
             ]
            ],
            "type": "surface"
           }
          ],
          "table": [
           {
            "cells": {
             "fill": {
              "color": "#EBF0F8"
             },
             "line": {
              "color": "white"
             }
            },
            "header": {
             "fill": {
              "color": "#C8D4E3"
             },
             "line": {
              "color": "white"
             }
            },
            "type": "table"
           }
          ]
         },
         "layout": {
          "annotationdefaults": {
           "arrowcolor": "#2a3f5f",
           "arrowhead": 0,
           "arrowwidth": 1
          },
          "autotypenumbers": "strict",
          "coloraxis": {
           "colorbar": {
            "outlinewidth": 0,
            "ticks": ""
           }
          },
          "colorscale": {
           "diverging": [
            [
             0,
             "#8e0152"
            ],
            [
             0.1,
             "#c51b7d"
            ],
            [
             0.2,
             "#de77ae"
            ],
            [
             0.3,
             "#f1b6da"
            ],
            [
             0.4,
             "#fde0ef"
            ],
            [
             0.5,
             "#f7f7f7"
            ],
            [
             0.6,
             "#e6f5d0"
            ],
            [
             0.7,
             "#b8e186"
            ],
            [
             0.8,
             "#7fbc41"
            ],
            [
             0.9,
             "#4d9221"
            ],
            [
             1,
             "#276419"
            ]
           ],
           "sequential": [
            [
             0,
             "#0d0887"
            ],
            [
             0.1111111111111111,
             "#46039f"
            ],
            [
             0.2222222222222222,
             "#7201a8"
            ],
            [
             0.3333333333333333,
             "#9c179e"
            ],
            [
             0.4444444444444444,
             "#bd3786"
            ],
            [
             0.5555555555555556,
             "#d8576b"
            ],
            [
             0.6666666666666666,
             "#ed7953"
            ],
            [
             0.7777777777777778,
             "#fb9f3a"
            ],
            [
             0.8888888888888888,
             "#fdca26"
            ],
            [
             1,
             "#f0f921"
            ]
           ],
           "sequentialminus": [
            [
             0,
             "#0d0887"
            ],
            [
             0.1111111111111111,
             "#46039f"
            ],
            [
             0.2222222222222222,
             "#7201a8"
            ],
            [
             0.3333333333333333,
             "#9c179e"
            ],
            [
             0.4444444444444444,
             "#bd3786"
            ],
            [
             0.5555555555555556,
             "#d8576b"
            ],
            [
             0.6666666666666666,
             "#ed7953"
            ],
            [
             0.7777777777777778,
             "#fb9f3a"
            ],
            [
             0.8888888888888888,
             "#fdca26"
            ],
            [
             1,
             "#f0f921"
            ]
           ]
          },
          "colorway": [
           "#636efa",
           "#EF553B",
           "#00cc96",
           "#ab63fa",
           "#FFA15A",
           "#19d3f3",
           "#FF6692",
           "#B6E880",
           "#FF97FF",
           "#FECB52"
          ],
          "font": {
           "color": "#2a3f5f"
          },
          "geo": {
           "bgcolor": "white",
           "lakecolor": "white",
           "landcolor": "#E5ECF6",
           "showlakes": true,
           "showland": true,
           "subunitcolor": "white"
          },
          "hoverlabel": {
           "align": "left"
          },
          "hovermode": "closest",
          "mapbox": {
           "style": "light"
          },
          "paper_bgcolor": "white",
          "plot_bgcolor": "#E5ECF6",
          "polar": {
           "angularaxis": {
            "gridcolor": "white",
            "linecolor": "white",
            "ticks": ""
           },
           "bgcolor": "#E5ECF6",
           "radialaxis": {
            "gridcolor": "white",
            "linecolor": "white",
            "ticks": ""
           }
          },
          "scene": {
           "xaxis": {
            "backgroundcolor": "#E5ECF6",
            "gridcolor": "white",
            "gridwidth": 2,
            "linecolor": "white",
            "showbackground": true,
            "ticks": "",
            "zerolinecolor": "white"
           },
           "yaxis": {
            "backgroundcolor": "#E5ECF6",
            "gridcolor": "white",
            "gridwidth": 2,
            "linecolor": "white",
            "showbackground": true,
            "ticks": "",
            "zerolinecolor": "white"
           },
           "zaxis": {
            "backgroundcolor": "#E5ECF6",
            "gridcolor": "white",
            "gridwidth": 2,
            "linecolor": "white",
            "showbackground": true,
            "ticks": "",
            "zerolinecolor": "white"
           }
          },
          "shapedefaults": {
           "line": {
            "color": "#2a3f5f"
           }
          },
          "ternary": {
           "aaxis": {
            "gridcolor": "white",
            "linecolor": "white",
            "ticks": ""
           },
           "baxis": {
            "gridcolor": "white",
            "linecolor": "white",
            "ticks": ""
           },
           "bgcolor": "#E5ECF6",
           "caxis": {
            "gridcolor": "white",
            "linecolor": "white",
            "ticks": ""
           }
          },
          "title": {
           "x": 0.05
          },
          "xaxis": {
           "automargin": true,
           "gridcolor": "white",
           "linecolor": "white",
           "ticks": "",
           "title": {
            "standoff": 15
           },
           "zerolinecolor": "white",
           "zerolinewidth": 2
          },
          "yaxis": {
           "automargin": true,
           "gridcolor": "white",
           "linecolor": "white",
           "ticks": "",
           "title": {
            "standoff": 15
           },
           "zerolinecolor": "white",
           "zerolinewidth": 2
          }
         }
        },
        "title": {
         "text": "GOOG"
        },
        "width": 1500,
        "xaxis": {
         "anchor": "y",
         "domain": [
          0,
          0.94
         ],
         "rangeslider": {
          "visible": true
         },
         "title": {
          "text": "Date"
         }
        },
        "yaxis": {
         "anchor": "x",
         "domain": [
          0,
          1
         ],
         "title": {
          "text": "Values"
         }
        },
        "yaxis2": {
         "anchor": "x",
         "overlaying": "y",
         "side": "right",
         "title": {
          "text": "Values"
         }
        }
       }
      }
     },
     "metadata": {},
     "output_type": "display_data"
    },
    {
     "data": {
      "application/vnd.plotly.v1+json": {
       "config": {
        "plotlyServerURL": "https://plot.ly"
       },
       "data": [
        {
         "name": "Net Income Com",
         "type": "scatter",
         "x": [
          "2000-12-31",
          "2002-12-31",
          "2003-12-31",
          "2004-12-31",
          "2005-12-31",
          "2006-12-31",
          "2007-12-31",
          "2008-12-31",
          "2009-12-31",
          "2010-12-31",
          "2011-12-31",
          "2012-12-31",
          "2013-12-31",
          "2014-12",
          "2015-12",
          "2015-12-31",
          "2016-12",
          "2016-12-31",
          "2017-12",
          "2017-12-31",
          "2018-12",
          "2018-12-31",
          "2019-12-31",
          "2020-12-31",
          "2021-12-31"
         ],
         "y": [
          -14690000,
          99656000,
          105648000,
          399119000,
          1465397000,
          3077446000,
          4203720000,
          4226858000,
          6520448000,
          8505000000,
          9737000000,
          10737000000,
          12920000000,
          14444000000,
          16348000000,
          16348000000,
          19478000000,
          19478000000,
          12662000000,
          12662000000,
          30736000000,
          30736000000,
          34343000000,
          40269000000,
          76033000000
         ]
        },
        {
         "name": "Cash and cash equivalents",
         "type": "scatter",
         "x": [
          "2000-12-31",
          "2002-12-31",
          "2003-12-31",
          "2004-12-31",
          "2005-12-31",
          "2006-12-31",
          "2007-12-31",
          "2008-12-31",
          "2009-12-31",
          "2010-12-31",
          "2011-12-31",
          "2012-12-31",
          "2013-12-31",
          "2014-12",
          "2015-12",
          "2015-12-31",
          "2016-12",
          "2016-12-31",
          "2017-12",
          "2017-12-31",
          "2018-12",
          "2018-12-31",
          "2019-12-31",
          "2020-12-31",
          "2021-12-31"
         ],
         "y": [
          0,
          57752000,
          148995000,
          426873000,
          3877174000,
          3544671000,
          6081593000,
          8656672000,
          10197588000,
          13630000000,
          9983000000,
          14778000000,
          18898000000,
          18347000000,
          16549000000,
          16549000000,
          12918000000,
          12918000000,
          10715000000,
          10715000000,
          16701000000,
          16701000000,
          18498000000,
          26465000000,
          20945000000
         ]
        },
        {
         "name": "Short-term investments",
         "type": "scatter",
         "x": [
          "2000-12-31",
          "2002-12-31",
          "2003-12-31",
          "2004-12-31",
          "2005-12-31",
          "2006-12-31",
          "2007-12-31",
          "2008-12-31",
          "2009-12-31",
          "2010-12-31",
          "2011-12-31",
          "2012-12-31",
          "2013-12-31",
          "2014-12",
          "2015-12",
          "2015-12-31",
          "2016-12",
          "2016-12-31",
          "2017-12",
          "2017-12-31",
          "2018-12",
          "2018-12-31",
          "2019-12-31",
          "2020-12-31",
          "2021-12-31"
         ],
         "y": [
          0,
          88579000,
          185723000,
          1705424000,
          4157073000,
          7699243000,
          8137020000,
          7189099000,
          14287187000,
          21345000000,
          34643000000,
          33310000000,
          39819000000,
          46048000000,
          56517000000,
          56517000000,
          73415000000,
          73415000000,
          91156000000,
          91156000000,
          92439000000,
          92439000000,
          101177000000,
          110229000000,
          118704000000
         ]
        },
        {
         "name": "Receivables",
         "type": "scatter",
         "x": [
          "2000-12-31",
          "2002-12-31",
          "2003-12-31",
          "2004-12-31",
          "2005-12-31",
          "2006-12-31",
          "2007-12-31",
          "2008-12-31",
          "2009-12-31",
          "2010-12-31",
          "2011-12-31",
          "2012-12-31",
          "2013-12-31",
          "2014-12",
          "2015-12",
          "2015-12-31",
          "2016-12",
          "2016-12-31",
          "2017-12",
          "2017-12-31",
          "2018-12",
          "2018-12-31",
          "2019-12-31",
          "2020-12-31",
          "2021-12-31"
         ],
         "y": [
          0,
          61994000,
          154690000,
          382345000,
          687976000,
          1322340000,
          2307774000,
          2642192000,
          3201715000,
          5002000000,
          6172000000,
          8585000000,
          9390000000,
          9383000000,
          11556000000,
          13909000000,
          14137000000,
          14232000000,
          18336000000,
          18705000000,
          20838000000,
          21193000000,
          27492000000,
          31384000000,
          40270000000
         ]
        },
        {
         "name": "Long-term investments",
         "type": "scatter",
         "x": [
          "2000-12-31",
          "2002-12-31",
          "2003-12-31",
          "2004-12-31",
          "2005-12-31",
          "2006-12-31",
          "2007-12-31",
          "2008-12-31",
          "2009-12-31",
          "2010-12-31",
          "2011-12-31",
          "2012-12-31",
          "2013-12-31",
          "2014-12",
          "2015-12",
          "2015-12-31",
          "2016-12",
          "2016-12-31",
          "2017-12",
          "2017-12-31",
          "2018-12",
          "2018-12-31",
          "2019-12-31",
          "2020-12-31",
          "2021-12-31"
         ],
         "y": [
          0,
          0,
          0,
          0,
          14000000,
          1032000000,
          1059694000,
          85160000,
          128977000,
          523000000,
          790000000,
          1469000000,
          1976000000,
          3079000000,
          5183000000,
          5183000000,
          5878000000,
          5878000000,
          7813000000,
          7813000000,
          13859000000,
          13859000000,
          13078000000,
          20703000000,
          29549000000
         ]
        },
        {
         "name": "Total current liabilities",
         "type": "scatter",
         "x": [
          "2000-12-31",
          "2002-12-31",
          "2003-12-31",
          "2004-12-31",
          "2005-12-31",
          "2006-12-31",
          "2007-12-31",
          "2008-12-31",
          "2009-12-31",
          "2010-12-31",
          "2011-12-31",
          "2012-12-31",
          "2013-12-31",
          "2014-12",
          "2015-12",
          "2015-12-31",
          "2016-12",
          "2016-12-31",
          "2017-12",
          "2017-12-31",
          "2018-12",
          "2018-12-31",
          "2019-12-31",
          "2020-12-31",
          "2021-12-31"
         ],
         "y": [
          0,
          89508000,
          235452000,
          340368000,
          745384000,
          1304587000,
          2035602000,
          2302090000,
          2747467000,
          9996000000,
          8913000000,
          14337000000,
          15908000000,
          16805000000,
          19310000000,
          19310000000,
          16756000000,
          16756000000,
          24183000000,
          24183000000,
          34620000000,
          34620000000,
          45221000000,
          56834000000,
          64254000000
         ]
        },
        {
         "name": "Total debt",
         "type": "scatter",
         "x": [
          "2000-12-31",
          "2002-12-31",
          "2003-12-31",
          "2004-12-31",
          "2005-12-31",
          "2006-12-31",
          "2007-12-31",
          "2008-12-31",
          "2009-12-31",
          "2010-12-31",
          "2011-12-31",
          "2012-12-31",
          "2013-12-31",
          "2014-12",
          "2015-12",
          "2015-12-31",
          "2016-12",
          "2016-12-31",
          "2017-12",
          "2017-12-31",
          "2018-12",
          "2018-12-31",
          "2019-12-31",
          "2020-12-31",
          "2021-12-31"
         ],
         "y": [
          0,
          10862000,
          6609000,
          1902000,
          0,
          0,
          0,
          0,
          0,
          3465000000,
          4204000000,
          5537000000,
          4999000000,
          2992000000,
          1995000000,
          5220000000,
          3935000000,
          3935000000,
          3943000000,
          3969000000,
          3950000000,
          4012000000,
          5753000000,
          26772000000,
          28395000000
         ]
        },
        {
         "name": "Total shareholders equity",
         "type": "scatter",
         "x": [
          "2000-12-31",
          "2002-12-31",
          "2003-12-31",
          "2004-12-31",
          "2005-12-31",
          "2006-12-31",
          "2007-12-31",
          "2008-12-31",
          "2009-12-31",
          "2010-12-31",
          "2011-12-31",
          "2012-12-31",
          "2013-12-31",
          "2014-12",
          "2015-12",
          "2015-12-31",
          "2016-12",
          "2016-12-31",
          "2017-12",
          "2017-12-31",
          "2018-12",
          "2018-12-31",
          "2019-12-31",
          "2020-12-31",
          "2021-12-31"
         ],
         "y": [
          27234000,
          173953000,
          588770000,
          2929056000,
          9418957000,
          17039840000,
          22689679000,
          28238862000,
          36004224000,
          46241000000,
          58145000000,
          71715000000,
          87309000000,
          104500000000,
          120331000000,
          120331000000,
          139036000000,
          139036000000,
          152502000000,
          152502000000,
          177628000000,
          177628000000,
          201442000000,
          222544000000,
          251635000000
         ]
        },
        {
         "name": "ROE",
         "type": "scatter",
         "x": [
          "2000-12-31",
          "2002-12-31",
          "2003-12-31",
          "2004-12-31",
          "2005-12-31",
          "2006-12-31",
          "2007-12-31",
          "2008-12-31",
          "2009-12-31",
          "2010-12-31",
          "2011-12-31",
          "2012-12-31",
          "2013-12-31",
          "2014-12",
          "2015-12",
          "2015-12-31",
          "2016-12",
          "2016-12-31",
          "2017-12",
          "2017-12-31",
          "2018-12",
          "2018-12-31",
          "2019-12-31",
          "2020-12-31",
          "2021-12-31"
         ],
         "xaxis": "x",
         "y": [
          null,
          0.9906803123462251,
          0.27702848871739805,
          0.2269123032236387,
          0.23734944237587052,
          0.23262176281106053,
          0.21161695916832016,
          0.16599171768930118,
          0.20299298822600148,
          0.20682052005840484,
          0.18655758435039183,
          0.16536269829046665,
          0.16249119629741424,
          0.1506081570729215,
          0.14542478572794676,
          0.13585859005576287,
          0.15019643979380568,
          0.140093213268506,
          0.08686346205297422,
          0.08302841929941902,
          0.18620543422288188,
          0.17303578264688,
          0.18119608515577598,
          0.18995438528630662,
          0.3206932403164206
         ],
         "yaxis": "y2"
        }
       ],
       "layout": {
        "autotypenumbers": "convert types",
        "height": 1200,
        "showlegend": true,
        "template": {
         "data": {
          "bar": [
           {
            "error_x": {
             "color": "#2a3f5f"
            },
            "error_y": {
             "color": "#2a3f5f"
            },
            "marker": {
             "line": {
              "color": "#E5ECF6",
              "width": 0.5
             },
             "pattern": {
              "fillmode": "overlay",
              "size": 10,
              "solidity": 0.2
             }
            },
            "type": "bar"
           }
          ],
          "barpolar": [
           {
            "marker": {
             "line": {
              "color": "#E5ECF6",
              "width": 0.5
             },
             "pattern": {
              "fillmode": "overlay",
              "size": 10,
              "solidity": 0.2
             }
            },
            "type": "barpolar"
           }
          ],
          "carpet": [
           {
            "aaxis": {
             "endlinecolor": "#2a3f5f",
             "gridcolor": "white",
             "linecolor": "white",
             "minorgridcolor": "white",
             "startlinecolor": "#2a3f5f"
            },
            "baxis": {
             "endlinecolor": "#2a3f5f",
             "gridcolor": "white",
             "linecolor": "white",
             "minorgridcolor": "white",
             "startlinecolor": "#2a3f5f"
            },
            "type": "carpet"
           }
          ],
          "choropleth": [
           {
            "colorbar": {
             "outlinewidth": 0,
             "ticks": ""
            },
            "type": "choropleth"
           }
          ],
          "contour": [
           {
            "colorbar": {
             "outlinewidth": 0,
             "ticks": ""
            },
            "colorscale": [
             [
              0,
              "#0d0887"
             ],
             [
              0.1111111111111111,
              "#46039f"
             ],
             [
              0.2222222222222222,
              "#7201a8"
             ],
             [
              0.3333333333333333,
              "#9c179e"
             ],
             [
              0.4444444444444444,
              "#bd3786"
             ],
             [
              0.5555555555555556,
              "#d8576b"
             ],
             [
              0.6666666666666666,
              "#ed7953"
             ],
             [
              0.7777777777777778,
              "#fb9f3a"
             ],
             [
              0.8888888888888888,
              "#fdca26"
             ],
             [
              1,
              "#f0f921"
             ]
            ],
            "type": "contour"
           }
          ],
          "contourcarpet": [
           {
            "colorbar": {
             "outlinewidth": 0,
             "ticks": ""
            },
            "type": "contourcarpet"
           }
          ],
          "heatmap": [
           {
            "colorbar": {
             "outlinewidth": 0,
             "ticks": ""
            },
            "colorscale": [
             [
              0,
              "#0d0887"
             ],
             [
              0.1111111111111111,
              "#46039f"
             ],
             [
              0.2222222222222222,
              "#7201a8"
             ],
             [
              0.3333333333333333,
              "#9c179e"
             ],
             [
              0.4444444444444444,
              "#bd3786"
             ],
             [
              0.5555555555555556,
              "#d8576b"
             ],
             [
              0.6666666666666666,
              "#ed7953"
             ],
             [
              0.7777777777777778,
              "#fb9f3a"
             ],
             [
              0.8888888888888888,
              "#fdca26"
             ],
             [
              1,
              "#f0f921"
             ]
            ],
            "type": "heatmap"
           }
          ],
          "heatmapgl": [
           {
            "colorbar": {
             "outlinewidth": 0,
             "ticks": ""
            },
            "colorscale": [
             [
              0,
              "#0d0887"
             ],
             [
              0.1111111111111111,
              "#46039f"
             ],
             [
              0.2222222222222222,
              "#7201a8"
             ],
             [
              0.3333333333333333,
              "#9c179e"
             ],
             [
              0.4444444444444444,
              "#bd3786"
             ],
             [
              0.5555555555555556,
              "#d8576b"
             ],
             [
              0.6666666666666666,
              "#ed7953"
             ],
             [
              0.7777777777777778,
              "#fb9f3a"
             ],
             [
              0.8888888888888888,
              "#fdca26"
             ],
             [
              1,
              "#f0f921"
             ]
            ],
            "type": "heatmapgl"
           }
          ],
          "histogram": [
           {
            "marker": {
             "pattern": {
              "fillmode": "overlay",
              "size": 10,
              "solidity": 0.2
             }
            },
            "type": "histogram"
           }
          ],
          "histogram2d": [
           {
            "colorbar": {
             "outlinewidth": 0,
             "ticks": ""
            },
            "colorscale": [
             [
              0,
              "#0d0887"
             ],
             [
              0.1111111111111111,
              "#46039f"
             ],
             [
              0.2222222222222222,
              "#7201a8"
             ],
             [
              0.3333333333333333,
              "#9c179e"
             ],
             [
              0.4444444444444444,
              "#bd3786"
             ],
             [
              0.5555555555555556,
              "#d8576b"
             ],
             [
              0.6666666666666666,
              "#ed7953"
             ],
             [
              0.7777777777777778,
              "#fb9f3a"
             ],
             [
              0.8888888888888888,
              "#fdca26"
             ],
             [
              1,
              "#f0f921"
             ]
            ],
            "type": "histogram2d"
           }
          ],
          "histogram2dcontour": [
           {
            "colorbar": {
             "outlinewidth": 0,
             "ticks": ""
            },
            "colorscale": [
             [
              0,
              "#0d0887"
             ],
             [
              0.1111111111111111,
              "#46039f"
             ],
             [
              0.2222222222222222,
              "#7201a8"
             ],
             [
              0.3333333333333333,
              "#9c179e"
             ],
             [
              0.4444444444444444,
              "#bd3786"
             ],
             [
              0.5555555555555556,
              "#d8576b"
             ],
             [
              0.6666666666666666,
              "#ed7953"
             ],
             [
              0.7777777777777778,
              "#fb9f3a"
             ],
             [
              0.8888888888888888,
              "#fdca26"
             ],
             [
              1,
              "#f0f921"
             ]
            ],
            "type": "histogram2dcontour"
           }
          ],
          "mesh3d": [
           {
            "colorbar": {
             "outlinewidth": 0,
             "ticks": ""
            },
            "type": "mesh3d"
           }
          ],
          "parcoords": [
           {
            "line": {
             "colorbar": {
              "outlinewidth": 0,
              "ticks": ""
             }
            },
            "type": "parcoords"
           }
          ],
          "pie": [
           {
            "automargin": true,
            "type": "pie"
           }
          ],
          "scatter": [
           {
            "fillpattern": {
             "fillmode": "overlay",
             "size": 10,
             "solidity": 0.2
            },
            "type": "scatter"
           }
          ],
          "scatter3d": [
           {
            "line": {
             "colorbar": {
              "outlinewidth": 0,
              "ticks": ""
             }
            },
            "marker": {
             "colorbar": {
              "outlinewidth": 0,
              "ticks": ""
             }
            },
            "type": "scatter3d"
           }
          ],
          "scattercarpet": [
           {
            "marker": {
             "colorbar": {
              "outlinewidth": 0,
              "ticks": ""
             }
            },
            "type": "scattercarpet"
           }
          ],
          "scattergeo": [
           {
            "marker": {
             "colorbar": {
              "outlinewidth": 0,
              "ticks": ""
             }
            },
            "type": "scattergeo"
           }
          ],
          "scattergl": [
           {
            "marker": {
             "colorbar": {
              "outlinewidth": 0,
              "ticks": ""
             }
            },
            "type": "scattergl"
           }
          ],
          "scattermapbox": [
           {
            "marker": {
             "colorbar": {
              "outlinewidth": 0,
              "ticks": ""
             }
            },
            "type": "scattermapbox"
           }
          ],
          "scatterpolar": [
           {
            "marker": {
             "colorbar": {
              "outlinewidth": 0,
              "ticks": ""
             }
            },
            "type": "scatterpolar"
           }
          ],
          "scatterpolargl": [
           {
            "marker": {
             "colorbar": {
              "outlinewidth": 0,
              "ticks": ""
             }
            },
            "type": "scatterpolargl"
           }
          ],
          "scatterternary": [
           {
            "marker": {
             "colorbar": {
              "outlinewidth": 0,
              "ticks": ""
             }
            },
            "type": "scatterternary"
           }
          ],
          "surface": [
           {
            "colorbar": {
             "outlinewidth": 0,
             "ticks": ""
            },
            "colorscale": [
             [
              0,
              "#0d0887"
             ],
             [
              0.1111111111111111,
              "#46039f"
             ],
             [
              0.2222222222222222,
              "#7201a8"
             ],
             [
              0.3333333333333333,
              "#9c179e"
             ],
             [
              0.4444444444444444,
              "#bd3786"
             ],
             [
              0.5555555555555556,
              "#d8576b"
             ],
             [
              0.6666666666666666,
              "#ed7953"
             ],
             [
              0.7777777777777778,
              "#fb9f3a"
             ],
             [
              0.8888888888888888,
              "#fdca26"
             ],
             [
              1,
              "#f0f921"
             ]
            ],
            "type": "surface"
           }
          ],
          "table": [
           {
            "cells": {
             "fill": {
              "color": "#EBF0F8"
             },
             "line": {
              "color": "white"
             }
            },
            "header": {
             "fill": {
              "color": "#C8D4E3"
             },
             "line": {
              "color": "white"
             }
            },
            "type": "table"
           }
          ]
         },
         "layout": {
          "annotationdefaults": {
           "arrowcolor": "#2a3f5f",
           "arrowhead": 0,
           "arrowwidth": 1
          },
          "autotypenumbers": "strict",
          "coloraxis": {
           "colorbar": {
            "outlinewidth": 0,
            "ticks": ""
           }
          },
          "colorscale": {
           "diverging": [
            [
             0,
             "#8e0152"
            ],
            [
             0.1,
             "#c51b7d"
            ],
            [
             0.2,
             "#de77ae"
            ],
            [
             0.3,
             "#f1b6da"
            ],
            [
             0.4,
             "#fde0ef"
            ],
            [
             0.5,
             "#f7f7f7"
            ],
            [
             0.6,
             "#e6f5d0"
            ],
            [
             0.7,
             "#b8e186"
            ],
            [
             0.8,
             "#7fbc41"
            ],
            [
             0.9,
             "#4d9221"
            ],
            [
             1,
             "#276419"
            ]
           ],
           "sequential": [
            [
             0,
             "#0d0887"
            ],
            [
             0.1111111111111111,
             "#46039f"
            ],
            [
             0.2222222222222222,
             "#7201a8"
            ],
            [
             0.3333333333333333,
             "#9c179e"
            ],
            [
             0.4444444444444444,
             "#bd3786"
            ],
            [
             0.5555555555555556,
             "#d8576b"
            ],
            [
             0.6666666666666666,
             "#ed7953"
            ],
            [
             0.7777777777777778,
             "#fb9f3a"
            ],
            [
             0.8888888888888888,
             "#fdca26"
            ],
            [
             1,
             "#f0f921"
            ]
           ],
           "sequentialminus": [
            [
             0,
             "#0d0887"
            ],
            [
             0.1111111111111111,
             "#46039f"
            ],
            [
             0.2222222222222222,
             "#7201a8"
            ],
            [
             0.3333333333333333,
             "#9c179e"
            ],
            [
             0.4444444444444444,
             "#bd3786"
            ],
            [
             0.5555555555555556,
             "#d8576b"
            ],
            [
             0.6666666666666666,
             "#ed7953"
            ],
            [
             0.7777777777777778,
             "#fb9f3a"
            ],
            [
             0.8888888888888888,
             "#fdca26"
            ],
            [
             1,
             "#f0f921"
            ]
           ]
          },
          "colorway": [
           "#636efa",
           "#EF553B",
           "#00cc96",
           "#ab63fa",
           "#FFA15A",
           "#19d3f3",
           "#FF6692",
           "#B6E880",
           "#FF97FF",
           "#FECB52"
          ],
          "font": {
           "color": "#2a3f5f"
          },
          "geo": {
           "bgcolor": "white",
           "lakecolor": "white",
           "landcolor": "#E5ECF6",
           "showlakes": true,
           "showland": true,
           "subunitcolor": "white"
          },
          "hoverlabel": {
           "align": "left"
          },
          "hovermode": "closest",
          "mapbox": {
           "style": "light"
          },
          "paper_bgcolor": "white",
          "plot_bgcolor": "#E5ECF6",
          "polar": {
           "angularaxis": {
            "gridcolor": "white",
            "linecolor": "white",
            "ticks": ""
           },
           "bgcolor": "#E5ECF6",
           "radialaxis": {
            "gridcolor": "white",
            "linecolor": "white",
            "ticks": ""
           }
          },
          "scene": {
           "xaxis": {
            "backgroundcolor": "#E5ECF6",
            "gridcolor": "white",
            "gridwidth": 2,
            "linecolor": "white",
            "showbackground": true,
            "ticks": "",
            "zerolinecolor": "white"
           },
           "yaxis": {
            "backgroundcolor": "#E5ECF6",
            "gridcolor": "white",
            "gridwidth": 2,
            "linecolor": "white",
            "showbackground": true,
            "ticks": "",
            "zerolinecolor": "white"
           },
           "zaxis": {
            "backgroundcolor": "#E5ECF6",
            "gridcolor": "white",
            "gridwidth": 2,
            "linecolor": "white",
            "showbackground": true,
            "ticks": "",
            "zerolinecolor": "white"
           }
          },
          "shapedefaults": {
           "line": {
            "color": "#2a3f5f"
           }
          },
          "ternary": {
           "aaxis": {
            "gridcolor": "white",
            "linecolor": "white",
            "ticks": ""
           },
           "baxis": {
            "gridcolor": "white",
            "linecolor": "white",
            "ticks": ""
           },
           "bgcolor": "#E5ECF6",
           "caxis": {
            "gridcolor": "white",
            "linecolor": "white",
            "ticks": ""
           }
          },
          "title": {
           "x": 0.05
          },
          "xaxis": {
           "automargin": true,
           "gridcolor": "white",
           "linecolor": "white",
           "ticks": "",
           "title": {
            "standoff": 15
           },
           "zerolinecolor": "white",
           "zerolinewidth": 2
          },
          "yaxis": {
           "automargin": true,
           "gridcolor": "white",
           "linecolor": "white",
           "ticks": "",
           "title": {
            "standoff": 15
           },
           "zerolinecolor": "white",
           "zerolinewidth": 2
          }
         }
        },
        "title": {
         "text": "GOOG"
        },
        "width": 1500,
        "xaxis": {
         "anchor": "y",
         "domain": [
          0,
          0.94
         ],
         "rangeslider": {
          "visible": true
         },
         "title": {
          "text": "Date"
         }
        },
        "yaxis": {
         "anchor": "x",
         "domain": [
          0,
          1
         ],
         "title": {
          "text": "Values"
         }
        },
        "yaxis2": {
         "anchor": "x",
         "overlaying": "y",
         "side": "right",
         "title": {
          "text": "Values"
         }
        }
       }
      }
     },
     "metadata": {},
     "output_type": "display_data"
    },
    {
     "name": "stderr",
     "output_type": "stream",
     "text": [
      "INFO:modelling_prep:Creating financials dataframe for SCHD...\n",
      "ERROR:modelling_prep:Error income_statement not found for symbol: SCHD\n",
      "INFO:modelling_prep:Creating financials dataframe for FREL...\n",
      "ERROR:modelling_prep:Error income_statement not found for symbol: FREL\n",
      "INFO:modelling_prep:Creating financials dataframe for QYLD...\n",
      "ERROR:modelling_prep:Error income_statement not found for symbol: QYLD\n",
      "INFO:modelling_prep:Creating financials dataframe for NUSI...\n",
      "ERROR:modelling_prep:Error income_statement not found for symbol: NUSI\n",
      "INFO:modelling_prep:Creating financials dataframe for VYM...\n",
      "ERROR:modelling_prep:Error income_statement not found for symbol: VYM\n",
      "INFO:modelling_prep:Creating financials dataframe for VIG...\n",
      "ERROR:modelling_prep:Error income_statement not found for symbol: VIG\n",
      "INFO:modelling_prep:Creating financials dataframe for VTI...\n",
      "ERROR:modelling_prep:Error income_statement not found for symbol: VTI\n",
      "INFO:modelling_prep:Creating financials dataframe for VOO...\n",
      "ERROR:modelling_prep:Error income_statement not found for symbol: VOO\n",
      "INFO:modelling_prep:Creating financials dataframe for DIA...\n",
      "ERROR:modelling_prep:Error income_statement not found for symbol: DIA\n",
      "INFO:modelling_prep:Creating financials dataframe for QQQ...\n",
      "ERROR:modelling_prep:Error income_statement not found for symbol: QQQ\n",
      "INFO:modelling_prep:Creating financials dataframe for SPY...\n",
      "ERROR:modelling_prep:Error income_statement not found for symbol: SPY\n"
     ]
    }
   ],
   "source": [
    "import modelling_prep as mp\n",
    "import os\n",
    "import importlib\n",
    "from plotly.subplots import make_subplots\n",
    "\n",
    "importlib.reload(mp)\n",
    "\n",
    "stocks = ['QRTEA', 'AAPL', 'MSFT', 'AMZN', 'GOOG', 'SCHD', 'FREL', 'QYLD', 'NUSI', 'VYM', 'VIG', 'VTI', 'VOO', 'DIA', 'QQQ', 'SPY']\n",
    "\n",
    "data_path = \"data\"\n",
    "# Ensure that the data_path directory exists\n",
    "os.makedirs(data_path, exist_ok=True)\n",
    "\n",
    "for stock_ticker in stocks:\n",
    "    stock_df = mp.create_financials_df(stock_ticker, data_path)\n",
    "    if stock_df is not None:\n",
    "        \n",
    "        fig = make_subplots(specs=[[{\"secondary_y\": True}]])\n",
    "        mp.stock_ticker(stock_ticker, stock_df, fig)\n",
    "        fig.update_xaxes(title=\"Date\", rangeslider_visible=True)\n",
    "        fig.update_yaxes(title='Values')\n",
    "\n",
    "        # USED FOR NON-DAILY DATA : Get rid of empty dates and market closed\n",
    "        # fig.update_layout(title=ticker + \" Bollinger Bands\",\n",
    "        # height=1200, width=1800, \n",
    "        #               showlegend=True, \n",
    "        #               xaxis_rangebreaks=[\n",
    "        #         dict(bounds=[\"sat\", \"mon\"]),\n",
    "        #         dict(bounds=[16, 9.5], pattern=\"hour\"), \n",
    "        #         dict(values=[\"2021-12-25\", \"2022-01-01\"])\n",
    "        #     ])\n",
    "            \n",
    "        fig.update_layout(title=stock_ticker, height=1200, width=1500, showlegend=True, autotypenumbers='convert types')\n",
    "        fig.show()\n",
    "\n",
    "\n"
   ]
  },
  {
   "cell_type": "code",
   "execution_count": null,
   "metadata": {},
   "outputs": [],
   "source": []
  }
 ],
 "metadata": {
  "kernelspec": {
   "display_name": "Python 3",
   "language": "python",
   "name": "python3"
  },
  "language_info": {
   "codemirror_mode": {
    "name": "ipython",
    "version": 3
   },
   "file_extension": ".py",
   "mimetype": "text/x-python",
   "name": "python",
   "nbconvert_exporter": "python",
   "pygments_lexer": "ipython3",
   "version": "3.11.5"
  }
 },
 "nbformat": 4,
 "nbformat_minor": 2
}
